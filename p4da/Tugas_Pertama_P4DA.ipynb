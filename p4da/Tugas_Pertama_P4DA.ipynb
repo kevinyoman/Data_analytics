{
 "cells": [
  {
   "cell_type": "markdown",
   "id": "8f229070",
   "metadata": {},
   "source": [
    "*This file created by: kevin nyoman*"
   ]
  },
  {
   "cell_type": "markdown",
   "id": "d8a3986f",
   "metadata": {},
   "source": [
    "# Jupyter Notebook Practice"
   ]
  },
  {
   "cell_type": "markdown",
   "id": "9997fde1",
   "metadata": {},
   "source": [
    "## Background"
   ]
  },
  {
   "cell_type": "markdown",
   "id": "e5061f54",
   "metadata": {},
   "source": [
    "This file was created to practice understanding in using jupyter notebook."
   ]
  },
  {
   "cell_type": "markdown",
   "id": "236ae4ea",
   "metadata": {},
   "source": [
    "## Objective"
   ]
  },
  {
   "cell_type": "markdown",
   "id": "15d102ef",
   "metadata": {},
   "source": [
    "1. **Markdown** cell\n",
    "2. **Code** cell\n",
    "3. Inser Notes\n",
    "4. Insert link"
   ]
  },
  {
   "cell_type": "markdown",
   "id": "2a0e7500",
   "metadata": {},
   "source": [
    "## Markdown Cell"
   ]
  },
  {
   "cell_type": "markdown",
   "id": "840907cc",
   "metadata": {},
   "source": [
    " - You can document the computational process in a literate way, alternating descriptive text with code, using rich text,\n",
    " - The Markdown language provides a simple way to perform this text markup, that is, to specify which parts of the text should be:\n",
    "    - emphasized (*italics*),\n",
    "    - **bold**,\n",
    "    - form lists, etc."
   ]
  },
  {
   "cell_type": "markdown",
   "id": "8f011d54",
   "metadata": {},
   "source": [
    "## Code Cell"
   ]
  },
  {
   "cell_type": "markdown",
   "id": "b5f85da8",
   "metadata": {},
   "source": [
    " - A code cell allows you to edit and write new code, with full syntax highlighting and tab completion,\n",
    " - We can use the `print()` function to print the text on the screen"
   ]
  },
  {
   "cell_type": "code",
   "execution_count": 7,
   "id": "be4e588d",
   "metadata": {},
   "outputs": [
    {
     "name": "stdout",
     "output_type": "stream",
     "text": [
      "Hello World\n"
     ]
    }
   ],
   "source": [
    "# code here\n",
    "print('Hello World')"
   ]
  },
  {
   "cell_type": "markdown",
   "id": "ba9cd9f2",
   "metadata": {},
   "source": [
    "> The more you practice the more proficient you will use it"
   ]
  },
  {
   "cell_type": "markdown",
   "id": "3d130793",
   "metadata": {},
   "source": [
    "## Reference"
   ]
  },
  {
   "cell_type": "markdown",
   "id": "49019e62",
   "metadata": {},
   "source": [
    " - \t[Markdown Cheetsheet](\t[title](https://www.example.com))"
   ]
  }
 ],
 "metadata": {
  "kernelspec": {
   "display_name": "theia_da",
   "language": "python",
   "name": "theia_da"
  },
  "language_info": {
   "codemirror_mode": {
    "name": "ipython",
    "version": 3
   },
   "file_extension": ".py",
   "mimetype": "text/x-python",
   "name": "python",
   "nbconvert_exporter": "python",
   "pygments_lexer": "ipython3",
   "version": "3.9.13"
  }
 },
 "nbformat": 4,
 "nbformat_minor": 5
}
