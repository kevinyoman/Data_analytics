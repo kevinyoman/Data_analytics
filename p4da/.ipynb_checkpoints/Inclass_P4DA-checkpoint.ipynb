{
 "cells": [
  {
   "cell_type": "markdown",
   "metadata": {},
   "source": [
    "**Inclass: Python for Data Analysts**\n",
    "- Part 1 of Data Analytics Specialization\n",
    "- Course Length: 12 hours\n",
    "- Instructor : Fafilia Masrofin\n",
    "- Last Updated: September 2022\n",
    "\n",
    "This notebook was made based on main materials `1_Python_for_Data_Analysts.ipynb`\n",
    "___"
   ]
  },
  {
   "cell_type": "markdown",
   "metadata": {},
   "source": [
    "# asdastes"
   ]
  },
  {
   "cell_type": "markdown",
   "metadata": {},
   "source": [
    "# Heading\n",
    "## subheading"
   ]
  },
  {
   "cell_type": "markdown",
   "metadata": {},
   "source": [
    "# Top-Down Approach \n",
    "\n",
    "The coursebook is part of the **Data Analytics Specialization** offered by [Algoritma](https://algorit.ma). It takes a more accessible approach compared to Algoritma's core educational products, by getting participants to overcome the \"how\" barrier first, rather than a detailed breakdown of the \"why\". \n",
    "\n",
    "This translates to an overall easier learning curve, one where the reader is prompted to write short snippets of code in frequent intervals, before being offered an explanation on the underlying theoretical frameworks. Instead of mastering the syntactic design of the Python programming language, then moving into data structures, and then the `pandas` library, and then the mathematical details in an imputation algorithm, and its code implementation; we would do the opposite: Implement the imputation, then a succinct explanation of why it works and applicational considerations (what to look out for, what are assumptions it made, when _not_ to use it etc).\n",
    "\n",
    "For the most part, experience in Python programming is good to have but not required. Familiarity with data manipulation and data structures in a different programming language a welcome addition but again, not required."
   ]
  },
  {
   "cell_type": "markdown",
   "metadata": {},
   "source": [
    "## Training Objectives\n",
    "\n",
    "This coursebook is intended for participants new to the world of data analysis and / or programming. No prior programming knowledge is assumed. \n",
    "\n",
    "The coursebook focuses on:\n",
    "- Introduction to the `pandas` library. \n",
    "- Introduction to `DataFrame`  \n",
    "- Data Types\n",
    "- Exploratory Data Analysis I\n",
    "- Indexing and Subsetting\n",
    "\n",
    "The final part of this course is a Graded Asssignment, where you are expected to apply all that you've learned on a new dataset, and attempt the given questions."
   ]
  },
  {
   "cell_type": "markdown",
   "metadata": {},
   "source": [
    "# Environment\n",
    "\n",
    "**Cara membuat virtual environment baru:**\n",
    "\n",
    "1. Membuka Anaconda Prompt\n",
    "\n",
    "2. Buat environment dengan nama `ENV_NAME`:\n",
    "    ```\n",
    "    conda create -n <ENV_NAME> python=<PYTHON_VERSION>\n",
    "    ```\n",
    "    Contoh: `conda create -n theia_da python=3.9`\n",
    "\n",
    "\n",
    "3. Mengaktifkan (pindah) environment:\n",
    "    ```\n",
    "    conda activate <ENV_NAME>\n",
    "    ```\n",
    "    Contoh: `conda activate theia_da`\n",
    "    \n",
    "\n",
    "4. Memasang kernel di dalam environment:\n",
    "    ```\n",
    "    pip install ipykernel\n",
    "    python -m ipykernel install --user --name=<ENV_NAME>\n",
    "    ```\n",
    "    Contoh: `python -m ipykernel install --user --name=theia_da`\n",
    "\n",
    "5. Cara instalasi package:\n",
    "    ```\n",
    "    pip install <PACKAGE_NAME>\n",
    "    ```\n",
    "    Contoh: `pip install pandas`\n",
    "    \n",
    "**Perintah `conda` yang sering digunakan:**\n",
    "\n",
    "- `conda env list`: cek daftar **environment** pada Anaconda\n",
    "- `conda list`: cek daftar **package** di dalam sebuah environment\n",
    "\n",
    "Referensi perintah lain: https://docs.conda.io/projects/conda/en/latest/commands.html"
   ]
  },
  {
   "cell_type": "markdown",
   "metadata": {},
   "source": [
    "**❓ Knowledge Check:**\n",
    "\n",
    "Pilihlah jawaban yang tepat dengan memberikan tanda centang pada kotak. Jawaban bisa lebih dari satu.\n",
    "\n",
    "1. Berikut yang merupakan Package Manager untuk instalasi package adalah ...\n",
    "\n",
    "    - [ ] kernel\n",
    "    - [x] conda\n",
    "    - [x] pip\n",
    "    - [ ] environment\n",
    "\n",
    "2. Kita perlu menggunakan ...... agar sebuah virtual environment dapat digunakan pada Jupyter Notebook.\n",
    "\n",
    "    - [x] kernel\n",
    "    - [ ] package manager\n",
    "    - [ ] library / package\n",
    "    - [ ] IDE\n",
    "\n",
    "3. Berikut adalah tujuan kita membuat virtual environment, **KECUALI** ...\n",
    "\n",
    "    - [ ] Kolaborasi (sharing environment)\n",
    "    - [ ] Deliver/Deploy aplikasi ke user\n",
    "    - [ ] Mengisolasi package beserta versi-nya\n",
    "    - [x] Virtual environment harus dibuat agar Python dapat dijalankan"
   ]
  },
  {
   "cell_type": "markdown",
   "metadata": {},
   "source": [
    "# Introduction to Jupyter Notebook\n",
    "\n",
    "## Markdown Cell and Code Cell\n",
    "\n",
    "Kumpulan shortcut: **CTRL + SHIFT + P**\n",
    "\n",
    "Tipe cell dalam notebook:\n",
    "1. Markdown\n",
    "2. Code\n",
    "    \n",
    "Di bawah ini adalah `cell`. Kita dapat memberikan format pada teks seperti **bold** atau *italic*."
   ]
  },
  {
   "cell_type": "code",
   "execution_count": null,
   "metadata": {},
   "outputs": [],
   "source": [
    "print('and this is code cell where you put your python codes down')"
   ]
  },
  {
   "cell_type": "markdown",
   "metadata": {},
   "source": [
    "## Command Mode and Edit Mode\n",
    "\n",
    "Mode cell dalam notebook:\n",
    "1. Command mode (cell berwarna BIRU)\n",
    "    - B: menambahkan cell baru di Bawah (Below)\n",
    "    - A: menambahkan cell baru di Atas (Above)\n",
    "    - DD: Delete cell\n",
    "    - C: Copy cell\n",
    "    - V: Paste cell\n",
    "    - Y: Mengubah ke code cell\n",
    "    - M: Mengubah ke markdown cell\n",
    "    - Enter: Mengubah command mode menjadi edit mode\n",
    "\n",
    "\n",
    "2. Edit mode (cell berwarna HIJAU)\n",
    "    - Ctrl + Enter: eksekusi satu cell\n",
    "    - Esc: Mengubah edit mode menjadi command mode"
   ]
  },
  {
   "cell_type": "markdown",
   "metadata": {},
   "source": [
    "# Introduction to Python\n",
    "\n",
    "## Variables and Keywords\n",
    "\n",
    "**Variable** adalah sebuah nama yang dipakai untuk menunjukkan sebuah nilai. Tanda `=` dipakai untuk membuat variable baru. Proses ini sering disebut sebagai **assignment**."
   ]
  },
  {
   "cell_type": "code",
   "execution_count": 5,
   "metadata": {},
   "outputs": [],
   "source": [
    "angka = 5"
   ]
  },
  {
   "cell_type": "code",
   "execution_count": 3,
   "metadata": {},
   "outputs": [
    {
     "data": {
      "text/plain": [
       "5"
      ]
     },
     "execution_count": 3,
     "metadata": {},
     "output_type": "execute_result"
    }
   ],
   "source": [
    "# print angka\n",
    "angka"
   ]
  },
  {
   "cell_type": "markdown",
   "metadata": {},
   "source": [
    "Python adalah bahasa pemrograman yang **case-sensitive** sehingga penamaan variable menjadi hal yang perlu diperhatikan. Misal penulisan variable `activity` dengan awalan huruf `a` kecil berbeda dengan yang diawali dengan huruf `A` besar."
   ]
  },
  {
   "cell_type": "code",
   "execution_count": 6,
   "metadata": {},
   "outputs": [],
   "source": [
    "activity = 'programming'"
   ]
  },
  {
   "cell_type": "code",
   "execution_count": 7,
   "metadata": {},
   "outputs": [
    {
     "name": "stdout",
     "output_type": "stream",
     "text": [
      "programming\n"
     ]
    }
   ],
   "source": [
    "# print activity\n",
    "print(activity)\n"
   ]
  },
  {
   "cell_type": "code",
   "execution_count": 9,
   "metadata": {},
   "outputs": [
    {
     "ename": "NameError",
     "evalue": "name 'Activity' is not defined",
     "output_type": "error",
     "traceback": [
      "\u001b[1;31m---------------------------------------------------------------------------\u001b[0m",
      "\u001b[1;31mNameError\u001b[0m                                 Traceback (most recent call last)",
      "Input \u001b[1;32mIn [9]\u001b[0m, in \u001b[0;36m<cell line: 3>\u001b[1;34m()\u001b[0m\n\u001b[0;32m      1\u001b[0m \u001b[38;5;66;03m# activity == Activity -> kode ini akan menghasilkan error karena activity dengan letter case \"a\" berbeda dengan Activity\u001b[39;00m\n\u001b[0;32m      2\u001b[0m \u001b[38;5;66;03m# dengan upper case \"A\"\u001b[39;00m\n\u001b[1;32m----> 3\u001b[0m \u001b[38;5;28mprint\u001b[39m(\u001b[43mActivity\u001b[49m)\n",
      "\u001b[1;31mNameError\u001b[0m: name 'Activity' is not defined"
     ]
    }
   ],
   "source": [
    "# activity == Activity -> kode ini akan menghasilkan error karena activity dengan letter case \"a\" berbeda dengan Activity\n",
    "# dengan upper case \"A\"\n",
    "print(Activity)"
   ]
  },
  {
   "cell_type": "code",
   "execution_count": 10,
   "metadata": {},
   "outputs": [
    {
     "ename": "NameError",
     "evalue": "name 'Activity' is not defined",
     "output_type": "error",
     "traceback": [
      "\u001b[1;31m---------------------------------------------------------------------------\u001b[0m",
      "\u001b[1;31mNameError\u001b[0m                                 Traceback (most recent call last)",
      "Input \u001b[1;32mIn [10]\u001b[0m, in \u001b[0;36m<cell line: 1>\u001b[1;34m()\u001b[0m\n\u001b[1;32m----> 1\u001b[0m activity \u001b[38;5;241m==\u001b[39m \u001b[43mActivity\u001b[49m\n",
      "\u001b[1;31mNameError\u001b[0m: name 'Activity' is not defined"
     ]
    }
   ],
   "source": [
    "activity == activity"
   ]
  },
  {
   "cell_type": "markdown",
   "metadata": {},
   "source": [
    "Berikut beberapa anjuran dalam memberikan nama variable pada Python:\n",
    "- Menggunakan kombinasi dari huruf kapital (A-Z), huruf nomina (a-z), angka (0-9).\n",
    "- Special character `!, $ , &, dll` tidak dapat digunakan dalam penamaan variabel.\n",
    "- Tidak boleh menggunakan angka di awal.\n",
    "- Tidak boleh menggunakan keyword pada Python\n",
    "- Bersifat case-sensitive sehingga penamaan variable `algoritma`, `ALGORITMA`, dan `Algoritma` adalah 3 variable yang berbeda"
   ]
  },
  {
   "cell_type": "markdown",
   "metadata": {},
   "source": [
    "**Keywords** adalah kata kunci yang sudah ditetapkan oleh Python sebagai nama yang tidak bisa dipakai baik untuk penamaan fungsi, variabel, dan lainnya. Keyword ditulis dalam lower-case (huruf kecil semua) kecuali keyword `True`, `False`, dan `None`. Sejauh ini (Python 3.8) keyword yang ada pada Python adalah sebagai berikut:"
   ]
  },
  {
   "cell_type": "code",
   "execution_count": 11,
   "metadata": {},
   "outputs": [
    {
     "data": {
      "text/plain": [
       "['False',\n",
       " 'None',\n",
       " 'True',\n",
       " '__peg_parser__',\n",
       " 'and',\n",
       " 'as',\n",
       " 'assert',\n",
       " 'async',\n",
       " 'await',\n",
       " 'break',\n",
       " 'class',\n",
       " 'continue',\n",
       " 'def',\n",
       " 'del',\n",
       " 'elif',\n",
       " 'else',\n",
       " 'except',\n",
       " 'finally',\n",
       " 'for',\n",
       " 'from',\n",
       " 'global',\n",
       " 'if',\n",
       " 'import',\n",
       " 'in',\n",
       " 'is',\n",
       " 'lambda',\n",
       " 'nonlocal',\n",
       " 'not',\n",
       " 'or',\n",
       " 'pass',\n",
       " 'raise',\n",
       " 'return',\n",
       " 'try',\n",
       " 'while',\n",
       " 'with',\n",
       " 'yield']"
      ]
     },
     "execution_count": 11,
     "metadata": {},
     "output_type": "execute_result"
    }
   ],
   "source": [
    "#Cek daftar keyword\n",
    "import keyword\n",
    "keyword.kwlist"
   ]
  },
  {
   "cell_type": "markdown",
   "metadata": {},
   "source": [
    "Untuk membuktikan bahwa keyword tidak dapat digunakan sebagai nama variabel, mari kita coba untuk menyimpan nilai 1 pada variabel `True`."
   ]
  },
  {
   "cell_type": "code",
   "execution_count": 14,
   "metadata": {},
   "outputs": [
    {
     "ename": "SyntaxError",
     "evalue": "cannot assign to True (2548798286.py, line 2)",
     "output_type": "error",
     "traceback": [
      "\u001b[1;36m  Input \u001b[1;32mIn [14]\u001b[1;36m\u001b[0m\n\u001b[1;33m    True=1\u001b[0m\n\u001b[1;37m    ^\u001b[0m\n\u001b[1;31mSyntaxError\u001b[0m\u001b[1;31m:\u001b[0m cannot assign to True\n"
     ]
    }
   ],
   "source": [
    "##code here\n",
    "True=1\n"
   ]
  },
  {
   "cell_type": "markdown",
   "metadata": {},
   "source": [
    "## Python Data Types\n",
    "\n",
    "### String\n",
    "\n",
    "Python mewakili text apa pun sebagai objek `str`. Contohnya kata \"hamburger\" dan frasa \"saya suka hamburger\" sama-sama merupakan sebuah string. Ada beberapa cara untuk membuat nilai string:\n",
    "\n",
    "- menggunakan `'text'` (yaitu: `'Hello World!'`)\n",
    "- menggunakan `\"text\"` (yaitu : `\"I'm a programmer\"`)\n",
    "- menggunakan `'''text'''` atau `\"\"\"text\"\"\"` (yaitu: `''' \"I'm smart!\", he said '''`)"
   ]
  },
  {
   "cell_type": "code",
   "execution_count": null,
   "metadata": {},
   "outputs": [],
   "source": [
    "# code here\n"
   ]
  },
  {
   "cell_type": "markdown",
   "metadata": {},
   "source": [
    "### Number\n",
    "\n",
    "Untuk menyimpan data bersifat numerik, python memiliki dua tipe data asli yang disebut `int` dan `float`.\n",
    "- `int` digunakan untuk menyimpan bilangan bulat (yaitu: 1,2,-3)\n",
    "- `float` digunakan untuk menyimpan bilangan real (yaitu: 0.7, -1.8, -1000.0)."
   ]
  },
  {
   "cell_type": "code",
   "execution_count": 15,
   "metadata": {},
   "outputs": [],
   "source": [
    "a = 123445678910\n",
    "b = 0.6724624632746"
   ]
  },
  {
   "cell_type": "code",
   "execution_count": 16,
   "metadata": {},
   "outputs": [
    {
     "data": {
      "text/plain": [
       "int"
      ]
     },
     "execution_count": 16,
     "metadata": {},
     "output_type": "execute_result"
    }
   ],
   "source": [
    "type(a)"
   ]
  },
  {
   "cell_type": "code",
   "execution_count": 17,
   "metadata": {},
   "outputs": [
    {
     "data": {
      "text/plain": [
       "float"
      ]
     },
     "execution_count": 17,
     "metadata": {},
     "output_type": "execute_result"
    }
   ],
   "source": [
    "type(b)"
   ]
  },
  {
   "cell_type": "code",
   "execution_count": 18,
   "metadata": {},
   "outputs": [
    {
     "name": "stdout",
     "output_type": "stream",
     "text": [
      "123445678910\n",
      "0.6724624632746\n"
     ]
    }
   ],
   "source": [
    "print(a)\n",
    "print(b)"
   ]
  },
  {
   "cell_type": "markdown",
   "metadata": {},
   "source": [
    "**Operasi Angka** \\\n",
    "Operator Aritmatika:\n",
    "- `+` - Penambahan\n",
    "- `-` - Pengurangan\n",
    "- `*` - Perkalian\n",
    "- `/` - Divisi\n",
    "- `//` - Pembagian dengan Pembulatan\n",
    "- `%` - Modul\n",
    "- `**` - Eksponen"
   ]
  },
  {
   "cell_type": "markdown",
   "metadata": {},
   "source": [
    "Arithmetical Operators"
   ]
  },
  {
   "cell_type": "code",
   "execution_count": null,
   "metadata": {
    "scrolled": true
   },
   "outputs": [],
   "source": [
    "1 + 1"
   ]
  },
  {
   "cell_type": "code",
   "execution_count": 21,
   "metadata": {},
   "outputs": [
    {
     "data": {
      "text/plain": [
       "1"
      ]
     },
     "execution_count": 21,
     "metadata": {},
     "output_type": "execute_result"
    }
   ],
   "source": [
    "5 % 2"
   ]
  },
  {
   "cell_type": "code",
   "execution_count": null,
   "metadata": {},
   "outputs": [],
   "source": [
    "# code here\n"
   ]
  },
  {
   "cell_type": "markdown",
   "metadata": {},
   "source": [
    "Operasi perbandingan:\n",
    "- `==` : Untuk melihat apakah object di kiri dan kanan sama\n",
    "- `!=` : Untuk melihat apakah object di kiri dan kanan **tidak** sama\n",
    "- `>` : Untuk melihat apakah object di kiri lebih besar dari object yang di kanan\n",
    "- `>=` : Untuk melihat apakah object di kiri lebih besar atau **sama dengan** dari object yang di kanan\n",
    "- `<` : Untuk melihat apakah object di kiri lebih kecil dari object yang di kanan\n",
    "- `<=` : Untuk melihat apakah object di kiri lebih kecil atau **sama dengan** dari object yang di kanan"
   ]
  },
  {
   "cell_type": "markdown",
   "metadata": {},
   "source": [
    "Comparison Operators"
   ]
  },
  {
   "cell_type": "code",
   "execution_count": 22,
   "metadata": {},
   "outputs": [],
   "source": [
    "satu = 1\n",
    "dua = 2"
   ]
  },
  {
   "cell_type": "code",
   "execution_count": 23,
   "metadata": {},
   "outputs": [
    {
     "data": {
      "text/plain": [
       "True"
      ]
     },
     "execution_count": 23,
     "metadata": {},
     "output_type": "execute_result"
    }
   ],
   "source": [
    "satu <= dua"
   ]
  },
  {
   "cell_type": "code",
   "execution_count": 24,
   "metadata": {},
   "outputs": [
    {
     "data": {
      "text/plain": [
       "False"
      ]
     },
     "execution_count": 24,
     "metadata": {},
     "output_type": "execute_result"
    }
   ],
   "source": [
    "satu == dua"
   ]
  },
  {
   "cell_type": "code",
   "execution_count": 25,
   "metadata": {
    "scrolled": true
   },
   "outputs": [
    {
     "data": {
      "text/plain": [
       "True"
      ]
     },
     "execution_count": 25,
     "metadata": {},
     "output_type": "execute_result"
    }
   ],
   "source": [
    "satu != dua"
   ]
  },
  {
   "cell_type": "code",
   "execution_count": null,
   "metadata": {},
   "outputs": [],
   "source": [
    "# code here\n"
   ]
  },
  {
   "cell_type": "markdown",
   "metadata": {},
   "source": [
    "**🧠 Knowledge Check :**\n",
    "\n",
    "If your friend give you a budget of USD 97.5, and ask you to buy candies that cost USD 0.75 each and distribute them **fairly** to 17 children, what is the maximum number of candy each child can get ? \n",
    "\n",
    "Try to use your python knowledge to solve this problem"
   ]
  },
  {
   "cell_type": "code",
   "execution_count": 28,
   "metadata": {},
   "outputs": [
    {
     "data": {
      "text/plain": [
       "7.0"
      ]
     },
     "execution_count": 28,
     "metadata": {},
     "output_type": "execute_result"
    }
   ],
   "source": [
    "# code here\n",
    "a=0.75*17\n",
    "97.5//a"
   ]
  },
  {
   "cell_type": "markdown",
   "metadata": {},
   "source": [
    "### Boolean\n",
    "\n",
    "Boolean menyimpan nilai yang sangat sederhana dalam komputer dan pemrograman, `True` atau `False`."
   ]
  },
  {
   "cell_type": "code",
   "execution_count": null,
   "metadata": {},
   "outputs": [],
   "source": [
    "x = True \n",
    "y = False "
   ]
  },
  {
   "cell_type": "code",
   "execution_count": null,
   "metadata": {},
   "outputs": [],
   "source": [
    "x"
   ]
  },
  {
   "cell_type": "markdown",
   "metadata": {},
   "source": [
    "### List\n",
    "\n",
    "`list` digunakan untuk menyimpan beberapa nilai dalam python. Untuk membuatnya, cukup letakkan nilai di dalam tanda kurung (yaitu: `x = [1,2,3]` )"
   ]
  },
  {
   "cell_type": "code",
   "execution_count": 29,
   "metadata": {},
   "outputs": [],
   "source": [
    "number = [1,2,3,4,5]\n",
    "names = [\"andi\",\"budi\",\"caca\",\"deni\",\"eca\"]"
   ]
  },
  {
   "cell_type": "code",
   "execution_count": 30,
   "metadata": {},
   "outputs": [
    {
     "name": "stdout",
     "output_type": "stream",
     "text": [
      "[1, 2, 3, 4, 5]\n",
      "['andi', 'budi', 'caca', 'deni', 'eca']\n"
     ]
    }
   ],
   "source": [
    "print(number)\n",
    "print(names)"
   ]
  },
  {
   "cell_type": "markdown",
   "metadata": {},
   "source": [
    "**Operasi List**\n",
    "- `x.append(a)` : tambahkan a ke x\n",
    "- `x.remove(a)` : hapus a dari x\n",
    "\n",
    "Selain operator yang dikenal sebelumnya, salah satu list yang paling berguna adalah dengan menerapkan fungsi agregasi seperti:\n",
    "- `len(x)` : ekstrak panjang daftar\n",
    "- `a in b` : memeriksa apakah nilai `a` ada di objek daftar `b`\n",
    "- `max(x)` : mendapatkan nilai tertinggi dalam x\n",
    "- `sum(x)` : mendapatkan jumlah nilai dalam x\n",
    "\n",
    "Operasi lain yang harus diketahui dalam daftar adalah pengindeksan:\n",
    "- `x[i]` : mengakses elemen ke-i dari x"
   ]
  },
  {
   "cell_type": "markdown",
   "metadata": {},
   "source": [
    "**🧠Knowledge Check** : \n",
    "\n",
    "What is the average value of `number` ? "
   ]
  },
  {
   "cell_type": "code",
   "execution_count": 31,
   "metadata": {},
   "outputs": [
    {
     "data": {
      "text/plain": [
       "3.0"
      ]
     },
     "execution_count": 31,
     "metadata": {},
     "output_type": "execute_result"
    }
   ],
   "source": [
    "# code here\n",
    "sum(number)/len(number)"
   ]
  },
  {
   "cell_type": "markdown",
   "metadata": {},
   "source": [
    "# Introduction to Pandas Library\n",
    "\n",
    "## Working with DataFrame\n",
    "\n",
    "`pandas` adalah library yang powerful sebagai tools analisis data dan struktur pada Python. Dengan `pandas`, mengolah data menjadi mudah karena disediakan salah satu objek bernama **DataFrame**. Dengan dataframe kita dapat membaca sebuah file, mengolah suatu data dengan menggunakan operasi seperti join, distinct, group by, agregasi, dan teknik lainnya.\n",
    "\n",
    "> Lebih lengkapnya silahkan kunjungi [official documentation](https://pandas.pydata.org/)\n",
    "\n",
    "Untuk menggunakan `pandas`, kita perlu import terlebih dahulu library dengan cara berikut ini:"
   ]
  },
  {
   "cell_type": "code",
   "execution_count": 34,
   "metadata": {},
   "outputs": [],
   "source": [
    "##code here\n",
    "import pandas"
   ]
  },
  {
   "cell_type": "markdown",
   "metadata": {},
   "source": [
    "Kita bisa menggunakan teknik **aliasing** agar pengetikan nama library tidak terlalu panjang, yaitu dengan `as`."
   ]
  },
  {
   "cell_type": "code",
   "execution_count": 38,
   "metadata": {},
   "outputs": [
    {
     "data": {
      "text/plain": [
       "'1.4.4'"
      ]
     },
     "execution_count": 38,
     "metadata": {},
     "output_type": "execute_result"
    }
   ],
   "source": [
    "##code here\n",
    "import pandas as pd\n",
    "pd.__version__"
   ]
  },
  {
   "cell_type": "markdown",
   "metadata": {},
   "source": [
    "Semua method pada `pandas` dapat dipanggil dengan syntax seperti: `pandas.function_name()`. Langkah pertama yang akan kita lakukan adalah membaca data. Kita dapat menggunakan method `.read_csv()` untuk membaca sebuah file dengan format `.csv`."
   ]
  },
  {
   "cell_type": "code",
   "execution_count": null,
   "metadata": {},
   "outputs": [],
   "source": [
    "##code here\n",
    "pd.read_\n",
    "help(pd.read_)"
   ]
  },
  {
   "cell_type": "markdown",
   "metadata": {},
   "source": [
    "Kita coba set kolom pertama `Unnamed: 0` menjadi index dari dataframe, dengan cara menambahkan **parameter** `index_col=0`."
   ]
  },
  {
   "cell_type": "code",
   "execution_count": null,
   "metadata": {},
   "outputs": [],
   "source": [
    "##code here\n",
    "\n"
   ]
  },
  {
   "cell_type": "markdown",
   "metadata": {},
   "source": [
    "Intuisi dari parameter `index_col` pada `read_csv()` adalah menjadikan kolom pada Dataframe sebagai index pada baris. Berikut beberapa nilai yang dapat ditampung oleh parameter `index_col`.\n",
    "- (0, 1, 2, dst) : Menunjukkan index kolom yang akan dijadikan sebagai index baris.\n",
    "- `'nama_kolom'` : Selain menggunakan nilai index nya, kita juga dapat langsung mengetikkan nama kolomnya.\n",
    "- `False` : Menggunakan index yang disediakan oleh `pandas`."
   ]
  },
  {
   "cell_type": "markdown",
   "metadata": {},
   "source": [
    "**Additional Information:**\n",
    "\n",
    "1. Python menggunakan sistem **zero based indexing** yang berarti, index pada python dimulai dari angka 0.\n",
    "2. Terdapat beberapa parameter dalam method `.read_csv()`, dokumentasi selengkapnya ada [di sini](https://pandas.pydata.org/pandas-docs/stable/reference/api/pandas.read_csv.html)"
   ]
  },
  {
   "cell_type": "markdown",
   "metadata": {},
   "source": [
    "🧠 **Knowledge Check: Error**\n",
    "\n",
    "Mengacu pada konsep penulisan **python keywords** diatas, manakah diantara ke-4 kode program ini yang **tidak** menghasilkan error ketika dijalankan?\n",
    "\n",
    "- [ ] `pd.read_csv(\"data_input/rice.csv\", index_col=false)`\n",
    "- [ ] `Import pandas as pd`\n",
    "- [ ] `print(100-2)`\n",
    "- [ ] `None = 2`"
   ]
  },
  {
   "cell_type": "code",
   "execution_count": null,
   "metadata": {},
   "outputs": [],
   "source": [
    "#your code here\n",
    "\n"
   ]
  },
  {
   "cell_type": "markdown",
   "metadata": {},
   "source": [
    "**What you need to know**:\n",
    "- Python, sama dengan bahasa pemrograman lainnya adalah bersifat case sensitive. `Sales` dan `sales` akan diidentifikasikan sebagai object yang berbeda.\n",
    "- Python keywoard tidak dapat digunakan sebagai nama variable\n",
    "- Saat memberikan penamaan pada variable, awali dengan huruf dan gunakan underscore (`_`) untuk menghubungkan antar kata.\n",
    "    - Salah: `2022`, `2022sales`, `sales-2022`, `sales.2022`\n",
    "    - Benar: `sales_2019`, `profit_after_tax`"
   ]
  },
  {
   "cell_type": "markdown",
   "metadata": {},
   "source": [
    "#### 🧠 Dive Deeper\n",
    "\n",
    "1. Baca kembali data `rice` menggunakan perintah `pd.read_csv()`, kemudian simpan kedalam variable baru bernama `rice_new`. Dengan menggunakan parameter `index_col`, jadikan kolom `receipt_id` sebagai index baris nya!\n",
    "2. `pandas.DataFrame.head(n)` dapat digunakan untuk menampilkan sebagian data teratas, dengan asumsi bahwa nilai `n` adalah jumlah baris yang ingin kita tampilkan. Silahkan set `head()` dengan nilai `n=8` pada data `rice_new`, kemudian lihat apa yang terjadi! \n",
    "3. Lawan dari `head()` adalah `tail()`. Method `tail()` akan menampilkan data dari urutan paling bawah. Silahkan set `tail()` dengan nilai `n=4`, kemudian lihat apa yang terjadi!"
   ]
  },
  {
   "cell_type": "code",
   "execution_count": null,
   "metadata": {},
   "outputs": [],
   "source": [
    "#your code here\n",
    "\n"
   ]
  },
  {
   "cell_type": "code",
   "execution_count": null,
   "metadata": {},
   "outputs": [],
   "source": [
    "#your code here\n",
    "\n"
   ]
  },
  {
   "cell_type": "markdown",
   "metadata": {},
   "source": [
    "## Tipe Data `pandas`\n",
    "\n",
    "Dataframe terdiri dari beberapa **Series** (mengacu pada satu kolom). Dalam satu series harus memiliki satu tipe data yang sama. `pandas`akan mencoba untuk infer tipe data dari masing-masing Series, tapi tidak selalu benar.\n",
    "\n",
    "Cara cek tipe data: `dtypes` atau `.info()` untuk lebih lengkapnya"
   ]
  },
  {
   "cell_type": "markdown",
   "metadata": {},
   "source": [
    "**_Soal 1:_** Dengan menggunakan data rice, silahkan cek tipe data menggunakan `dtypes`!"
   ]
  },
  {
   "cell_type": "code",
   "execution_count": null,
   "metadata": {},
   "outputs": [],
   "source": [
    "##code here\n",
    "\n"
   ]
  },
  {
   "cell_type": "markdown",
   "metadata": {},
   "source": [
    "**Notes:**\n",
    "\n",
    "- `int64`: integer (bilangan bulat, tanpa koma)\n",
    "- `float64`: bilangan desimal (berkoma)\n",
    "- `object`: text (string)"
   ]
  },
  {
   "cell_type": "markdown",
   "metadata": {},
   "source": [
    "🧠 **Knowledge check: `.dtypes` and pandas attributes**\n",
    "\n",
    "Salin kode program di bawah ini, kemudian jalankan. \n",
    "```\n",
    "x = [2019, 4, 'data science']\n",
    "x.dtypes\n",
    "\n",
    "```\n",
    "Apa yang terjadi?"
   ]
  },
  {
   "cell_type": "code",
   "execution_count": null,
   "metadata": {},
   "outputs": [],
   "source": [
    "##code here\n",
    "\n"
   ]
  },
  {
   "cell_type": "markdown",
   "metadata": {},
   "source": [
    "Ketikkan perintah `type(x)`, maka apa perbedaannya dengan sebelumnya?"
   ]
  },
  {
   "cell_type": "code",
   "execution_count": null,
   "metadata": {},
   "outputs": [],
   "source": [
    "##code here\n",
    "\n"
   ]
  },
  {
   "cell_type": "markdown",
   "metadata": {},
   "source": [
    "Kesimpulan: Atribut `dtypes` hanya dimiliki oleh objek dataframe sehingga `dtypes` tidak bisa diaplikasikan untuk list."
   ]
  },
  {
   "cell_type": "markdown",
   "metadata": {},
   "source": [
    "Perhatikan dataframe baru di bawah ini untuk contoh lain dari tipe data pada `pandas`!"
   ]
  },
  {
   "cell_type": "code",
   "execution_count": null,
   "metadata": {},
   "outputs": [],
   "source": [
    "employees = pd.DataFrame({\n",
    "    'name': ['Anita', 'Brian'],\n",
    "    'age': [34, 29],\n",
    "    'joined': [pd.Timestamp('20190410'), pd.Timestamp('20171128')],\n",
    "    'degree': [True, False],\n",
    "    'hourlyrate': [35.5, 29],\n",
    "    'division': ['HR', 'Product']\n",
    "})\n",
    "employees.dtypes"
   ]
  },
  {
   "cell_type": "markdown",
   "metadata": {},
   "source": [
    "- `name` [`object`]: store text values\n",
    "- `age` [`int`]: integer values\n",
    "- `joined` [`datetime`]: date and time values\n",
    "- `degree` [`bool`]: True/False values\n",
    "- `hourlyrate` [`float`]: floating point values\n",
    "- `division` [`object`]: store text values"
   ]
  },
  {
   "cell_type": "markdown",
   "metadata": {},
   "source": [
    "### Categorical and Numerical Variables\n",
    "\n",
    "Tipe data categorical adalah tipe data yang memiliki karakteristik dimana nilainya dapat berulang pada sebuah Series di dataframe. \n",
    "\n",
    "Dua alasan mengapa kita perlu menggunakan tipe data categorical:\n",
    "\n",
    "1. Dari sisi \"business perspective\", hal ini dapat menginformasikan dan memandu seorang Analyst pada pertanyaan seperti metode statistik atau tipe plot mana yang digunakan untuk mengolah data.\n",
    "\n",
    "2. Dari sisi teknikal, ketika kita bekerja dengan tipe data categorical pada pandas, hal ini akan jauh menghemat memori dan menambah kecepatan komputasional.\n",
    "\n",
    "Dikutip dari official documentation:\n",
    "\n",
    "> Categoricals are a pandas data type corresponding to categorical variables in statistics. A categorical variable takes on a limited, and usually fixed, number of possible values (categories; levels in R). Examples are gender, social class, blood type, country affiliation or rating via Likert scales.\n",
    "\n",
    "Untuk mengubah tipe data ke categorical pada pandas, Anda dapat melakukannya dengan method `astype()` berikut:\n",
    "\n",
    "**Formula** \n",
    "```\n",
    "df['column_name'] = df['column_name'].astype('new_data_types')\n",
    "```\n",
    "\n",
    "**Example**\n",
    "```\n",
    "# convert marital_status to category\n",
    "employees['marital_status'] = employees['marital_status'].astype('category')\n",
    "\n",
    "# convert experience to integer\n",
    "employees['experience'] = employees['experience'].astype('int')\n",
    "```\n"
   ]
  },
  {
   "cell_type": "markdown",
   "metadata": {},
   "source": [
    "**_Soal 2:_** Perhatikan dataframe `employees`. Adakah kolom yang tipe datanya belum tersimpan dengan benar? Ubahlah ke tipe data yang tepat dengan menggunakan method `astype()`!"
   ]
  },
  {
   "cell_type": "code",
   "execution_count": null,
   "metadata": {},
   "outputs": [],
   "source": [
    "##code here\n",
    "\n"
   ]
  },
  {
   "cell_type": "markdown",
   "metadata": {},
   "source": [
    "**Notes**\n",
    "\n",
    "- `type()` adalah sebuah **fungsi** pada python. Fungsi `type()` digunakan untuk mengecek struktur/tipe objek atau variabel dimana penggunaannya tidak didahului dengan pemanggilan nama objek.\n",
    "- `dtypes` adalah **atribut** yang dimiliki oleh objek dataframe. `dtypes` digunakan untuk melihat tipe data dari masing-masing kolom yang ada pada dataframe. Penggunaan `dtypes` diawali dengan memanggil nama objeknya (karena dia adalah atribut sebuah objek)"
   ]
  },
  {
   "cell_type": "markdown",
   "metadata": {},
   "source": [
    "### Rangkuman Data Types"
   ]
  },
  {
   "cell_type": "markdown",
   "metadata": {},
   "source": [
    "Fokus pada kolom Pandas dtype dan usage-nya:\n",
    "\n",
    "| Pandas dtype  | Python type  | NumPy type                                                     | Usage                                        |\n",
    "|---------------|--------------|----------------------------------------------------------------|----------------------------------------------|\n",
    "| object        | str or mixed | string_, unicode_, mixed types                                 | Text or mixed numeric and non-numeric values |\n",
    "| int64         | int          | int_, int8, int16, int32, int64, uint8, uint16, uint32, uint64 | Integer numbers                              |\n",
    "| float64       | float        | float_, float16, float32, float64                              | Floating point numbers                       |\n",
    "| bool          | bool         | bool_                                                          | True/False values                            |\n",
    "| datetime64    | NA           | datetime64[ns]                                                 | Date and time values                         |\n",
    "| timedelta[ns] | NA           | NA                                                             | Differences between two datetimes            |\n",
    "| category      | NA           | NA                                                             | Finite list of text values                   |\n",
    "\n",
    "Referensi: [Overview of Pandas Data Types](https://pbpython.com/pandas_dtypes.html)"
   ]
  },
  {
   "cell_type": "markdown",
   "metadata": {},
   "source": [
    "## Exploratory Data Analysis Tools :\n",
    "\n",
    "Exploratory Data Analysis (**EDA**) mengacu pada proses melakukan investigasi awal pada data, seringkali dengan tujuan untuk lebih mengenal dengan karakteristik data tertentu. EDA dilakukan dengan bantuan ringkasan statistik dan teknik grafis sederhana untuk melihat struktur data yang kita miliki.\n",
    "\n",
    "Beberapa tools sederhana pada `pandas` yang dapat digunakan untuk melakukan EDA adalah sebagai berikut:\n",
    "- `.head()` and `.tail()`\n",
    "- `.describe()`\n",
    "- `.shape` and `.size`\n",
    "- `.axes`\n",
    "- `.dtypes`\n",
    "\n",
    "### `head()` and `tail()`\n",
    "\n",
    "- `head(n)` digunakan untuk inspeksi `n` data teratas dari sebuah dataframe.\n",
    "- `tail(n)` digunakan untuk inspeksi `n` data terbawah dari sebuah dataframe."
   ]
  },
  {
   "cell_type": "code",
   "execution_count": null,
   "metadata": {},
   "outputs": [],
   "source": [
    "##code here\n",
    "\n"
   ]
  },
  {
   "cell_type": "code",
   "execution_count": null,
   "metadata": {},
   "outputs": [],
   "source": [
    "##code here\n",
    "\n"
   ]
  },
  {
   "cell_type": "markdown",
   "metadata": {},
   "source": [
    "### `describe()`\n",
    "\n",
    "Method `describe()` menampilkan 8 ringkasan statistika deskriptif. Secara default menampilkan ringkasan untuk kolom numerik. \n",
    "\n",
    "Ringkasan statistika yang dimaksud adalah sebagai berikut:\n",
    "- Count: banyaknya baris pada dataframe\n",
    "- Mean: rata-rata nilai\n",
    "- Standard Deviation: jarak rata-rata antara data ke mean (titik pusat data)\n",
    "- Minimum Value: nilai terkecil dari keseluruhan data\n",
    "- 25th Percentile (Q1)\n",
    "- 50th Percentile (Q2/Median)\n",
    "- 75th Percentile (Q3)\n",
    "- Maximum Value: nilai terbesar dari keseluruhan data"
   ]
  },
  {
   "cell_type": "code",
   "execution_count": null,
   "metadata": {},
   "outputs": [],
   "source": [
    "##code here\n",
    "\n"
   ]
  },
  {
   "cell_type": "markdown",
   "metadata": {},
   "source": [
    "Ringkasan seperti count, mean, std, min, dan max memiliki method nya masing-masing:"
   ]
  },
  {
   "cell_type": "code",
   "execution_count": null,
   "metadata": {},
   "outputs": [],
   "source": [
    "##code here\n",
    "\n"
   ]
  },
  {
   "cell_type": "markdown",
   "metadata": {},
   "source": [
    "Untuk ringkasan seperti Q1, Q2, Q3 kita dapat menggunakan method `quantile()`. Secara default adalah nilai Q2."
   ]
  },
  {
   "cell_type": "code",
   "execution_count": null,
   "metadata": {},
   "outputs": [],
   "source": [
    "##code here\n",
    "\n"
   ]
  },
  {
   "cell_type": "markdown",
   "metadata": {},
   "source": [
    "**Additional Information**\n",
    "\n",
    "Kita bisa menambahkan parameter `include` ataupun `exclude` pada `describe()` untuk melihat statistika deskriptif dari variable non-numeric:"
   ]
  },
  {
   "cell_type": "code",
   "execution_count": null,
   "metadata": {},
   "outputs": [],
   "source": [
    "##code here\n",
    "\n"
   ]
  },
  {
   "cell_type": "markdown",
   "metadata": {},
   "source": [
    "- unique: nilai unik di setiap kolom atau variabel\n",
    "- top: nilai terbanyak (modus)\n",
    "- freq: banyaknya kemunculan modus"
   ]
  },
  {
   "cell_type": "markdown",
   "metadata": {},
   "source": [
    "Misal kita tertarik melihat unique pada kolom `format`:"
   ]
  },
  {
   "cell_type": "code",
   "execution_count": null,
   "metadata": {},
   "outputs": [],
   "source": [
    "##code here\n",
    "\n"
   ]
  },
  {
   "cell_type": "markdown",
   "metadata": {},
   "source": [
    "**_Soal 3:_** Melihat statistika deskriptif untuk kolom bertipe data **selain object**  menggunakan `exclude`"
   ]
  },
  {
   "cell_type": "code",
   "execution_count": null,
   "metadata": {},
   "outputs": [],
   "source": [
    "##code here\n",
    "\n"
   ]
  },
  {
   "cell_type": "markdown",
   "metadata": {},
   "source": [
    "**_Soal 4:_** Melihat statistika deskriptif untuk kolom bertipe data **numeric** menggunakan `include`"
   ]
  },
  {
   "cell_type": "code",
   "execution_count": null,
   "metadata": {},
   "outputs": [],
   "source": [
    "##code here\n",
    "\n"
   ]
  },
  {
   "cell_type": "markdown",
   "metadata": {},
   "source": [
    "**_Soal 5:_** Bagaimana menampilkan statistika deskriptif hanya kolom yang bertipe data **int64** dan **object** saja?"
   ]
  },
  {
   "cell_type": "code",
   "execution_count": null,
   "metadata": {},
   "outputs": [],
   "source": [
    "##code here\n",
    "\n"
   ]
  },
  {
   "cell_type": "markdown",
   "metadata": {},
   "source": [
    "### `shape` dan `size`\n",
    "\n",
    "`shape` dan `size` adalah atribut dari sebuah dataframe yang memberikan informasi terkait dimensi data dan ukuran data"
   ]
  },
  {
   "cell_type": "code",
   "execution_count": null,
   "metadata": {},
   "outputs": [],
   "source": [
    "##code here\n",
    "\n"
   ]
  },
  {
   "cell_type": "markdown",
   "metadata": {},
   "source": [
    "Angka pertama menunjukkan banyaknya row/observasi, angka kedua menunjukkan banyaknya kolom."
   ]
  },
  {
   "cell_type": "code",
   "execution_count": null,
   "metadata": {},
   "outputs": [],
   "source": [
    "##code here\n",
    "\n"
   ]
  },
  {
   "cell_type": "markdown",
   "metadata": {},
   "source": [
    "`size` = banyaknya row dikali banyaknya kolom."
   ]
  },
  {
   "cell_type": "markdown",
   "metadata": {},
   "source": [
    "### `axes`\n",
    "\n",
    "`axes` adalah atribut dataframe yang memberikan informasi terkait index dataframe (baik index kolom maupun index baris)"
   ]
  },
  {
   "cell_type": "code",
   "execution_count": null,
   "metadata": {},
   "outputs": [],
   "source": [
    "##code here\n",
    "\n"
   ]
  },
  {
   "cell_type": "markdown",
   "metadata": {},
   "source": [
    "- `axes[0]`: melihat index baris\n",
    "- `axes[1]`: melihat index kolom"
   ]
  },
  {
   "cell_type": "code",
   "execution_count": null,
   "metadata": {},
   "outputs": [],
   "source": [
    "##code here\n",
    "\n"
   ]
  },
  {
   "cell_type": "markdown",
   "metadata": {},
   "source": [
    "### `dtypes`\n",
    "\n",
    "Atribut `dtypes` digunakan untuk melakukan inspeksi tipe data."
   ]
  },
  {
   "cell_type": "code",
   "execution_count": null,
   "metadata": {},
   "outputs": [],
   "source": [
    "##code here\n",
    "\n"
   ]
  },
  {
   "cell_type": "markdown",
   "metadata": {},
   "source": [
    "**_Soal 6:_** Kolom mana yang tipe datanya belum sesuai? Silahkan ubah dengan method `.astype()`!"
   ]
  },
  {
   "cell_type": "code",
   "execution_count": null,
   "metadata": {},
   "outputs": [],
   "source": [
    "##code here\n",
    "\n"
   ]
  },
  {
   "cell_type": "markdown",
   "metadata": {},
   "source": [
    "🧠 **Knowledge Check: Data types**\n",
    "\n",
    "Misalkan saja kita memiliki sebuah DataFrame dengan nama `inventory`.\n",
    "\n",
    "1. Ketika menjalankan perintah `inventory.dtypes`, maka pandas akan menampilkan tipe data pada setiap kolom (series). Manakah kolom dibawah ini yang mungkin memiliki tipe data yang salah?\n",
    " - [ ] `units_instock`: int64\n",
    " - [ ] `discount_price`: float64\n",
    " - [ ] `item_name`: object\n",
    " - [ ] `units_sold`: object\n",
    " \n",
    " \n",
    "2. Kita ingin mengetahui jumlah kolom yang terdapat pada `inventory` DataFrame, manakah dibawah ini perintah yang tepat untuk menampilkan jumlah kolom `inventory`? Pilih beberapa kode program yang mungkin!\n",
    " - [ ] `print(len(inventory.columns))`\n",
    " - [ ] `print(inventory.shape[1])`\n",
    " - [ ] `print(len(rice.axes[1]))`"
   ]
  },
  {
   "cell_type": "code",
   "execution_count": null,
   "metadata": {},
   "outputs": [],
   "source": [
    "inventory = pd.DataFrame({\n",
    "    'units_instock': [50, 40, 30],\n",
    "    'discount_price': [15, 5, 7],\n",
    "    'item_name': ['bawang', 'garam', 'gula'],\n",
    "    'unit_sold': ['123', '456', '789']\n",
    "})\n",
    "inventory.dtypes"
   ]
  },
  {
   "cell_type": "code",
   "execution_count": null,
   "metadata": {},
   "outputs": [],
   "source": [
    "##code here\n",
    "\n"
   ]
  },
  {
   "cell_type": "code",
   "execution_count": null,
   "metadata": {},
   "outputs": [],
   "source": [
    "##code here\n",
    "\n"
   ]
  },
  {
   "cell_type": "markdown",
   "metadata": {},
   "source": [
    "---\n",
    "## Indexing and Subsetting with Pandas\n",
    "\n",
    "Indexing digunakan untuk memilih dan mengambil sebagian data yang hanya diperlukan dalam proses analisa data yang sedang dikerjakan. Contohnya:\n",
    "- Compare sales pada tahun 2018 vs 2019\n",
    "- Identifikasi peluang penjualan pada segment pasar (ex : Wholesale vs Retail)\n",
    "- Melihat quarter terbaik untuk setiap tahun yang dapat digunakan untuk tujuan promosi\n",
    "- dan sebagainya\n",
    "\n",
    "Untuk melakukan indexing dan subsetting (slicing data) pada `pandas`, kita dapat menggunakan cara sebagai berikut:\n",
    "- `head()` and `tail()`  \n",
    "- `select_dtypes()`  \n",
    "- Using `.drop()` \n",
    "- The `[]` operator\n",
    "- `.loc`  \n",
    "- `.iloc`\n",
    "- Conditional subsetting\n",
    "\n",
    "### `select_dtypes()`\n",
    "\n",
    "Method `select_dtypes()` digunakan untuk memilih kolom sesuai dengan tipe datanya. Ada 2 parameter yang dapat digunakan di dalam method `select_dtypes()` yaitu parameter `include` dan `exclude` (seperti pada `describe()`.\n",
    "\n",
    "Misal:\n",
    "- parameter `include = 'category'` artinya kita memilih semua kolom dengan tipe data 'category'\n",
    "- sebaliknya, ketika menggunakan parameter `exclude = 'category'` maka kolom-kolom dengan tipe data selain 'category' akan ditampilkan.\n"
   ]
  },
  {
   "cell_type": "code",
   "execution_count": null,
   "metadata": {},
   "outputs": [],
   "source": [
    "#your code here\n",
    "\n"
   ]
  },
  {
   "cell_type": "markdown",
   "metadata": {},
   "source": [
    "### `drop()`\n",
    "\n",
    "Method `drop()` digunakan untuk membuang baris atau kolom yang tidak ingin digunakan untuk tujuan analisis. Secara default method ini akan menghapus baris"
   ]
  },
  {
   "cell_type": "code",
   "execution_count": null,
   "metadata": {},
   "outputs": [],
   "source": [
    "#your code here\n",
    "\n"
   ]
  },
  {
   "cell_type": "markdown",
   "metadata": {},
   "source": [
    "**NOTE:** Method `drop()` tidak mengubah objek dataframenya. Apabila ingin mengubah objek semulanya:\n",
    "- Melakukan assignment kembali dengan nama objek yang sama: `rice = rice.drop(...)`, atau\n",
    "- Menambahkan parameter inplace: `rice.drop(..., inplace=True)` "
   ]
  },
  {
   "cell_type": "code",
   "execution_count": null,
   "metadata": {},
   "outputs": [],
   "source": [
    "#your code here\n",
    "\n"
   ]
  },
  {
   "cell_type": "markdown",
   "metadata": {},
   "source": [
    "### Slicing: **`[]` operator**\n",
    "\n",
    "Digunakan untuk melakukan subsetting dengan cara mengiris (slicing) index pada dataframe. Formula penulisannya adalah `rice[start:end]` dengan mengikuti aturan indexing pada python (dimulai dari 0) dimana `start` inclusive dan `end` exclusive."
   ]
  },
  {
   "cell_type": "code",
   "execution_count": null,
   "metadata": {},
   "outputs": [],
   "source": [
    "#your code here\n",
    "\n"
   ]
  },
  {
   "cell_type": "markdown",
   "metadata": {},
   "source": [
    "🧠 **Knowledge Check: Slicing**\n",
    "\n",
    "Dengan memperhatikan `end` exclusive pada metode indexing, tampilkan baris ke 8 sampai ke 12 pada data rice. Pilih jawaban yang tepat dibawah ini!\n",
    "\n",
    "- [ ] `rice[7:12]`\n",
    "- [ ] `rice[8:12]`\n",
    "- [ ] `rice[7:13]`\n",
    "- [ ] `rice[8:13]`"
   ]
  },
  {
   "cell_type": "markdown",
   "metadata": {},
   "source": [
    "#### Special Challenge\n",
    "\n",
    "1. Lakukan indexing/subsetting untuk mendapatkan 5 data terakhir (kecuali dengan .tail())"
   ]
  },
  {
   "cell_type": "code",
   "execution_count": null,
   "metadata": {},
   "outputs": [],
   "source": [
    "# code here\n"
   ]
  },
  {
   "cell_type": "markdown",
   "metadata": {},
   "source": [
    "### `.loc` dan `.iloc`\n",
    "\n",
    "Dengan menggunakan `.loc` dan `iloc` kita dapat melakukan pengirisan pada index **baris dan kolom**. \n",
    "\n",
    "Perbedaan yang mendasar dari kedua operator ini adalah:\n",
    "- `.iloc` merujuk pada lokasi **index** baris atau kolomnya sehingga harus **integer**, sedangkan\n",
    "- `.loc` merujuk pada lokasi **nama** baris atau kolomnya\n",
    "\n",
    "#### .iloc\n",
    "\n",
    "> Syntax: `df.iloc[baris, kolom]` \n",
    "\n",
    "Contoh: Kita ingin memilih baris pertama sampai kelima pada dataframe `rice`"
   ]
  },
  {
   "cell_type": "code",
   "execution_count": null,
   "metadata": {},
   "outputs": [],
   "source": [
    "#your code here\n",
    "\n"
   ]
  },
  {
   "cell_type": "markdown",
   "metadata": {},
   "source": [
    "#### Extra Challenge\n",
    "Lakukan subsetting untuk menampilkan **2 baris terbawah** dan **4 kolom pertama**.\n",
    "\n",
    "Gunakan beberapa metode subsetting dibawah ini :\n",
    "1. Menggunakan `.iloc[ , ]`\n",
    "2. Menggunakan method `tail(2)` untuk mendapatkan 2 baris terbawah, kemudian lakukan chaining dengan `.iloc`\n",
    "3. Gunakan `.iloc` kemudian tambahkan `(rice.shape[0]-2):` didalamnya, untuk mendapatkan 2 baris terakhir."
   ]
  },
  {
   "cell_type": "code",
   "execution_count": null,
   "metadata": {},
   "outputs": [],
   "source": [
    "#your code here\n",
    "\n"
   ]
  },
  {
   "cell_type": "markdown",
   "metadata": {},
   "source": [
    "#### .loc\n",
    "\n",
    "> Syntax: `df.loc[baris, kolom]` \n",
    "\n",
    "Menggunakan `.loc`, kita bisa mengambil baris dan kolom berdasarkan namanya. Contoh kita ingin mengambil baris dengan `receipt_id` 9643416 dan 9706953, serta mengambil semua kolom. Gunakan DataFrame `rice_index`!"
   ]
  },
  {
   "cell_type": "code",
   "execution_count": null,
   "metadata": {},
   "outputs": [],
   "source": [
    "#your code here\n",
    "rice_index = pd.read_csv(\"data_input/rice.csv\", index_col='receipt_id').drop(columns='Unnamed: 0')\n"
   ]
  },
  {
   "cell_type": "code",
   "execution_count": null,
   "metadata": {},
   "outputs": [],
   "source": [
    "#your code here\n",
    "\n"
   ]
  },
  {
   "cell_type": "markdown",
   "metadata": {},
   "source": [
    "#### Dive Deeper:\n",
    "Baca data `companies.csv`dan gunakan `index_col=1`, kemudian tampilkan beberapa baris menggunakan method `head()` atau `tail()`\n",
    "\n",
    "Dengan menggunakan metode indexing, jawab pertanyaan dibawah ini!\n",
    "\n",
    "1. Tampilkan lokasi kantor *Li and Partners*?\n",
    "2. Tampilkan nilai `Returns` yang dihasilkan oleh PT. Algoritma Data Indonesia?\n",
    "3. Tampilkan nilai `Forecasted Growth` untuk Palembang Konsultasi?"
   ]
  },
  {
   "cell_type": "code",
   "execution_count": null,
   "metadata": {},
   "outputs": [],
   "source": [
    "clients = pd.read_csv(\"data_input/companies.csv\", index_col=1)\n",
    "clients.head()"
   ]
  },
  {
   "cell_type": "code",
   "execution_count": null,
   "metadata": {},
   "outputs": [],
   "source": [
    "#your code here\n",
    "\n"
   ]
  },
  {
   "cell_type": "code",
   "execution_count": null,
   "metadata": {},
   "outputs": [],
   "source": [
    "#your code here\n",
    "\n"
   ]
  },
  {
   "cell_type": "code",
   "execution_count": null,
   "metadata": {},
   "outputs": [],
   "source": [
    "#your code here\n",
    "\n"
   ]
  },
  {
   "cell_type": "markdown",
   "metadata": {},
   "source": [
    "### Conditional Subsetting\n",
    "\n",
    "Selain menggunakan `.loc` dan `.iloc`, kita dapat melakukan subsetting berdasarkan kondisi tertentu. Misal pada dataframe `rice`, kita ingin mengambil beberapa data dengan kondisi sebagai berikut:\n",
    "\n",
    "- Transaksi yang terjadi di supermarket: `.format == 'supermarket'`\n",
    "- Transaksi dengan produk yang harganya lebih dari sama dengan 200000: `.unit_price >= 200000`\n",
    "- Transaksi dimana kuantitas tidak sama dengan 0: `.quantity != 0`\n",
    "\n",
    "Syntax penulisan untuk conditional subsetting adalah:\n",
    "\n",
    "**`df[df['column_name'] <comparison_operator> <value>]`**\n",
    "\n",
    "atau\n",
    "\n",
    "**`df[df.column_name <comparison_operator> <value>]`**\n",
    "\n",
    "Contoh comparison_operator adalah seperti `==`, `!=`, `>`, `>=`, `<`, `<=`."
   ]
  },
  {
   "cell_type": "markdown",
   "metadata": {},
   "source": [
    "**Contoh 1** : Menampilkan data yang memiliki format Supermarket!"
   ]
  },
  {
   "cell_type": "code",
   "execution_count": null,
   "metadata": {},
   "outputs": [],
   "source": [
    "#your code here\n",
    "\n"
   ]
  },
  {
   "cell_type": "markdown",
   "metadata": {},
   "source": [
    "**Contoh 2** : Menampilkan data yang memiliki `unit_price` lebih besar sama dengan 200.000"
   ]
  },
  {
   "cell_type": "code",
   "execution_count": null,
   "metadata": {},
   "outputs": [],
   "source": [
    "#your code here\n",
    "\n"
   ]
  },
  {
   "cell_type": "markdown",
   "metadata": {},
   "source": [
    "❓ **Exercise** <br>\n",
    "1. Tampilkan transaksi yang harganya (`unit_price`) kurang dari 100.000\n",
    "2. Tampilkan transaksi selain di supermarket (kolom `format`)!"
   ]
  },
  {
   "cell_type": "code",
   "execution_count": null,
   "metadata": {},
   "outputs": [],
   "source": [
    "#your code here\n",
    "\n"
   ]
  },
  {
   "cell_type": "markdown",
   "metadata": {},
   "source": [
    "#### Multiple Condition\n",
    "\n",
    "Kita juga dapat menggunakan operator `&` (AND) dan `|` (OR) untuk melakukan subsetting lebih dari 1 kondisi. Misalnya kita ingin melihat data penjualan dari seorang pegawai bernama Moana yang jumlahnya lebih dari 5000, maka kita dapat menggunakan syntax:\n",
    "```\n",
    "sales[(sales.salesperson == 'Moana') & (sales.amount > 5000)]\n",
    "```\n",
    "\n",
    "Untuk subsetting dengan kondisi lebih dari 1, setiap kondisi diletakkan **di dalam tanda kurung `()`** atau bisa ditulis dengan syntax berikut:\n",
    "\n",
    "```\n",
    "df[(kondisi pertama) operator (kondisi kedua) operator (kondisi ketiga) dan seterusnya...]\n",
    "```\n",
    "\n",
    "**Poin:**\n",
    "- Operator AND: harus semua kondisi terpenuhi dalam satu baris agar muncul\n",
    "- Operator OR: salah satu kondisi saja sudah terpenuhi maka baris tsb muncul\n",
    "___\n",
    "- cond1 = kondisi 1\n",
    "- cond2 = kondisi 2\n",
    "```\n",
    "rice[(cond1)&(cond2)]\n",
    "rice[(cond1)|(cond2)]\n",
    "```"
   ]
  },
  {
   "cell_type": "markdown",
   "metadata": {},
   "source": [
    "**Contoh 3**: Mengambil semua transaksi di `supermarket` yang `unit_price`nya di atas 200,000"
   ]
  },
  {
   "cell_type": "code",
   "execution_count": null,
   "metadata": {},
   "outputs": [],
   "source": [
    "#your code here\n",
    "\n"
   ]
  },
  {
   "cell_type": "markdown",
   "metadata": {},
   "source": [
    "#### Dive Deeper\n",
    "\n",
    "Dengan menggunakan metode conditional subsetting, jawab pertanyaan dibawah ini:\n",
    "\n",
    "1. Apabila Anda masih ingat, pada `.describe()` kita menemui bahwa terdapat transaksi janggal dengan **`discount` yang bernilai negatif**. Ada berapa transaksi yang janggal tersebut?\n",
    "2. Perusahaan mendefinisikan pembelian grosir sebagai transaksi dengan `quantity` **minimal 12 units (1 Lusin)**. Berapa transaksi pada **hypermarket** yang dikatakan sebagai pembelian grosir?\n",
    "\n",
    "*Hint: Gunakan `.shape` untuk mengetahui jumlah baris/kolom*"
   ]
  },
  {
   "cell_type": "code",
   "execution_count": null,
   "metadata": {},
   "outputs": [],
   "source": [
    "#your code here\n",
    "\n"
   ]
  },
  {
   "cell_type": "markdown",
   "metadata": {},
   "source": [
    "**Bonus Challenge**\n",
    "\n",
    "Berapa banyak transaksi pada dataframe `rice` yang terjadi pada bulan Juli tahun 2018 baik di `minimarket` maupun `supermarket`?"
   ]
  },
  {
   "cell_type": "code",
   "execution_count": null,
   "metadata": {},
   "outputs": [],
   "source": [
    "#your code here\n",
    "\n"
   ]
  },
  {
   "cell_type": "markdown",
   "metadata": {},
   "source": [
    "# Referencing and Copying\n",
    "\n",
    "Pada python, tanda sama dengan (`=`) bisa digunakan untuk me-**refer** sebuah Dataframe. Sekarang mari kita lihat dataframe `rice_data` berikut:\n",
    "\n",
    "## Reference\n",
    "\n",
    "Membuat dataframe baru dengan nama `rice_second` yang menyimpan semua transaksi seperti `rice_data`. Kemudian misalnya kita ingin update kolom `discount` agar menjadi 15 pada semua barisnya."
   ]
  },
  {
   "cell_type": "code",
   "execution_count": null,
   "metadata": {},
   "outputs": [],
   "source": [
    "rice_data = pd.read_csv(\"data_input/rice.csv\", index_col=1)\n",
    "rice_data = rice_data.drop('Unnamed: 0', axis=1)\n",
    "rice_data.head(3)"
   ]
  },
  {
   "cell_type": "code",
   "execution_count": null,
   "metadata": {},
   "outputs": [],
   "source": [
    "#your code here\n",
    "\n"
   ]
  },
  {
   "cell_type": "markdown",
   "metadata": {},
   "source": [
    "## Copying\n",
    "\n",
    "Membuat dataframe baru dengan nama `rice_third` yang menyimpan semua transaksi seperti `rice_data`. Kemudian misalnya kita ingin update kolom `discount` agar menjadi 15 pada semua barisnya."
   ]
  },
  {
   "cell_type": "code",
   "execution_count": null,
   "metadata": {},
   "outputs": [],
   "source": [
    "#your code here\n",
    "\n"
   ]
  }
 ],
 "metadata": {
  "kernelspec": {
   "display_name": "theia_da",
   "language": "python",
   "name": "theia_da"
  },
  "language_info": {
   "codemirror_mode": {
    "name": "ipython",
    "version": 3
   },
   "file_extension": ".py",
   "mimetype": "text/x-python",
   "name": "python",
   "nbconvert_exporter": "python",
   "pygments_lexer": "ipython3",
   "version": "3.9.13"
  },
  "toc": {
   "base_numbering": 1,
   "nav_menu": {},
   "number_sections": true,
   "sideBar": true,
   "skip_h1_title": false,
   "title_cell": "Table of Contents",
   "title_sidebar": "Contents",
   "toc_cell": false,
   "toc_position": {},
   "toc_section_display": true,
   "toc_window_display": true
  }
 },
 "nbformat": 4,
 "nbformat_minor": 4
}
