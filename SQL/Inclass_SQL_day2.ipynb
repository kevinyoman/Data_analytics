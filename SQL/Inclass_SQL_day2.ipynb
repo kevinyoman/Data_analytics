{
 "cells": [
  {
   "cell_type": "markdown",
   "metadata": {},
   "source": [
    "**Inclass material for Week 4: SQL Query using `pandas`**\n",
    "\n",
    "This notebook was made based on main materials `4_SQL_Query.ipynb`\n",
    "\n",
    "Version: Theia - September 2022"
   ]
  },
  {
   "cell_type": "markdown",
   "metadata": {},
   "source": [
    "---\n",
    "**START OF DAY 1**"
   ]
  },
  {
   "cell_type": "markdown",
   "metadata": {},
   "source": [
    "# SQL Query using `pandas`\n",
    "\n",
    "**Training Objectives**\n",
    "\n",
    "- Querying from SQL Databases\n",
    "- SQL Joins\n",
    "- SQL Conditional Statements\n",
    "- Flavors and Common Operators\n",
    "- End to end data analysis"
   ]
  },
  {
   "cell_type": "markdown",
   "metadata": {},
   "source": [
    "# Working with SQL Databases"
   ]
  },
  {
   "cell_type": "markdown",
   "metadata": {},
   "source": [
    "## Database Schema\n",
    "\n",
    "Database `chinook.db` terdiri dari 11 tabel yang berisi sampel data dari sebuah toko yang menjual media digital:\n",
    "\n",
    "- Data terkait media seperti pada tabel `tracks`, `albums`, `artists`, `genres`, `media_types`, `playlists`, `playlist_track` merupakan data asli dari library Apple iTunes.\n",
    "- Informasi mengenai `customers` dan `employees` dibuat menggunakan nama dan alamat fiktif yang dapat ditemukan di Google maps, dan data lain yang diformat dengan baik (telepon, fax, email, dll).\n",
    "- Informasi penjualan `invoices` dan `invoice_items` dihasilkan secara otomatis menggunakan data acak untuk periode tahun 2009-2013.\n",
    "\n",
    "Skema berikut sering disebut sebagai **Entity Relationship Diagram (ERD)**, menunjukkan:\n",
    "1. Entitas (Tabel)\n",
    "2. Atribut (Kolom beserta tipe datanya)\n",
    "3. Kardinalitas (Hubungan antar tabel)"
   ]
  },
  {
   "cell_type": "markdown",
   "metadata": {},
   "source": [
    "![](assets/chinookschema2.png)"
   ]
  },
  {
   "cell_type": "markdown",
   "metadata": {},
   "source": [
    "Gambar di atas adalah ERD untuk database chinook:\n",
    "\n",
    "- Satu database terdiri dari beberapa tabel\n",
    "- Setiap tabel terdiri dari beberapa atribut/kolom\n",
    "- Terdapat kolom unik yang membedakan satu tabel dengan lainnya, disebut sebagai **Primary Key (PK)**. PK dapat digunakan sebagai kolom penghubung antar tabel saat dilakukan proses join (penggabungan) tabel."
   ]
  },
  {
   "cell_type": "markdown",
   "metadata": {},
   "source": [
    "## Database Connection\n",
    "\n",
    "Sedikit berbeda dengan `pandas` yang semua operasinya dilakukan di komputer lokal Anda. Ketika Anda bekerja dengan SQL, kemungkinan besar Anda memiliki database relasional yang disimpan **terpusat** pada server dan dapat **diakses oleh beberapa client**. Berikut adalah ilustrasinya:\n",
    "\n",
    "![](assets/clientserver.png)"
   ]
  },
  {
   "cell_type": "markdown",
   "metadata": {},
   "source": [
    "Untuk menghubungkan client machine dengan server, kita perlu membuat sebuah connection melalui sebuah DBAPI. Pada Python, DBAPI ekuivalen dengan sebuah package yang memungkinkan seorang data analyst dapat membuat objek **database connection**, salah satunya adalah `sqlite3`. Berikut adalah ilustrasi dari DBAPI:\n",
    "\n",
    "![](assets/dbapi.png)"
   ]
  },
  {
   "cell_type": "markdown",
   "metadata": {},
   "source": [
    "**[OPSIONAL]** Berikut adalah contoh package lain pada Python untuk mengkoneksikan dengan database:\n",
    "\n",
    "<br>\n",
    "\n",
    "<details>\n",
    "    <summary>✨ Connecting to MySQL</summary>\n",
    "    \n",
    "```python\n",
    "import pymysql\n",
    "  \n",
    "conn = pymysql.connect(\n",
    "    host = HOST_NAME,\n",
    "    port = PORT_NUMBER,\n",
    "    user = USER_NAME,\n",
    "    password = PASSWORD,\n",
    "    db = DATABASE_NAME)\n",
    "```\n",
    "</details>\n",
    "\n",
    "<br>\n",
    "\n",
    "<details>\n",
    "    <summary>✨ Connecting to Oracle</summary>\n",
    "    \n",
    "```python\n",
    "import cx_Oracle\n",
    "  \n",
    "# data source name from tnsnames.ora file\n",
    "dsn_tns = cx_Oracle.makedsn(\n",
    "    HOST_NAME,\n",
    "    PORT_NUMBER\n",
    "    service_name = SERVICE_NAME)\n",
    "\n",
    "# connection\n",
    "conn = cx_Oracle.connect(\n",
    "    user = USER_NAME,\n",
    "    password = PASSWORD,\n",
    "    dsn = dsn_tns)\n",
    "```\n",
    "</details>\n",
    "\n",
    "<br>\n",
    "\n",
    "<details>\n",
    "    <summary>✨ Connecting to PostgreSQL</summary>\n",
    "    \n",
    "```python\n",
    "import psycopg2\n",
    "\n",
    "conn = psycopg2.connect(\n",
    "    host = HOST_NAME,\n",
    "    port = PORT_NUMBER,\n",
    "    user = USER_NAME,\n",
    "    password = PASSWORD,\n",
    "    database = DATABASE_NAME)\n",
    "```\n",
    "</details>\n",
    "\n",
    "<br>\n",
    "\n",
    "<details>\n",
    "    <summary>✨ Connecting to Microsoft SQL Server</summary>\n",
    "    \n",
    "```python\n",
    "import pyodbc \n",
    "conn = pyodbc.connect(\n",
    "    'Driver={ODBC Driver 17 for SQL Server};'\n",
    "    'Server=host;'\n",
    "    'PORT=1433;'\n",
    "    'UID=user;'\n",
    "    'PWD=password;'\n",
    "    'Database=database;')\n",
    "```\n",
    "</details>"
   ]
  },
  {
   "cell_type": "markdown",
   "metadata": {},
   "source": [
    "Referensi connect DB dengan MySQL ke Python: https://youtu.be/h_gQ470uArc"
   ]
  },
  {
   "cell_type": "markdown",
   "metadata": {},
   "source": [
    "Sebagai tahap awal, mari kita coba bagaimana mengkoneksikan Jupyter Notebook dengan database SQLite (menggunakan package `sqlite3`) yang disebut sebagai **connection**:"
   ]
  },
  {
   "cell_type": "code",
   "execution_count": 2,
   "metadata": {
    "scrolled": true
   },
   "outputs": [],
   "source": [
    "import sqlite3 # default package: Database API (DBAPI) / package\n",
    "import pandas as pd"
   ]
  },
  {
   "cell_type": "code",
   "execution_count": 3,
   "metadata": {},
   "outputs": [
    {
     "data": {
      "text/plain": [
       "<sqlite3.Connection at 0x1cdc6c8b030>"
      ]
     },
     "execution_count": 3,
     "metadata": {},
     "output_type": "execute_result"
    }
   ],
   "source": [
    "# membuat objek connection\n",
    "conn = sqlite3.connect(\"data_input/chinook.db\")\n",
    "conn"
   ]
  },
  {
   "cell_type": "markdown",
   "metadata": {},
   "source": [
    "## `SELECT` Statements\n",
    "\n",
    "`SELECT` digunakan untuk memilih **kolom** dari sebuah **tabel**.\n",
    "\n",
    "Syntax `SELECT`:\n",
    "\n",
    "```sql\n",
    "SELECT <NAMA_KOLOM>\n",
    "FROM <NAMA_TABLE>\n",
    "```\n",
    "\n",
    "Melalui `pandas` kita dapat menggunakan method method `pd.read_sql_query(sql, con)`. Parameter:\n",
    "\n",
    "- `sql`: SQL query dalam bentuk string\n",
    "- `con`: object connection\n",
    "\n",
    "Misal kita hanya ingin mengambil kolom `AlbumId` dan `Title` dari tabel `albums`:"
   ]
  },
  {
   "cell_type": "code",
   "execution_count": 7,
   "metadata": {},
   "outputs": [
    {
     "data": {
      "text/html": [
       "<div>\n",
       "<style scoped>\n",
       "    .dataframe tbody tr th:only-of-type {\n",
       "        vertical-align: middle;\n",
       "    }\n",
       "\n",
       "    .dataframe tbody tr th {\n",
       "        vertical-align: top;\n",
       "    }\n",
       "\n",
       "    .dataframe thead th {\n",
       "        text-align: right;\n",
       "    }\n",
       "</style>\n",
       "<table border=\"1\" class=\"dataframe\">\n",
       "  <thead>\n",
       "    <tr style=\"text-align: right;\">\n",
       "      <th></th>\n",
       "      <th>AlbumId</th>\n",
       "    </tr>\n",
       "  </thead>\n",
       "  <tbody>\n",
       "    <tr>\n",
       "      <th>count</th>\n",
       "      <td>347.000000</td>\n",
       "    </tr>\n",
       "    <tr>\n",
       "      <th>mean</th>\n",
       "      <td>174.000000</td>\n",
       "    </tr>\n",
       "    <tr>\n",
       "      <th>std</th>\n",
       "      <td>100.314505</td>\n",
       "    </tr>\n",
       "    <tr>\n",
       "      <th>min</th>\n",
       "      <td>1.000000</td>\n",
       "    </tr>\n",
       "    <tr>\n",
       "      <th>25%</th>\n",
       "      <td>87.500000</td>\n",
       "    </tr>\n",
       "    <tr>\n",
       "      <th>50%</th>\n",
       "      <td>174.000000</td>\n",
       "    </tr>\n",
       "    <tr>\n",
       "      <th>75%</th>\n",
       "      <td>260.500000</td>\n",
       "    </tr>\n",
       "    <tr>\n",
       "      <th>max</th>\n",
       "      <td>347.000000</td>\n",
       "    </tr>\n",
       "  </tbody>\n",
       "</table>\n",
       "</div>"
      ],
      "text/plain": [
       "          AlbumId\n",
       "count  347.000000\n",
       "mean   174.000000\n",
       "std    100.314505\n",
       "min      1.000000\n",
       "25%     87.500000\n",
       "50%    174.000000\n",
       "75%    260.500000\n",
       "max    347.000000"
      ]
     },
     "execution_count": 7,
     "metadata": {},
     "output_type": "execute_result"
    }
   ],
   "source": [
    "tes=pd.read_sql_query(sql = 'SELECT AlbumId, Title FROM albums', con = conn)\n"
   ]
  },
  {
   "cell_type": "markdown",
   "metadata": {},
   "source": [
    "Gunakan command `SELECT *` untuk mengambil **semua kolom** dari tabel `albums`:"
   ]
  },
  {
   "cell_type": "code",
   "execution_count": 4,
   "metadata": {
    "scrolled": true
   },
   "outputs": [
    {
     "data": {
      "text/html": [
       "<div>\n",
       "<style scoped>\n",
       "    .dataframe tbody tr th:only-of-type {\n",
       "        vertical-align: middle;\n",
       "    }\n",
       "\n",
       "    .dataframe tbody tr th {\n",
       "        vertical-align: top;\n",
       "    }\n",
       "\n",
       "    .dataframe thead th {\n",
       "        text-align: right;\n",
       "    }\n",
       "</style>\n",
       "<table border=\"1\" class=\"dataframe\">\n",
       "  <thead>\n",
       "    <tr style=\"text-align: right;\">\n",
       "      <th></th>\n",
       "      <th>AlbumId</th>\n",
       "      <th>Title</th>\n",
       "      <th>ArtistId</th>\n",
       "    </tr>\n",
       "  </thead>\n",
       "  <tbody>\n",
       "    <tr>\n",
       "      <th>0</th>\n",
       "      <td>1</td>\n",
       "      <td>For Those About To Rock We Salute You</td>\n",
       "      <td>1</td>\n",
       "    </tr>\n",
       "    <tr>\n",
       "      <th>1</th>\n",
       "      <td>2</td>\n",
       "      <td>Balls to the Wall</td>\n",
       "      <td>2</td>\n",
       "    </tr>\n",
       "    <tr>\n",
       "      <th>2</th>\n",
       "      <td>3</td>\n",
       "      <td>Restless and Wild</td>\n",
       "      <td>2</td>\n",
       "    </tr>\n",
       "    <tr>\n",
       "      <th>3</th>\n",
       "      <td>4</td>\n",
       "      <td>Let There Be Rock</td>\n",
       "      <td>1</td>\n",
       "    </tr>\n",
       "    <tr>\n",
       "      <th>4</th>\n",
       "      <td>5</td>\n",
       "      <td>Big Ones</td>\n",
       "      <td>3</td>\n",
       "    </tr>\n",
       "    <tr>\n",
       "      <th>...</th>\n",
       "      <td>...</td>\n",
       "      <td>...</td>\n",
       "      <td>...</td>\n",
       "    </tr>\n",
       "    <tr>\n",
       "      <th>342</th>\n",
       "      <td>343</td>\n",
       "      <td>Respighi:Pines of Rome</td>\n",
       "      <td>226</td>\n",
       "    </tr>\n",
       "    <tr>\n",
       "      <th>343</th>\n",
       "      <td>344</td>\n",
       "      <td>Schubert: The Late String Quartets &amp; String Qu...</td>\n",
       "      <td>272</td>\n",
       "    </tr>\n",
       "    <tr>\n",
       "      <th>344</th>\n",
       "      <td>345</td>\n",
       "      <td>Monteverdi: L'Orfeo</td>\n",
       "      <td>273</td>\n",
       "    </tr>\n",
       "    <tr>\n",
       "      <th>345</th>\n",
       "      <td>346</td>\n",
       "      <td>Mozart: Chamber Music</td>\n",
       "      <td>274</td>\n",
       "    </tr>\n",
       "    <tr>\n",
       "      <th>346</th>\n",
       "      <td>347</td>\n",
       "      <td>Koyaanisqatsi (Soundtrack from the Motion Pict...</td>\n",
       "      <td>275</td>\n",
       "    </tr>\n",
       "  </tbody>\n",
       "</table>\n",
       "<p>347 rows × 3 columns</p>\n",
       "</div>"
      ],
      "text/plain": [
       "     AlbumId                                              Title  ArtistId\n",
       "0          1              For Those About To Rock We Salute You         1\n",
       "1          2                                  Balls to the Wall         2\n",
       "2          3                                  Restless and Wild         2\n",
       "3          4                                  Let There Be Rock         1\n",
       "4          5                                           Big Ones         3\n",
       "..       ...                                                ...       ...\n",
       "342      343                             Respighi:Pines of Rome       226\n",
       "343      344  Schubert: The Late String Quartets & String Qu...       272\n",
       "344      345                                Monteverdi: L'Orfeo       273\n",
       "345      346                              Mozart: Chamber Music       274\n",
       "346      347  Koyaanisqatsi (Soundtrack from the Motion Pict...       275\n",
       "\n",
       "[347 rows x 3 columns]"
      ]
     },
     "execution_count": 4,
     "metadata": {},
     "output_type": "execute_result"
    }
   ],
   "source": [
    "pd.read_sql_query(sql = 'SELECT * FROM albums', con = conn)"
   ]
  },
  {
   "cell_type": "markdown",
   "metadata": {},
   "source": [
    "💡 **Note**: Berbeda dari Python, perintah yang ada di SQL bersifat case **insensitive**. Query di atas dapat juga dituliskan sebagai `select * from albums`. Namun, demi kemudahan pembacaan, statement biasa dituliskan dengan huruf besar (dalam hal ini `SELECT` dan `FROM`)."
   ]
  },
  {
   "cell_type": "code",
   "execution_count": 5,
   "metadata": {},
   "outputs": [
    {
     "data": {
      "text/html": [
       "<div>\n",
       "<style scoped>\n",
       "    .dataframe tbody tr th:only-of-type {\n",
       "        vertical-align: middle;\n",
       "    }\n",
       "\n",
       "    .dataframe tbody tr th {\n",
       "        vertical-align: top;\n",
       "    }\n",
       "\n",
       "    .dataframe thead th {\n",
       "        text-align: right;\n",
       "    }\n",
       "</style>\n",
       "<table border=\"1\" class=\"dataframe\">\n",
       "  <thead>\n",
       "    <tr style=\"text-align: right;\">\n",
       "      <th></th>\n",
       "      <th>AlbumId</th>\n",
       "      <th>Title</th>\n",
       "      <th>ArtistId</th>\n",
       "    </tr>\n",
       "  </thead>\n",
       "  <tbody>\n",
       "    <tr>\n",
       "      <th>0</th>\n",
       "      <td>1</td>\n",
       "      <td>For Those About To Rock We Salute You</td>\n",
       "      <td>1</td>\n",
       "    </tr>\n",
       "    <tr>\n",
       "      <th>1</th>\n",
       "      <td>2</td>\n",
       "      <td>Balls to the Wall</td>\n",
       "      <td>2</td>\n",
       "    </tr>\n",
       "    <tr>\n",
       "      <th>2</th>\n",
       "      <td>3</td>\n",
       "      <td>Restless and Wild</td>\n",
       "      <td>2</td>\n",
       "    </tr>\n",
       "    <tr>\n",
       "      <th>3</th>\n",
       "      <td>4</td>\n",
       "      <td>Let There Be Rock</td>\n",
       "      <td>1</td>\n",
       "    </tr>\n",
       "    <tr>\n",
       "      <th>4</th>\n",
       "      <td>5</td>\n",
       "      <td>Big Ones</td>\n",
       "      <td>3</td>\n",
       "    </tr>\n",
       "    <tr>\n",
       "      <th>...</th>\n",
       "      <td>...</td>\n",
       "      <td>...</td>\n",
       "      <td>...</td>\n",
       "    </tr>\n",
       "    <tr>\n",
       "      <th>342</th>\n",
       "      <td>343</td>\n",
       "      <td>Respighi:Pines of Rome</td>\n",
       "      <td>226</td>\n",
       "    </tr>\n",
       "    <tr>\n",
       "      <th>343</th>\n",
       "      <td>344</td>\n",
       "      <td>Schubert: The Late String Quartets &amp; String Qu...</td>\n",
       "      <td>272</td>\n",
       "    </tr>\n",
       "    <tr>\n",
       "      <th>344</th>\n",
       "      <td>345</td>\n",
       "      <td>Monteverdi: L'Orfeo</td>\n",
       "      <td>273</td>\n",
       "    </tr>\n",
       "    <tr>\n",
       "      <th>345</th>\n",
       "      <td>346</td>\n",
       "      <td>Mozart: Chamber Music</td>\n",
       "      <td>274</td>\n",
       "    </tr>\n",
       "    <tr>\n",
       "      <th>346</th>\n",
       "      <td>347</td>\n",
       "      <td>Koyaanisqatsi (Soundtrack from the Motion Pict...</td>\n",
       "      <td>275</td>\n",
       "    </tr>\n",
       "  </tbody>\n",
       "</table>\n",
       "<p>347 rows × 3 columns</p>\n",
       "</div>"
      ],
      "text/plain": [
       "     AlbumId                                              Title  ArtistId\n",
       "0          1              For Those About To Rock We Salute You         1\n",
       "1          2                                  Balls to the Wall         2\n",
       "2          3                                  Restless and Wild         2\n",
       "3          4                                  Let There Be Rock         1\n",
       "4          5                                           Big Ones         3\n",
       "..       ...                                                ...       ...\n",
       "342      343                             Respighi:Pines of Rome       226\n",
       "343      344  Schubert: The Late String Quartets & String Qu...       272\n",
       "344      345                                Monteverdi: L'Orfeo       273\n",
       "345      346                              Mozart: Chamber Music       274\n",
       "346      347  Koyaanisqatsi (Soundtrack from the Motion Pict...       275\n",
       "\n",
       "[347 rows x 3 columns]"
      ]
     },
     "execution_count": 5,
     "metadata": {},
     "output_type": "execute_result"
    }
   ],
   "source": [
    "pd.read_sql_query(sql = 'select * from albums', con = conn)"
   ]
  },
  {
   "cell_type": "code",
   "execution_count": 6,
   "metadata": {},
   "outputs": [
    {
     "data": {
      "text/html": [
       "<div>\n",
       "<style scoped>\n",
       "    .dataframe tbody tr th:only-of-type {\n",
       "        vertical-align: middle;\n",
       "    }\n",
       "\n",
       "    .dataframe tbody tr th {\n",
       "        vertical-align: top;\n",
       "    }\n",
       "\n",
       "    .dataframe thead th {\n",
       "        text-align: right;\n",
       "    }\n",
       "</style>\n",
       "<table border=\"1\" class=\"dataframe\">\n",
       "  <thead>\n",
       "    <tr style=\"text-align: right;\">\n",
       "      <th></th>\n",
       "      <th>AlbumId</th>\n",
       "      <th>Title</th>\n",
       "      <th>ArtistId</th>\n",
       "    </tr>\n",
       "  </thead>\n",
       "  <tbody>\n",
       "    <tr>\n",
       "      <th>0</th>\n",
       "      <td>1</td>\n",
       "      <td>For Those About To Rock We Salute You</td>\n",
       "      <td>1</td>\n",
       "    </tr>\n",
       "    <tr>\n",
       "      <th>1</th>\n",
       "      <td>2</td>\n",
       "      <td>Balls to the Wall</td>\n",
       "      <td>2</td>\n",
       "    </tr>\n",
       "    <tr>\n",
       "      <th>2</th>\n",
       "      <td>3</td>\n",
       "      <td>Restless and Wild</td>\n",
       "      <td>2</td>\n",
       "    </tr>\n",
       "    <tr>\n",
       "      <th>3</th>\n",
       "      <td>4</td>\n",
       "      <td>Let There Be Rock</td>\n",
       "      <td>1</td>\n",
       "    </tr>\n",
       "    <tr>\n",
       "      <th>4</th>\n",
       "      <td>5</td>\n",
       "      <td>Big Ones</td>\n",
       "      <td>3</td>\n",
       "    </tr>\n",
       "    <tr>\n",
       "      <th>...</th>\n",
       "      <td>...</td>\n",
       "      <td>...</td>\n",
       "      <td>...</td>\n",
       "    </tr>\n",
       "    <tr>\n",
       "      <th>342</th>\n",
       "      <td>343</td>\n",
       "      <td>Respighi:Pines of Rome</td>\n",
       "      <td>226</td>\n",
       "    </tr>\n",
       "    <tr>\n",
       "      <th>343</th>\n",
       "      <td>344</td>\n",
       "      <td>Schubert: The Late String Quartets &amp; String Qu...</td>\n",
       "      <td>272</td>\n",
       "    </tr>\n",
       "    <tr>\n",
       "      <th>344</th>\n",
       "      <td>345</td>\n",
       "      <td>Monteverdi: L'Orfeo</td>\n",
       "      <td>273</td>\n",
       "    </tr>\n",
       "    <tr>\n",
       "      <th>345</th>\n",
       "      <td>346</td>\n",
       "      <td>Mozart: Chamber Music</td>\n",
       "      <td>274</td>\n",
       "    </tr>\n",
       "    <tr>\n",
       "      <th>346</th>\n",
       "      <td>347</td>\n",
       "      <td>Koyaanisqatsi (Soundtrack from the Motion Pict...</td>\n",
       "      <td>275</td>\n",
       "    </tr>\n",
       "  </tbody>\n",
       "</table>\n",
       "<p>347 rows × 3 columns</p>\n",
       "</div>"
      ],
      "text/plain": [
       "     AlbumId                                              Title  ArtistId\n",
       "0          1              For Those About To Rock We Salute You         1\n",
       "1          2                                  Balls to the Wall         2\n",
       "2          3                                  Restless and Wild         2\n",
       "3          4                                  Let There Be Rock         1\n",
       "4          5                                           Big Ones         3\n",
       "..       ...                                                ...       ...\n",
       "342      343                             Respighi:Pines of Rome       226\n",
       "343      344  Schubert: The Late String Quartets & String Qu...       272\n",
       "344      345                                Monteverdi: L'Orfeo       273\n",
       "345      346                              Mozart: Chamber Music       274\n",
       "346      347  Koyaanisqatsi (Soundtrack from the Motion Pict...       275\n",
       "\n",
       "[347 rows x 3 columns]"
      ]
     },
     "execution_count": 6,
     "metadata": {},
     "output_type": "execute_result"
    }
   ],
   "source": [
    "# SQL bersifat insensitive\n",
    "pd.read_sql_query(sql = 'SeLeCT * FRoM albUms', con = conn)"
   ]
  },
  {
   "cell_type": "markdown",
   "metadata": {},
   "source": [
    "### ❓ Knowledge Check\n",
    "\n",
    "Kali ini, coba ambil semua kolom pada tabel `artists` kemudian simpan ke dalam sebuah object dataframe bernama `artist`.\n",
    "\n",
    "**Pertanyaan:** Berapa baris yang ada pada dataframe `artist`?\n",
    "\n",
    "<br>\n",
    "\n",
    "<details>\n",
    "    <summary><i>👉 Klik di sini untuk hint</i></summary>\n",
    "    \n",
    "```python\n",
    "___ = pd.read_sql_query(\"SELECT ___ FROM ___\", conn)\n",
    "```\n",
    "</details>"
   ]
  },
  {
   "cell_type": "code",
   "execution_count": 7,
   "metadata": {},
   "outputs": [],
   "source": [
    "# your code here\n",
    "artist = pd.read_sql_query(sql = \"SELECT * FROM artists\", con = conn)"
   ]
  },
  {
   "cell_type": "code",
   "execution_count": 8,
   "metadata": {},
   "outputs": [
    {
     "data": {
      "text/plain": [
       "275"
      ]
     },
     "execution_count": 8,
     "metadata": {},
     "output_type": "execute_result"
    }
   ],
   "source": [
    "artist.shape[0]"
   ]
  },
  {
   "cell_type": "code",
   "execution_count": 9,
   "metadata": {},
   "outputs": [
    {
     "data": {
      "text/plain": [
       "pandas.core.frame.DataFrame"
      ]
     },
     "execution_count": 9,
     "metadata": {},
     "output_type": "execute_result"
    }
   ],
   "source": [
    "type(artist)"
   ]
  },
  {
   "cell_type": "markdown",
   "metadata": {},
   "source": [
    "Berikut adalah parameter yang sering digunakan dalam method `pd.read_sql_query()`:\n",
    "\n",
    "- `sql`: SQL query dalam bentuk string\n",
    "- `con`: object connection\n",
    "- `index_col`: nama atau index kolom yang ingin dijadikan index (seperti pada `pd.read_csv()`)\n",
    "- `parse_dates`: nama kolom yang ingin dikonversi menjadi tipe data `datetime64` (seperti pada `pd.read_csv()`)\n",
    "\n",
    "> Kunjungi [official documentation](https://pandas.pydata.org/pandas-docs/stable/reference/api/pandas.read_sql_query.html) untuk detail lebih lanjut."
   ]
  },
  {
   "cell_type": "markdown",
   "metadata": {},
   "source": [
    "### LIMIT\n",
    "\n",
    "Statement `LIMIT` digunakan untuk mengambil beberapa baris pertama pada data.\n",
    "\n",
    "Kita ingin ambil **5 baris pertama** dari tabel `artists` lalu set kolom `ArtistId` menjadi index."
   ]
  },
  {
   "cell_type": "code",
   "execution_count": 10,
   "metadata": {
    "scrolled": false
   },
   "outputs": [
    {
     "data": {
      "text/html": [
       "<div>\n",
       "<style scoped>\n",
       "    .dataframe tbody tr th:only-of-type {\n",
       "        vertical-align: middle;\n",
       "    }\n",
       "\n",
       "    .dataframe tbody tr th {\n",
       "        vertical-align: top;\n",
       "    }\n",
       "\n",
       "    .dataframe thead th {\n",
       "        text-align: right;\n",
       "    }\n",
       "</style>\n",
       "<table border=\"1\" class=\"dataframe\">\n",
       "  <thead>\n",
       "    <tr style=\"text-align: right;\">\n",
       "      <th></th>\n",
       "      <th>Name</th>\n",
       "    </tr>\n",
       "    <tr>\n",
       "      <th>ArtistId</th>\n",
       "      <th></th>\n",
       "    </tr>\n",
       "  </thead>\n",
       "  <tbody>\n",
       "    <tr>\n",
       "      <th>1</th>\n",
       "      <td>AC/DC</td>\n",
       "    </tr>\n",
       "    <tr>\n",
       "      <th>2</th>\n",
       "      <td>Accept</td>\n",
       "    </tr>\n",
       "    <tr>\n",
       "      <th>3</th>\n",
       "      <td>Aerosmith</td>\n",
       "    </tr>\n",
       "    <tr>\n",
       "      <th>4</th>\n",
       "      <td>Alanis Morissette</td>\n",
       "    </tr>\n",
       "    <tr>\n",
       "      <th>5</th>\n",
       "      <td>Alice In Chains</td>\n",
       "    </tr>\n",
       "  </tbody>\n",
       "</table>\n",
       "</div>"
      ],
      "text/plain": [
       "                       Name\n",
       "ArtistId                   \n",
       "1                     AC/DC\n",
       "2                    Accept\n",
       "3                 Aerosmith\n",
       "4         Alanis Morissette\n",
       "5           Alice In Chains"
      ]
     },
     "execution_count": 10,
     "metadata": {},
     "output_type": "execute_result"
    }
   ],
   "source": [
    "pd.read_sql_query(sql = \"SELECT * FROM artists LIMIT 5\", con = conn, index_col = 'ArtistId')"
   ]
  },
  {
   "cell_type": "markdown",
   "metadata": {},
   "source": [
    "## SQL Joins\n",
    "\n",
    "Statement `JOIN` digunakan untuk **menggabungkan dua tabel** menjadi satu tabel melalui **kolom penghubung** yang sama. Operasi `JOIN` dapat dilakukan lebih dari satu kali dalam satu SQL query. Berikut adalah diagram ilustrasi beberapa macam operasi SQL `JOIN`:\n",
    "\n",
    "![](assets/sqljoins.png)\n",
    "Credit: Data & Object Factory, LLC\n",
    "\n",
    "- `LEFT JOIN` paling sering digunakan pada sebagian besar skenario bisnis. `LEFT JOIN` mengembalikan semua baris pada tabel kiri **terlepas** dari apakah ada baris yang cocok pada tabel kanan.\n",
    "- `INNER JOIN` adalah tipe join yang sangat intuitif dan mudah dipahami. Query ini mengembalikan semua baris di tabel kiri yang cocok dengan tabel kanan.\n",
    "\n",
    "**Note**:\n",
    "\n",
    "- `RIGHT JOIN` hampir tidak pernah digunakan karena ekuivalen dengan `LEFT JOIN` hanya mengganti peletakkan tabel kiri dan kanannya saja.\n",
    "- `FULL OUTER JOIN` sangat jarang digunakan. Selain alasan komputasi, tipe join ini mengembalikan semua baris dari kedua tabel terlepas dari apakah ada kecocokan atau tidak, sehingga menghasilkan DataFrame dengan banyak missing value.\n",
    "\n",
    "> Ilustrasi terkait ke-empat tipe join dapat dilihat pada [Visual JOIN](https://joins.spathon.com/)."
   ]
  },
  {
   "cell_type": "markdown",
   "metadata": {},
   "source": [
    "Syntax `JOIN`:\n",
    "\n",
    "```sql\n",
    "SELECT <COLUMNS>\n",
    "FROM <LEFT_TABLE>\n",
    "[LEFT|INNER] JOIN <RIGHT_TABLE>\n",
    "ON <LEFT_TABLE>.key = <RIGHT_TABLE>.key\n",
    "```"
   ]
  },
  {
   "cell_type": "markdown",
   "metadata": {},
   "source": [
    "**Kasus:** Kita ingin mendapatkan DataFrame yang menampilkan semua baris dengan kolom `AlbumId`, `Title`, dan `Name`. \n",
    "\n",
    "Perhatikan bahwa kolom `Name` terdapat pada tabel `artists`, sedangkan kolom `AlbumId` dan `Title` terdapat pada tabel `albums`. Berikut skema pada database `chinook.db`:\n",
    "\n",
    "1. Tabel `albums`: \n",
    "    - `AlbumId`\n",
    "    - `Title`\n",
    "    - `ArtistId`\n",
    "\n",
    "\n",
    "2. Tabel `artists`:\n",
    "    - `ArtistId`\n",
    "    - `Name` "
   ]
  },
  {
   "cell_type": "code",
   "execution_count": 11,
   "metadata": {
    "scrolled": true
   },
   "outputs": [
    {
     "data": {
      "text/html": [
       "<div>\n",
       "<style scoped>\n",
       "    .dataframe tbody tr th:only-of-type {\n",
       "        vertical-align: middle;\n",
       "    }\n",
       "\n",
       "    .dataframe tbody tr th {\n",
       "        vertical-align: top;\n",
       "    }\n",
       "\n",
       "    .dataframe thead th {\n",
       "        text-align: right;\n",
       "    }\n",
       "</style>\n",
       "<table border=\"1\" class=\"dataframe\">\n",
       "  <thead>\n",
       "    <tr style=\"text-align: right;\">\n",
       "      <th></th>\n",
       "      <th>AlbumId</th>\n",
       "      <th>Title</th>\n",
       "      <th>Name</th>\n",
       "    </tr>\n",
       "  </thead>\n",
       "  <tbody>\n",
       "    <tr>\n",
       "      <th>0</th>\n",
       "      <td>1</td>\n",
       "      <td>For Those About To Rock We Salute You</td>\n",
       "      <td>AC/DC</td>\n",
       "    </tr>\n",
       "    <tr>\n",
       "      <th>1</th>\n",
       "      <td>2</td>\n",
       "      <td>Balls to the Wall</td>\n",
       "      <td>Accept</td>\n",
       "    </tr>\n",
       "    <tr>\n",
       "      <th>2</th>\n",
       "      <td>3</td>\n",
       "      <td>Restless and Wild</td>\n",
       "      <td>Accept</td>\n",
       "    </tr>\n",
       "    <tr>\n",
       "      <th>3</th>\n",
       "      <td>4</td>\n",
       "      <td>Let There Be Rock</td>\n",
       "      <td>AC/DC</td>\n",
       "    </tr>\n",
       "    <tr>\n",
       "      <th>4</th>\n",
       "      <td>5</td>\n",
       "      <td>Big Ones</td>\n",
       "      <td>Aerosmith</td>\n",
       "    </tr>\n",
       "  </tbody>\n",
       "</table>\n",
       "</div>"
      ],
      "text/plain": [
       "   AlbumId                                  Title       Name\n",
       "0        1  For Those About To Rock We Salute You      AC/DC\n",
       "1        2                      Balls to the Wall     Accept\n",
       "2        3                      Restless and Wild     Accept\n",
       "3        4                      Let There Be Rock      AC/DC\n",
       "4        5                               Big Ones  Aerosmith"
      ]
     },
     "execution_count": 11,
     "metadata": {},
     "output_type": "execute_result"
    }
   ],
   "source": [
    "albums = pd.read_sql_query(\"SELECT AlbumId, Title, Name \\\n",
    "                            FROM albums \\\n",
    "                            LEFT JOIN artists \\\n",
    "                            ON artists.ArtistId = albums.ArtistId\", conn)\n",
    "albums.head()"
   ]
  },
  {
   "cell_type": "markdown",
   "metadata": {},
   "source": [
    "Perhatikan SQL query di atas:\n",
    "- Tabel `albums` menjadi **tabel kiri**, sedangkan tabel `artists` menjadi **tabel kanan**.\n",
    "- Kedua tabel digabungkan menggunakan operasi `LEFT JOIN` melalui key `ArtistId`.\n",
    "- Penggunaan karakter backslash (`\\`) ditujukan agar ke-empat baris SQL query dibaca sebagai satu kesatuan baris. Namun penggunaan backslash kurang efisien dan memiliki resiko error yang lebih tinggi. **Sebagai alternatif, Anda dapat mengapit SQL query dengan petik tiga kali `\"\"\"` atau `'''`**"
   ]
  },
  {
   "cell_type": "code",
   "execution_count": 12,
   "metadata": {},
   "outputs": [
    {
     "data": {
      "text/html": [
       "<div>\n",
       "<style scoped>\n",
       "    .dataframe tbody tr th:only-of-type {\n",
       "        vertical-align: middle;\n",
       "    }\n",
       "\n",
       "    .dataframe tbody tr th {\n",
       "        vertical-align: top;\n",
       "    }\n",
       "\n",
       "    .dataframe thead th {\n",
       "        text-align: right;\n",
       "    }\n",
       "</style>\n",
       "<table border=\"1\" class=\"dataframe\">\n",
       "  <thead>\n",
       "    <tr style=\"text-align: right;\">\n",
       "      <th></th>\n",
       "      <th>AlbumId</th>\n",
       "      <th>Title</th>\n",
       "      <th>Name</th>\n",
       "    </tr>\n",
       "  </thead>\n",
       "  <tbody>\n",
       "    <tr>\n",
       "      <th>0</th>\n",
       "      <td>1</td>\n",
       "      <td>For Those About To Rock We Salute You</td>\n",
       "      <td>AC/DC</td>\n",
       "    </tr>\n",
       "    <tr>\n",
       "      <th>1</th>\n",
       "      <td>2</td>\n",
       "      <td>Balls to the Wall</td>\n",
       "      <td>Accept</td>\n",
       "    </tr>\n",
       "    <tr>\n",
       "      <th>2</th>\n",
       "      <td>3</td>\n",
       "      <td>Restless and Wild</td>\n",
       "      <td>Accept</td>\n",
       "    </tr>\n",
       "    <tr>\n",
       "      <th>3</th>\n",
       "      <td>4</td>\n",
       "      <td>Let There Be Rock</td>\n",
       "      <td>AC/DC</td>\n",
       "    </tr>\n",
       "    <tr>\n",
       "      <th>4</th>\n",
       "      <td>5</td>\n",
       "      <td>Big Ones</td>\n",
       "      <td>Aerosmith</td>\n",
       "    </tr>\n",
       "    <tr>\n",
       "      <th>...</th>\n",
       "      <td>...</td>\n",
       "      <td>...</td>\n",
       "      <td>...</td>\n",
       "    </tr>\n",
       "    <tr>\n",
       "      <th>342</th>\n",
       "      <td>343</td>\n",
       "      <td>Respighi:Pines of Rome</td>\n",
       "      <td>Eugene Ormandy</td>\n",
       "    </tr>\n",
       "    <tr>\n",
       "      <th>343</th>\n",
       "      <td>344</td>\n",
       "      <td>Schubert: The Late String Quartets &amp; String Qu...</td>\n",
       "      <td>Emerson String Quartet</td>\n",
       "    </tr>\n",
       "    <tr>\n",
       "      <th>344</th>\n",
       "      <td>345</td>\n",
       "      <td>Monteverdi: L'Orfeo</td>\n",
       "      <td>C. Monteverdi, Nigel Rogers - Chiaroscuro; Lon...</td>\n",
       "    </tr>\n",
       "    <tr>\n",
       "      <th>345</th>\n",
       "      <td>346</td>\n",
       "      <td>Mozart: Chamber Music</td>\n",
       "      <td>Nash Ensemble</td>\n",
       "    </tr>\n",
       "    <tr>\n",
       "      <th>346</th>\n",
       "      <td>347</td>\n",
       "      <td>Koyaanisqatsi (Soundtrack from the Motion Pict...</td>\n",
       "      <td>Philip Glass Ensemble</td>\n",
       "    </tr>\n",
       "  </tbody>\n",
       "</table>\n",
       "<p>347 rows × 3 columns</p>\n",
       "</div>"
      ],
      "text/plain": [
       "     AlbumId                                              Title  \\\n",
       "0          1              For Those About To Rock We Salute You   \n",
       "1          2                                  Balls to the Wall   \n",
       "2          3                                  Restless and Wild   \n",
       "3          4                                  Let There Be Rock   \n",
       "4          5                                           Big Ones   \n",
       "..       ...                                                ...   \n",
       "342      343                             Respighi:Pines of Rome   \n",
       "343      344  Schubert: The Late String Quartets & String Qu...   \n",
       "344      345                                Monteverdi: L'Orfeo   \n",
       "345      346                              Mozart: Chamber Music   \n",
       "346      347  Koyaanisqatsi (Soundtrack from the Motion Pict...   \n",
       "\n",
       "                                                  Name  \n",
       "0                                                AC/DC  \n",
       "1                                               Accept  \n",
       "2                                               Accept  \n",
       "3                                                AC/DC  \n",
       "4                                            Aerosmith  \n",
       "..                                                 ...  \n",
       "342                                     Eugene Ormandy  \n",
       "343                             Emerson String Quartet  \n",
       "344  C. Monteverdi, Nigel Rogers - Chiaroscuro; Lon...  \n",
       "345                                      Nash Ensemble  \n",
       "346                              Philip Glass Ensemble  \n",
       "\n",
       "[347 rows x 3 columns]"
      ]
     },
     "execution_count": 12,
     "metadata": {},
     "output_type": "execute_result"
    }
   ],
   "source": [
    "# re-create tabel di atas menggunakan petik tiga kali \n",
    "pd.read_sql_query(\n",
    "        \"\"\"\n",
    "        SELECT AlbumId, Title, Name\n",
    "        FROM albums\n",
    "        LEFT JOIN artists\n",
    "        ON albums.ArtistId = artists.ArtistId\n",
    "        \"\"\",\n",
    "        conn\n",
    ")"
   ]
  },
  {
   "cell_type": "markdown",
   "metadata": {},
   "source": [
    "Terkadang penamaan kolom ataupun tabel pada database cukup panjang dan redundan untuk diketik, ataupun belum cukup informatif.\n",
    "\n",
    "Penggunaan statement `AS` dapat digunakan untuk melakukan **aliasing / rename** nama tabel maupun nama kolom."
   ]
  },
  {
   "cell_type": "code",
   "execution_count": 13,
   "metadata": {},
   "outputs": [
    {
     "data": {
      "text/html": [
       "<div>\n",
       "<style scoped>\n",
       "    .dataframe tbody tr th:only-of-type {\n",
       "        vertical-align: middle;\n",
       "    }\n",
       "\n",
       "    .dataframe tbody tr th {\n",
       "        vertical-align: top;\n",
       "    }\n",
       "\n",
       "    .dataframe thead th {\n",
       "        text-align: right;\n",
       "    }\n",
       "</style>\n",
       "<table border=\"1\" class=\"dataframe\">\n",
       "  <thead>\n",
       "    <tr style=\"text-align: right;\">\n",
       "      <th></th>\n",
       "      <th>AlbumId</th>\n",
       "      <th>Title</th>\n",
       "      <th>Artist Name</th>\n",
       "    </tr>\n",
       "  </thead>\n",
       "  <tbody>\n",
       "    <tr>\n",
       "      <th>0</th>\n",
       "      <td>1</td>\n",
       "      <td>For Those About To Rock We Salute You</td>\n",
       "      <td>AC/DC</td>\n",
       "    </tr>\n",
       "    <tr>\n",
       "      <th>1</th>\n",
       "      <td>2</td>\n",
       "      <td>Balls to the Wall</td>\n",
       "      <td>Accept</td>\n",
       "    </tr>\n",
       "    <tr>\n",
       "      <th>2</th>\n",
       "      <td>3</td>\n",
       "      <td>Restless and Wild</td>\n",
       "      <td>Accept</td>\n",
       "    </tr>\n",
       "    <tr>\n",
       "      <th>3</th>\n",
       "      <td>4</td>\n",
       "      <td>Let There Be Rock</td>\n",
       "      <td>AC/DC</td>\n",
       "    </tr>\n",
       "    <tr>\n",
       "      <th>4</th>\n",
       "      <td>5</td>\n",
       "      <td>Big Ones</td>\n",
       "      <td>Aerosmith</td>\n",
       "    </tr>\n",
       "    <tr>\n",
       "      <th>...</th>\n",
       "      <td>...</td>\n",
       "      <td>...</td>\n",
       "      <td>...</td>\n",
       "    </tr>\n",
       "    <tr>\n",
       "      <th>342</th>\n",
       "      <td>343</td>\n",
       "      <td>Respighi:Pines of Rome</td>\n",
       "      <td>Eugene Ormandy</td>\n",
       "    </tr>\n",
       "    <tr>\n",
       "      <th>343</th>\n",
       "      <td>344</td>\n",
       "      <td>Schubert: The Late String Quartets &amp; String Qu...</td>\n",
       "      <td>Emerson String Quartet</td>\n",
       "    </tr>\n",
       "    <tr>\n",
       "      <th>344</th>\n",
       "      <td>345</td>\n",
       "      <td>Monteverdi: L'Orfeo</td>\n",
       "      <td>C. Monteverdi, Nigel Rogers - Chiaroscuro; Lon...</td>\n",
       "    </tr>\n",
       "    <tr>\n",
       "      <th>345</th>\n",
       "      <td>346</td>\n",
       "      <td>Mozart: Chamber Music</td>\n",
       "      <td>Nash Ensemble</td>\n",
       "    </tr>\n",
       "    <tr>\n",
       "      <th>346</th>\n",
       "      <td>347</td>\n",
       "      <td>Koyaanisqatsi (Soundtrack from the Motion Pict...</td>\n",
       "      <td>Philip Glass Ensemble</td>\n",
       "    </tr>\n",
       "  </tbody>\n",
       "</table>\n",
       "<p>347 rows × 3 columns</p>\n",
       "</div>"
      ],
      "text/plain": [
       "     AlbumId                                              Title  \\\n",
       "0          1              For Those About To Rock We Salute You   \n",
       "1          2                                  Balls to the Wall   \n",
       "2          3                                  Restless and Wild   \n",
       "3          4                                  Let There Be Rock   \n",
       "4          5                                           Big Ones   \n",
       "..       ...                                                ...   \n",
       "342      343                             Respighi:Pines of Rome   \n",
       "343      344  Schubert: The Late String Quartets & String Qu...   \n",
       "344      345                                Monteverdi: L'Orfeo   \n",
       "345      346                              Mozart: Chamber Music   \n",
       "346      347  Koyaanisqatsi (Soundtrack from the Motion Pict...   \n",
       "\n",
       "                                           Artist Name  \n",
       "0                                                AC/DC  \n",
       "1                                               Accept  \n",
       "2                                               Accept  \n",
       "3                                                AC/DC  \n",
       "4                                            Aerosmith  \n",
       "..                                                 ...  \n",
       "342                                     Eugene Ormandy  \n",
       "343                             Emerson String Quartet  \n",
       "344  C. Monteverdi, Nigel Rogers - Chiaroscuro; Lon...  \n",
       "345                                      Nash Ensemble  \n",
       "346                              Philip Glass Ensemble  \n",
       "\n",
       "[347 rows x 3 columns]"
      ]
     },
     "execution_count": 13,
     "metadata": {},
     "output_type": "execute_result"
    }
   ],
   "source": [
    "# re-create tabel di atas menggunakan aliasing\n",
    "pd.read_sql_query(\n",
    "        \"\"\"\n",
    "        SELECT AlbumId, Title, Name AS 'Artist Name'\n",
    "        FROM albums AS alb\n",
    "        LEFT JOIN artists AS art\n",
    "        ON alb.ArtistId = art.ArtistId\n",
    "        \"\"\",\n",
    "        conn\n",
    ")"
   ]
  },
  {
   "cell_type": "markdown",
   "metadata": {},
   "source": [
    "> ⚠️ Hati-hati! Saat melakukan `LEFT JOIN`, peletakkan tabel kiri dan kanan sangat berpengaruh terhadap hasil penggabungan.\n",
    "\n",
    "Sebagai perbanding, sekarang coba kita tukar tabel `artists` menjadi tabel kiri, sedangkan `albums` menjadi tabel kanan.\n",
    "\n",
    "Object `x` di bawah menampilkan semua data `artists` walaupun artist tersebut tidak ada di tabel `albums`."
   ]
  },
  {
   "cell_type": "code",
   "execution_count": 14,
   "metadata": {},
   "outputs": [
    {
     "data": {
      "text/html": [
       "<div>\n",
       "<style scoped>\n",
       "    .dataframe tbody tr th:only-of-type {\n",
       "        vertical-align: middle;\n",
       "    }\n",
       "\n",
       "    .dataframe tbody tr th {\n",
       "        vertical-align: top;\n",
       "    }\n",
       "\n",
       "    .dataframe thead th {\n",
       "        text-align: right;\n",
       "    }\n",
       "</style>\n",
       "<table border=\"1\" class=\"dataframe\">\n",
       "  <thead>\n",
       "    <tr style=\"text-align: right;\">\n",
       "      <th></th>\n",
       "      <th>AlbumId</th>\n",
       "      <th>Title</th>\n",
       "      <th>Name</th>\n",
       "    </tr>\n",
       "  </thead>\n",
       "  <tbody>\n",
       "    <tr>\n",
       "      <th>50</th>\n",
       "      <td>NaN</td>\n",
       "      <td>None</td>\n",
       "      <td>Milton Nascimento &amp; Bebeto</td>\n",
       "    </tr>\n",
       "    <tr>\n",
       "      <th>51</th>\n",
       "      <td>NaN</td>\n",
       "      <td>None</td>\n",
       "      <td>Azymuth</td>\n",
       "    </tr>\n",
       "    <tr>\n",
       "      <th>55</th>\n",
       "      <td>NaN</td>\n",
       "      <td>None</td>\n",
       "      <td>João Gilberto</td>\n",
       "    </tr>\n",
       "    <tr>\n",
       "      <th>56</th>\n",
       "      <td>NaN</td>\n",
       "      <td>None</td>\n",
       "      <td>Bebel Gilberto</td>\n",
       "    </tr>\n",
       "    <tr>\n",
       "      <th>57</th>\n",
       "      <td>NaN</td>\n",
       "      <td>None</td>\n",
       "      <td>Jorge Vercilo</td>\n",
       "    </tr>\n",
       "    <tr>\n",
       "      <th>...</th>\n",
       "      <td>...</td>\n",
       "      <td>...</td>\n",
       "      <td>...</td>\n",
       "    </tr>\n",
       "    <tr>\n",
       "      <th>327</th>\n",
       "      <td>NaN</td>\n",
       "      <td>None</td>\n",
       "      <td>DJ Dolores &amp; Orchestra Santa Massa</td>\n",
       "    </tr>\n",
       "    <tr>\n",
       "      <th>328</th>\n",
       "      <td>NaN</td>\n",
       "      <td>None</td>\n",
       "      <td>Seu Jorge</td>\n",
       "    </tr>\n",
       "    <tr>\n",
       "      <th>329</th>\n",
       "      <td>NaN</td>\n",
       "      <td>None</td>\n",
       "      <td>Sabotage E Instituto</td>\n",
       "    </tr>\n",
       "    <tr>\n",
       "      <th>330</th>\n",
       "      <td>NaN</td>\n",
       "      <td>None</td>\n",
       "      <td>Stereo Maracana</td>\n",
       "    </tr>\n",
       "    <tr>\n",
       "      <th>377</th>\n",
       "      <td>NaN</td>\n",
       "      <td>None</td>\n",
       "      <td>Academy of St. Martin in the Fields, Sir Nevil...</td>\n",
       "    </tr>\n",
       "  </tbody>\n",
       "</table>\n",
       "<p>71 rows × 3 columns</p>\n",
       "</div>"
      ],
      "text/plain": [
       "     AlbumId Title                                               Name\n",
       "50       NaN  None                         Milton Nascimento & Bebeto\n",
       "51       NaN  None                                            Azymuth\n",
       "55       NaN  None                                      João Gilberto\n",
       "56       NaN  None                                     Bebel Gilberto\n",
       "57       NaN  None                                      Jorge Vercilo\n",
       "..       ...   ...                                                ...\n",
       "327      NaN  None                 DJ Dolores & Orchestra Santa Massa\n",
       "328      NaN  None                                          Seu Jorge\n",
       "329      NaN  None                               Sabotage E Instituto\n",
       "330      NaN  None                                    Stereo Maracana\n",
       "377      NaN  None  Academy of St. Martin in the Fields, Sir Nevil...\n",
       "\n",
       "[71 rows x 3 columns]"
      ]
     },
     "execution_count": 14,
     "metadata": {},
     "output_type": "execute_result"
    }
   ],
   "source": [
    "x = pd.read_sql_query(\n",
    "    \"\"\"\n",
    "    SELECT AlbumId, Title, Name\n",
    "    FROM artists\n",
    "    LEFT JOIN albums\n",
    "    ON artists.ArtistId = albums.ArtistId\n",
    "    \"\"\", conn)\n",
    "\n",
    "# cek baris dengan missing value\n",
    "x[x.isna().any(axis=1)]"
   ]
  },
  {
   "cell_type": "markdown",
   "metadata": {},
   "source": [
    "### ❓ Knowledge Check\n",
    "\n",
    "Buatlah sebuah object dataframe bernama `tracks` yang menampilkan:\n",
    "\n",
    "- Semua kolom pada tabel `tracks`\n",
    "- Kolom `Title` pada tabel `albums`\n",
    "- Kolom `Name` pada tabel `artists`\n",
    "- Kolom `Name` pada tabel `genres`\n",
    "\n",
    "Lalu set kolom `TrackId` menjadi index pada dataframe tersebut. Apabila sudah benar, seharusnya dataframe Anda memiliki 3503 baris dan 11 kolom.\n",
    "\n",
    "<br>\n",
    "\n",
    "<details>\n",
    "    <summary><i>👉 Klik di sini untuk hint</i></summary>\n",
    "\n",
    "> **Hint 1**: Pada kasus ini, Anda wajib menggunakan syntax `<nama_tabel>.<nama_kolom>` pada statement `SELECT`. Hal ini karena terdapat nama kolom yang sama dari tabel yang berbeda. Jangan lupa untuk menggunakan aliasing `AS` agar nama kolom akhir tidak ambigu.\n",
    "    \n",
    "> **Hint 2**: Anda dapat menggunakan `SELECT tracks.*` untuk mengambil semua kolom pada tabel `tracks`\n",
    "\n",
    "> **Hint 3**: Anda dapat melanjutkan hasil operasi `LEFT JOIN` dengan `LEFT JOIN` berikutnya. Sebagai referensi, berikut adalah struktur kodenya:\n",
    "    \n",
    "```python\n",
    "___ = pd.read_sql_query(\n",
    "    \"\"\"\n",
    "    SELECT ___\n",
    "    FROM ___\n",
    "    LEFT JOIN ___\n",
    "    ON ___\n",
    "    LEFT JOIN ___\n",
    "    ON ___\n",
    "    LEFT JOIN ___\n",
    "    ON ___\n",
    "    \"\"\", conn, index_col=___)\n",
    "```\n",
    "</details>"
   ]
  },
  {
   "cell_type": "markdown",
   "metadata": {},
   "source": [
    "Langkah pengerjaan:\n",
    "- join table (cek relasi dari ERD dan atur pada statement `ON`)\n",
    "- set index kolom dengan parameter `index_col`\n",
    "- lihat dimensi data"
   ]
  },
  {
   "cell_type": "code",
   "execution_count": 15,
   "metadata": {},
   "outputs": [
    {
     "data": {
      "text/plain": [
       "(3503, 11)"
      ]
     },
     "execution_count": 15,
     "metadata": {},
     "output_type": "execute_result"
    }
   ],
   "source": [
    "# your code here\n",
    "tracks = pd.read_sql_query(\n",
    "        \"\"\"\n",
    "        SELECT tracks.*, albums.Title, artists.Name AS ArtistName, genres.Name AS GenreName\n",
    "        FROM tracks\n",
    "        LEFT JOIN albums\n",
    "        ON tracks.AlbumId = albums.AlbumId\n",
    "        LEFT JOIN artists\n",
    "        ON albums.ArtistId = artists.ArtistId\n",
    "        LEFT JOIN genres\n",
    "        ON tracks.GenreId = genres.GenreId\n",
    "        \"\"\",\n",
    "        conn,\n",
    "        index_col = 'TrackId'\n",
    ")\n",
    "\n",
    "tracks.shape"
   ]
  },
  {
   "cell_type": "markdown",
   "metadata": {},
   "source": [
    "**END OF DAY 1**\n",
    "___\n",
    "**START OF DAY 2**"
   ]
  },
  {
   "cell_type": "markdown",
   "metadata": {},
   "source": [
    "Gunakan object dataframe `tracks` yang telah Anda peroleh di atas dalam menjawab pertanyaan berikut:\n",
    "\n",
    "1. Pilihlah semua nama genre yang terdapat pada 5 baris terakhir pada dataframe `tracks`. Jawaban bisa lebih dari satu.\n",
    "    - [ ] Latin\n",
    "    - [ ] Classical\n",
    "    - [ ] Soundtrack\n",
    "    - [ ] Pop"
   ]
  },
  {
   "cell_type": "code",
   "execution_count": null,
   "metadata": {},
   "outputs": [],
   "source": [
    "# your code here\n"
   ]
  },
  {
   "cell_type": "markdown",
   "metadata": {},
   "source": [
    "2. Di antara genre berikut, manakah yang termasuk dalam top 3 genre yang paling banyak muncul pada dataframe `tracks`? Buatlah sebuah tabel frekuensi dengan metode yang telah Anda pelajari!\n",
    "\n",
    "    - [ ] Latin\n",
    "    - [ ] Classical\n",
    "    - [ ] Soundtrack\n",
    "    - [ ] Pop\n",
    "\n",
    "<br>\n",
    "\n",
    "<details>\n",
    "    <summary><i>👉 Klik di sini untuk hint</i></summary>\n",
    "\n",
    "Beberapa pilihan method yang dapat Anda gunakan:\n",
    "    \n",
    "- `.value_counts()`\n",
    "- `pd.crosstab(index=___, columns=___)`\n",
    "- `.pivot_table(index=___, aggfunc='count')`\n",
    "- `.groupby().count()`\n",
    "</details>"
   ]
  },
  {
   "cell_type": "code",
   "execution_count": null,
   "metadata": {},
   "outputs": [],
   "source": [
    "# your code here\n"
   ]
  },
  {
   "cell_type": "markdown",
   "metadata": {},
   "source": [
    "3. Gunakan `groupby()` pada kolom `ArtistName` untuk menghitung `mean()` dari `UnitPrice`. Anda akan melihat bahwa mayoritas artists memiliki rata-rata `UnitPrice` di angka 0.99, namun ada juga beberapa artists yang rata-ratanya 1.99. Dari nama artists berikut, pilihlah yang memiliki rata-rata `UnitPrice` sebesar 0.99:\n",
    "\n",
    "    - [ ] The Office\n",
    "    - [ ] Aquaman\n",
    "    - [ ] Pearl Jam\n",
    "    - [ ] Lost"
   ]
  },
  {
   "cell_type": "code",
   "execution_count": null,
   "metadata": {},
   "outputs": [],
   "source": [
    "# your code here\n"
   ]
  },
  {
   "cell_type": "markdown",
   "metadata": {},
   "source": [
    "## SQL Aggregation\n",
    "\n",
    "Di `pandas`, kita bisa menggunakan ketiga method berikut untuk membuat tabel agregasi:\n",
    "\n",
    "- `.crosstab()`\n",
    "- `.pivot_table()`\n",
    "- `.groupby()`\n",
    "\n",
    "Sedangkan di SQL, kita menggunakan statement `GROUP BY` yang diletakkan setelah `SELECT ... FROM ...`.\n",
    "\n",
    "Misal kita ingin mengetahui top 5 `CustomerId` berdasarkan jumlah besaran transaksinya (`Total`) dan juga tampilkan banyak transaksinya:"
   ]
  },
  {
   "cell_type": "code",
   "execution_count": null,
   "metadata": {
    "scrolled": true
   },
   "outputs": [],
   "source": [
    "top_cust = pd.read_sql_query(\"SELECT CustomerId, SUM(Total) AS TotalValue, \\\n",
    "                              COUNT(InvoiceId) AS Purchases \\\n",
    "                              FROM invoices \\\n",
    "                              GROUP BY CustomerId \\\n",
    "                              ORDER BY TotalValue DESC \\\n",
    "                              LIMIT 5\", conn, index_col='CustomerId')\n",
    "top_cust"
   ]
  },
  {
   "cell_type": "markdown",
   "metadata": {},
   "source": [
    "Perhatikan bagaimana query di atas dapat mengambil 5 customer teratas dari tabel `invoices`:\n",
    "\n",
    "1. Data dikelompokkan berdasarkan `CustomerId` dengan statement `GROUP BY`\n",
    "2. Terdapat dua fungsi agregasi yang digunakan: `SUM()` dan `COUNT()`, masing-masing mengagregasikan kolom `Total` dan `InvoiceId`. Berikut adalah fungsi agregasi yang sering digunakan: `SUM`,` AVG`, `COUNT`, `MIN`, dan `MAX`.\n",
    "3. Statement `ORDER BY` ditambahkan untuk mengurutkan tabel berdasarkan kolom `TotalValue` secara `DESC`."
   ]
  },
  {
   "cell_type": "markdown",
   "metadata": {},
   "source": [
    "**Note**:\n",
    "\n",
    "- SQL Statement `GROUP BY` ekuivalen dengan `.groupby()` pada `pandas`\n",
    "- SQL Statement `ORDER BY` ekuivalen dengan `.sort_values()` pada `pandas`"
   ]
  },
  {
   "cell_type": "markdown",
   "metadata": {},
   "source": [
    "### ❓ Knowledge Check\n",
    "\n",
    "Seorang produser musik ingin menciptakan lagu dengan mempertimbangkan genre yang akan laku di market. Sebelum mulai, ia terlebih dahulu melakukan riset tentang genre musik apa yang sedang hits saat ini. Sebagai seorang data analyst, Anda diminta untuk membantu produser musik dalam membuat keputusan yang tepat.\n",
    "\n",
    "**Pertanyaan:** Tampilkan top 5 genre musik yang memiliki jumlah penjualan terbanyak, sertakan juga dengan total quantity yang terjual.\n",
    "\n",
    "<br>\n",
    "\n",
    "<details>\n",
    "    <summary><i>👉 Klik di sini untuk hint</i></summary>\n",
    "    \n",
    "Berikut adalah code yang dapat Anda gunakan untuk mengetahui `genres` paling populer dari semua invoice sales.\n",
    "\n",
    "```python\n",
    "top_genre = pd.read_sql_query(\n",
    "    \"\"\"\n",
    "    SELECT\n",
    "    genres.GenreId,\n",
    "    genres.Name,\n",
    "    ___(invoices.Total),\n",
    "    ___(invoice_items.Quantity)\n",
    "    FROM invoices\n",
    "    LEFT JOIN ___ ON ___\n",
    "    LEFT JOIN ___ ON ___\n",
    "    LEFT JOIN ___ ON ___\n",
    "    GROUP BY ___\n",
    "    ORDER BY ___\n",
    "    \"\"\",\n",
    "    conn,\n",
    "    index_col='GenreId'\n",
    "```\n",
    "</details>"
   ]
  },
  {
   "cell_type": "code",
   "execution_count": null,
   "metadata": {},
   "outputs": [],
   "source": []
  },
  {
   "cell_type": "markdown",
   "metadata": {},
   "source": [
    "💡 Panduan step-by-step:\n",
    "\n",
    "1. Lakukan operasi `JOIN` tergantung dari kebutuhan kolom yang ingin dianalisis\n",
    "2. Gunakan `GROUP BY` apabila ingin membuat tabel agregasi\n",
    "3. Aplikasikan fungsi agregat di `SELECT`\n",
    "4. Tambahkan kolom yang relevan untuk ditampilkan pada `SELECT`\n",
    "5. Urutkan data menggunakan `ORDER BY`"
   ]
  },
  {
   "cell_type": "markdown",
   "metadata": {},
   "source": [
    "## `WHERE` Statements\n",
    "\n",
    "Sampai di sini, kita telah mempelajari beberapa statement SQL yang sering digunakan:\n",
    "\n",
    "- `SELECT` statement\n",
    "- SQL `JOIN`\n",
    "- Aliasing\n",
    "- SQL Aggregation dengan `GROUP BY`\n",
    "\n",
    "Sekarang, kita akan melihat teknik untuk melakukan **conditional subsetting atau filter baris** menggunakan statement `WHERE` yang diikuti dengan **kondisi**."
   ]
  },
  {
   "cell_type": "markdown",
   "metadata": {},
   "source": [
    "### Logical Operator\n",
    "\n",
    "- Kondisi `WHERE` dapat dikombinasikan dengan logical operator: `IS`, `AND`, `OR`, dan `NOT`:\n",
    "    - `IS` sama saja seperti notasi matematis `=`\n",
    "    - `IS NOT` seperti notasi `!=`\n",
    "    \n",
    "- Kondisi pada `WHERE` juga mendukung operator matematis seperti >, >=, <, dan <=\n",
    "\n",
    "**Kasus**: kita ingin melakukan analisis terhadap semua data `invoices` yang terjadi di `BillingCountry` Germany, maka kita bisa menambahkan statement `WHERE` sebagai berikut:"
   ]
  },
  {
   "cell_type": "code",
   "execution_count": null,
   "metadata": {
    "scrolled": true
   },
   "outputs": [],
   "source": [
    "pd.read_sql_query(\n",
    "    \"\"\"\n",
    "    SELECT *\n",
    "    FROM invoices\n",
    "    WHERE BillingCountry = 'Germany'\n",
    "    \"\"\",\n",
    "    conn)"
   ]
  },
  {
   "cell_type": "markdown",
   "metadata": {},
   "source": [
    "Berlawanan dengan kasus di atas, misal kita ingin analisis semua data `invoices` dimana `BillingCountry` **selain** negara Germany:"
   ]
  },
  {
   "cell_type": "code",
   "execution_count": null,
   "metadata": {
    "scrolled": true
   },
   "outputs": [],
   "source": []
  },
  {
   "cell_type": "markdown",
   "metadata": {},
   "source": [
    "**Kasus**: Misalkan kita hanya tertarik untuk menganalisis data yang terjadi di Amerika (yaitu `BillingCountry` Canada dan USA). Kira-kira bagaimana cara mengimplementasikannya dalam bentuk query SQL?"
   ]
  },
  {
   "cell_type": "code",
   "execution_count": null,
   "metadata": {
    "scrolled": false
   },
   "outputs": [],
   "source": [
    "# your code here\n"
   ]
  },
  {
   "cell_type": "markdown",
   "metadata": {},
   "source": [
    "### `IN` Operator\n",
    "\n",
    "Operator `IN` memungkinkan kita menentukan beberapa nilai untuk perbandingan. Misalnya, seperti pada kasus sebelumnya, kita ingin mengambil semua data `invoices` yang terjadi di negara (`BillingCountry`) Canada dan juga USA:"
   ]
  },
  {
   "cell_type": "code",
   "execution_count": null,
   "metadata": {
    "scrolled": true
   },
   "outputs": [],
   "source": [
    "north_america = pd.read_sql_query(\n",
    "    \"\"\"\n",
    "    SELECT *\n",
    "    FROM invoices\n",
    "    WHERE BillingCountry IN ('Canada', 'USA')\n",
    "    \"\"\",\n",
    "    conn)\n",
    "\n",
    "north_america.head()"
   ]
  },
  {
   "cell_type": "markdown",
   "metadata": {},
   "source": [
    "### ❓ Knowledge Check\n",
    "\n",
    "\n",
    "Ambillah seluruh data musik yang memiliki genre `Pop` dan `UnitPrice` dari tracknya adalah 0.99. Kemudian simpan ke object dataframe bernama `popmusic`.\n",
    "\n",
    "**Pertanyaan:** Ada berapa baris pada dataframe `popmusic`?\n",
    "\n",
    "<br>\n",
    "\n",
    "<details>\n",
    "    <summary><i>👉 Klik di sini untuk hint</i></summary>\n",
    "    \n",
    "```python\n",
    "popmusic = pd.read_sql_query(\n",
    "    \"\"\"\n",
    "    SELECT tracks.*, genres.Name AS GenreName\n",
    "    FROM ___\n",
    "    LEFT JOIN ___\n",
    "    ON ___\n",
    "    WHERE ___\n",
    "    \"\"\",\n",
    "    conn,\n",
    "    index_col='TrackId'\n",
    ")\n",
    "```\n",
    "</details>"
   ]
  },
  {
   "cell_type": "code",
   "execution_count": null,
   "metadata": {},
   "outputs": [],
   "source": [
    "# your code here\n"
   ]
  },
  {
   "cell_type": "markdown",
   "metadata": {},
   "source": [
    "### Operating Dates\n",
    "\n",
    "Pada operasi kondisi pada statement `WHERE` sebelumnya, kita dapat mengambil semua data `invoices` pada negara Germany. Namun, juga umum untuk kita melakukan conditional query untuk mengambil data pada **rentang tanggal** tertentu.\n",
    "\n",
    "Sebelum lanjut, mari kita lihat tipe data dari objek `germany` yang telah diperoleh sebelumnya:"
   ]
  },
  {
   "cell_type": "code",
   "execution_count": null,
   "metadata": {},
   "outputs": [],
   "source": [
    "germany = pd.read_sql_query(\"SELECT * FROM invoices WHERE BillingCountry = 'Germany'\", conn)\n",
    "germany.dtypes"
   ]
  },
  {
   "cell_type": "markdown",
   "metadata": {},
   "source": [
    "Perhatikan bahwa `InvoiceDate` dikenali sebagai tipe data `object`. **Method `pd.read_sql_query()` berperilaku seperti method `pd.read_csv()` dimana secara default membaca tipe data suatu kolom sebagai numerik dan objek.** Ini tidak berarti bahwa kolom tersebut disimpan menggunakan format string (umumnya dikenal sebagai `VARCHAR` dalam database SQL). Lihatlah skema tabel berikut:"
   ]
  },
  {
   "cell_type": "code",
   "execution_count": null,
   "metadata": {},
   "outputs": [],
   "source": [
    "invoices_table = pd.read_sql_query(\n",
    "    \"\"\"\n",
    "    SELECT sql\n",
    "    FROM sqlite_master\n",
    "    WHERE name = 'invoices'\n",
    "    \"\"\", conn)\n",
    "print(invoices_table.loc[0,:].values[0])"
   ]
  },
  {
   "cell_type": "markdown",
   "metadata": {},
   "source": [
    "> Perlu diingat bahwa untuk DBMS yang berbeda-beda, maka cara mengambil skema tabel akan berbeda pula. Query di atas khusus untuk mengambil skema tabel dari database SQLite (`sqlite_master`).\n",
    "\n",
    "Output dari query di atas termasuk dalam tipe **Data Definition Language (DDL)** yang digunakan untuk membuat tabel. Dengan membaca DDL, akan berguna untuk memahami skema tabel dari database sehingga kita dapat melakukan operasi yang sesuai. Pada skema tabel `invoices` terdapat informasi yang berguna seperti:\n",
    "\n",
    "- `InvoiceId` sebagai primary key\n",
    "- `InvoiceDate` disimpan sebagai tipe data `DATETIME` (format `YYYY-MM-DD HH:MM:SS`)\n",
    "- `CustomerId` sebagai foreign key pada tabel `customers`\n",
    "\n",
    "Jika Anda tidak disediakan dengan skema database dalam bentuk diagram, maka luangkan waktu untuk mempelajari setiap skema tabel melalui DDL-nya.\n",
    "\n",
    "**Kasus**: Kita ingin meninjau penjualan (`invoices`) tahun lalu di seluruh negara pada tahun 2012 saja."
   ]
  },
  {
   "cell_type": "code",
   "execution_count": null,
   "metadata": {},
   "outputs": [],
   "source": [
    "invoice_2012 = pd.read_sql_query(\n",
    "    \"\"\"\n",
    "    SELECT *\n",
    "    FROM invoices\n",
    "    WHERE ___\n",
    "    \"\"\",\n",
    "    conn,\n",
    "    parse_dates='InvoiceDate'\n",
    ")"
   ]
  },
  {
   "cell_type": "markdown",
   "metadata": {},
   "source": [
    "### `BETWEEN` Operator\n",
    "\n",
    "Melanjutkan kasus sebelumnya, apabila kita ingin menggunakan kondisi pada rentang tertentu, pendekatan yang umum digunakan adalah operator `BETWEEN`. Silahkan lengkapi code berikut dan lihat apakah data yang terambil sama seperti sebelumnya:\n",
    "\n",
    "```python\n",
    "invoice_2012 = pd.read_sql_query(\n",
    "    \"\"\"\n",
    "    SELECT *\n",
    "    FROM invoices\n",
    "    WHERE ___ BETWEEN '___' AND '___'\n",
    "    \"\"\",\n",
    "    conn,\n",
    "    parse_dates='InvoiceDate'\n",
    ")\n",
    "\n",
    "invoice_2012['InvoiceDate'].describe()\n",
    "```"
   ]
  },
  {
   "cell_type": "code",
   "execution_count": null,
   "metadata": {},
   "outputs": [],
   "source": [
    "# your code here\n"
   ]
  },
  {
   "cell_type": "markdown",
   "metadata": {},
   "source": [
    "⚠️ **Hati-hati!**\n",
    "\n",
    "Operator `BETWEEN` sejatinya adalah inclusive, di mana kondisi start dan endnya termasuk. Namun, saat kita membandingkan date (misal '2012-12-31') dengan datetime (pada kolom `InvoiceDate`), seakan-akan end tidak inclusive. Sebagai eksperimen, cobalah ganti kondisi pada statement `WHERE` menjadi:\n",
    "\n",
    "```\n",
    "WHERE InvoiceDate BETWEEN '2012-01-01' AND '2012-12-30'\n",
    "```\n",
    "\n",
    "Maka `InvoiceDate` pada tanggal `2012-12-30` tidak masuk.\n",
    "\n",
    "Sebagai solusinya, lebih baik kita menambahkan komponen waktu (time) pada kondisi:\n",
    "```\n",
    "WHERE InvoiceDate BETWEEN '2012-01-01 00:00:00' AND '2012-12-30 00:00:00'\n",
    "```"
   ]
  },
  {
   "cell_type": "code",
   "execution_count": null,
   "metadata": {},
   "outputs": [],
   "source": [
    "# bukti bahwa operator BETWEEN inclusive pada start dan end\n",
    "pd.read_sql_query(\n",
    "    \"\"\"\n",
    "    SELECT * FROM invoices\n",
    "    WHERE InvoiceId BETWEEN 2 AND 5\n",
    "    \"\"\",\n",
    "    conn\n",
    ")"
   ]
  },
  {
   "cell_type": "code",
   "execution_count": null,
   "metadata": {},
   "outputs": [],
   "source": [
    "# MASALAH: ketika hanya menggunakan '2012-12-30' maka data tanggal 30 Desember 2012 TIDAK masuk\n",
    "pd.read_sql_query(\n",
    "    \"\"\"\n",
    "    SELECT * FROM invoices\n",
    "    WHERE InvoiceDate BETWEEN '2012-01-01' AND '2012-12-30'\n",
    "    \"\"\",\n",
    "    conn,\n",
    "    parse_dates='InvoiceDate'\n",
    ")['InvoiceDate'].describe()"
   ]
  },
  {
   "cell_type": "code",
   "execution_count": null,
   "metadata": {},
   "outputs": [],
   "source": [
    "# SOLUSI: masukkan komponen TIME (00:00:00) agar data transaksi pada tanggal 30 Desember 2012 juga termasuk\n",
    "pd.read_sql_query(\n",
    "    \"\"\"\n",
    "    SELECT * FROM invoices\n",
    "    WHERE InvoiceDate BETWEEN '2012-01-01 00:00:00' AND '2012-12-31 23:59:59'\n",
    "    \"\"\",\n",
    "    conn,\n",
    "    parse_dates='InvoiceDate'\n",
    ")['InvoiceDate'].describe()"
   ]
  },
  {
   "cell_type": "markdown",
   "metadata": {},
   "source": [
    "> **Key takeaway:** Ketika ingin membuat sebuah kondisi `NAMA_KOLOM = NILAI`, pastikan `NILAI` memiliki tipe data yang sama seperti `NAMA_KOLOM`"
   ]
  },
  {
   "cell_type": "markdown",
   "metadata": {},
   "source": [
    "### `LIKE` Operator\n",
    "\n",
    "Operator `LIKE` sangat berguna jika kita perlu mencocokan bagian tertentu dari sebuah string daripada menggunakan operator sama dengan (`=`). `'107%'` yang Anda lihat dalam query ditujukan untuk mengekstrak nilai `BillingPostalCode` yang **dimulai** dengan angka 107. Ini sangat membantu ketika Anda ingin mengekstrak data hanya pada wilayah tertentu. Di negara Germany, kita akan tahu bahwa Wilmersdorf dan Tempelhof di Berlin memiliki kode pos dimulai dengan 107.\n",
    "\n",
    "> **Note:** Karakter `%` disebut juga sebagai [wildcard character](https://www.w3schools.com/sql/sql_wildcards.asp)"
   ]
  },
  {
   "cell_type": "code",
   "execution_count": null,
   "metadata": {
    "scrolled": false
   },
   "outputs": [],
   "source": [
    "pd.read_sql_query(\n",
    "    \"\"\"\n",
    "    SELECT * FROM invoices\n",
    "    WHERE BillingCountry = 'Germany'\n",
    "    AND BillingPostalCode LIKE '107%'\n",
    "    \"\"\",\n",
    "    conn\n",
    ")"
   ]
  },
  {
   "cell_type": "markdown",
   "metadata": {},
   "source": [
    "**Diskusi:**\n",
    "\n",
    "- Jika `BillingPostalCode LIKE '107%'`, maka semua baris dengan kode pos **dimulai** angka 107 akan tampil.\n",
    "- Jika `BillingPostalCode LIKE '%107'`, maka semua baris dengan kode pos **diakhiri** angka 107 akan tampil.\n",
    "\n",
    "Menurut Anda apa yang akan muncul jika kita menggunakan `%` **sebelum dan sesudah** pola, yaitu `BillingPostalCode LIKE '%107%'`"
   ]
  },
  {
   "cell_type": "markdown",
   "metadata": {},
   "source": [
    "#### ❓ Knowledge Check\n",
    "\n",
    "**Kasus**: Pada 5 data pertama `customerinv`, kita bisa melihat kolom `Company` mungkin tidak dapat diandalkan karena bernilai `None`. Tetapi jika Anda memperhatikan kolom `Email`, Anda dapat melihat beberapa customer memiliki domain email `apple`, yang bisa menjadi indikator perusahaan mereka."
   ]
  },
  {
   "cell_type": "code",
   "execution_count": null,
   "metadata": {},
   "outputs": [],
   "source": [
    "customerinv = pd.read_sql_query(\n",
    "    \"\"\"\n",
    "    SELECT FirstName, LastName, Email, Company,\n",
    "    InvoiceId, InvoiceDate, BillingCountry, Total\n",
    "    FROM invoices\n",
    "    LEFT JOIN customers\n",
    "    ON invoices.CustomerId = customers.CustomerId\n",
    "    \"\"\",\n",
    "    conn)\n",
    "\n",
    "customerinv.head()"
   ]
  },
  {
   "cell_type": "markdown",
   "metadata": {},
   "source": [
    "**Pertanyaan:** Berapa pelanggan yang bekerja di Apple Inc., jika kita menggunakan domain `Email` sebagai pengganti indikator `Company`?\n",
    "\n",
    "- [ ] 412\n",
    "- [ ] 49\n",
    "- [ ] 7\n",
    "- [ ] 14\n",
    "\n",
    "Silahkan lengkapi kode berikut:\n",
    "\n",
    "```python\n",
    "applecust = pd.read_sql_query(\n",
    "    \"\"\"\n",
    "    SELECT firstname, lastname, email, company,\n",
    "    invoiceid, invoicedate, billingcountry, total\n",
    "    FROM invoices\n",
    "    LEFT JOIN customers\n",
    "    ON invoices.___ = customers.___\n",
    "    WHERE ___\n",
    "    \"\"\",\n",
    "    conn\n",
    ")\n",
    "```"
   ]
  },
  {
   "cell_type": "code",
   "execution_count": null,
   "metadata": {
    "run_control": {
     "marked": false
    }
   },
   "outputs": [],
   "source": [
    "# your code here\n"
   ]
  },
  {
   "cell_type": "markdown",
   "metadata": {},
   "source": [
    "## 📝 Summary"
   ]
  },
  {
   "cell_type": "markdown",
   "metadata": {},
   "source": [
    "### ❓ Knowledge Check 1: SQL Statement Function\n",
    "\n",
    "Kita telah mempelajari banyak statement pada SQL, silahkan mencocokan statement sesuai dengan kegunaannya:\n",
    "\n",
    "**KEGUNAAN**\n",
    "\n",
    "A. Memberikan nama lain pada tabel maupun kolom\n",
    "\n",
    "B. Mengambil beberapa baris teratas dari tabel\n",
    "\n",
    "C. Mengurutkan baris berdasarkan nilai pada kolom\n",
    "\n",
    "D. Mengambil kolom dari sebuah tabel\n",
    "\n",
    "E. Menggabungkan dua tabel menjadi satu tabel berdasarkan kolom penghubung\n",
    "\n",
    "F. Filter baris\n",
    "\n",
    "G. Membuat tabel agregasi\n",
    "\n",
    "**STATEMENT**\n",
    "\n",
    "1. `SELECT <nama_kolom> FROM <nama_tabel>`\n",
    "\n",
    "2. `LIMIT <banyaknya_baris>`\n",
    "\n",
    "3. `AS <nama_kolom_atau_baris>`\n",
    "\n",
    "4. `<tabel_kiri> [LEFT|INNER] JOIN <tabel_kanan> ON <tabel>.key = <tabel>.key`\n",
    "\n",
    "5. `GROUP BY <nama_kolom>`\n",
    "\n",
    "6. `ORDER BY <nama_kolom> [ASC|DESC]`\n",
    "\n",
    "7. `WHERE <kondisi>`\n",
    "\n",
    "**JAWABAN**\n",
    "\n",
    "1. \n",
    "\n",
    "2. \n",
    "\n",
    "3. \n",
    "\n",
    "4. \n",
    "\n",
    "5. \n",
    "\n",
    "6. \n",
    "\n",
    "7. "
   ]
  },
  {
   "cell_type": "markdown",
   "metadata": {},
   "source": [
    "### ❓ Knowledge Check 2: SQL Statement Structure\n",
    "\n",
    "Susunlah 8 baris SQL statement berikut menjadi sebuah kerangka urutan syntax yang benar:\n",
    "\n",
    "1. `GROUP BY <nama_kolom>`\n",
    "\n",
    "2. `LIMIT <banyaknya_baris>`\n",
    "\n",
    "3. `SELECT <nama_kolom> AS ...`\n",
    "\n",
    "4. `[LEFT|INNER] JOIN <tabel_kanan> AS ...`\n",
    "\n",
    "5. `ORDER BY <nama_kolom> [ASC|DESC]`\n",
    "\n",
    "6. `FROM <nama_tabel> AS ...`\n",
    "\n",
    "7. `WHERE <kondisi>`\n",
    "    \n",
    "8. `ON <tabel>.key = <tabel>.key`\n",
    "\n",
    "> **JAWABAN**: Urutan yang benar adalah ..."
   ]
  },
  {
   "cell_type": "markdown",
   "metadata": {},
   "source": [
    "### 💭 Dive Deeper\n",
    "\n",
    "Toko musik digital ini ingin memberikan satu penghargaan ke `employees` yang telah bekerja keras melakukan penjualan di `BillingCountry` Amerika Selatan (yaitu negara **Argentina, Brazil, dan Chile**). Apabila penghargaan tersebut diberikan kepada `employees` berdasarkan **jumlah `Total`** penjualan, siapakah yang berhak mendapatkannya? Tampilkan **nama lengkap (`FirstName` dan `LastName`) beserta total penjualannya**."
   ]
  },
  {
   "cell_type": "code",
   "execution_count": null,
   "metadata": {},
   "outputs": [],
   "source": [
    "# your code here\n"
   ]
  },
  {
   "cell_type": "markdown",
   "metadata": {},
   "source": [
    "# Under and Over Fetching\n",
    "\n",
    "Konsep client-server pada database: Sedikit berbeda dengan `pandas` yang semua operasinya dilakukan di komputer lokal Anda. Ketika Anda bekerja dengan SQL, kemungkinan besar Anda memiliki database relasional yang disimpan terpusat pada server dan dapat diakses oleh beberapa client.\n",
    "\n",
    "![](assets/clientserver.png)\n",
    "\n",
    "Saat Anda melakukan query, sebenarnya Anda sedang menjalankan perintah untuk mengunduh data ke komputer lokal. Proses pengunduhan ini membutuhkan sumber daya dan perlu memanfaatkan alat secara efektif untuk meminimalkan biaya.\n",
    "\n",
    "- **Over** fetching adalah kondisi dimana kita menarik data dari database **lebih dari** yang dibutuhkan, sehingga membutuhkan biaya dan waktu yang lebih.\n",
    "\n",
    "- **Under** fetching adalah kondisi sebaliknya, dimana data yang ditarik **kurang dari** yang dibutuhkan, sehingga proses analisis tidak dapat dilakukan secara lengkap."
   ]
  },
  {
   "cell_type": "markdown",
   "metadata": {},
   "source": [
    "**Diskusi:**\n",
    "\n",
    "Anda diminta untuk melakukan analisis terhadap semua penjualan (`invoices`) genre `Rock` pada tahun 2012. Pertimbangkan pertanyaan berikut:\n",
    "\n",
    "- Apakah perlu bagi Anda untuk mengunduh semua tabel `tracks` ke komputer lokal?\n",
    "- Apakah Anda melakukan filter baris terhadap `tracks` dengan genre `Rock` menggunakan SQL statement `WHERE` atau conditional subsetting `pandas`?\n",
    "- Karena kita memerlukan informasi dari beberapa tabel, manakah cara yang lebih nyaman: melakukan query dengan `JOIN` atau melakukan `SELECT` secara terpisah dari database?\n",
    "\n",
    "Cobalah membuat query yang paling optimum menurut Anda:"
   ]
  },
  {
   "cell_type": "code",
   "execution_count": null,
   "metadata": {},
   "outputs": [],
   "source": [
    "# your code here\n"
   ]
  },
  {
   "cell_type": "markdown",
   "metadata": {},
   "source": [
    "# (Optional) SQL Subquery\n",
    "\n",
    "Dalam beberapa kasus tertentu, kita ingin melakukan filter baris berdasarkan syarat tertentu dimana nilai-nilai kondisi didapatkan dari hasil query lain. Apakah Anda masih ingat bagaimana kita mengambil semua pelanggan yang memiliki `invoices` dengan Total paling tinggi? (Bagian SQL Aggregation)"
   ]
  },
  {
   "cell_type": "code",
   "execution_count": null,
   "metadata": {},
   "outputs": [],
   "source": [
    "# menampilkan top 5 customers dengan total pembelanjaan terbanyak\n",
    "pd.read_sql_query(\n",
    "    \"\"\"\n",
    "    SELECT CustomerId, SUM(Total) AS TotalValue,\n",
    "    COUNT(InvoiceId) AS Purchases\n",
    "    FROM invoices\n",
    "    GROUP BY CustomerId\n",
    "    ORDER BY TotalValue DESC\n",
    "    LIMIT 5\n",
    "    \"\"\",\n",
    "    conn,\n",
    "    index_col='CustomerId'\n",
    ")"
   ]
  },
  {
   "cell_type": "markdown",
   "metadata": {},
   "source": [
    "Misalnya dari tabel tersebut kita ingin menarik semua data `invoices` berdasarkan top 5 `customers`. Untuk melakukan hal tersebut, kita akan menggunakan subquery setelah statement `WHERE` menggunakan operator `IN`. Sebenarnya kita bisa saja menuliskan list `CustomerId` dalam kondisi secara **hard-code** seperti ini:"
   ]
  },
  {
   "cell_type": "code",
   "execution_count": null,
   "metadata": {
    "scrolled": true
   },
   "outputs": [],
   "source": [
    "# menampilkan invoices hanya untuk top 5 customers\n",
    "top5cust_hardcode = pd.read_sql_query(\n",
    "    \"\"\"\n",
    "    SELECT *\n",
    "    FROM invoices\n",
    "    WHERE CustomerId IN (6, 26, 57, 45, 46)\n",
    "    \"\"\",\n",
    "    conn)\n",
    "\n",
    "top5cust_hardcode['CustomerId'].unique()"
   ]
  },
  {
   "cell_type": "markdown",
   "metadata": {},
   "source": [
    "Namun cara hard-code seperti itu tidak disarankan. Bagaimana kalau database kita terus bertambah, sehingga bukan lagi `CustomerId` 6, 26, 57, 45, 46 yang merupakan top 5 customers? Maka dari itu, kita perlu menggunakan subquery agar **query kita lebih dinamis terhadap perubahan data**.\n",
    "\n",
    "Untuk itu mari kita persiapkan **subquery** yang hanya mengembalikan list Top 5 `CustomerId` berdasarkan `Total` pembelian:"
   ]
  },
  {
   "cell_type": "code",
   "execution_count": null,
   "metadata": {},
   "outputs": [],
   "source": [
    "# subquery\n",
    "pd.read_sql_query(\n",
    "    \"\"\"\n",
    "    SELECT CustomerId\n",
    "    FROM invoices\n",
    "    GROUP BY CustomerId\n",
    "    ORDER BY SUM(Total) DESC\n",
    "    LIMIT 5\n",
    "    \"\"\",\n",
    "    conn)"
   ]
  },
  {
   "cell_type": "markdown",
   "metadata": {},
   "source": [
    "Subquery di atas kita gunakan untuk menggantikan query yang hard-code:"
   ]
  },
  {
   "cell_type": "code",
   "execution_count": null,
   "metadata": {
    "scrolled": true
   },
   "outputs": [],
   "source": [
    "top5cust_subquery = pd.read_sql_query(\n",
    "    \"\"\"\n",
    "    SELECT *\n",
    "    FROM invoices\n",
    "    WHERE CustomerId IN (\n",
    "        SELECT CustomerId\n",
    "        FROM invoices\n",
    "        GROUP BY CustomerId\n",
    "        ORDER BY SUM(Total) DESC\n",
    "        LIMIT 5\n",
    "    )\n",
    "    \"\"\",\n",
    "    conn)\n",
    "\n",
    "top5cust_subquery"
   ]
  },
  {
   "cell_type": "markdown",
   "metadata": {},
   "source": [
    "Memang hasil `top5cust_hardcode` dengan `top5cust_subquery` akan sama persis, namun secara sintaks `top5cust_subquery` jauh lebih baik karena code lebih dinamis."
   ]
  },
  {
   "cell_type": "code",
   "execution_count": null,
   "metadata": {},
   "outputs": [],
   "source": [
    "top5cust_hardcode.shape"
   ]
  },
  {
   "cell_type": "code",
   "execution_count": null,
   "metadata": {},
   "outputs": [],
   "source": [
    "# keuntungan: code lebih dinamis kalau ada perubahan data di masa depan\n",
    "top5cust_subquery.shape"
   ]
  }
 ],
 "metadata": {
  "kernelspec": {
   "display_name": "theia_da",
   "language": "python",
   "name": "theia_da"
  },
  "language_info": {
   "codemirror_mode": {
    "name": "ipython",
    "version": 3
   },
   "file_extension": ".py",
   "mimetype": "text/x-python",
   "name": "python",
   "nbconvert_exporter": "python",
   "pygments_lexer": "ipython3",
   "version": "3.9.13"
  },
  "toc": {
   "base_numbering": 1,
   "nav_menu": {},
   "number_sections": true,
   "sideBar": true,
   "skip_h1_title": false,
   "title_cell": "Table of Contents",
   "title_sidebar": "Contents",
   "toc_cell": false,
   "toc_position": {
    "height": "calc(100% - 180px)",
    "left": "10px",
    "top": "150px",
    "width": "270.66px"
   },
   "toc_section_display": true,
   "toc_window_display": false
  },
  "varInspector": {
   "cols": {
    "lenName": 16,
    "lenType": 16,
    "lenVar": 40
   },
   "kernels_config": {
    "python": {
     "delete_cmd_postfix": "",
     "delete_cmd_prefix": "del ",
     "library": "var_list.py",
     "varRefreshCmd": "print(var_dic_list())"
    },
    "r": {
     "delete_cmd_postfix": ") ",
     "delete_cmd_prefix": "rm(",
     "library": "var_list.r",
     "varRefreshCmd": "cat(var_dic_list()) "
    }
   },
   "types_to_exclude": [
    "module",
    "function",
    "builtin_function_or_method",
    "instance",
    "_Feature"
   ],
   "window_display": false
  }
 },
 "nbformat": 4,
 "nbformat_minor": 4
}
