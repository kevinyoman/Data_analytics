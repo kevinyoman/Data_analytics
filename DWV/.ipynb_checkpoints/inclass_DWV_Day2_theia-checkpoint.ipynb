{
 "cells": [
  {
   "cell_type": "markdown",
   "metadata": {},
   "source": [
    "**Inclass material for Week 3: Data Wrangling and Visualization**\n",
    "\n",
    "This notebook was made based on main materials `3_Data_Wrangling_and_Visualization.ipynb`\n",
    "\n",
    "Version: Theia - September 2022"
   ]
  },
  {
   "cell_type": "markdown",
   "metadata": {},
   "source": [
    "# Data Wrangling and Visualization\n",
    "\n",
    "Berikut adalah method yang telah kita pelajari di dua course sebelumnya:\n",
    "\n",
    "**Data Inspection** (Course: Python for Data Analysts)\n",
    "- `.head()` and `.tail()`\n",
    "- `.describe()`\n",
    "- `.shape` and `.size`\n",
    "- `.axes`\n",
    "- `.dtypes`\n",
    "- Subsetting using `.loc`, `.iloc` and conditionals\n",
    "\n",
    "**Diagnostic and Exploratory** (Course: Exploratory Data Analysis)\n",
    "- Tables\n",
    "- Cross-Tables and Aggregates\n",
    "- Using `aggfunc` for aggregate functions\n",
    "- Pivot Tables\n",
    "- Working with DateTime\n",
    "- Working with Categorical Data\n",
    "- Duplicates and Missing Value Treatment\n",
    "\n",
    "---\n",
    "\n",
    "**Training Objectives for Course Data Wrangling and Visualization**\n",
    "\n",
    "- Working with MultiIndex DataFrames\n",
    "- Stacking and Unstacking\n",
    "- Reshaping your DataFrame with Melt\n",
    "- Using Group By Effectively\n",
    "- Visual Data Exploratory"
   ]
  },
  {
   "cell_type": "markdown",
   "metadata": {},
   "source": [
    "**Agenda Day 1**\n",
    "\n",
    "- Reproducible Environment\n",
    "    - Apa dan mengapa dilakukan reproducible environment\n",
    "    - Praktik untuk melakukan import dan export environment\n",
    "- MultiIndex Dataframe\n",
    "    - Mengetahui bentuk MultiIndex Dataframe\n",
    "    - Reshaping\n",
    "        - Cross-section `xs()`\n",
    "        - Stack Dataframe\n",
    "        - Unstack Dataframe"
   ]
  },
  {
   "cell_type": "markdown",
   "metadata": {},
   "source": [
    "# Reproducible Environment\n",
    "\n",
    "Bayangkan Anda sedang mengerjakan suatu proyek yang membutuhkan kolaborasi dengan tim. Proyek tersebut diinisiasi oleh Anda, code dan packages pada komputer Anda berjalan dengan baik. Kemudian Anda ingin membagikan proyek tersebut kepada tim Anda. Apakah tim Anda harus melakukan instalasi package satu per satu secara manual? Tentu tidak, di sini Anda membuat suatu **environment** yang dapat di-reproducible (digandakan) dengan membuat suatu file `requirements.txt`.\n",
    "\n",
    "Lihat pada folder `/assets`, Anda akan menemukan file `requirements.txt` yang isinya seperti ini:\n",
    "```\n",
    "numpy==1.21.4\n",
    "pandas==1.3.4\n",
    "matplotlib==3.5.0\n",
    "yfinance==0.1.67\n",
    "...\n",
    "```\n",
    "\n",
    "File ini berisi daftar **packages beserta versinya** yang ada di environment dalam menjalankan proyek tertentu. File ini membantu tim Anda untuk mengembangkan suatu aplikasi dalam satu versi yang sama, sehingga mencegah terjadinya perubahan fungsi-fungsi yang tidak terduga."
   ]
  },
  {
   "cell_type": "markdown",
   "metadata": {},
   "source": [
    "## Exporting Requirements\n",
    "\n",
    "Misal Anda ingin membagikan daftar packages suatu environment kepada tim Anda, maka lakukanlah langkah berikut:\n",
    "\n",
    "1. Aktifkan environment\n",
    "```\n",
    "conda activate <ENV_NAME>\n",
    "```\n",
    "\n",
    "2. Navigasikan path ke folder tempat di mana file `requirements.txt` ingin disimpan\n",
    "```\n",
    "cd <PATH_TO_REQUIREMENTS_FOLDER>\n",
    "```\n",
    "\n",
    "3. Export environment: membuat daftar packages beserta versinya.\n",
    "```\n",
    "pip list --format=freeze > requirements.txt\n",
    "```\n",
    "\n",
    "💡 **Note**: Anda dapat menyimpan file dengan nama lain, namun sebagai **konvensi** biasa digunakan penamaan `requirements.txt`"
   ]
  },
  {
   "cell_type": "markdown",
   "metadata": {},
   "source": [
    "## Importing Requirements\n",
    "\n",
    "Misal Anda yang meneruskan proyek dan telah menerima file `txt` dari tim Anda, maka lakukanlah langkah berikut:\n",
    "\n",
    "1. Aktifkan environment yang ingin digunakan\n",
    "    ```\n",
    "    conda activate <ENV_NAME>\n",
    "    ```\n",
    "\n",
    "    💡 Apabila belum ada, maka perlu membuat environment baru:\n",
    "    ```\n",
    "    conda create -n <ENV_NAME> python=<PYTHON_VERSION>\n",
    "    ```\n",
    "    \n",
    "    ⚠️ Jangan lupa instalasi kernel di dalam environment tersebut apabila ingin dapat diakses menggunakan jupyter notebook:\n",
    "    ```\n",
    "    pip install ipykernel\n",
    "    python -m ipykernel install --user --name=<ENV_NAME>\n",
    "    ```\n",
    "\n",
    "2. Navigasikan path ke folder di mana file `requirements.txt` berada\n",
    "    ```\n",
    "    cd <PATH_TO_REQUIREMENTS>\n",
    "    ```\n",
    "\n",
    "3. Instalasi packages dari file tersebut\n",
    "    ```\n",
    "    pip install -r requirements.txt\n",
    "    ```"
   ]
  },
  {
   "cell_type": "markdown",
   "metadata": {},
   "source": [
    "# Data Wrangling and Reshaping"
   ]
  },
  {
   "cell_type": "markdown",
   "metadata": {},
   "source": [
    "## Load Data\n",
    "\n",
    "### `yfinance`\n",
    "\n",
    "Kita akan menggunakan library `yfinance` untuk mengakses data saham yang tersedia pada [Yahoo! Finance](https://finance.yahoo.com/). Penarikan data menggunakan `yfinance` membutuhkan koneksi internet.\n",
    "\n",
    "Dokumentasi: https://pypi.org/project/yfinance/"
   ]
  },
  {
   "cell_type": "code",
   "execution_count": 1,
   "metadata": {
    "ExecuteTime": {
     "end_time": "2021-06-27T07:25:24.225168Z",
     "start_time": "2021-06-27T07:25:23.595116Z"
    }
   },
   "outputs": [],
   "source": [
    "import pandas as pd\n",
    "import yfinance as data\n",
    "pd.set_option('display.float_format', lambda x: '%.2f' % x)"
   ]
  },
  {
   "cell_type": "code",
   "execution_count": 2,
   "metadata": {
    "ExecuteTime": {
     "end_time": "2021-06-27T06:57:35.462552Z",
     "start_time": "2021-06-27T06:57:33.823491Z"
    },
    "scrolled": true
   },
   "outputs": [
    {
     "name": "stdout",
     "output_type": "stream",
     "text": [
      "[*********************100%***********************]  3 of 3 completed\n"
     ]
    },
    {
     "data": {
      "text/html": [
       "<div>\n",
       "<style scoped>\n",
       "    .dataframe tbody tr th:only-of-type {\n",
       "        vertical-align: middle;\n",
       "    }\n",
       "\n",
       "    .dataframe tbody tr th {\n",
       "        vertical-align: top;\n",
       "    }\n",
       "\n",
       "    .dataframe thead tr th {\n",
       "        text-align: left;\n",
       "    }\n",
       "\n",
       "    .dataframe thead tr:last-of-type th {\n",
       "        text-align: right;\n",
       "    }\n",
       "</style>\n",
       "<table border=\"1\" class=\"dataframe\">\n",
       "  <thead>\n",
       "    <tr>\n",
       "      <th>Attributes</th>\n",
       "      <th colspan=\"3\" halign=\"left\">Adj Close</th>\n",
       "      <th colspan=\"3\" halign=\"left\">Close</th>\n",
       "      <th colspan=\"3\" halign=\"left\">High</th>\n",
       "      <th colspan=\"3\" halign=\"left\">Low</th>\n",
       "      <th colspan=\"3\" halign=\"left\">Open</th>\n",
       "      <th colspan=\"3\" halign=\"left\">Volume</th>\n",
       "    </tr>\n",
       "    <tr>\n",
       "      <th>Symbols</th>\n",
       "      <th>AAPL</th>\n",
       "      <th>GOOGL</th>\n",
       "      <th>TSLA</th>\n",
       "      <th>AAPL</th>\n",
       "      <th>GOOGL</th>\n",
       "      <th>TSLA</th>\n",
       "      <th>AAPL</th>\n",
       "      <th>GOOGL</th>\n",
       "      <th>TSLA</th>\n",
       "      <th>AAPL</th>\n",
       "      <th>GOOGL</th>\n",
       "      <th>TSLA</th>\n",
       "      <th>AAPL</th>\n",
       "      <th>GOOGL</th>\n",
       "      <th>TSLA</th>\n",
       "      <th>AAPL</th>\n",
       "      <th>GOOGL</th>\n",
       "      <th>TSLA</th>\n",
       "    </tr>\n",
       "    <tr>\n",
       "      <th>Date</th>\n",
       "      <th></th>\n",
       "      <th></th>\n",
       "      <th></th>\n",
       "      <th></th>\n",
       "      <th></th>\n",
       "      <th></th>\n",
       "      <th></th>\n",
       "      <th></th>\n",
       "      <th></th>\n",
       "      <th></th>\n",
       "      <th></th>\n",
       "      <th></th>\n",
       "      <th></th>\n",
       "      <th></th>\n",
       "      <th></th>\n",
       "      <th></th>\n",
       "      <th></th>\n",
       "      <th></th>\n",
       "    </tr>\n",
       "  </thead>\n",
       "  <tbody>\n",
       "    <tr>\n",
       "      <th>2018-01-02</th>\n",
       "      <td>41.02</td>\n",
       "      <td>53.66</td>\n",
       "      <td>21.37</td>\n",
       "      <td>43.06</td>\n",
       "      <td>53.66</td>\n",
       "      <td>21.37</td>\n",
       "      <td>43.08</td>\n",
       "      <td>53.80</td>\n",
       "      <td>21.47</td>\n",
       "      <td>42.31</td>\n",
       "      <td>52.65</td>\n",
       "      <td>20.73</td>\n",
       "      <td>42.54</td>\n",
       "      <td>52.65</td>\n",
       "      <td>20.80</td>\n",
       "      <td>102223600</td>\n",
       "      <td>31766000</td>\n",
       "      <td>65283000</td>\n",
       "    </tr>\n",
       "    <tr>\n",
       "      <th>2018-01-03</th>\n",
       "      <td>41.01</td>\n",
       "      <td>54.58</td>\n",
       "      <td>21.15</td>\n",
       "      <td>43.06</td>\n",
       "      <td>54.58</td>\n",
       "      <td>21.15</td>\n",
       "      <td>43.64</td>\n",
       "      <td>54.81</td>\n",
       "      <td>21.68</td>\n",
       "      <td>42.99</td>\n",
       "      <td>53.67</td>\n",
       "      <td>21.04</td>\n",
       "      <td>43.13</td>\n",
       "      <td>53.70</td>\n",
       "      <td>21.40</td>\n",
       "      <td>118071600</td>\n",
       "      <td>31318000</td>\n",
       "      <td>67822500</td>\n",
       "    </tr>\n",
       "    <tr>\n",
       "      <th>2018-01-04</th>\n",
       "      <td>41.20</td>\n",
       "      <td>54.79</td>\n",
       "      <td>20.97</td>\n",
       "      <td>43.26</td>\n",
       "      <td>54.79</td>\n",
       "      <td>20.97</td>\n",
       "      <td>43.37</td>\n",
       "      <td>55.20</td>\n",
       "      <td>21.24</td>\n",
       "      <td>43.02</td>\n",
       "      <td>54.71</td>\n",
       "      <td>20.38</td>\n",
       "      <td>43.13</td>\n",
       "      <td>54.85</td>\n",
       "      <td>20.86</td>\n",
       "      <td>89738400</td>\n",
       "      <td>26052000</td>\n",
       "      <td>149194500</td>\n",
       "    </tr>\n",
       "    <tr>\n",
       "      <th>2018-01-05</th>\n",
       "      <td>41.67</td>\n",
       "      <td>55.51</td>\n",
       "      <td>21.11</td>\n",
       "      <td>43.75</td>\n",
       "      <td>55.51</td>\n",
       "      <td>21.11</td>\n",
       "      <td>43.84</td>\n",
       "      <td>55.68</td>\n",
       "      <td>21.15</td>\n",
       "      <td>43.26</td>\n",
       "      <td>55.09</td>\n",
       "      <td>20.80</td>\n",
       "      <td>43.36</td>\n",
       "      <td>55.17</td>\n",
       "      <td>21.11</td>\n",
       "      <td>94640000</td>\n",
       "      <td>30250000</td>\n",
       "      <td>68868000</td>\n",
       "    </tr>\n",
       "    <tr>\n",
       "      <th>2018-01-08</th>\n",
       "      <td>41.52</td>\n",
       "      <td>55.71</td>\n",
       "      <td>22.43</td>\n",
       "      <td>43.59</td>\n",
       "      <td>55.71</td>\n",
       "      <td>22.43</td>\n",
       "      <td>43.90</td>\n",
       "      <td>55.96</td>\n",
       "      <td>22.47</td>\n",
       "      <td>43.48</td>\n",
       "      <td>55.50</td>\n",
       "      <td>21.03</td>\n",
       "      <td>43.59</td>\n",
       "      <td>55.55</td>\n",
       "      <td>21.07</td>\n",
       "      <td>82271200</td>\n",
       "      <td>24644000</td>\n",
       "      <td>147891000</td>\n",
       "    </tr>\n",
       "  </tbody>\n",
       "</table>\n",
       "</div>"
      ],
      "text/plain": [
       "Attributes Adj Close             Close              High               Low  \\\n",
       "Symbols         AAPL GOOGL  TSLA  AAPL GOOGL  TSLA  AAPL GOOGL  TSLA  AAPL   \n",
       "Date                                                                         \n",
       "2018-01-02     41.02 53.66 21.37 43.06 53.66 21.37 43.08 53.80 21.47 42.31   \n",
       "2018-01-03     41.01 54.58 21.15 43.06 54.58 21.15 43.64 54.81 21.68 42.99   \n",
       "2018-01-04     41.20 54.79 20.97 43.26 54.79 20.97 43.37 55.20 21.24 43.02   \n",
       "2018-01-05     41.67 55.51 21.11 43.75 55.51 21.11 43.84 55.68 21.15 43.26   \n",
       "2018-01-08     41.52 55.71 22.43 43.59 55.71 22.43 43.90 55.96 22.47 43.48   \n",
       "\n",
       "Attributes              Open                 Volume                       \n",
       "Symbols    GOOGL  TSLA  AAPL GOOGL  TSLA       AAPL     GOOGL       TSLA  \n",
       "Date                                                                      \n",
       "2018-01-02 52.65 20.73 42.54 52.65 20.80  102223600  31766000   65283000  \n",
       "2018-01-03 53.67 21.04 43.13 53.70 21.40  118071600  31318000   67822500  \n",
       "2018-01-04 54.71 20.38 43.13 54.85 20.86   89738400  26052000  149194500  \n",
       "2018-01-05 55.09 20.80 43.36 55.17 21.11   94640000  30250000   68868000  \n",
       "2018-01-08 55.50 21.03 43.59 55.55 21.07   82271200  24644000  147891000  "
      ]
     },
     "execution_count": 2,
     "metadata": {},
     "output_type": "execute_result"
    }
   ],
   "source": [
    "symbol = ['AAPL', 'TSLA', 'GOOGL']\n",
    "start_date = '2018-01-01' # 1 Januari 2018\n",
    "end_date = '2022-09-18' # 18 September 2022\n",
    "\n",
    "stock = data.download(tickers = symbol, start = start_date, end = end_date)\n",
    "stock.columns.names = ['Attributes', 'Symbols']\n",
    "stock.head() "
   ]
  },
  {
   "cell_type": "code",
   "execution_count": 3,
   "metadata": {},
   "outputs": [
    {
     "name": "stdout",
     "output_type": "stream",
     "text": [
      "[*********************100%***********************]  3 of 3 completed\n"
     ]
    },
    {
     "data": {
      "text/html": [
       "<div>\n",
       "<style scoped>\n",
       "    .dataframe tbody tr th:only-of-type {\n",
       "        vertical-align: middle;\n",
       "    }\n",
       "\n",
       "    .dataframe tbody tr th {\n",
       "        vertical-align: top;\n",
       "    }\n",
       "\n",
       "    .dataframe thead tr th {\n",
       "        text-align: left;\n",
       "    }\n",
       "\n",
       "    .dataframe thead tr:last-of-type th {\n",
       "        text-align: right;\n",
       "    }\n",
       "</style>\n",
       "<table border=\"1\" class=\"dataframe\">\n",
       "  <thead>\n",
       "    <tr>\n",
       "      <th>Attributes</th>\n",
       "      <th colspan=\"3\" halign=\"left\">Adj Close</th>\n",
       "      <th colspan=\"3\" halign=\"left\">Close</th>\n",
       "      <th colspan=\"3\" halign=\"left\">High</th>\n",
       "      <th colspan=\"3\" halign=\"left\">Low</th>\n",
       "      <th colspan=\"3\" halign=\"left\">Open</th>\n",
       "      <th colspan=\"3\" halign=\"left\">Volume</th>\n",
       "    </tr>\n",
       "    <tr>\n",
       "      <th>Symbols</th>\n",
       "      <th>BBCA.JK</th>\n",
       "      <th>BBRI.JK</th>\n",
       "      <th>BTC-USD</th>\n",
       "      <th>BBCA.JK</th>\n",
       "      <th>BBRI.JK</th>\n",
       "      <th>BTC-USD</th>\n",
       "      <th>BBCA.JK</th>\n",
       "      <th>BBRI.JK</th>\n",
       "      <th>BTC-USD</th>\n",
       "      <th>BBCA.JK</th>\n",
       "      <th>BBRI.JK</th>\n",
       "      <th>BTC-USD</th>\n",
       "      <th>BBCA.JK</th>\n",
       "      <th>BBRI.JK</th>\n",
       "      <th>BTC-USD</th>\n",
       "      <th>BBCA.JK</th>\n",
       "      <th>BBRI.JK</th>\n",
       "      <th>BTC-USD</th>\n",
       "    </tr>\n",
       "    <tr>\n",
       "      <th>Date</th>\n",
       "      <th></th>\n",
       "      <th></th>\n",
       "      <th></th>\n",
       "      <th></th>\n",
       "      <th></th>\n",
       "      <th></th>\n",
       "      <th></th>\n",
       "      <th></th>\n",
       "      <th></th>\n",
       "      <th></th>\n",
       "      <th></th>\n",
       "      <th></th>\n",
       "      <th></th>\n",
       "      <th></th>\n",
       "      <th></th>\n",
       "      <th></th>\n",
       "      <th></th>\n",
       "      <th></th>\n",
       "    </tr>\n",
       "  </thead>\n",
       "  <tbody>\n",
       "    <tr>\n",
       "      <th>2017-12-31</th>\n",
       "      <td>NaN</td>\n",
       "      <td>NaN</td>\n",
       "      <td>14156.40</td>\n",
       "      <td>NaN</td>\n",
       "      <td>NaN</td>\n",
       "      <td>14156.40</td>\n",
       "      <td>NaN</td>\n",
       "      <td>NaN</td>\n",
       "      <td>14377.40</td>\n",
       "      <td>NaN</td>\n",
       "      <td>NaN</td>\n",
       "      <td>12755.60</td>\n",
       "      <td>NaN</td>\n",
       "      <td>NaN</td>\n",
       "      <td>12897.70</td>\n",
       "      <td>NaN</td>\n",
       "      <td>NaN</td>\n",
       "      <td>12136299520</td>\n",
       "    </tr>\n",
       "    <tr>\n",
       "      <th>2018-01-01</th>\n",
       "      <td>4060.43</td>\n",
       "      <td>3119.61</td>\n",
       "      <td>13657.20</td>\n",
       "      <td>4380.00</td>\n",
       "      <td>3640.00</td>\n",
       "      <td>13657.20</td>\n",
       "      <td>4380.00</td>\n",
       "      <td>3640.00</td>\n",
       "      <td>14112.20</td>\n",
       "      <td>4380.00</td>\n",
       "      <td>3640.00</td>\n",
       "      <td>13154.70</td>\n",
       "      <td>4380.00</td>\n",
       "      <td>3640.00</td>\n",
       "      <td>14112.20</td>\n",
       "      <td>0.00</td>\n",
       "      <td>0.00</td>\n",
       "      <td>10291200000</td>\n",
       "    </tr>\n",
       "    <tr>\n",
       "      <th>2018-01-02</th>\n",
       "      <td>4060.43</td>\n",
       "      <td>3111.04</td>\n",
       "      <td>14982.10</td>\n",
       "      <td>4380.00</td>\n",
       "      <td>3630.00</td>\n",
       "      <td>14982.10</td>\n",
       "      <td>4505.00</td>\n",
       "      <td>3720.00</td>\n",
       "      <td>15444.60</td>\n",
       "      <td>4365.00</td>\n",
       "      <td>3610.00</td>\n",
       "      <td>13163.60</td>\n",
       "      <td>4380.00</td>\n",
       "      <td>3690.00</td>\n",
       "      <td>13625.00</td>\n",
       "      <td>82303500.00</td>\n",
       "      <td>91127100.00</td>\n",
       "      <td>16846600192</td>\n",
       "    </tr>\n",
       "    <tr>\n",
       "      <th>2018-01-03</th>\n",
       "      <td>4060.43</td>\n",
       "      <td>3093.90</td>\n",
       "      <td>15201.00</td>\n",
       "      <td>4380.00</td>\n",
       "      <td>3610.00</td>\n",
       "      <td>15201.00</td>\n",
       "      <td>4390.00</td>\n",
       "      <td>3630.00</td>\n",
       "      <td>15572.80</td>\n",
       "      <td>4265.00</td>\n",
       "      <td>3560.00</td>\n",
       "      <td>14844.50</td>\n",
       "      <td>4385.00</td>\n",
       "      <td>3630.00</td>\n",
       "      <td>14978.20</td>\n",
       "      <td>68214000.00</td>\n",
       "      <td>70148700.00</td>\n",
       "      <td>16871900160</td>\n",
       "    </tr>\n",
       "    <tr>\n",
       "      <th>2018-01-04</th>\n",
       "      <td>4120.69</td>\n",
       "      <td>3042.48</td>\n",
       "      <td>15599.20</td>\n",
       "      <td>4445.00</td>\n",
       "      <td>3550.00</td>\n",
       "      <td>15599.20</td>\n",
       "      <td>4445.00</td>\n",
       "      <td>3610.00</td>\n",
       "      <td>15739.70</td>\n",
       "      <td>4380.00</td>\n",
       "      <td>3460.00</td>\n",
       "      <td>14522.20</td>\n",
       "      <td>4380.00</td>\n",
       "      <td>3610.00</td>\n",
       "      <td>15270.70</td>\n",
       "      <td>76567000.00</td>\n",
       "      <td>156406300.00</td>\n",
       "      <td>21783199744</td>\n",
       "    </tr>\n",
       "  </tbody>\n",
       "</table>\n",
       "</div>"
      ],
      "text/plain": [
       "Attributes Adj Close                    Close                     High  \\\n",
       "Symbols      BBCA.JK BBRI.JK  BTC-USD BBCA.JK BBRI.JK  BTC-USD BBCA.JK   \n",
       "Date                                                                     \n",
       "2017-12-31       NaN     NaN 14156.40     NaN     NaN 14156.40     NaN   \n",
       "2018-01-01   4060.43 3119.61 13657.20 4380.00 3640.00 13657.20 4380.00   \n",
       "2018-01-02   4060.43 3111.04 14982.10 4380.00 3630.00 14982.10 4505.00   \n",
       "2018-01-03   4060.43 3093.90 15201.00 4380.00 3610.00 15201.00 4390.00   \n",
       "2018-01-04   4120.69 3042.48 15599.20 4445.00 3550.00 15599.20 4445.00   \n",
       "\n",
       "Attributes                      Low                     Open                   \\\n",
       "Symbols    BBRI.JK  BTC-USD BBCA.JK BBRI.JK  BTC-USD BBCA.JK BBRI.JK  BTC-USD   \n",
       "Date                                                                            \n",
       "2017-12-31     NaN 14377.40     NaN     NaN 12755.60     NaN     NaN 12897.70   \n",
       "2018-01-01 3640.00 14112.20 4380.00 3640.00 13154.70 4380.00 3640.00 14112.20   \n",
       "2018-01-02 3720.00 15444.60 4365.00 3610.00 13163.60 4380.00 3690.00 13625.00   \n",
       "2018-01-03 3630.00 15572.80 4265.00 3560.00 14844.50 4385.00 3630.00 14978.20   \n",
       "2018-01-04 3610.00 15739.70 4380.00 3460.00 14522.20 4380.00 3610.00 15270.70   \n",
       "\n",
       "Attributes      Volume                            \n",
       "Symbols        BBCA.JK      BBRI.JK      BTC-USD  \n",
       "Date                                              \n",
       "2017-12-31         NaN          NaN  12136299520  \n",
       "2018-01-01        0.00         0.00  10291200000  \n",
       "2018-01-02 82303500.00  91127100.00  16846600192  \n",
       "2018-01-03 68214000.00  70148700.00  16871900160  \n",
       "2018-01-04 76567000.00 156406300.00  21783199744  "
      ]
     },
     "execution_count": 3,
     "metadata": {},
     "output_type": "execute_result"
    }
   ],
   "source": [
    "symbol = ['BBCA.JK', 'BBRI.JK', 'BTC-USD']\n",
    "start_date = '2018-01-01' # 1 Januari 2018\n",
    "end_date = '2022-09-18' # 18 September 2022\n",
    "\n",
    "stock = data.download(tickers = symbol, start = start_date, end = end_date)\n",
    "stock.columns.names = ['Attributes', 'Symbols']\n",
    "stock.head() "
   ]
  },
  {
   "cell_type": "markdown",
   "metadata": {},
   "source": [
    "Simbol:\n",
    "- `AAPL`: Apple Inc.\n",
    "- `TSLA`: Tesla\n",
    "- `GOOGL`: Alphabet Inc. (Google)\n",
    "\n",
    "Deskripsi data:\n",
    "- `Date`: tanggal dalam format `yyyy-mm-dd`\n",
    "- `High`: nilai saham **tertinggi** pada hari tersebut (satuan harga berdasarkan di mana perusahaan tsb berada)\n",
    "- `Low`: nilai saham **terendah** pada hari tersebut\n",
    "- `Open`: nilai saham saat **trading hours dibuka** pada hari tersebut\n",
    "- `Close`: nilai saham saat **trading hours ditutup** pada hari tersebut\n",
    "- `Adj Close`: nilai `Close` yang telah disesuaikan setelah stock split maupun pembagian dividen \n",
    "- `Volume`: jumlah lembar saham yang berpindah tangan pada hari tersebut (jumlah transaksi jual beli)\n",
    "\n",
    "[Trading hours](https://www.maybank-ke.com.sg/markets/markets-listing/trading-hours/) dapat berbeda-beda pada tiap tempat. Di Indonesia (IDX/BEI), trading hours dibuka pada Senin - Jumat jam 09:00 WIB - 03:00 WIB."
   ]
  },
  {
   "cell_type": "markdown",
   "metadata": {},
   "source": [
    "### File Pickle\n",
    "\n",
    "Pickling/Serializing: **menyimpan** suatu objek Python ke sebuah file binary (byte stream).\n",
    "- Gunakan method `.to_pickle()`\n",
    "- Contohnya objek DataFrame `stock` disimpan sebagai file `stock_2`\n",
    "- Kemudian silahkan cek file pickle pada folder di mana file `.ipynb` ini berada"
   ]
  },
  {
   "cell_type": "code",
   "execution_count": 4,
   "metadata": {
    "ExecuteTime": {
     "end_time": "2021-06-27T06:57:35.475820Z",
     "start_time": "2021-06-27T06:57:35.464552Z"
    }
   },
   "outputs": [],
   "source": [
    "# # hasil penarikan data dari Yahoo! Finance pada cell sebelumnya\n",
    "stock.to_pickle('data_cache/stock_Theia')"
   ]
  },
  {
   "cell_type": "code",
   "execution_count": 5,
   "metadata": {},
   "outputs": [
    {
     "data": {
      "text/html": [
       "<div>\n",
       "<style scoped>\n",
       "    .dataframe tbody tr th:only-of-type {\n",
       "        vertical-align: middle;\n",
       "    }\n",
       "\n",
       "    .dataframe tbody tr th {\n",
       "        vertical-align: top;\n",
       "    }\n",
       "\n",
       "    .dataframe thead tr th {\n",
       "        text-align: left;\n",
       "    }\n",
       "\n",
       "    .dataframe thead tr:last-of-type th {\n",
       "        text-align: right;\n",
       "    }\n",
       "</style>\n",
       "<table border=\"1\" class=\"dataframe\">\n",
       "  <thead>\n",
       "    <tr>\n",
       "      <th>Attributes</th>\n",
       "      <th colspan=\"3\" halign=\"left\">Adj Close</th>\n",
       "      <th colspan=\"3\" halign=\"left\">Close</th>\n",
       "      <th colspan=\"3\" halign=\"left\">High</th>\n",
       "      <th colspan=\"3\" halign=\"left\">Low</th>\n",
       "      <th colspan=\"3\" halign=\"left\">Open</th>\n",
       "      <th colspan=\"3\" halign=\"left\">Volume</th>\n",
       "    </tr>\n",
       "    <tr>\n",
       "      <th>Symbols</th>\n",
       "      <th>BBCA.JK</th>\n",
       "      <th>BBRI.JK</th>\n",
       "      <th>BTC-USD</th>\n",
       "      <th>BBCA.JK</th>\n",
       "      <th>BBRI.JK</th>\n",
       "      <th>BTC-USD</th>\n",
       "      <th>BBCA.JK</th>\n",
       "      <th>BBRI.JK</th>\n",
       "      <th>BTC-USD</th>\n",
       "      <th>BBCA.JK</th>\n",
       "      <th>BBRI.JK</th>\n",
       "      <th>BTC-USD</th>\n",
       "      <th>BBCA.JK</th>\n",
       "      <th>BBRI.JK</th>\n",
       "      <th>BTC-USD</th>\n",
       "      <th>BBCA.JK</th>\n",
       "      <th>BBRI.JK</th>\n",
       "      <th>BTC-USD</th>\n",
       "    </tr>\n",
       "    <tr>\n",
       "      <th>Date</th>\n",
       "      <th></th>\n",
       "      <th></th>\n",
       "      <th></th>\n",
       "      <th></th>\n",
       "      <th></th>\n",
       "      <th></th>\n",
       "      <th></th>\n",
       "      <th></th>\n",
       "      <th></th>\n",
       "      <th></th>\n",
       "      <th></th>\n",
       "      <th></th>\n",
       "      <th></th>\n",
       "      <th></th>\n",
       "      <th></th>\n",
       "      <th></th>\n",
       "      <th></th>\n",
       "      <th></th>\n",
       "    </tr>\n",
       "  </thead>\n",
       "  <tbody>\n",
       "    <tr>\n",
       "      <th>2017-12-31</th>\n",
       "      <td>NaN</td>\n",
       "      <td>NaN</td>\n",
       "      <td>14156.40</td>\n",
       "      <td>NaN</td>\n",
       "      <td>NaN</td>\n",
       "      <td>14156.40</td>\n",
       "      <td>NaN</td>\n",
       "      <td>NaN</td>\n",
       "      <td>14377.40</td>\n",
       "      <td>NaN</td>\n",
       "      <td>NaN</td>\n",
       "      <td>12755.60</td>\n",
       "      <td>NaN</td>\n",
       "      <td>NaN</td>\n",
       "      <td>12897.70</td>\n",
       "      <td>NaN</td>\n",
       "      <td>NaN</td>\n",
       "      <td>12136299520</td>\n",
       "    </tr>\n",
       "    <tr>\n",
       "      <th>2018-01-01</th>\n",
       "      <td>4060.43</td>\n",
       "      <td>3119.61</td>\n",
       "      <td>13657.20</td>\n",
       "      <td>4380.00</td>\n",
       "      <td>3640.00</td>\n",
       "      <td>13657.20</td>\n",
       "      <td>4380.00</td>\n",
       "      <td>3640.00</td>\n",
       "      <td>14112.20</td>\n",
       "      <td>4380.00</td>\n",
       "      <td>3640.00</td>\n",
       "      <td>13154.70</td>\n",
       "      <td>4380.00</td>\n",
       "      <td>3640.00</td>\n",
       "      <td>14112.20</td>\n",
       "      <td>0.00</td>\n",
       "      <td>0.00</td>\n",
       "      <td>10291200000</td>\n",
       "    </tr>\n",
       "    <tr>\n",
       "      <th>2018-01-02</th>\n",
       "      <td>4060.43</td>\n",
       "      <td>3111.04</td>\n",
       "      <td>14982.10</td>\n",
       "      <td>4380.00</td>\n",
       "      <td>3630.00</td>\n",
       "      <td>14982.10</td>\n",
       "      <td>4505.00</td>\n",
       "      <td>3720.00</td>\n",
       "      <td>15444.60</td>\n",
       "      <td>4365.00</td>\n",
       "      <td>3610.00</td>\n",
       "      <td>13163.60</td>\n",
       "      <td>4380.00</td>\n",
       "      <td>3690.00</td>\n",
       "      <td>13625.00</td>\n",
       "      <td>82303500.00</td>\n",
       "      <td>91127100.00</td>\n",
       "      <td>16846600192</td>\n",
       "    </tr>\n",
       "    <tr>\n",
       "      <th>2018-01-03</th>\n",
       "      <td>4060.43</td>\n",
       "      <td>3093.90</td>\n",
       "      <td>15201.00</td>\n",
       "      <td>4380.00</td>\n",
       "      <td>3610.00</td>\n",
       "      <td>15201.00</td>\n",
       "      <td>4390.00</td>\n",
       "      <td>3630.00</td>\n",
       "      <td>15572.80</td>\n",
       "      <td>4265.00</td>\n",
       "      <td>3560.00</td>\n",
       "      <td>14844.50</td>\n",
       "      <td>4385.00</td>\n",
       "      <td>3630.00</td>\n",
       "      <td>14978.20</td>\n",
       "      <td>68214000.00</td>\n",
       "      <td>70148700.00</td>\n",
       "      <td>16871900160</td>\n",
       "    </tr>\n",
       "    <tr>\n",
       "      <th>2018-01-04</th>\n",
       "      <td>4120.69</td>\n",
       "      <td>3042.48</td>\n",
       "      <td>15599.20</td>\n",
       "      <td>4445.00</td>\n",
       "      <td>3550.00</td>\n",
       "      <td>15599.20</td>\n",
       "      <td>4445.00</td>\n",
       "      <td>3610.00</td>\n",
       "      <td>15739.70</td>\n",
       "      <td>4380.00</td>\n",
       "      <td>3460.00</td>\n",
       "      <td>14522.20</td>\n",
       "      <td>4380.00</td>\n",
       "      <td>3610.00</td>\n",
       "      <td>15270.70</td>\n",
       "      <td>76567000.00</td>\n",
       "      <td>156406300.00</td>\n",
       "      <td>21783199744</td>\n",
       "    </tr>\n",
       "  </tbody>\n",
       "</table>\n",
       "</div>"
      ],
      "text/plain": [
       "Attributes Adj Close                    Close                     High  \\\n",
       "Symbols      BBCA.JK BBRI.JK  BTC-USD BBCA.JK BBRI.JK  BTC-USD BBCA.JK   \n",
       "Date                                                                     \n",
       "2017-12-31       NaN     NaN 14156.40     NaN     NaN 14156.40     NaN   \n",
       "2018-01-01   4060.43 3119.61 13657.20 4380.00 3640.00 13657.20 4380.00   \n",
       "2018-01-02   4060.43 3111.04 14982.10 4380.00 3630.00 14982.10 4505.00   \n",
       "2018-01-03   4060.43 3093.90 15201.00 4380.00 3610.00 15201.00 4390.00   \n",
       "2018-01-04   4120.69 3042.48 15599.20 4445.00 3550.00 15599.20 4445.00   \n",
       "\n",
       "Attributes                      Low                     Open                   \\\n",
       "Symbols    BBRI.JK  BTC-USD BBCA.JK BBRI.JK  BTC-USD BBCA.JK BBRI.JK  BTC-USD   \n",
       "Date                                                                            \n",
       "2017-12-31     NaN 14377.40     NaN     NaN 12755.60     NaN     NaN 12897.70   \n",
       "2018-01-01 3640.00 14112.20 4380.00 3640.00 13154.70 4380.00 3640.00 14112.20   \n",
       "2018-01-02 3720.00 15444.60 4365.00 3610.00 13163.60 4380.00 3690.00 13625.00   \n",
       "2018-01-03 3630.00 15572.80 4265.00 3560.00 14844.50 4385.00 3630.00 14978.20   \n",
       "2018-01-04 3610.00 15739.70 4380.00 3460.00 14522.20 4380.00 3610.00 15270.70   \n",
       "\n",
       "Attributes      Volume                            \n",
       "Symbols        BBCA.JK      BBRI.JK      BTC-USD  \n",
       "Date                                              \n",
       "2017-12-31         NaN          NaN  12136299520  \n",
       "2018-01-01        0.00         0.00  10291200000  \n",
       "2018-01-02 82303500.00  91127100.00  16846600192  \n",
       "2018-01-03 68214000.00  70148700.00  16871900160  \n",
       "2018-01-04 76567000.00 156406300.00  21783199744  "
      ]
     },
     "execution_count": 5,
     "metadata": {},
     "output_type": "execute_result"
    }
   ],
   "source": [
    "# #read pickle\n",
    "pd.read_pickle('data_cache/stock_Theia').head()"
   ]
  },
  {
   "cell_type": "markdown",
   "metadata": {},
   "source": [
    "Contoh menyimpan data stock menggunakan csv:"
   ]
  },
  {
   "cell_type": "code",
   "execution_count": 6,
   "metadata": {},
   "outputs": [],
   "source": [
    "stock.to_csv('data_cache/stock.csv')"
   ]
  },
  {
   "cell_type": "code",
   "execution_count": 7,
   "metadata": {},
   "outputs": [
    {
     "data": {
      "text/html": [
       "<div>\n",
       "<style scoped>\n",
       "    .dataframe tbody tr th:only-of-type {\n",
       "        vertical-align: middle;\n",
       "    }\n",
       "\n",
       "    .dataframe tbody tr th {\n",
       "        vertical-align: top;\n",
       "    }\n",
       "\n",
       "    .dataframe thead th {\n",
       "        text-align: right;\n",
       "    }\n",
       "</style>\n",
       "<table border=\"1\" class=\"dataframe\">\n",
       "  <thead>\n",
       "    <tr style=\"text-align: right;\">\n",
       "      <th></th>\n",
       "      <th>Attributes</th>\n",
       "      <th>Adj Close</th>\n",
       "      <th>Adj Close.1</th>\n",
       "      <th>Adj Close.2</th>\n",
       "      <th>Close</th>\n",
       "      <th>Close.1</th>\n",
       "      <th>Close.2</th>\n",
       "      <th>High</th>\n",
       "      <th>High.1</th>\n",
       "      <th>High.2</th>\n",
       "      <th>Low</th>\n",
       "      <th>Low.1</th>\n",
       "      <th>Low.2</th>\n",
       "      <th>Open</th>\n",
       "      <th>Open.1</th>\n",
       "      <th>Open.2</th>\n",
       "      <th>Volume</th>\n",
       "      <th>Volume.1</th>\n",
       "      <th>Volume.2</th>\n",
       "    </tr>\n",
       "  </thead>\n",
       "  <tbody>\n",
       "    <tr>\n",
       "      <th>0</th>\n",
       "      <td>Symbols</td>\n",
       "      <td>BBCA.JK</td>\n",
       "      <td>BBRI.JK</td>\n",
       "      <td>BTC-USD</td>\n",
       "      <td>BBCA.JK</td>\n",
       "      <td>BBRI.JK</td>\n",
       "      <td>BTC-USD</td>\n",
       "      <td>BBCA.JK</td>\n",
       "      <td>BBRI.JK</td>\n",
       "      <td>BTC-USD</td>\n",
       "      <td>BBCA.JK</td>\n",
       "      <td>BBRI.JK</td>\n",
       "      <td>BTC-USD</td>\n",
       "      <td>BBCA.JK</td>\n",
       "      <td>BBRI.JK</td>\n",
       "      <td>BTC-USD</td>\n",
       "      <td>BBCA.JK</td>\n",
       "      <td>BBRI.JK</td>\n",
       "      <td>BTC-USD</td>\n",
       "    </tr>\n",
       "    <tr>\n",
       "      <th>1</th>\n",
       "      <td>Date</td>\n",
       "      <td>NaN</td>\n",
       "      <td>NaN</td>\n",
       "      <td>NaN</td>\n",
       "      <td>NaN</td>\n",
       "      <td>NaN</td>\n",
       "      <td>NaN</td>\n",
       "      <td>NaN</td>\n",
       "      <td>NaN</td>\n",
       "      <td>NaN</td>\n",
       "      <td>NaN</td>\n",
       "      <td>NaN</td>\n",
       "      <td>NaN</td>\n",
       "      <td>NaN</td>\n",
       "      <td>NaN</td>\n",
       "      <td>NaN</td>\n",
       "      <td>NaN</td>\n",
       "      <td>NaN</td>\n",
       "      <td>NaN</td>\n",
       "    </tr>\n",
       "    <tr>\n",
       "      <th>2</th>\n",
       "      <td>2017-12-31</td>\n",
       "      <td>NaN</td>\n",
       "      <td>NaN</td>\n",
       "      <td>14156.400390625</td>\n",
       "      <td>NaN</td>\n",
       "      <td>NaN</td>\n",
       "      <td>14156.400390625</td>\n",
       "      <td>NaN</td>\n",
       "      <td>NaN</td>\n",
       "      <td>14377.400390625</td>\n",
       "      <td>NaN</td>\n",
       "      <td>NaN</td>\n",
       "      <td>12755.599609375</td>\n",
       "      <td>NaN</td>\n",
       "      <td>NaN</td>\n",
       "      <td>12897.7001953125</td>\n",
       "      <td>NaN</td>\n",
       "      <td>NaN</td>\n",
       "      <td>12136299520</td>\n",
       "    </tr>\n",
       "    <tr>\n",
       "      <th>3</th>\n",
       "      <td>2018-01-01</td>\n",
       "      <td>4060.42919921875</td>\n",
       "      <td>3119.610107421875</td>\n",
       "      <td>13657.2001953125</td>\n",
       "      <td>4380.0</td>\n",
       "      <td>3640.0</td>\n",
       "      <td>13657.2001953125</td>\n",
       "      <td>4380.0</td>\n",
       "      <td>3640.0</td>\n",
       "      <td>14112.2001953125</td>\n",
       "      <td>4380.0</td>\n",
       "      <td>3640.0</td>\n",
       "      <td>13154.7001953125</td>\n",
       "      <td>4380.0</td>\n",
       "      <td>3640.0</td>\n",
       "      <td>14112.2001953125</td>\n",
       "      <td>0.0</td>\n",
       "      <td>0.0</td>\n",
       "      <td>10291200000</td>\n",
       "    </tr>\n",
       "    <tr>\n",
       "      <th>4</th>\n",
       "      <td>2018-01-02</td>\n",
       "      <td>4060.42919921875</td>\n",
       "      <td>3111.03955078125</td>\n",
       "      <td>14982.099609375</td>\n",
       "      <td>4380.0</td>\n",
       "      <td>3630.0</td>\n",
       "      <td>14982.099609375</td>\n",
       "      <td>4505.0</td>\n",
       "      <td>3720.0</td>\n",
       "      <td>15444.599609375</td>\n",
       "      <td>4365.0</td>\n",
       "      <td>3610.0</td>\n",
       "      <td>13163.599609375</td>\n",
       "      <td>4380.0</td>\n",
       "      <td>3690.0</td>\n",
       "      <td>13625.0</td>\n",
       "      <td>82303500.0</td>\n",
       "      <td>91127100.0</td>\n",
       "      <td>16846600192</td>\n",
       "    </tr>\n",
       "    <tr>\n",
       "      <th>...</th>\n",
       "      <td>...</td>\n",
       "      <td>...</td>\n",
       "      <td>...</td>\n",
       "      <td>...</td>\n",
       "      <td>...</td>\n",
       "      <td>...</td>\n",
       "      <td>...</td>\n",
       "      <td>...</td>\n",
       "      <td>...</td>\n",
       "      <td>...</td>\n",
       "      <td>...</td>\n",
       "      <td>...</td>\n",
       "      <td>...</td>\n",
       "      <td>...</td>\n",
       "      <td>...</td>\n",
       "      <td>...</td>\n",
       "      <td>...</td>\n",
       "      <td>...</td>\n",
       "      <td>...</td>\n",
       "    </tr>\n",
       "    <tr>\n",
       "      <th>1719</th>\n",
       "      <td>2022-09-13</td>\n",
       "      <td>8525.0</td>\n",
       "      <td>4580.0</td>\n",
       "      <td>20296.70703125</td>\n",
       "      <td>8525.0</td>\n",
       "      <td>4580.0</td>\n",
       "      <td>20296.70703125</td>\n",
       "      <td>8575.0</td>\n",
       "      <td>4640.0</td>\n",
       "      <td>22673.8203125</td>\n",
       "      <td>8375.0</td>\n",
       "      <td>4560.0</td>\n",
       "      <td>20062.669921875</td>\n",
       "      <td>8375.0</td>\n",
       "      <td>4560.0</td>\n",
       "      <td>22371.48046875</td>\n",
       "      <td>124485200.0</td>\n",
       "      <td>141828800.0</td>\n",
       "      <td>51091116622</td>\n",
       "    </tr>\n",
       "    <tr>\n",
       "      <th>1720</th>\n",
       "      <td>2022-09-14</td>\n",
       "      <td>8500.0</td>\n",
       "      <td>4580.0</td>\n",
       "      <td>20241.08984375</td>\n",
       "      <td>8500.0</td>\n",
       "      <td>4580.0</td>\n",
       "      <td>20241.08984375</td>\n",
       "      <td>8650.0</td>\n",
       "      <td>4610.0</td>\n",
       "      <td>20467.201171875</td>\n",
       "      <td>8375.0</td>\n",
       "      <td>4510.0</td>\n",
       "      <td>19793.396484375</td>\n",
       "      <td>8375.0</td>\n",
       "      <td>4520.0</td>\n",
       "      <td>20184.5546875</td>\n",
       "      <td>116642400.0</td>\n",
       "      <td>149960600.0</td>\n",
       "      <td>37872380889</td>\n",
       "    </tr>\n",
       "    <tr>\n",
       "      <th>1721</th>\n",
       "      <td>2022-09-15</td>\n",
       "      <td>8750.0</td>\n",
       "      <td>4610.0</td>\n",
       "      <td>19701.2109375</td>\n",
       "      <td>8750.0</td>\n",
       "      <td>4610.0</td>\n",
       "      <td>19701.2109375</td>\n",
       "      <td>8875.0</td>\n",
       "      <td>4700.0</td>\n",
       "      <td>20318.166015625</td>\n",
       "      <td>8500.0</td>\n",
       "      <td>4590.0</td>\n",
       "      <td>19636.734375</td>\n",
       "      <td>8500.0</td>\n",
       "      <td>4600.0</td>\n",
       "      <td>20242.2890625</td>\n",
       "      <td>190404800.0</td>\n",
       "      <td>295664100.0</td>\n",
       "      <td>36389011503</td>\n",
       "    </tr>\n",
       "    <tr>\n",
       "      <th>1722</th>\n",
       "      <td>2022-09-16</td>\n",
       "      <td>8450.0</td>\n",
       "      <td>4500.0</td>\n",
       "      <td>19772.583984375</td>\n",
       "      <td>8450.0</td>\n",
       "      <td>4500.0</td>\n",
       "      <td>19772.583984375</td>\n",
       "      <td>8725.0</td>\n",
       "      <td>4620.0</td>\n",
       "      <td>19870.62890625</td>\n",
       "      <td>8450.0</td>\n",
       "      <td>4500.0</td>\n",
       "      <td>19400.076171875</td>\n",
       "      <td>8700.0</td>\n",
       "      <td>4610.0</td>\n",
       "      <td>19704.005859375</td>\n",
       "      <td>363127600.0</td>\n",
       "      <td>282492200.0</td>\n",
       "      <td>30123362273</td>\n",
       "    </tr>\n",
       "    <tr>\n",
       "      <th>1723</th>\n",
       "      <td>2022-09-17</td>\n",
       "      <td>NaN</td>\n",
       "      <td>NaN</td>\n",
       "      <td>20127.576171875</td>\n",
       "      <td>NaN</td>\n",
       "      <td>NaN</td>\n",
       "      <td>20127.576171875</td>\n",
       "      <td>NaN</td>\n",
       "      <td>NaN</td>\n",
       "      <td>20162.53125</td>\n",
       "      <td>NaN</td>\n",
       "      <td>NaN</td>\n",
       "      <td>19777.033203125</td>\n",
       "      <td>NaN</td>\n",
       "      <td>NaN</td>\n",
       "      <td>19777.033203125</td>\n",
       "      <td>NaN</td>\n",
       "      <td>NaN</td>\n",
       "      <td>24957448100</td>\n",
       "    </tr>\n",
       "  </tbody>\n",
       "</table>\n",
       "<p>1724 rows × 19 columns</p>\n",
       "</div>"
      ],
      "text/plain": [
       "      Attributes         Adj Close        Adj Close.1       Adj Close.2  \\\n",
       "0        Symbols           BBCA.JK            BBRI.JK           BTC-USD   \n",
       "1           Date               NaN                NaN               NaN   \n",
       "2     2017-12-31               NaN                NaN   14156.400390625   \n",
       "3     2018-01-01  4060.42919921875  3119.610107421875  13657.2001953125   \n",
       "4     2018-01-02  4060.42919921875   3111.03955078125   14982.099609375   \n",
       "...          ...               ...                ...               ...   \n",
       "1719  2022-09-13            8525.0             4580.0    20296.70703125   \n",
       "1720  2022-09-14            8500.0             4580.0    20241.08984375   \n",
       "1721  2022-09-15            8750.0             4610.0     19701.2109375   \n",
       "1722  2022-09-16            8450.0             4500.0   19772.583984375   \n",
       "1723  2022-09-17               NaN                NaN   20127.576171875   \n",
       "\n",
       "        Close  Close.1           Close.2     High   High.1            High.2  \\\n",
       "0     BBCA.JK  BBRI.JK           BTC-USD  BBCA.JK  BBRI.JK           BTC-USD   \n",
       "1         NaN      NaN               NaN      NaN      NaN               NaN   \n",
       "2         NaN      NaN   14156.400390625      NaN      NaN   14377.400390625   \n",
       "3      4380.0   3640.0  13657.2001953125   4380.0   3640.0  14112.2001953125   \n",
       "4      4380.0   3630.0   14982.099609375   4505.0   3720.0   15444.599609375   \n",
       "...       ...      ...               ...      ...      ...               ...   \n",
       "1719   8525.0   4580.0    20296.70703125   8575.0   4640.0     22673.8203125   \n",
       "1720   8500.0   4580.0    20241.08984375   8650.0   4610.0   20467.201171875   \n",
       "1721   8750.0   4610.0     19701.2109375   8875.0   4700.0   20318.166015625   \n",
       "1722   8450.0   4500.0   19772.583984375   8725.0   4620.0    19870.62890625   \n",
       "1723      NaN      NaN   20127.576171875      NaN      NaN       20162.53125   \n",
       "\n",
       "          Low    Low.1             Low.2     Open   Open.1            Open.2  \\\n",
       "0     BBCA.JK  BBRI.JK           BTC-USD  BBCA.JK  BBRI.JK           BTC-USD   \n",
       "1         NaN      NaN               NaN      NaN      NaN               NaN   \n",
       "2         NaN      NaN   12755.599609375      NaN      NaN  12897.7001953125   \n",
       "3      4380.0   3640.0  13154.7001953125   4380.0   3640.0  14112.2001953125   \n",
       "4      4365.0   3610.0   13163.599609375   4380.0   3690.0           13625.0   \n",
       "...       ...      ...               ...      ...      ...               ...   \n",
       "1719   8375.0   4560.0   20062.669921875   8375.0   4560.0    22371.48046875   \n",
       "1720   8375.0   4510.0   19793.396484375   8375.0   4520.0     20184.5546875   \n",
       "1721   8500.0   4590.0      19636.734375   8500.0   4600.0     20242.2890625   \n",
       "1722   8450.0   4500.0   19400.076171875   8700.0   4610.0   19704.005859375   \n",
       "1723      NaN      NaN   19777.033203125      NaN      NaN   19777.033203125   \n",
       "\n",
       "           Volume     Volume.1     Volume.2  \n",
       "0         BBCA.JK      BBRI.JK      BTC-USD  \n",
       "1             NaN          NaN          NaN  \n",
       "2             NaN          NaN  12136299520  \n",
       "3             0.0          0.0  10291200000  \n",
       "4      82303500.0   91127100.0  16846600192  \n",
       "...           ...          ...          ...  \n",
       "1719  124485200.0  141828800.0  51091116622  \n",
       "1720  116642400.0  149960600.0  37872380889  \n",
       "1721  190404800.0  295664100.0  36389011503  \n",
       "1722  363127600.0  282492200.0  30123362273  \n",
       "1723          NaN          NaN  24957448100  \n",
       "\n",
       "[1724 rows x 19 columns]"
      ]
     },
     "execution_count": 7,
     "metadata": {},
     "output_type": "execute_result"
    }
   ],
   "source": [
    "pd.read_csv('data_cache/stock.csv')"
   ]
  },
  {
   "cell_type": "markdown",
   "metadata": {},
   "source": [
    "Unpickling/De-serializing: **membaca** suatu objek Python dari sebuah file binary (byte stream). \n",
    "- Gunakan method `pd.read_pickle()`\n",
    "- Untuk selanjutnya, mari kita gunakan file pickle pada `data_cache/stock` yang untuk tanggal 1 Januari 2018 sampai 18 September 2022."
   ]
  },
  {
   "cell_type": "markdown",
   "metadata": {},
   "source": [
    "⚠️ Jangan pernah unpickling file yang berasal dari sumber yang tidak tepercaya, karena bisa saja file tersebut berisi script berupa virus yang dapat membahayakan sistem Anda."
   ]
  },
  {
   "cell_type": "markdown",
   "metadata": {},
   "source": [
    "💡 Dengan menggunakan file pickle kita **\"mengawetkan\"** struktur dari object Python, untuk DataFrame dapat terjaga tipe data dan indexnya."
   ]
  },
  {
   "cell_type": "code",
   "execution_count": 8,
   "metadata": {
    "ExecuteTime": {
     "end_time": "2021-06-27T06:57:35.534890Z",
     "start_time": "2021-06-27T06:57:35.506187Z"
    },
    "run_control": {
     "marked": false
    }
   },
   "outputs": [
    {
     "data": {
      "text/plain": [
       "id                     int64\n",
       "gender              category\n",
       "blood_type          category\n",
       "join_date     datetime64[ns]\n",
       "dtype: object"
      ]
     },
     "execution_count": 8,
     "metadata": {},
     "output_type": "execute_result"
    }
   ],
   "source": [
    "# membuat dummy data lalu konversi tipe data\n",
    "dummy = pd.DataFrame({\n",
    "    'id': [1, 2, 3, 4, 5, 6, 7],\n",
    "    'gender': ['Male', 'Female', 'Male', 'Female', 'Female', 'Female', 'Male'],\n",
    "    'blood_type': ['O', 'A', 'B', 'AB', 'B', 'B', 'O'],\n",
    "    'join_date': ['28 Jun 2021', '29 Jun 2021', '30 Jun 2021', '1 Jul 2021', '2 Jul 2021', '3 Jul 2021', '4 Jul 2021']\n",
    "})\n",
    "\n",
    "# ubah tipe data\n",
    "dummy[['gender', 'blood_type']] = dummy[['gender', 'blood_type']].astype('category')\n",
    "dummy['join_date'] = dummy['join_date'].astype('datetime64')\n",
    "dummy.dtypes"
   ]
  },
  {
   "cell_type": "code",
   "execution_count": 9,
   "metadata": {},
   "outputs": [],
   "source": [
    "# simpan object dummy ke dalam folder data_cache nama filenya \"dummy\"\n",
    "dummy.to_pickle('data_cache/dummy.acar')"
   ]
  },
  {
   "cell_type": "code",
   "execution_count": 10,
   "metadata": {},
   "outputs": [
    {
     "data": {
      "text/plain": [
       "id                     int64\n",
       "gender              category\n",
       "blood_type          category\n",
       "join_date     datetime64[ns]\n",
       "dtype: object"
      ]
     },
     "execution_count": 10,
     "metadata": {},
     "output_type": "execute_result"
    }
   ],
   "source": [
    "# baca dari pickle dan cek tipe data\n",
    "pd.read_pickle('data_cache/dummy.acar').dtypes"
   ]
  },
  {
   "cell_type": "markdown",
   "metadata": {},
   "source": [
    "Bandingkan dengan menyimpannya ke file text biasa, yaitu csv misalnya:"
   ]
  },
  {
   "cell_type": "code",
   "execution_count": 11,
   "metadata": {
    "ExecuteTime": {
     "end_time": "2021-06-27T06:57:35.584713Z",
     "start_time": "2021-06-27T06:57:35.566286Z"
    },
    "scrolled": true
   },
   "outputs": [
    {
     "data": {
      "text/plain": [
       "id             int64\n",
       "gender        object\n",
       "blood_type    object\n",
       "join_date     object\n",
       "dtype: object"
      ]
     },
     "execution_count": 11,
     "metadata": {},
     "output_type": "execute_result"
    }
   ],
   "source": [
    "# simpan ke file csv\n",
    "dummy.to_csv('data_cache/dummy.csv', index=False)\n",
    "\n",
    "# baca dari csv dan cek tipe data\n",
    "pd.read_csv('data_cache/dummy.csv').dtypes"
   ]
  },
  {
   "cell_type": "markdown",
   "metadata": {},
   "source": [
    "**Quick Summary pickle file**:\n",
    "\n",
    "Kelebihan:\n",
    "- menyimpan tipe data yang sama\n",
    "- menyimpan bentuk object python dengan bentuk yang sama\n",
    "- pickle ini lebih ringan dari csv\n",
    "\n",
    "Kekurangan:\n",
    "- hanya bisa di buka oleh python, jadi berhati hati menbuka pickle dari source yang tidak di kenal."
   ]
  },
  {
   "cell_type": "markdown",
   "metadata": {},
   "source": [
    "## Slicing Multi-Index DataFrame\n",
    "\n",
    "Multi-Index Dataframe adalah bentuk dataframe yang memiliki level indexing lebih dari 1 baik pada baris, kolom, ataupun keduanya. Hal yang perlu diperhatikan dalam MultiIndex Dataframe adalah bentuk dataframe ini terkadang tidak bisa langsung kita gunakan untuk menganalisis data, sehingga akan ada beberapa perlakuan untuk kita mengiris atau mengubah bentuknya ke dataframe yang lebih sederhana. Berikut contoh bentuk multi-index dataframe:\n",
    "<img src=\"assets/multiindex dataframe.png\" width = 600>\n",
    "\n",
    "Perhatikan bahwa `stock` adalah Multi-Index DataFrame, dimana level dari column-nya terdiri dari: `Attributes` dan `Symbols`:"
   ]
  },
  {
   "cell_type": "code",
   "execution_count": 12,
   "metadata": {
    "ExecuteTime": {
     "end_time": "2021-06-27T06:57:35.592826Z",
     "start_time": "2021-06-27T06:57:35.586919Z"
    },
    "scrolled": false
   },
   "outputs": [
    {
     "data": {
      "text/html": [
       "<div>\n",
       "<style scoped>\n",
       "    .dataframe tbody tr th:only-of-type {\n",
       "        vertical-align: middle;\n",
       "    }\n",
       "\n",
       "    .dataframe tbody tr th {\n",
       "        vertical-align: top;\n",
       "    }\n",
       "\n",
       "    .dataframe thead tr th {\n",
       "        text-align: left;\n",
       "    }\n",
       "\n",
       "    .dataframe thead tr:last-of-type th {\n",
       "        text-align: right;\n",
       "    }\n",
       "</style>\n",
       "<table border=\"1\" class=\"dataframe\">\n",
       "  <thead>\n",
       "    <tr>\n",
       "      <th>Attributes</th>\n",
       "      <th colspan=\"3\" halign=\"left\">Adj Close</th>\n",
       "      <th colspan=\"3\" halign=\"left\">Close</th>\n",
       "      <th colspan=\"3\" halign=\"left\">High</th>\n",
       "      <th colspan=\"3\" halign=\"left\">Low</th>\n",
       "      <th colspan=\"3\" halign=\"left\">Open</th>\n",
       "      <th colspan=\"3\" halign=\"left\">Volume</th>\n",
       "    </tr>\n",
       "    <tr>\n",
       "      <th>Symbols</th>\n",
       "      <th>BBCA.JK</th>\n",
       "      <th>BBRI.JK</th>\n",
       "      <th>BTC-USD</th>\n",
       "      <th>BBCA.JK</th>\n",
       "      <th>BBRI.JK</th>\n",
       "      <th>BTC-USD</th>\n",
       "      <th>BBCA.JK</th>\n",
       "      <th>BBRI.JK</th>\n",
       "      <th>BTC-USD</th>\n",
       "      <th>BBCA.JK</th>\n",
       "      <th>BBRI.JK</th>\n",
       "      <th>BTC-USD</th>\n",
       "      <th>BBCA.JK</th>\n",
       "      <th>BBRI.JK</th>\n",
       "      <th>BTC-USD</th>\n",
       "      <th>BBCA.JK</th>\n",
       "      <th>BBRI.JK</th>\n",
       "      <th>BTC-USD</th>\n",
       "    </tr>\n",
       "    <tr>\n",
       "      <th>Date</th>\n",
       "      <th></th>\n",
       "      <th></th>\n",
       "      <th></th>\n",
       "      <th></th>\n",
       "      <th></th>\n",
       "      <th></th>\n",
       "      <th></th>\n",
       "      <th></th>\n",
       "      <th></th>\n",
       "      <th></th>\n",
       "      <th></th>\n",
       "      <th></th>\n",
       "      <th></th>\n",
       "      <th></th>\n",
       "      <th></th>\n",
       "      <th></th>\n",
       "      <th></th>\n",
       "      <th></th>\n",
       "    </tr>\n",
       "  </thead>\n",
       "  <tbody>\n",
       "    <tr>\n",
       "      <th>2017-12-31</th>\n",
       "      <td>NaN</td>\n",
       "      <td>NaN</td>\n",
       "      <td>14156.40</td>\n",
       "      <td>NaN</td>\n",
       "      <td>NaN</td>\n",
       "      <td>14156.40</td>\n",
       "      <td>NaN</td>\n",
       "      <td>NaN</td>\n",
       "      <td>14377.40</td>\n",
       "      <td>NaN</td>\n",
       "      <td>NaN</td>\n",
       "      <td>12755.60</td>\n",
       "      <td>NaN</td>\n",
       "      <td>NaN</td>\n",
       "      <td>12897.70</td>\n",
       "      <td>NaN</td>\n",
       "      <td>NaN</td>\n",
       "      <td>12136299520</td>\n",
       "    </tr>\n",
       "    <tr>\n",
       "      <th>2018-01-01</th>\n",
       "      <td>4060.43</td>\n",
       "      <td>3119.61</td>\n",
       "      <td>13657.20</td>\n",
       "      <td>4380.00</td>\n",
       "      <td>3640.00</td>\n",
       "      <td>13657.20</td>\n",
       "      <td>4380.00</td>\n",
       "      <td>3640.00</td>\n",
       "      <td>14112.20</td>\n",
       "      <td>4380.00</td>\n",
       "      <td>3640.00</td>\n",
       "      <td>13154.70</td>\n",
       "      <td>4380.00</td>\n",
       "      <td>3640.00</td>\n",
       "      <td>14112.20</td>\n",
       "      <td>0.00</td>\n",
       "      <td>0.00</td>\n",
       "      <td>10291200000</td>\n",
       "    </tr>\n",
       "    <tr>\n",
       "      <th>2018-01-02</th>\n",
       "      <td>4060.43</td>\n",
       "      <td>3111.04</td>\n",
       "      <td>14982.10</td>\n",
       "      <td>4380.00</td>\n",
       "      <td>3630.00</td>\n",
       "      <td>14982.10</td>\n",
       "      <td>4505.00</td>\n",
       "      <td>3720.00</td>\n",
       "      <td>15444.60</td>\n",
       "      <td>4365.00</td>\n",
       "      <td>3610.00</td>\n",
       "      <td>13163.60</td>\n",
       "      <td>4380.00</td>\n",
       "      <td>3690.00</td>\n",
       "      <td>13625.00</td>\n",
       "      <td>82303500.00</td>\n",
       "      <td>91127100.00</td>\n",
       "      <td>16846600192</td>\n",
       "    </tr>\n",
       "    <tr>\n",
       "      <th>2018-01-03</th>\n",
       "      <td>4060.43</td>\n",
       "      <td>3093.90</td>\n",
       "      <td>15201.00</td>\n",
       "      <td>4380.00</td>\n",
       "      <td>3610.00</td>\n",
       "      <td>15201.00</td>\n",
       "      <td>4390.00</td>\n",
       "      <td>3630.00</td>\n",
       "      <td>15572.80</td>\n",
       "      <td>4265.00</td>\n",
       "      <td>3560.00</td>\n",
       "      <td>14844.50</td>\n",
       "      <td>4385.00</td>\n",
       "      <td>3630.00</td>\n",
       "      <td>14978.20</td>\n",
       "      <td>68214000.00</td>\n",
       "      <td>70148700.00</td>\n",
       "      <td>16871900160</td>\n",
       "    </tr>\n",
       "    <tr>\n",
       "      <th>2018-01-04</th>\n",
       "      <td>4120.69</td>\n",
       "      <td>3042.48</td>\n",
       "      <td>15599.20</td>\n",
       "      <td>4445.00</td>\n",
       "      <td>3550.00</td>\n",
       "      <td>15599.20</td>\n",
       "      <td>4445.00</td>\n",
       "      <td>3610.00</td>\n",
       "      <td>15739.70</td>\n",
       "      <td>4380.00</td>\n",
       "      <td>3460.00</td>\n",
       "      <td>14522.20</td>\n",
       "      <td>4380.00</td>\n",
       "      <td>3610.00</td>\n",
       "      <td>15270.70</td>\n",
       "      <td>76567000.00</td>\n",
       "      <td>156406300.00</td>\n",
       "      <td>21783199744</td>\n",
       "    </tr>\n",
       "  </tbody>\n",
       "</table>\n",
       "</div>"
      ],
      "text/plain": [
       "Attributes Adj Close                    Close                     High  \\\n",
       "Symbols      BBCA.JK BBRI.JK  BTC-USD BBCA.JK BBRI.JK  BTC-USD BBCA.JK   \n",
       "Date                                                                     \n",
       "2017-12-31       NaN     NaN 14156.40     NaN     NaN 14156.40     NaN   \n",
       "2018-01-01   4060.43 3119.61 13657.20 4380.00 3640.00 13657.20 4380.00   \n",
       "2018-01-02   4060.43 3111.04 14982.10 4380.00 3630.00 14982.10 4505.00   \n",
       "2018-01-03   4060.43 3093.90 15201.00 4380.00 3610.00 15201.00 4390.00   \n",
       "2018-01-04   4120.69 3042.48 15599.20 4445.00 3550.00 15599.20 4445.00   \n",
       "\n",
       "Attributes                      Low                     Open                   \\\n",
       "Symbols    BBRI.JK  BTC-USD BBCA.JK BBRI.JK  BTC-USD BBCA.JK BBRI.JK  BTC-USD   \n",
       "Date                                                                            \n",
       "2017-12-31     NaN 14377.40     NaN     NaN 12755.60     NaN     NaN 12897.70   \n",
       "2018-01-01 3640.00 14112.20 4380.00 3640.00 13154.70 4380.00 3640.00 14112.20   \n",
       "2018-01-02 3720.00 15444.60 4365.00 3610.00 13163.60 4380.00 3690.00 13625.00   \n",
       "2018-01-03 3630.00 15572.80 4265.00 3560.00 14844.50 4385.00 3630.00 14978.20   \n",
       "2018-01-04 3610.00 15739.70 4380.00 3460.00 14522.20 4380.00 3610.00 15270.70   \n",
       "\n",
       "Attributes      Volume                            \n",
       "Symbols        BBCA.JK      BBRI.JK      BTC-USD  \n",
       "Date                                              \n",
       "2017-12-31         NaN          NaN  12136299520  \n",
       "2018-01-01        0.00         0.00  10291200000  \n",
       "2018-01-02 82303500.00  91127100.00  16846600192  \n",
       "2018-01-03 68214000.00  70148700.00  16871900160  \n",
       "2018-01-04 76567000.00 156406300.00  21783199744  "
      ]
     },
     "execution_count": 12,
     "metadata": {},
     "output_type": "execute_result"
    }
   ],
   "source": [
    "stock.head()"
   ]
  },
  {
   "cell_type": "markdown",
   "metadata": {},
   "source": [
    "Ketika kita subset menggunakan `[]`, maka kita hanya bisa mengakses kolom dengan level teratas, yaitu untuk `Attributes`. \n",
    "\n",
    "- ❓ Melakukan subset pada kolom `High` akan menghasilkan DataFrame single index dengan `Symbols` sebagai levelnya."
   ]
  },
  {
   "cell_type": "code",
   "execution_count": 13,
   "metadata": {
    "ExecuteTime": {
     "end_time": "2021-06-27T06:57:35.617692Z",
     "start_time": "2021-06-27T06:57:35.594826Z"
    },
    "scrolled": false
   },
   "outputs": [
    {
     "data": {
      "text/html": [
       "<div>\n",
       "<style scoped>\n",
       "    .dataframe tbody tr th:only-of-type {\n",
       "        vertical-align: middle;\n",
       "    }\n",
       "\n",
       "    .dataframe tbody tr th {\n",
       "        vertical-align: top;\n",
       "    }\n",
       "\n",
       "    .dataframe thead th {\n",
       "        text-align: right;\n",
       "    }\n",
       "</style>\n",
       "<table border=\"1\" class=\"dataframe\">\n",
       "  <thead>\n",
       "    <tr style=\"text-align: right;\">\n",
       "      <th>Symbols</th>\n",
       "      <th>BBCA.JK</th>\n",
       "      <th>BBRI.JK</th>\n",
       "      <th>BTC-USD</th>\n",
       "    </tr>\n",
       "    <tr>\n",
       "      <th>Date</th>\n",
       "      <th></th>\n",
       "      <th></th>\n",
       "      <th></th>\n",
       "    </tr>\n",
       "  </thead>\n",
       "  <tbody>\n",
       "    <tr>\n",
       "      <th>2017-12-31</th>\n",
       "      <td>NaN</td>\n",
       "      <td>NaN</td>\n",
       "      <td>14377.40</td>\n",
       "    </tr>\n",
       "    <tr>\n",
       "      <th>2018-01-01</th>\n",
       "      <td>4380.00</td>\n",
       "      <td>3640.00</td>\n",
       "      <td>14112.20</td>\n",
       "    </tr>\n",
       "    <tr>\n",
       "      <th>2018-01-02</th>\n",
       "      <td>4505.00</td>\n",
       "      <td>3720.00</td>\n",
       "      <td>15444.60</td>\n",
       "    </tr>\n",
       "    <tr>\n",
       "      <th>2018-01-03</th>\n",
       "      <td>4390.00</td>\n",
       "      <td>3630.00</td>\n",
       "      <td>15572.80</td>\n",
       "    </tr>\n",
       "    <tr>\n",
       "      <th>2018-01-04</th>\n",
       "      <td>4445.00</td>\n",
       "      <td>3610.00</td>\n",
       "      <td>15739.70</td>\n",
       "    </tr>\n",
       "    <tr>\n",
       "      <th>...</th>\n",
       "      <td>...</td>\n",
       "      <td>...</td>\n",
       "      <td>...</td>\n",
       "    </tr>\n",
       "    <tr>\n",
       "      <th>2022-09-13</th>\n",
       "      <td>8575.00</td>\n",
       "      <td>4640.00</td>\n",
       "      <td>22673.82</td>\n",
       "    </tr>\n",
       "    <tr>\n",
       "      <th>2022-09-14</th>\n",
       "      <td>8650.00</td>\n",
       "      <td>4610.00</td>\n",
       "      <td>20467.20</td>\n",
       "    </tr>\n",
       "    <tr>\n",
       "      <th>2022-09-15</th>\n",
       "      <td>8875.00</td>\n",
       "      <td>4700.00</td>\n",
       "      <td>20318.17</td>\n",
       "    </tr>\n",
       "    <tr>\n",
       "      <th>2022-09-16</th>\n",
       "      <td>8725.00</td>\n",
       "      <td>4620.00</td>\n",
       "      <td>19870.63</td>\n",
       "    </tr>\n",
       "    <tr>\n",
       "      <th>2022-09-17</th>\n",
       "      <td>NaN</td>\n",
       "      <td>NaN</td>\n",
       "      <td>20162.53</td>\n",
       "    </tr>\n",
       "  </tbody>\n",
       "</table>\n",
       "<p>1722 rows × 3 columns</p>\n",
       "</div>"
      ],
      "text/plain": [
       "Symbols     BBCA.JK  BBRI.JK  BTC-USD\n",
       "Date                                 \n",
       "2017-12-31      NaN      NaN 14377.40\n",
       "2018-01-01  4380.00  3640.00 14112.20\n",
       "2018-01-02  4505.00  3720.00 15444.60\n",
       "2018-01-03  4390.00  3630.00 15572.80\n",
       "2018-01-04  4445.00  3610.00 15739.70\n",
       "...             ...      ...      ...\n",
       "2022-09-13  8575.00  4640.00 22673.82\n",
       "2022-09-14  8650.00  4610.00 20467.20\n",
       "2022-09-15  8875.00  4700.00 20318.17\n",
       "2022-09-16  8725.00  4620.00 19870.63\n",
       "2022-09-17      NaN      NaN 20162.53\n",
       "\n",
       "[1722 rows x 3 columns]"
      ]
     },
     "execution_count": 13,
     "metadata": {},
     "output_type": "execute_result"
    }
   ],
   "source": [
    "stock['High']"
   ]
  },
  {
   "cell_type": "markdown",
   "metadata": {},
   "source": [
    "❗️**Masalah:** Bagaimana caranya apabila kita ingin mengambil semua nilai `Attributes` untuk saham `GOOGL` saja?"
   ]
  },
  {
   "cell_type": "code",
   "execution_count": 14,
   "metadata": {
    "ExecuteTime": {
     "end_time": "2021-06-27T06:57:35.626388Z",
     "start_time": "2021-06-27T06:57:35.620332Z"
    }
   },
   "outputs": [],
   "source": [
    "# stock['BBCA.JK']"
   ]
  },
  {
   "cell_type": "markdown",
   "metadata": {},
   "source": [
    "**Solusi:** Kita harus menggunakan method `.xs()` (cross-section) untuk mengambil kolom (`axis=1`) pada level dalam\n",
    "\n",
    "- `key`: kolom yang kita ingin ambil\n",
    "- `level`: kolom tersebut ada di level apa?\n",
    "- `axis`: level terdapat pada index/baris (0 untuk baris, 1 untuk kolom)"
   ]
  },
  {
   "cell_type": "code",
   "execution_count": 32,
   "metadata": {
    "ExecuteTime": {
     "end_time": "2021-06-27T06:57:35.685933Z",
     "start_time": "2021-06-27T06:57:35.631933Z"
    }
   },
   "outputs": [
    {
     "data": {
      "text/html": [
       "<div>\n",
       "<style scoped>\n",
       "    .dataframe tbody tr th:only-of-type {\n",
       "        vertical-align: middle;\n",
       "    }\n",
       "\n",
       "    .dataframe tbody tr th {\n",
       "        vertical-align: top;\n",
       "    }\n",
       "\n",
       "    .dataframe thead th {\n",
       "        text-align: right;\n",
       "    }\n",
       "</style>\n",
       "<table border=\"1\" class=\"dataframe\">\n",
       "  <thead>\n",
       "    <tr style=\"text-align: right;\">\n",
       "      <th>Attributes</th>\n",
       "      <th>Adj Close</th>\n",
       "      <th>Close</th>\n",
       "      <th>High</th>\n",
       "      <th>Low</th>\n",
       "      <th>Open</th>\n",
       "      <th>Volume</th>\n",
       "    </tr>\n",
       "    <tr>\n",
       "      <th>Date</th>\n",
       "      <th></th>\n",
       "      <th></th>\n",
       "      <th></th>\n",
       "      <th></th>\n",
       "      <th></th>\n",
       "      <th></th>\n",
       "    </tr>\n",
       "  </thead>\n",
       "  <tbody>\n",
       "    <tr>\n",
       "      <th>2017-12-31</th>\n",
       "      <td>NaN</td>\n",
       "      <td>NaN</td>\n",
       "      <td>NaN</td>\n",
       "      <td>NaN</td>\n",
       "      <td>NaN</td>\n",
       "      <td>NaN</td>\n",
       "    </tr>\n",
       "    <tr>\n",
       "      <th>2018-01-01</th>\n",
       "      <td>4060.43</td>\n",
       "      <td>4380.00</td>\n",
       "      <td>4380.00</td>\n",
       "      <td>4380.00</td>\n",
       "      <td>4380.00</td>\n",
       "      <td>0.00</td>\n",
       "    </tr>\n",
       "    <tr>\n",
       "      <th>2018-01-02</th>\n",
       "      <td>4060.43</td>\n",
       "      <td>4380.00</td>\n",
       "      <td>4505.00</td>\n",
       "      <td>4365.00</td>\n",
       "      <td>4380.00</td>\n",
       "      <td>82303500.00</td>\n",
       "    </tr>\n",
       "    <tr>\n",
       "      <th>2018-01-03</th>\n",
       "      <td>4060.43</td>\n",
       "      <td>4380.00</td>\n",
       "      <td>4390.00</td>\n",
       "      <td>4265.00</td>\n",
       "      <td>4385.00</td>\n",
       "      <td>68214000.00</td>\n",
       "    </tr>\n",
       "    <tr>\n",
       "      <th>2018-01-04</th>\n",
       "      <td>4120.69</td>\n",
       "      <td>4445.00</td>\n",
       "      <td>4445.00</td>\n",
       "      <td>4380.00</td>\n",
       "      <td>4380.00</td>\n",
       "      <td>76567000.00</td>\n",
       "    </tr>\n",
       "  </tbody>\n",
       "</table>\n",
       "</div>"
      ],
      "text/plain": [
       "Attributes  Adj Close   Close    High     Low    Open      Volume\n",
       "Date                                                             \n",
       "2017-12-31        NaN     NaN     NaN     NaN     NaN         NaN\n",
       "2018-01-01    4060.43 4380.00 4380.00 4380.00 4380.00        0.00\n",
       "2018-01-02    4060.43 4380.00 4505.00 4365.00 4380.00 82303500.00\n",
       "2018-01-03    4060.43 4380.00 4390.00 4265.00 4385.00 68214000.00\n",
       "2018-01-04    4120.69 4445.00 4445.00 4380.00 4380.00 76567000.00"
      ]
     },
     "execution_count": 32,
     "metadata": {},
     "output_type": "execute_result"
    }
   ],
   "source": [
    "stock.xs(key = 'BBCA.JK',\n",
    "        level = 1,\n",
    "        axis = 1).head()"
   ]
  },
  {
   "cell_type": "markdown",
   "metadata": {},
   "source": [
    "**Pertanyaan Bapak Shivan :**  bagaimana jika ingin ambil 1 bulan? "
   ]
  },
  {
   "cell_type": "code",
   "execution_count": null,
   "metadata": {},
   "outputs": [],
   "source": [
    "new_index = pd.date_range(start=\"2018-01-01\",end=\"2018-03-31\")\n",
    "\n",
    "stock.xs(key = 'BBCA.JK',\n",
    "        level = 1,\n",
    "        axis = 1)[stock.index < '2018-01-31']"
   ]
  },
  {
   "cell_type": "markdown",
   "metadata": {},
   "source": [
    "**Challenge**: ambil histori data saham `AAPL`, `TSLA`, `GOOGL` pada tanggal 11 Januari 2021!"
   ]
  },
  {
   "cell_type": "code",
   "execution_count": 35,
   "metadata": {},
   "outputs": [
    {
     "data": {
      "text/plain": [
       "Attributes  Symbols\n",
       "Adj Close   BBCA.JK           7110.27\n",
       "            BBRI.JK           4376.95\n",
       "            BTC-USD          35566.66\n",
       "Close       BBCA.JK           7345.00\n",
       "            BBRI.JK           4650.00\n",
       "            BTC-USD          35566.66\n",
       "High        BBCA.JK           7360.00\n",
       "            BBRI.JK           4660.00\n",
       "            BTC-USD          38346.53\n",
       "Low         BBCA.JK           7145.00\n",
       "            BBRI.JK           4410.00\n",
       "            BTC-USD          30549.60\n",
       "Open        BBCA.JK           7150.00\n",
       "            BBRI.JK           4420.00\n",
       "            BTC-USD          38346.53\n",
       "Volume      BBCA.JK      169034500.00\n",
       "            BBRI.JK      383714500.00\n",
       "            BTC-USD   123320567399.00\n",
       "Name: 2021-01-11 00:00:00, dtype: float64"
      ]
     },
     "execution_count": 35,
     "metadata": {},
     "output_type": "execute_result"
    }
   ],
   "source": [
    "# your code here\n",
    "stock.xs(key = '2021-01-11',\n",
    "        axis = 0)"
   ]
  },
  {
   "cell_type": "markdown",
   "metadata": {},
   "source": [
    "### ❓🔎 Concern on Time Series Data\n",
    "\n",
    "1. Buatlah sebuah objek dataframe bernama `closingprice` yang berisikan nilai `Close` untuk ketiga saham.\n",
    "2. Gunakan method yang telah Anda pelajari untuk mengecek banyaknya missing values pada setiap kolom dataframe `closingprice`."
   ]
  },
  {
   "cell_type": "code",
   "execution_count": 37,
   "metadata": {},
   "outputs": [
    {
     "name": "stdout",
     "output_type": "stream",
     "text": [
      "[*********************100%***********************]  3 of 3 completed\n"
     ]
    },
    {
     "data": {
      "text/html": [
       "<div>\n",
       "<style scoped>\n",
       "    .dataframe tbody tr th:only-of-type {\n",
       "        vertical-align: middle;\n",
       "    }\n",
       "\n",
       "    .dataframe tbody tr th {\n",
       "        vertical-align: top;\n",
       "    }\n",
       "\n",
       "    .dataframe thead tr th {\n",
       "        text-align: left;\n",
       "    }\n",
       "\n",
       "    .dataframe thead tr:last-of-type th {\n",
       "        text-align: right;\n",
       "    }\n",
       "</style>\n",
       "<table border=\"1\" class=\"dataframe\">\n",
       "  <thead>\n",
       "    <tr>\n",
       "      <th>Attributes</th>\n",
       "      <th colspan=\"3\" halign=\"left\">Adj Close</th>\n",
       "      <th colspan=\"3\" halign=\"left\">Close</th>\n",
       "      <th colspan=\"3\" halign=\"left\">High</th>\n",
       "      <th colspan=\"3\" halign=\"left\">Low</th>\n",
       "      <th colspan=\"3\" halign=\"left\">Open</th>\n",
       "      <th colspan=\"3\" halign=\"left\">Volume</th>\n",
       "    </tr>\n",
       "    <tr>\n",
       "      <th>Symbols</th>\n",
       "      <th>AAPL</th>\n",
       "      <th>GOOGL</th>\n",
       "      <th>TSLA</th>\n",
       "      <th>AAPL</th>\n",
       "      <th>GOOGL</th>\n",
       "      <th>TSLA</th>\n",
       "      <th>AAPL</th>\n",
       "      <th>GOOGL</th>\n",
       "      <th>TSLA</th>\n",
       "      <th>AAPL</th>\n",
       "      <th>GOOGL</th>\n",
       "      <th>TSLA</th>\n",
       "      <th>AAPL</th>\n",
       "      <th>GOOGL</th>\n",
       "      <th>TSLA</th>\n",
       "      <th>AAPL</th>\n",
       "      <th>GOOGL</th>\n",
       "      <th>TSLA</th>\n",
       "    </tr>\n",
       "    <tr>\n",
       "      <th>Date</th>\n",
       "      <th></th>\n",
       "      <th></th>\n",
       "      <th></th>\n",
       "      <th></th>\n",
       "      <th></th>\n",
       "      <th></th>\n",
       "      <th></th>\n",
       "      <th></th>\n",
       "      <th></th>\n",
       "      <th></th>\n",
       "      <th></th>\n",
       "      <th></th>\n",
       "      <th></th>\n",
       "      <th></th>\n",
       "      <th></th>\n",
       "      <th></th>\n",
       "      <th></th>\n",
       "      <th></th>\n",
       "    </tr>\n",
       "  </thead>\n",
       "  <tbody>\n",
       "    <tr>\n",
       "      <th>2018-01-02</th>\n",
       "      <td>41.02</td>\n",
       "      <td>53.66</td>\n",
       "      <td>21.37</td>\n",
       "      <td>43.06</td>\n",
       "      <td>53.66</td>\n",
       "      <td>21.37</td>\n",
       "      <td>43.08</td>\n",
       "      <td>53.80</td>\n",
       "      <td>21.47</td>\n",
       "      <td>42.31</td>\n",
       "      <td>52.65</td>\n",
       "      <td>20.73</td>\n",
       "      <td>42.54</td>\n",
       "      <td>52.65</td>\n",
       "      <td>20.80</td>\n",
       "      <td>102223600</td>\n",
       "      <td>31766000</td>\n",
       "      <td>65283000</td>\n",
       "    </tr>\n",
       "    <tr>\n",
       "      <th>2018-01-03</th>\n",
       "      <td>41.01</td>\n",
       "      <td>54.58</td>\n",
       "      <td>21.15</td>\n",
       "      <td>43.06</td>\n",
       "      <td>54.58</td>\n",
       "      <td>21.15</td>\n",
       "      <td>43.64</td>\n",
       "      <td>54.81</td>\n",
       "      <td>21.68</td>\n",
       "      <td>42.99</td>\n",
       "      <td>53.67</td>\n",
       "      <td>21.04</td>\n",
       "      <td>43.13</td>\n",
       "      <td>53.70</td>\n",
       "      <td>21.40</td>\n",
       "      <td>118071600</td>\n",
       "      <td>31318000</td>\n",
       "      <td>67822500</td>\n",
       "    </tr>\n",
       "    <tr>\n",
       "      <th>2018-01-04</th>\n",
       "      <td>41.20</td>\n",
       "      <td>54.79</td>\n",
       "      <td>20.97</td>\n",
       "      <td>43.26</td>\n",
       "      <td>54.79</td>\n",
       "      <td>20.97</td>\n",
       "      <td>43.37</td>\n",
       "      <td>55.20</td>\n",
       "      <td>21.24</td>\n",
       "      <td>43.02</td>\n",
       "      <td>54.71</td>\n",
       "      <td>20.38</td>\n",
       "      <td>43.13</td>\n",
       "      <td>54.85</td>\n",
       "      <td>20.86</td>\n",
       "      <td>89738400</td>\n",
       "      <td>26052000</td>\n",
       "      <td>149194500</td>\n",
       "    </tr>\n",
       "    <tr>\n",
       "      <th>2018-01-05</th>\n",
       "      <td>41.67</td>\n",
       "      <td>55.51</td>\n",
       "      <td>21.11</td>\n",
       "      <td>43.75</td>\n",
       "      <td>55.51</td>\n",
       "      <td>21.11</td>\n",
       "      <td>43.84</td>\n",
       "      <td>55.68</td>\n",
       "      <td>21.15</td>\n",
       "      <td>43.26</td>\n",
       "      <td>55.09</td>\n",
       "      <td>20.80</td>\n",
       "      <td>43.36</td>\n",
       "      <td>55.17</td>\n",
       "      <td>21.11</td>\n",
       "      <td>94640000</td>\n",
       "      <td>30250000</td>\n",
       "      <td>68868000</td>\n",
       "    </tr>\n",
       "    <tr>\n",
       "      <th>2018-01-08</th>\n",
       "      <td>41.52</td>\n",
       "      <td>55.71</td>\n",
       "      <td>22.43</td>\n",
       "      <td>43.59</td>\n",
       "      <td>55.71</td>\n",
       "      <td>22.43</td>\n",
       "      <td>43.90</td>\n",
       "      <td>55.96</td>\n",
       "      <td>22.47</td>\n",
       "      <td>43.48</td>\n",
       "      <td>55.50</td>\n",
       "      <td>21.03</td>\n",
       "      <td>43.59</td>\n",
       "      <td>55.55</td>\n",
       "      <td>21.07</td>\n",
       "      <td>82271200</td>\n",
       "      <td>24644000</td>\n",
       "      <td>147891000</td>\n",
       "    </tr>\n",
       "  </tbody>\n",
       "</table>\n",
       "</div>"
      ],
      "text/plain": [
       "Attributes Adj Close             Close              High               Low  \\\n",
       "Symbols         AAPL GOOGL  TSLA  AAPL GOOGL  TSLA  AAPL GOOGL  TSLA  AAPL   \n",
       "Date                                                                         \n",
       "2018-01-02     41.02 53.66 21.37 43.06 53.66 21.37 43.08 53.80 21.47 42.31   \n",
       "2018-01-03     41.01 54.58 21.15 43.06 54.58 21.15 43.64 54.81 21.68 42.99   \n",
       "2018-01-04     41.20 54.79 20.97 43.26 54.79 20.97 43.37 55.20 21.24 43.02   \n",
       "2018-01-05     41.67 55.51 21.11 43.75 55.51 21.11 43.84 55.68 21.15 43.26   \n",
       "2018-01-08     41.52 55.71 22.43 43.59 55.71 22.43 43.90 55.96 22.47 43.48   \n",
       "\n",
       "Attributes              Open                 Volume                       \n",
       "Symbols    GOOGL  TSLA  AAPL GOOGL  TSLA       AAPL     GOOGL       TSLA  \n",
       "Date                                                                      \n",
       "2018-01-02 52.65 20.73 42.54 52.65 20.80  102223600  31766000   65283000  \n",
       "2018-01-03 53.67 21.04 43.13 53.70 21.40  118071600  31318000   67822500  \n",
       "2018-01-04 54.71 20.38 43.13 54.85 20.86   89738400  26052000  149194500  \n",
       "2018-01-05 55.09 20.80 43.36 55.17 21.11   94640000  30250000   68868000  \n",
       "2018-01-08 55.50 21.03 43.59 55.55 21.07   82271200  24644000  147891000  "
      ]
     },
     "execution_count": 37,
     "metadata": {},
     "output_type": "execute_result"
    }
   ],
   "source": [
    "symbol = ['AAPL', 'TSLA', 'GOOGL']\n",
    "start_date = '2018-01-01' # 1 Januari 2018\n",
    "end_date = '2022-09-18' # 18 September 2022\n",
    "\n",
    "stock_amerika = data.download(tickers = symbol, start = start_date, end = end_date)\n",
    "stock_amerika.columns.names = ['Attributes', 'Symbols']\n",
    "stock_amerika.head() "
   ]
  },
  {
   "cell_type": "code",
   "execution_count": 40,
   "metadata": {
    "ExecuteTime": {
     "end_time": "2021-06-27T06:57:35.698482Z",
     "start_time": "2021-06-27T06:57:35.688094Z"
    },
    "scrolled": false
   },
   "outputs": [
    {
     "data": {
      "text/html": [
       "<div>\n",
       "<style scoped>\n",
       "    .dataframe tbody tr th:only-of-type {\n",
       "        vertical-align: middle;\n",
       "    }\n",
       "\n",
       "    .dataframe tbody tr th {\n",
       "        vertical-align: top;\n",
       "    }\n",
       "\n",
       "    .dataframe thead th {\n",
       "        text-align: right;\n",
       "    }\n",
       "</style>\n",
       "<table border=\"1\" class=\"dataframe\">\n",
       "  <thead>\n",
       "    <tr style=\"text-align: right;\">\n",
       "      <th>Symbols</th>\n",
       "      <th>AAPL</th>\n",
       "      <th>GOOGL</th>\n",
       "      <th>TSLA</th>\n",
       "    </tr>\n",
       "    <tr>\n",
       "      <th>Date</th>\n",
       "      <th></th>\n",
       "      <th></th>\n",
       "      <th></th>\n",
       "    </tr>\n",
       "  </thead>\n",
       "  <tbody>\n",
       "    <tr>\n",
       "      <th>2018-01-02</th>\n",
       "      <td>43.06</td>\n",
       "      <td>53.66</td>\n",
       "      <td>21.37</td>\n",
       "    </tr>\n",
       "    <tr>\n",
       "      <th>2018-01-03</th>\n",
       "      <td>43.06</td>\n",
       "      <td>54.58</td>\n",
       "      <td>21.15</td>\n",
       "    </tr>\n",
       "    <tr>\n",
       "      <th>2018-01-04</th>\n",
       "      <td>43.26</td>\n",
       "      <td>54.79</td>\n",
       "      <td>20.97</td>\n",
       "    </tr>\n",
       "    <tr>\n",
       "      <th>2018-01-05</th>\n",
       "      <td>43.75</td>\n",
       "      <td>55.51</td>\n",
       "      <td>21.11</td>\n",
       "    </tr>\n",
       "    <tr>\n",
       "      <th>2018-01-08</th>\n",
       "      <td>43.59</td>\n",
       "      <td>55.71</td>\n",
       "      <td>22.43</td>\n",
       "    </tr>\n",
       "    <tr>\n",
       "      <th>2018-01-09</th>\n",
       "      <td>43.58</td>\n",
       "      <td>55.64</td>\n",
       "      <td>22.25</td>\n",
       "    </tr>\n",
       "    <tr>\n",
       "      <th>2018-01-10</th>\n",
       "      <td>43.57</td>\n",
       "      <td>55.51</td>\n",
       "      <td>22.32</td>\n",
       "    </tr>\n",
       "    <tr>\n",
       "      <th>2018-01-11</th>\n",
       "      <td>43.82</td>\n",
       "      <td>55.60</td>\n",
       "      <td>22.53</td>\n",
       "    </tr>\n",
       "    <tr>\n",
       "      <th>2018-01-12</th>\n",
       "      <td>44.27</td>\n",
       "      <td>56.53</td>\n",
       "      <td>22.41</td>\n",
       "    </tr>\n",
       "    <tr>\n",
       "      <th>2018-01-16</th>\n",
       "      <td>44.05</td>\n",
       "      <td>56.53</td>\n",
       "      <td>22.67</td>\n",
       "    </tr>\n",
       "  </tbody>\n",
       "</table>\n",
       "</div>"
      ],
      "text/plain": [
       "Symbols     AAPL  GOOGL  TSLA\n",
       "Date                         \n",
       "2018-01-02 43.06  53.66 21.37\n",
       "2018-01-03 43.06  54.58 21.15\n",
       "2018-01-04 43.26  54.79 20.97\n",
       "2018-01-05 43.75  55.51 21.11\n",
       "2018-01-08 43.59  55.71 22.43\n",
       "2018-01-09 43.58  55.64 22.25\n",
       "2018-01-10 43.57  55.51 22.32\n",
       "2018-01-11 43.82  55.60 22.53\n",
       "2018-01-12 44.27  56.53 22.41\n",
       "2018-01-16 44.05  56.53 22.67"
      ]
     },
     "execution_count": 40,
     "metadata": {},
     "output_type": "execute_result"
    }
   ],
   "source": [
    "# your code here\n",
    "\n",
    "closingprice = stock_amerika['Close']\n",
    "closingprice.isna().sum()\n",
    "closingprice.head(10)"
   ]
  },
  {
   "cell_type": "markdown",
   "metadata": {},
   "source": [
    "**💭 Diskusi:** Apakah dapat dikatakan bahwa data `closingprice` tidak terdapat missing value? *hint: lihat urutan tanggal*\n"
   ]
  },
  {
   "cell_type": "markdown",
   "metadata": {},
   "source": [
    "Ketika kita bekerja dengan data runtun waktu (time series), kita harus memastikan data lengkap pada setiap periode waktu. Untuk kasus di atas kita harus melakukan **padding**, yaitu menyelipkan tanggal yang terlewati. \n",
    "\n",
    "❗️Kita dapat mengatur ulang index `Date` dengan method `reindex()` sehingga indexnya mengikuti rentang tanggal yang kita tentukan sendiri:"
   ]
  },
  {
   "cell_type": "code",
   "execution_count": 46,
   "metadata": {
    "ExecuteTime": {
     "end_time": "2021-06-27T06:57:35.733206Z",
     "start_time": "2021-06-27T06:57:35.720068Z"
    },
    "scrolled": true
   },
   "outputs": [
    {
     "data": {
      "text/html": [
       "<div>\n",
       "<style scoped>\n",
       "    .dataframe tbody tr th:only-of-type {\n",
       "        vertical-align: middle;\n",
       "    }\n",
       "\n",
       "    .dataframe tbody tr th {\n",
       "        vertical-align: top;\n",
       "    }\n",
       "\n",
       "    .dataframe thead th {\n",
       "        text-align: right;\n",
       "    }\n",
       "</style>\n",
       "<table border=\"1\" class=\"dataframe\">\n",
       "  <thead>\n",
       "    <tr style=\"text-align: right;\">\n",
       "      <th>Symbols</th>\n",
       "      <th>AAPL</th>\n",
       "      <th>GOOGL</th>\n",
       "      <th>TSLA</th>\n",
       "    </tr>\n",
       "  </thead>\n",
       "  <tbody>\n",
       "    <tr>\n",
       "      <th>2018-01-01</th>\n",
       "      <td>NaN</td>\n",
       "      <td>NaN</td>\n",
       "      <td>NaN</td>\n",
       "    </tr>\n",
       "    <tr>\n",
       "      <th>2018-01-02</th>\n",
       "      <td>43.06</td>\n",
       "      <td>53.66</td>\n",
       "      <td>21.37</td>\n",
       "    </tr>\n",
       "    <tr>\n",
       "      <th>2018-01-03</th>\n",
       "      <td>43.06</td>\n",
       "      <td>54.58</td>\n",
       "      <td>21.15</td>\n",
       "    </tr>\n",
       "    <tr>\n",
       "      <th>2018-01-04</th>\n",
       "      <td>43.26</td>\n",
       "      <td>54.79</td>\n",
       "      <td>20.97</td>\n",
       "    </tr>\n",
       "    <tr>\n",
       "      <th>2018-01-05</th>\n",
       "      <td>43.75</td>\n",
       "      <td>55.51</td>\n",
       "      <td>21.11</td>\n",
       "    </tr>\n",
       "    <tr>\n",
       "      <th>2018-01-06</th>\n",
       "      <td>43.75</td>\n",
       "      <td>55.51</td>\n",
       "      <td>21.11</td>\n",
       "    </tr>\n",
       "    <tr>\n",
       "      <th>2018-01-07</th>\n",
       "      <td>43.75</td>\n",
       "      <td>55.51</td>\n",
       "      <td>21.11</td>\n",
       "    </tr>\n",
       "    <tr>\n",
       "      <th>2018-01-08</th>\n",
       "      <td>43.59</td>\n",
       "      <td>55.71</td>\n",
       "      <td>22.43</td>\n",
       "    </tr>\n",
       "    <tr>\n",
       "      <th>2018-01-09</th>\n",
       "      <td>43.58</td>\n",
       "      <td>55.64</td>\n",
       "      <td>22.25</td>\n",
       "    </tr>\n",
       "    <tr>\n",
       "      <th>2018-01-10</th>\n",
       "      <td>43.57</td>\n",
       "      <td>55.51</td>\n",
       "      <td>22.32</td>\n",
       "    </tr>\n",
       "    <tr>\n",
       "      <th>2018-01-11</th>\n",
       "      <td>43.82</td>\n",
       "      <td>55.60</td>\n",
       "      <td>22.53</td>\n",
       "    </tr>\n",
       "    <tr>\n",
       "      <th>2018-01-12</th>\n",
       "      <td>44.27</td>\n",
       "      <td>56.53</td>\n",
       "      <td>22.41</td>\n",
       "    </tr>\n",
       "    <tr>\n",
       "      <th>2018-01-13</th>\n",
       "      <td>44.27</td>\n",
       "      <td>56.53</td>\n",
       "      <td>22.41</td>\n",
       "    </tr>\n",
       "    <tr>\n",
       "      <th>2018-01-14</th>\n",
       "      <td>44.27</td>\n",
       "      <td>56.53</td>\n",
       "      <td>22.41</td>\n",
       "    </tr>\n",
       "    <tr>\n",
       "      <th>2018-01-15</th>\n",
       "      <td>44.27</td>\n",
       "      <td>56.53</td>\n",
       "      <td>22.41</td>\n",
       "    </tr>\n",
       "    <tr>\n",
       "      <th>2018-01-16</th>\n",
       "      <td>44.05</td>\n",
       "      <td>56.53</td>\n",
       "      <td>22.67</td>\n",
       "    </tr>\n",
       "    <tr>\n",
       "      <th>2018-01-17</th>\n",
       "      <td>44.78</td>\n",
       "      <td>56.96</td>\n",
       "      <td>23.14</td>\n",
       "    </tr>\n",
       "    <tr>\n",
       "      <th>2018-01-18</th>\n",
       "      <td>44.81</td>\n",
       "      <td>56.80</td>\n",
       "      <td>22.97</td>\n",
       "    </tr>\n",
       "    <tr>\n",
       "      <th>2018-01-19</th>\n",
       "      <td>44.62</td>\n",
       "      <td>57.17</td>\n",
       "      <td>23.33</td>\n",
       "    </tr>\n",
       "    <tr>\n",
       "      <th>2018-01-20</th>\n",
       "      <td>44.62</td>\n",
       "      <td>57.17</td>\n",
       "      <td>23.33</td>\n",
       "    </tr>\n",
       "  </tbody>\n",
       "</table>\n",
       "</div>"
      ],
      "text/plain": [
       "Symbols     AAPL  GOOGL  TSLA\n",
       "2018-01-01   NaN    NaN   NaN\n",
       "2018-01-02 43.06  53.66 21.37\n",
       "2018-01-03 43.06  54.58 21.15\n",
       "2018-01-04 43.26  54.79 20.97\n",
       "2018-01-05 43.75  55.51 21.11\n",
       "2018-01-06 43.75  55.51 21.11\n",
       "2018-01-07 43.75  55.51 21.11\n",
       "2018-01-08 43.59  55.71 22.43\n",
       "2018-01-09 43.58  55.64 22.25\n",
       "2018-01-10 43.57  55.51 22.32\n",
       "2018-01-11 43.82  55.60 22.53\n",
       "2018-01-12 44.27  56.53 22.41\n",
       "2018-01-13 44.27  56.53 22.41\n",
       "2018-01-14 44.27  56.53 22.41\n",
       "2018-01-15 44.27  56.53 22.41\n",
       "2018-01-16 44.05  56.53 22.67\n",
       "2018-01-17 44.78  56.96 23.14\n",
       "2018-01-18 44.81  56.80 22.97\n",
       "2018-01-19 44.62  57.17 23.33\n",
       "2018-01-20 44.62  57.17 23.33"
      ]
     },
     "execution_count": 46,
     "metadata": {},
     "output_type": "execute_result"
    }
   ],
   "source": [
    "# data tanggal per harian dari 1 Januari sampai 31 Maret 2018\n",
    "new_index = pd.date_range(start=\"2018-01-01\",end=\"2018-03-31\")\n",
    "closingprice = closingprice.reindex(new_index)\n",
    "# closingprice.head(10)\n",
    "closingprice.fillna(method = 'ffill').head(20)\n",
    "# atau stock['Close'].ffill()"
   ]
  },
  {
   "cell_type": "markdown",
   "metadata": {},
   "source": [
    "Note: `nan`: missing value untuk numerik (not a number)"
   ]
  },
  {
   "cell_type": "markdown",
   "metadata": {},
   "source": [
    "Cek kembali missing value `NaN` yang terdapat pada `closingprice`:"
   ]
  },
  {
   "cell_type": "code",
   "execution_count": 55,
   "metadata": {
    "ExecuteTime": {
     "end_time": "2021-06-27T06:57:35.754007Z",
     "start_time": "2021-06-27T06:57:35.736407Z"
    },
    "scrolled": true
   },
   "outputs": [
    {
     "data": {
      "text/html": [
       "<div>\n",
       "<style scoped>\n",
       "    .dataframe tbody tr th:only-of-type {\n",
       "        vertical-align: middle;\n",
       "    }\n",
       "\n",
       "    .dataframe tbody tr th {\n",
       "        vertical-align: top;\n",
       "    }\n",
       "\n",
       "    .dataframe thead th {\n",
       "        text-align: right;\n",
       "    }\n",
       "</style>\n",
       "<table border=\"1\" class=\"dataframe\">\n",
       "  <thead>\n",
       "    <tr style=\"text-align: right;\">\n",
       "      <th>Symbols</th>\n",
       "      <th>AAPL</th>\n",
       "      <th>GOOGL</th>\n",
       "      <th>TSLA</th>\n",
       "    </tr>\n",
       "  </thead>\n",
       "  <tbody>\n",
       "    <tr>\n",
       "      <th>2018-01-02</th>\n",
       "      <td>43.06</td>\n",
       "      <td>53.66</td>\n",
       "      <td>21.37</td>\n",
       "    </tr>\n",
       "    <tr>\n",
       "      <th>2018-01-03</th>\n",
       "      <td>43.06</td>\n",
       "      <td>54.58</td>\n",
       "      <td>21.15</td>\n",
       "    </tr>\n",
       "    <tr>\n",
       "      <th>2018-01-04</th>\n",
       "      <td>43.26</td>\n",
       "      <td>54.79</td>\n",
       "      <td>20.97</td>\n",
       "    </tr>\n",
       "    <tr>\n",
       "      <th>2018-01-05</th>\n",
       "      <td>43.75</td>\n",
       "      <td>55.51</td>\n",
       "      <td>21.11</td>\n",
       "    </tr>\n",
       "    <tr>\n",
       "      <th>2018-01-06</th>\n",
       "      <td>43.75</td>\n",
       "      <td>55.51</td>\n",
       "      <td>21.11</td>\n",
       "    </tr>\n",
       "    <tr>\n",
       "      <th>...</th>\n",
       "      <td>...</td>\n",
       "      <td>...</td>\n",
       "      <td>...</td>\n",
       "    </tr>\n",
       "    <tr>\n",
       "      <th>2018-03-27</th>\n",
       "      <td>42.08</td>\n",
       "      <td>50.35</td>\n",
       "      <td>18.61</td>\n",
       "    </tr>\n",
       "    <tr>\n",
       "      <th>2018-03-28</th>\n",
       "      <td>41.62</td>\n",
       "      <td>50.26</td>\n",
       "      <td>17.19</td>\n",
       "    </tr>\n",
       "    <tr>\n",
       "      <th>2018-03-29</th>\n",
       "      <td>41.94</td>\n",
       "      <td>51.86</td>\n",
       "      <td>17.74</td>\n",
       "    </tr>\n",
       "    <tr>\n",
       "      <th>2018-03-30</th>\n",
       "      <td>41.94</td>\n",
       "      <td>51.86</td>\n",
       "      <td>17.74</td>\n",
       "    </tr>\n",
       "    <tr>\n",
       "      <th>2018-03-31</th>\n",
       "      <td>41.94</td>\n",
       "      <td>51.86</td>\n",
       "      <td>17.74</td>\n",
       "    </tr>\n",
       "  </tbody>\n",
       "</table>\n",
       "<p>89 rows × 3 columns</p>\n",
       "</div>"
      ],
      "text/plain": [
       "Symbols     AAPL  GOOGL  TSLA\n",
       "2018-01-02 43.06  53.66 21.37\n",
       "2018-01-03 43.06  54.58 21.15\n",
       "2018-01-04 43.26  54.79 20.97\n",
       "2018-01-05 43.75  55.51 21.11\n",
       "2018-01-06 43.75  55.51 21.11\n",
       "...          ...    ...   ...\n",
       "2018-03-27 42.08  50.35 18.61\n",
       "2018-03-28 41.62  50.26 17.19\n",
       "2018-03-29 41.94  51.86 17.74\n",
       "2018-03-30 41.94  51.86 17.74\n",
       "2018-03-31 41.94  51.86 17.74\n",
       "\n",
       "[89 rows x 3 columns]"
      ]
     },
     "execution_count": 55,
     "metadata": {},
     "output_type": "execute_result"
    }
   ],
   "source": [
    "# your code here\n",
    "closingprice = closingprice.dropna()\n",
    "closingprice "
   ]
  },
  {
   "cell_type": "markdown",
   "metadata": {},
   "source": [
    "❓**Diskusi:** Bagaimana cara kita mengisi missing value tersebut?"
   ]
  },
  {
   "cell_type": "markdown",
   "metadata": {},
   "source": [
    "## Reshaping\n",
    "\n",
    "Reshaping data adalah salah satu komponen penting dalam tahap data wrangling, karena memungkinkan seorang analis untuk mempersiapkan data menjadi bentuk yang sesuai untuk tahap analisa data berikutnya."
   ]
  },
  {
   "cell_type": "markdown",
   "metadata": {},
   "source": [
    "### `stack()` and `unstack()`\n",
    "\n",
    "Method yang berguna saat kita ingin mengubah bentuk Multi-Index DataFrame:\n",
    "\n",
    "- `stack()`: mengubah level pada kolom menjadi pada baris\n",
    "- `unstack()`: mengubah level pada baris menjadi pada kolom\n",
    "\n",
    "<img src=\"assets/reshaping_stack.png\" width=\"600\"/>\n",
    "\n",
    "Untuk saat ini, `stock` memiliki 2-level kolom (`Attributes` dan `Symbols`) dan 1-level baris (`Date`)."
   ]
  },
  {
   "cell_type": "code",
   "execution_count": null,
   "metadata": {},
   "outputs": [],
   "source": [
    "stock_amerika.stack()"
   ]
  },
  {
   "cell_type": "code",
   "execution_count": null,
   "metadata": {
    "ExecuteTime": {
     "end_time": "2021-06-27T06:57:35.802332Z",
     "start_time": "2021-06-27T06:57:35.775501Z"
    },
    "scrolled": true
   },
   "outputs": [],
   "source": [
    "# aplikasikan method stack\n"
   ]
  },
  {
   "cell_type": "markdown",
   "metadata": {},
   "source": [
    "📈 Setelah mengaplikasikan method `stack()`, `Symbols` pindah dari yang sebelumnya level pada kolom menjadi baris. Kenapa `Symbols`? Karena secara default parameter `level=-1`, sehingga kolom dengan level paling dalam yang pindah menjadi baris.\n",
    "\n",
    "❗️ Bagaimana cara kita memindahkan level `Attributes`nya menjadi baris?"
   ]
  },
  {
   "cell_type": "code",
   "execution_count": null,
   "metadata": {
    "ExecuteTime": {
     "end_time": "2021-06-27T06:57:35.843021Z",
     "start_time": "2021-06-27T06:57:35.805942Z"
    }
   },
   "outputs": [],
   "source": []
  },
  {
   "cell_type": "markdown",
   "metadata": {},
   "source": [
    "Sedangkan `unstack()` adalah kebalikan dari `stack()`:\n",
    "\n",
    "<img src=\"assets/reshaping_unstack.png\" width=\"600\"/>\n",
    "\n",
    "Cobalah aplikasikan method `unstack()` pada dataframe `stock`:"
   ]
  },
  {
   "cell_type": "code",
   "execution_count": null,
   "metadata": {
    "ExecuteTime": {
     "end_time": "2021-06-27T06:57:35.867274Z",
     "start_time": "2021-06-27T06:57:35.848470Z"
    }
   },
   "outputs": [],
   "source": []
  },
  {
   "cell_type": "markdown",
   "metadata": {},
   "source": [
    "❗️ Apa yang terjadi ketika method `stack()` dilanjutkan dengan method `unstack()` (asumsi menggunakan parameter `level` default)?"
   ]
  },
  {
   "cell_type": "code",
   "execution_count": null,
   "metadata": {
    "ExecuteTime": {
     "end_time": "2021-06-27T06:57:35.952509Z",
     "start_time": "2021-06-27T06:57:35.871440Z"
    }
   },
   "outputs": [],
   "source": [
    "# your code here\n"
   ]
  },
  {
   "cell_type": "markdown",
   "metadata": {},
   "source": [
    "### 💭 Dive Deeper\n",
    "\n",
    "1. How to swap the position (`level`) of Symbols and Attributes?\n",
    "\n",
    "___\n",
    "\n",
    "1. Bagaimana cara menukar posisi (`level`) dari Symbols dan Attributes?"
   ]
  },
  {
   "cell_type": "code",
   "execution_count": 36,
   "metadata": {},
   "outputs": [
    {
     "data": {
      "text/html": [
       "<div>\n",
       "<style scoped>\n",
       "    .dataframe tbody tr th:only-of-type {\n",
       "        vertical-align: middle;\n",
       "    }\n",
       "\n",
       "    .dataframe tbody tr th {\n",
       "        vertical-align: top;\n",
       "    }\n",
       "\n",
       "    .dataframe thead tr th {\n",
       "        text-align: left;\n",
       "    }\n",
       "\n",
       "    .dataframe thead tr:last-of-type th {\n",
       "        text-align: right;\n",
       "    }\n",
       "</style>\n",
       "<table border=\"1\" class=\"dataframe\">\n",
       "  <thead>\n",
       "    <tr>\n",
       "      <th>Attributes</th>\n",
       "      <th colspan=\"3\" halign=\"left\">Adj Close</th>\n",
       "      <th colspan=\"3\" halign=\"left\">Close</th>\n",
       "      <th colspan=\"3\" halign=\"left\">High</th>\n",
       "      <th colspan=\"3\" halign=\"left\">Low</th>\n",
       "      <th colspan=\"3\" halign=\"left\">Open</th>\n",
       "      <th colspan=\"3\" halign=\"left\">Volume</th>\n",
       "    </tr>\n",
       "    <tr>\n",
       "      <th>Symbols</th>\n",
       "      <th>AAPL</th>\n",
       "      <th>GOOGL</th>\n",
       "      <th>TSLA</th>\n",
       "      <th>AAPL</th>\n",
       "      <th>GOOGL</th>\n",
       "      <th>TSLA</th>\n",
       "      <th>AAPL</th>\n",
       "      <th>GOOGL</th>\n",
       "      <th>TSLA</th>\n",
       "      <th>AAPL</th>\n",
       "      <th>GOOGL</th>\n",
       "      <th>TSLA</th>\n",
       "      <th>AAPL</th>\n",
       "      <th>GOOGL</th>\n",
       "      <th>TSLA</th>\n",
       "      <th>AAPL</th>\n",
       "      <th>GOOGL</th>\n",
       "      <th>TSLA</th>\n",
       "    </tr>\n",
       "    <tr>\n",
       "      <th>Date</th>\n",
       "      <th></th>\n",
       "      <th></th>\n",
       "      <th></th>\n",
       "      <th></th>\n",
       "      <th></th>\n",
       "      <th></th>\n",
       "      <th></th>\n",
       "      <th></th>\n",
       "      <th></th>\n",
       "      <th></th>\n",
       "      <th></th>\n",
       "      <th></th>\n",
       "      <th></th>\n",
       "      <th></th>\n",
       "      <th></th>\n",
       "      <th></th>\n",
       "      <th></th>\n",
       "      <th></th>\n",
       "    </tr>\n",
       "  </thead>\n",
       "  <tbody>\n",
       "    <tr>\n",
       "      <th>2018-01-02</th>\n",
       "      <td>41.02</td>\n",
       "      <td>53.66</td>\n",
       "      <td>21.37</td>\n",
       "      <td>43.06</td>\n",
       "      <td>53.66</td>\n",
       "      <td>21.37</td>\n",
       "      <td>43.08</td>\n",
       "      <td>53.80</td>\n",
       "      <td>21.47</td>\n",
       "      <td>42.31</td>\n",
       "      <td>52.65</td>\n",
       "      <td>20.73</td>\n",
       "      <td>42.54</td>\n",
       "      <td>52.65</td>\n",
       "      <td>20.80</td>\n",
       "      <td>102223600</td>\n",
       "      <td>31766000</td>\n",
       "      <td>65283000</td>\n",
       "    </tr>\n",
       "    <tr>\n",
       "      <th>2018-01-03</th>\n",
       "      <td>41.01</td>\n",
       "      <td>54.58</td>\n",
       "      <td>21.15</td>\n",
       "      <td>43.06</td>\n",
       "      <td>54.58</td>\n",
       "      <td>21.15</td>\n",
       "      <td>43.64</td>\n",
       "      <td>54.81</td>\n",
       "      <td>21.68</td>\n",
       "      <td>42.99</td>\n",
       "      <td>53.67</td>\n",
       "      <td>21.04</td>\n",
       "      <td>43.13</td>\n",
       "      <td>53.70</td>\n",
       "      <td>21.40</td>\n",
       "      <td>118071600</td>\n",
       "      <td>31318000</td>\n",
       "      <td>67822500</td>\n",
       "    </tr>\n",
       "    <tr>\n",
       "      <th>2018-01-04</th>\n",
       "      <td>41.20</td>\n",
       "      <td>54.79</td>\n",
       "      <td>20.97</td>\n",
       "      <td>43.26</td>\n",
       "      <td>54.79</td>\n",
       "      <td>20.97</td>\n",
       "      <td>43.37</td>\n",
       "      <td>55.20</td>\n",
       "      <td>21.24</td>\n",
       "      <td>43.02</td>\n",
       "      <td>54.71</td>\n",
       "      <td>20.38</td>\n",
       "      <td>43.13</td>\n",
       "      <td>54.85</td>\n",
       "      <td>20.86</td>\n",
       "      <td>89738400</td>\n",
       "      <td>26052000</td>\n",
       "      <td>149194500</td>\n",
       "    </tr>\n",
       "    <tr>\n",
       "      <th>2018-01-05</th>\n",
       "      <td>41.67</td>\n",
       "      <td>55.51</td>\n",
       "      <td>21.11</td>\n",
       "      <td>43.75</td>\n",
       "      <td>55.51</td>\n",
       "      <td>21.11</td>\n",
       "      <td>43.84</td>\n",
       "      <td>55.68</td>\n",
       "      <td>21.15</td>\n",
       "      <td>43.26</td>\n",
       "      <td>55.09</td>\n",
       "      <td>20.80</td>\n",
       "      <td>43.36</td>\n",
       "      <td>55.17</td>\n",
       "      <td>21.11</td>\n",
       "      <td>94640000</td>\n",
       "      <td>30250000</td>\n",
       "      <td>68868000</td>\n",
       "    </tr>\n",
       "    <tr>\n",
       "      <th>2018-01-08</th>\n",
       "      <td>41.52</td>\n",
       "      <td>55.71</td>\n",
       "      <td>22.43</td>\n",
       "      <td>43.59</td>\n",
       "      <td>55.71</td>\n",
       "      <td>22.43</td>\n",
       "      <td>43.90</td>\n",
       "      <td>55.96</td>\n",
       "      <td>22.47</td>\n",
       "      <td>43.48</td>\n",
       "      <td>55.50</td>\n",
       "      <td>21.03</td>\n",
       "      <td>43.59</td>\n",
       "      <td>55.55</td>\n",
       "      <td>21.07</td>\n",
       "      <td>82271200</td>\n",
       "      <td>24644000</td>\n",
       "      <td>147891000</td>\n",
       "    </tr>\n",
       "    <tr>\n",
       "      <th>...</th>\n",
       "      <td>...</td>\n",
       "      <td>...</td>\n",
       "      <td>...</td>\n",
       "      <td>...</td>\n",
       "      <td>...</td>\n",
       "      <td>...</td>\n",
       "      <td>...</td>\n",
       "      <td>...</td>\n",
       "      <td>...</td>\n",
       "      <td>...</td>\n",
       "      <td>...</td>\n",
       "      <td>...</td>\n",
       "      <td>...</td>\n",
       "      <td>...</td>\n",
       "      <td>...</td>\n",
       "      <td>...</td>\n",
       "      <td>...</td>\n",
       "      <td>...</td>\n",
       "    </tr>\n",
       "    <tr>\n",
       "      <th>2022-09-12</th>\n",
       "      <td>163.43</td>\n",
       "      <td>110.86</td>\n",
       "      <td>304.42</td>\n",
       "      <td>163.43</td>\n",
       "      <td>110.86</td>\n",
       "      <td>304.42</td>\n",
       "      <td>164.26</td>\n",
       "      <td>111.62</td>\n",
       "      <td>305.49</td>\n",
       "      <td>159.30</td>\n",
       "      <td>109.93</td>\n",
       "      <td>300.40</td>\n",
       "      <td>159.59</td>\n",
       "      <td>110.99</td>\n",
       "      <td>300.72</td>\n",
       "      <td>104956000</td>\n",
       "      <td>22966800</td>\n",
       "      <td>48674600</td>\n",
       "    </tr>\n",
       "    <tr>\n",
       "      <th>2022-09-13</th>\n",
       "      <td>153.84</td>\n",
       "      <td>104.32</td>\n",
       "      <td>292.13</td>\n",
       "      <td>153.84</td>\n",
       "      <td>104.32</td>\n",
       "      <td>292.13</td>\n",
       "      <td>160.54</td>\n",
       "      <td>108.30</td>\n",
       "      <td>297.40</td>\n",
       "      <td>153.37</td>\n",
       "      <td>104.09</td>\n",
       "      <td>290.40</td>\n",
       "      <td>159.90</td>\n",
       "      <td>107.80</td>\n",
       "      <td>292.90</td>\n",
       "      <td>122656600</td>\n",
       "      <td>38172900</td>\n",
       "      <td>68229600</td>\n",
       "    </tr>\n",
       "    <tr>\n",
       "      <th>2022-09-14</th>\n",
       "      <td>155.31</td>\n",
       "      <td>105.00</td>\n",
       "      <td>302.61</td>\n",
       "      <td>155.31</td>\n",
       "      <td>105.00</td>\n",
       "      <td>302.61</td>\n",
       "      <td>157.10</td>\n",
       "      <td>105.28</td>\n",
       "      <td>306.00</td>\n",
       "      <td>153.61</td>\n",
       "      <td>103.66</td>\n",
       "      <td>291.64</td>\n",
       "      <td>154.79</td>\n",
       "      <td>104.57</td>\n",
       "      <td>292.24</td>\n",
       "      <td>87965400</td>\n",
       "      <td>26395100</td>\n",
       "      <td>72628700</td>\n",
       "    </tr>\n",
       "    <tr>\n",
       "      <th>2022-09-15</th>\n",
       "      <td>152.37</td>\n",
       "      <td>102.91</td>\n",
       "      <td>303.75</td>\n",
       "      <td>152.37</td>\n",
       "      <td>102.91</td>\n",
       "      <td>303.75</td>\n",
       "      <td>155.24</td>\n",
       "      <td>105.27</td>\n",
       "      <td>309.12</td>\n",
       "      <td>151.38</td>\n",
       "      <td>102.35</td>\n",
       "      <td>300.72</td>\n",
       "      <td>154.65</td>\n",
       "      <td>104.03</td>\n",
       "      <td>301.83</td>\n",
       "      <td>90481100</td>\n",
       "      <td>34188300</td>\n",
       "      <td>64795500</td>\n",
       "    </tr>\n",
       "    <tr>\n",
       "      <th>2022-09-16</th>\n",
       "      <td>150.70</td>\n",
       "      <td>102.80</td>\n",
       "      <td>303.35</td>\n",
       "      <td>150.70</td>\n",
       "      <td>102.80</td>\n",
       "      <td>303.35</td>\n",
       "      <td>151.35</td>\n",
       "      <td>103.13</td>\n",
       "      <td>303.71</td>\n",
       "      <td>148.37</td>\n",
       "      <td>100.94</td>\n",
       "      <td>295.60</td>\n",
       "      <td>151.21</td>\n",
       "      <td>102.07</td>\n",
       "      <td>299.61</td>\n",
       "      <td>162157000</td>\n",
       "      <td>42780300</td>\n",
       "      <td>86949500</td>\n",
       "    </tr>\n",
       "  </tbody>\n",
       "</table>\n",
       "<p>1186 rows × 18 columns</p>\n",
       "</div>"
      ],
      "text/plain": [
       "Attributes Adj Close                Close                 High                \\\n",
       "Symbols         AAPL  GOOGL   TSLA   AAPL  GOOGL   TSLA   AAPL  GOOGL   TSLA   \n",
       "Date                                                                           \n",
       "2018-01-02     41.02  53.66  21.37  43.06  53.66  21.37  43.08  53.80  21.47   \n",
       "2018-01-03     41.01  54.58  21.15  43.06  54.58  21.15  43.64  54.81  21.68   \n",
       "2018-01-04     41.20  54.79  20.97  43.26  54.79  20.97  43.37  55.20  21.24   \n",
       "2018-01-05     41.67  55.51  21.11  43.75  55.51  21.11  43.84  55.68  21.15   \n",
       "2018-01-08     41.52  55.71  22.43  43.59  55.71  22.43  43.90  55.96  22.47   \n",
       "...              ...    ...    ...    ...    ...    ...    ...    ...    ...   \n",
       "2022-09-12    163.43 110.86 304.42 163.43 110.86 304.42 164.26 111.62 305.49   \n",
       "2022-09-13    153.84 104.32 292.13 153.84 104.32 292.13 160.54 108.30 297.40   \n",
       "2022-09-14    155.31 105.00 302.61 155.31 105.00 302.61 157.10 105.28 306.00   \n",
       "2022-09-15    152.37 102.91 303.75 152.37 102.91 303.75 155.24 105.27 309.12   \n",
       "2022-09-16    150.70 102.80 303.35 150.70 102.80 303.35 151.35 103.13 303.71   \n",
       "\n",
       "Attributes    Low                 Open                   Volume            \\\n",
       "Symbols      AAPL  GOOGL   TSLA   AAPL  GOOGL   TSLA       AAPL     GOOGL   \n",
       "Date                                                                        \n",
       "2018-01-02  42.31  52.65  20.73  42.54  52.65  20.80  102223600  31766000   \n",
       "2018-01-03  42.99  53.67  21.04  43.13  53.70  21.40  118071600  31318000   \n",
       "2018-01-04  43.02  54.71  20.38  43.13  54.85  20.86   89738400  26052000   \n",
       "2018-01-05  43.26  55.09  20.80  43.36  55.17  21.11   94640000  30250000   \n",
       "2018-01-08  43.48  55.50  21.03  43.59  55.55  21.07   82271200  24644000   \n",
       "...           ...    ...    ...    ...    ...    ...        ...       ...   \n",
       "2022-09-12 159.30 109.93 300.40 159.59 110.99 300.72  104956000  22966800   \n",
       "2022-09-13 153.37 104.09 290.40 159.90 107.80 292.90  122656600  38172900   \n",
       "2022-09-14 153.61 103.66 291.64 154.79 104.57 292.24   87965400  26395100   \n",
       "2022-09-15 151.38 102.35 300.72 154.65 104.03 301.83   90481100  34188300   \n",
       "2022-09-16 148.37 100.94 295.60 151.21 102.07 299.61  162157000  42780300   \n",
       "\n",
       "Attributes             \n",
       "Symbols          TSLA  \n",
       "Date                   \n",
       "2018-01-02   65283000  \n",
       "2018-01-03   67822500  \n",
       "2018-01-04  149194500  \n",
       "2018-01-05   68868000  \n",
       "2018-01-08  147891000  \n",
       "...               ...  \n",
       "2022-09-12   48674600  \n",
       "2022-09-13   68229600  \n",
       "2022-09-14   72628700  \n",
       "2022-09-15   64795500  \n",
       "2022-09-16   86949500  \n",
       "\n",
       "[1186 rows x 18 columns]"
      ]
     },
     "execution_count": 36,
     "metadata": {},
     "output_type": "execute_result"
    }
   ],
   "source": [
    "# your code here\n",
    "stock_amerika\n",
    "# stock_amerika.swaplevel(i=1,j=0,axis=1)\n"
   ]
  },
  {
   "cell_type": "markdown",
   "metadata": {},
   "source": [
    "2. Based on your knowledge, what company (`Symbols`) worth invest on? (You may look on its fluctuations, means, etc)\n",
    "\n",
    "___\n",
    "\n",
    "2. Berdasarkan pengetahuan Anda, perusahaan (`Symbols`) mana yang layak untuk diinvestasikan? (Anda dapat melihat fluktuasi, means, dll)"
   ]
  },
  {
   "cell_type": "code",
   "execution_count": null,
   "metadata": {},
   "outputs": [],
   "source": [
    "# your code here\n"
   ]
  },
  {
   "cell_type": "markdown",
   "metadata": {},
   "source": [
    "📈 Insight:\n",
    "\n",
    "- ...\n",
    "- ...\n",
    "- ..."
   ]
  },
  {
   "cell_type": "markdown",
   "metadata": {},
   "source": [
    "### ❓ Knowledge Check: Stack and Unstack\n",
    "\n",
    "Which of the following statement is correct?\n",
    "\n",
    "- [ ] `stack()` changes the DataFrame from wide to long\n",
    "- [ ] `unstack()` changes the DataFrame from long to wide\n",
    "- [ ] `unstack()` changes the DataFrame from wide to long"
   ]
  },
  {
   "cell_type": "markdown",
   "metadata": {},
   "source": [
    "---\n",
    "### 📝 Summary Day 1\n",
    "\n",
    "**Reproducible Env**\n",
    "- Exporting environtment: ...\n",
    "- Importing environtment: ...\n",
    "    \n",
    "**Data Loading**\n",
    "- Library `yfinance` digunakan untuk menarik data dari berbagai sumber terkait keuangan, misalnya data saham dari Yahoo! Finance.\n",
    "- File pickle: file binary yang digunakan untuk menyimpan object Python (contohnya DataFrame)\n",
    "    - Object python:\n",
    "        + ...\n",
    "        + ..\n",
    "        + ...\n",
    "    - `.to_pickle(path)`: method untuk [pickling/unpickling]\n",
    "    - `pd.read_pickle(path)`: method untuk [pickling/unpickling]\n",
    "\n",
    "**Slicing MultiIndex DataFrame**\n",
    "- Gunakan ... untuk mengambil kolom pada **level teratas**\n",
    "- Gunakan ... untuk mengambil kolom pada level lebih dalam, parameter: \n",
    "    - `key`: nama label yang ingin diambil\n",
    "    - `level`: nama level dimana label tersebut berada\n",
    "    - `axis`: level terdapat pada index/baris (0 untuk ..., 1 untuk ...)\n",
    "\n",
    "**Datetime Padding**\n",
    "- `pd.date_range(start, end)`: untuk membuat sebuah DatetimeIndex dari tanggal `start` sampai `end`\n",
    "- `.reindex()`: untuk mengatur kembali index sesuai dengan yang diinginkan\n",
    "\n",
    "**Reshaping: Stacking vs Unstacking**\n",
    "- `stack()`: mengubah ... pada ... menjadi pada ...\n",
    "- `unstack()`: mengubah ... pada ... menjadi pada ...\n",
    "---"
   ]
  },
  {
   "cell_type": "markdown",
   "metadata": {},
   "source": [
    "### Melt\n",
    "\n",
    "Mirip dengan `stack()`, kita bisa menggunakan `melt()` untuk mengubah dataframe dari wide to long.\n",
    "\n",
    "<img src=\"assets/reshaping_melt.png\" width=\"600\"/>\n",
    "\n",
    "❓ Dari data `stock` silahkan slicing untuk mendapatkan data saham `AAPL`, simpan pada objek `aapl`:"
   ]
  },
  {
   "cell_type": "code",
   "execution_count": null,
   "metadata": {},
   "outputs": [],
   "source": [
    "stock_amerika.head()"
   ]
  },
  {
   "cell_type": "code",
   "execution_count": null,
   "metadata": {
    "ExecuteTime": {
     "end_time": "2021-06-27T06:57:36.032499Z",
     "start_time": "2021-06-27T06:57:36.012840Z"
    },
    "scrolled": true
   },
   "outputs": [],
   "source": [
    "# your code here\n"
   ]
  },
  {
   "cell_type": "markdown",
   "metadata": {},
   "source": [
    "❓ Aplikasikan method `melt()` dan simpan pada objek `aapl_melted`"
   ]
  },
  {
   "cell_type": "code",
   "execution_count": null,
   "metadata": {
    "ExecuteTime": {
     "end_time": "2021-06-27T06:57:36.032499Z",
     "start_time": "2021-06-27T06:57:36.012840Z"
    },
    "scrolled": true
   },
   "outputs": [],
   "source": [
    "# your code here\n"
   ]
  },
  {
   "cell_type": "markdown",
   "metadata": {},
   "source": [
    "❓ Bandingkan ukuran `aapl` dan `aapl_melted`:\n",
    "\n",
    "- `aapl` (wide): \n",
    "- `aapl_melted` (long): "
   ]
  },
  {
   "cell_type": "code",
   "execution_count": null,
   "metadata": {
    "ExecuteTime": {
     "end_time": "2021-06-27T06:57:36.116442Z",
     "start_time": "2021-06-27T06:57:36.098964Z"
    }
   },
   "outputs": [],
   "source": []
  },
  {
   "cell_type": "code",
   "execution_count": null,
   "metadata": {},
   "outputs": [],
   "source": []
  },
  {
   "cell_type": "markdown",
   "metadata": {},
   "source": [
    "**💭 Knowledge Check: Melt vs Stack**\n",
    "\n",
    "Persamaan antara `melt()` dan `stack()`: \n",
    "\n",
    "Apa perbedaan antara `melt()` dan `stack()` ?\n",
    "- `stack()` \n",
    "    - umumnya digunakan pada data ...\n",
    "    - umumnya digunakan untuk ...\n",
    "- `melt()`\n",
    "    - umumnya digunakan pada data ...\n",
    "    - umumnya digunakan untuk ..."
   ]
  },
  {
   "cell_type": "markdown",
   "metadata": {},
   "source": [
    "#### Identifier and Value\n",
    "\n",
    "Dalam method `melt()`, terdapat dua parameter yang sering digunakan:\n",
    "- `id_vars`: kolom yang menjadi identifier variables (kolom yang dipertahankan)\n",
    "- `value_vars`: kolom yang menjadi value variables\n"
   ]
  },
  {
   "cell_type": "code",
   "execution_count": null,
   "metadata": {
    "ExecuteTime": {
     "end_time": "2021-06-27T06:57:36.171511Z",
     "start_time": "2021-06-27T06:57:36.151906Z"
    }
   },
   "outputs": [],
   "source": [
    "# coba langsung mengaplikasikan melt\n"
   ]
  },
  {
   "cell_type": "markdown",
   "metadata": {},
   "source": [
    "Kita ingin kolom `Date` menjadi `id_vars`, namun belum bisa diakses sebagai kolom karena masih berupa index. Untuk itu kita menggunakan `reset_index()` sebelum `melt()`"
   ]
  },
  {
   "cell_type": "code",
   "execution_count": null,
   "metadata": {
    "ExecuteTime": {
     "end_time": "2021-06-27T06:57:36.199066Z",
     "start_time": "2021-06-27T06:57:36.173514Z"
    }
   },
   "outputs": [],
   "source": [
    "# menggunakan reset_index\n"
   ]
  },
  {
   "cell_type": "markdown",
   "metadata": {},
   "source": [
    "❓ **Latihan:** Saya ingin melakukan melt terhadap data `aapl` hanya pada kolom `Close` dan `Open`, serta setiap observasinya dibedakan berdasarkan `Date`. Simpan pada objek `aapl_close_open`:"
   ]
  },
  {
   "cell_type": "markdown",
   "metadata": {},
   "source": [
    "Parameter:\n",
    "- `id_vars`: daftar kolom yang ingin kita pertahankan setelah hasil melt\n",
    "- `value_vars`: daftar kolom yang ingin kita peroleh di kolom `variable`"
   ]
  },
  {
   "cell_type": "code",
   "execution_count": null,
   "metadata": {
    "ExecuteTime": {
     "end_time": "2021-06-27T06:57:36.231155Z",
     "start_time": "2021-06-27T06:57:36.201063Z"
    },
    "scrolled": true
   },
   "outputs": [],
   "source": [
    "# your code here\n"
   ]
  },
  {
   "cell_type": "markdown",
   "metadata": {},
   "source": [
    "Tambahan parameter:\n",
    "\n",
    "- `var_name` untuk memberi nama terhadap kolom `variable`\n",
    "- `value_name` untuk memberi nama terhadap kolom `value`"
   ]
  },
  {
   "cell_type": "code",
   "execution_count": null,
   "metadata": {
    "ExecuteTime": {
     "end_time": "2021-06-27T06:57:36.267674Z",
     "start_time": "2021-06-27T06:57:36.233155Z"
    }
   },
   "outputs": [],
   "source": []
  },
  {
   "cell_type": "markdown",
   "metadata": {},
   "source": [
    "### (Optional) Pivot: Inverse of Melt\n",
    "\n",
    "Kebalikan dari method `melt()` adalah `pivot()`, yaitu mengubah dataframe dari long ke wide.\n",
    "\n",
    "<img src=\"assets/reshaping_pivot.png\" width=\"600\"/>\n",
    "\n",
    "Silahkan coba mengaplikasikan method `pivot()` pada objek `aapl_close_open`, sehingga index-nya berupa `Date` serta terdapat dua kolom `Close` dan `Open` (dari `Attributes`):"
   ]
  },
  {
   "cell_type": "code",
   "execution_count": null,
   "metadata": {},
   "outputs": [],
   "source": []
  },
  {
   "cell_type": "code",
   "execution_count": null,
   "metadata": {
    "ExecuteTime": {
     "end_time": "2021-06-27T06:57:36.295791Z",
     "start_time": "2021-06-27T06:57:36.269671Z"
    },
    "scrolled": true
   },
   "outputs": [],
   "source": []
  },
  {
   "cell_type": "markdown",
   "metadata": {},
   "source": [
    "📌 Catatan tambahan:\n",
    " \n",
    "- `pivot_table()` untuk membuat tabel agregasi (ada nilai yang dirangkum)\n",
    "- `pivot()` hanya untuk reshaping (tidak ada nilai yang dirangkum)"
   ]
  },
  {
   "cell_type": "markdown",
   "metadata": {},
   "source": [
    "📌 **Quick summary reshaping & subsetting method**:\n",
    "\n",
    "Method reshaping yang sudah dipelajari sampai tahap ini:\n",
    "\n",
    "- `stack` dan `unstack`: bekerja pada level (multiindex dataframe)\n",
    "- `melt` dan `pivot`: bekerja pada index maupun kolom (single index dataframe)\n",
    "- `reset_index`: level pada index dijadikan sebuah kolom\n",
    "\n",
    "Method subsetting/slicing multiindex dataframe:\n",
    "- `.xs`: cross-section"
   ]
  },
  {
   "cell_type": "markdown",
   "metadata": {},
   "source": [
    "# Visualization\n",
    "\n",
    "Tujuan Visualisasi:\n",
    "\n",
    "- Exploratory: proses untuk memfamiliarkan diri (berkenalan) dengan data melalui visualisasi, sehingga mendapatkan sebuah insight. Visualisasi yang ditampilkan biasanya sederhana. Analogi: mencari dan mendapatkan batu permata di antara ratusan batu biasa.\n",
    "- Explanatory: proses untuk menjelaskan atau menyajikan insight yang didapat dari hasil exploratory kepada user/audience. Visualisasi yang ditampilkan biasanya lebih menarik dan meng-highlight insight secara spesifik. Analogi: mempoles batu permata tersebut dan menawarkannya kepada pembeli.\n",
    "\n",
    "Pada course ini, dititikberatkan pada bagaimana cara kita menampilkan visualisasi data yang **informatif dan tepat**. Untuk memperindah tampilan visualisasi dapat di-eksplorasi secara mandiri melalui dokumentasi yang tersedia."
   ]
  },
  {
   "cell_type": "markdown",
   "metadata": {},
   "source": [
    "## Pandas and Matplotlib\n",
    "\n",
    "Sampai tahap ini mungkin Anda tidak sabar untuk melakukan visualisasi data di Python. Dengan cukup mudah, kita bisa membuat objek plot `matplotlib` dengan hanya menggunakan method `.plot()`. Kita dapat mengecek dependencies package `pandas` menggunakan `show_versions()`, dari situ kita bisa lihat bahwa `matplotlib` termasuk di dalamnya."
   ]
  },
  {
   "cell_type": "code",
   "execution_count": null,
   "metadata": {
    "ExecuteTime": {
     "end_time": "2021-06-27T06:57:36.617358Z",
     "start_time": "2021-06-27T06:57:36.297797Z"
    }
   },
   "outputs": [],
   "source": [
    "#pd.show_versions()"
   ]
  },
  {
   "cell_type": "markdown",
   "metadata": {},
   "source": [
    "❗️ Sekarang mari kita coba melakukan visualisasi untuk **100 observasi (baris) pertama `Volume` pada `stock`**\n",
    "\n",
    "- Index akan menjadi sumbu horizontal pada plot (`Date`)\n",
    "- Nilai akan menjadi sumbu vertikal pada plot\n",
    "- Masing-masing kolom akan menjadi 1 komponen pada plot, dalam hal ini 1 `Symbols` menjadi 1 garis"
   ]
  },
  {
   "cell_type": "code",
   "execution_count": null,
   "metadata": {
    "ExecuteTime": {
     "end_time": "2021-06-27T06:57:37.147615Z",
     "start_time": "2021-06-27T06:57:36.619358Z"
    }
   },
   "outputs": [],
   "source": [
    "# menyiapkan datanya terlebih dahulu\n",
    "stock['Volume'].head(100)"
   ]
  },
  {
   "cell_type": "code",
   "execution_count": null,
   "metadata": {},
   "outputs": [],
   "source": [
    "# visualisasi\n",
    "stock['Volume'].head(100).plot()"
   ]
  },
  {
   "cell_type": "markdown",
   "metadata": {},
   "source": [
    "📈 Insight:\n",
    "\n",
    "- ...\n",
    "- ...\n",
    "- ..."
   ]
  },
  {
   "cell_type": "markdown",
   "metadata": {},
   "source": [
    "🔻 Method `plot()` mempermudah kita dalam melakukan visualisasi langsung pada DataFrame, tanpa perlu mengerti cara penggunaan `matplotlib`. Kunjungi [dokumentasi matplotlib](https://matplotlib.org/tutorials/introductory/usage.html#sphx-glr-tutorials-introductory-usage-py) untuk detail mengenai `matplotlib`.\n",
    "\n",
    "🔻 Namun, keterbatasan dari penggunaan `plot()` adalah minim kustomisasi dari visualisasi yang ada. Hanya terbatas pada parameter yang ada di dalam method tersebut. Kunjungi [dokumentasi method plot](https://pandas.pydata.org/pandas-docs/stable/reference/api/pandas.DataFrame.plot.html)."
   ]
  },
  {
   "cell_type": "markdown",
   "metadata": {},
   "source": [
    "🔻 Salah satu kustomisasi yang dapat kita lakukan untuk memperindah visualisasi adalah melalui [matplotlib style sheet](https://matplotlib.org/tutorials/introductory/customizing.html). Kita dapat mengganti nilai 'default' pada method `plt.style.use()` dengan salah satu style yang tersedia, kemudian jalankan kembali code visualisasi untuk menerapkan style yang dipilih.\n",
    "\n",
    "💡 **Tips:** Meskipun kode kita tidak menggunakan `matplotlib` secara eksplisit namun bergantung pada implementasi `pandas`, alangkah lebih baik kita tetap melakukan import untuk berinteraksi dengan plot: `import matplotlib.pyplot as plt`."
   ]
  },
  {
   "cell_type": "code",
   "execution_count": null,
   "metadata": {
    "ExecuteTime": {
     "end_time": "2021-06-27T06:57:37.158125Z",
     "start_time": "2021-06-27T06:57:37.149393Z"
    },
    "scrolled": true
   },
   "outputs": [],
   "source": [
    "import matplotlib.pyplot as plt\n",
    "print(plt.style.available)\n",
    "plt.style.use('seaborn')"
   ]
  },
  {
   "cell_type": "code",
   "execution_count": null,
   "metadata": {},
   "outputs": [],
   "source": [
    "stock['Volume'].head(n=10).plot()"
   ]
  },
  {
   "cell_type": "markdown",
   "metadata": {},
   "source": [
    "❓ Sekarang kita coba visualisasi dari object `aapl` berikut:"
   ]
  },
  {
   "cell_type": "code",
   "execution_count": null,
   "metadata": {
    "ExecuteTime": {
     "end_time": "2021-06-27T07:35:43.134433Z",
     "start_time": "2021-06-27T07:35:43.101462Z"
    }
   },
   "outputs": [],
   "source": [
    "march = pd.date_range(start=\"2018-03-01\", end=\"2019-03-31\")\n",
    "aapl = stock.xs('AAPL', level='Symbols', axis=1)\n",
    "aapl = aapl.reindex(march)\n",
    "aapl"
   ]
  },
  {
   "cell_type": "code",
   "execution_count": null,
   "metadata": {
    "ExecuteTime": {
     "end_time": "2021-06-27T07:35:49.076784Z",
     "start_time": "2021-06-27T07:35:48.598118Z"
    },
    "scrolled": false
   },
   "outputs": [],
   "source": [
    "# visualisasi\n"
   ]
  },
  {
   "cell_type": "markdown",
   "metadata": {},
   "source": [
    "💭 **Diskusi:** Apakah visualisasi tersebut sudah cukup informatif dan tepat? Apabila belum, hal apa saja yang bisa di-improve dari visualisasi tersebut?\n",
    "\n",
    "- ...\n",
    "- ...\n",
    "- ...\n",
    "- ...\n"
   ]
  },
  {
   "cell_type": "markdown",
   "metadata": {},
   "source": [
    "---\n",
    "### 📝 Summary Day 2\n",
    "\n",
    "**Reshaping: Melt vs Pivot**\n",
    "\n",
    "- `melt()`: mengubah bentuk DataFrame dari ... menjadi ..., parameter:\n",
    "    - `id_vars`: kolom yang menjadi **identifier variables**\n",
    "    - `value_vars`: kolom yang menjadi **value variables**\n",
    "    - `var_name`: memberi **nama** terhadap kolom **variable**\n",
    "    - `value_name`: memberi **nama** terhadap kolom **value**\n",
    "- `pivot()`: mengubah bentuk DataFrame dari ... menjadi ..., parameter:\n",
    "    - `index`: kolom yang menjadi **nama baris** pada hasil reshaping\n",
    "    - `columns`: kolom yang menjadi **nama kolom** pada hasil reshaping\n",
    "    - `values`: kolom yang merupakan **nilai** pada hasil reshaping\n",
    "    - Perbedaannya dengan `pivot_table()` adalah pivot_table = agregasi sedangkan pivot = reshape\n",
    "\n",
    "**Visualization**\n",
    "\n",
    "Tujuan Visualisasi:\n",
    "- Exploratory: proses menghasilkan visualisasi secara cepat dan sederhana untuk menggali insight\n",
    "- Explanatory: proses untuk mempercantik visualisasi dan menyajikannya dalam bentuk dashboard/reporting\n",
    "\n",
    "**Types of Visualization**\n",
    "\n",
    "Pada `pandas`, kita dapat menggunakan method `.plot()` untuk melakukan visualisasi dengan bantuan package `matplotlib`\n",
    "- Default: ...\n",
    "---"
   ]
  },
  {
   "cell_type": "markdown",
   "metadata": {},
   "source": [
    "Opsional: anatomi plot pada matplotlib https://matplotlib.org/stable/gallery/showcase/anatomy.html"
   ]
  },
  {
   "cell_type": "markdown",
   "metadata": {},
   "source": [
    "## 📌 Types of Visualization\n",
    "\n",
    "Secara default, `plot()` menampilkan visualisasi **line chart**. Ada beberapa tipe visualisasi lain yang dapat kita buat menggunakan `.plot`:\n",
    "\n",
    "Visualisasi berikut hanya perlu menggunakan **satu** kolom:\n",
    "\n",
    "- Data kategorik:\n",
    "    - **`.plot.bar()` atau `.plot.barh()` untuk barplot (diagram batang)**\n",
    "    - **`.plot.box()` atau `.boxplot()` untuk boxplot (berhubungan dengan five number summary)**\n",
    "    - `.plot.pie()` untuk pie chart\n",
    "    \n",
    "\n",
    "- Data numerik:\n",
    "    - **`.plot.hist()` untuk histogram**\n",
    "    - `.plot.kde()` atau `.plot.density()` untuk density plot\n",
    "    - `.plot.area()` untuk area plot\n",
    "\n",
    "Visualisasi berikut perlu menggunakan **dua** kolom:\n",
    "\n",
    "- Numerik vs numerik:\n",
    "    - `.plot.scatter()` untuk scatter plot\n",
    "    - `.plot.hexbin()` untuk hexagonal bin plot\n",
    "\n",
    "💡 Panduan untuk menentukan tipe visualisasi yang tepat: https://www.data-to-viz.com/\n",
    "\n",
    "**Silahkan mengacu referensi lengkapnya di [official documentation](https://pandas.pydata.org/pandas-docs/stable/reference/api/pandas.DataFrame.plot.html) untuk method `plot` apabila ingin eksplor visualisasi yang ada di luar lingkup course ini**"
   ]
  },
  {
   "cell_type": "markdown",
   "metadata": {},
   "source": [
    "### 📊 Bar plot\n",
    "\n",
    "❓ Menggunakan data `stock`, tampilkan visualisasi untuk **membandingkan** fluktuasi (menggunakan coefficient of variance) nilai `Open` pada masing-masing `Symbols`."
   ]
  },
  {
   "cell_type": "code",
   "execution_count": null,
   "metadata": {},
   "outputs": [],
   "source": []
  },
  {
   "cell_type": "code",
   "execution_count": null,
   "metadata": {},
   "outputs": [],
   "source": [
    "#cov.plot.bar()\n"
   ]
  },
  {
   "cell_type": "markdown",
   "metadata": {},
   "source": [
    "📈 Insight:\n",
    "\n",
    "-  \n",
    "- \n",
    "- "
   ]
  },
  {
   "cell_type": "markdown",
   "metadata": {},
   "source": [
    "❓ Gunakan parameter `kind='barh'` untuk menampilkan bar chart secara horizontal (mendatar)"
   ]
  },
  {
   "cell_type": "code",
   "execution_count": null,
   "metadata": {
    "ExecuteTime": {
     "end_time": "2021-06-27T06:57:39.032562Z",
     "start_time": "2021-06-27T06:57:38.836315Z"
    }
   },
   "outputs": [],
   "source": [
    "# code here\n"
   ]
  },
  {
   "cell_type": "markdown",
   "metadata": {},
   "source": [
    "### Histogram\n",
    "\n",
    "Menggunakan data `stock`, tampilkan visualisasi histogram untuk mengetahui **persebaran** `Volume` pada saham `GOOGL`:"
   ]
  },
  {
   "cell_type": "code",
   "execution_count": null,
   "metadata": {},
   "outputs": [],
   "source": []
  },
  {
   "cell_type": "code",
   "execution_count": null,
   "metadata": {
    "ExecuteTime": {
     "end_time": "2021-06-27T06:57:39.247896Z",
     "start_time": "2021-06-27T06:57:39.036449Z"
    }
   },
   "outputs": [],
   "source": [
    "# menyiapkan data\n"
   ]
  },
  {
   "cell_type": "code",
   "execution_count": null,
   "metadata": {},
   "outputs": [],
   "source": [
    "# visualisasi\n"
   ]
  },
  {
   "cell_type": "markdown",
   "metadata": {},
   "source": [
    "📈 Insight: \n",
    "- ...\n",
    "- ...\n",
    "- ..."
   ]
  },
  {
   "cell_type": "markdown",
   "metadata": {},
   "source": [
    "### 💭 Knowledge Check: Bar plot vs Histogram\n",
    "\n",
    "Setelah membuat kedua plot di atas, apa perbedaan antara bar plot dengan histogram?\n",
    "\n",
    "- Barplot \n",
    "    - tujuan: \n",
    "    - tipe data: \n",
    "    - tampilan: \n",
    "- Histogram \n",
    "    - tujuan:\n",
    "    - tipe data: \n",
    "    - tampilan: "
   ]
  },
  {
   "cell_type": "markdown",
   "metadata": {},
   "source": [
    "### Box plot\n",
    "\n",
    "❓ Menggunakan data `stock`, tampilkan visualisasi box plot untuk membandingkan **persebaran** `Volume` untuk ketiga saham."
   ]
  },
  {
   "cell_type": "code",
   "execution_count": null,
   "metadata": {
    "ExecuteTime": {
     "end_time": "2021-06-27T06:57:39.448608Z",
     "start_time": "2021-06-27T06:57:39.251591Z"
    },
    "scrolled": false
   },
   "outputs": [],
   "source": []
  },
  {
   "cell_type": "markdown",
   "metadata": {},
   "source": [
    "Box plot menggambarkan **five number summary** sebagai berikut: \n",
    "\n",
    "<img src=\"assets/boxplot.png\" width=\"600\"/>\n",
    "\n",
    "- Q1: kuartil 1 (data ke 25%)\n",
    "- Median: kuartil 2 (data ke 50%)\n",
    "- Q3: kuartil 3 (data ke 75%)\n",
    "- Lower whisker: pagar bawah\n",
    "- Upper whisker: pagar atas\n",
    "- Data di luar pagar akan dianggap sebagai outlier atau data pencilan\n",
    "\n",
    "⚠️ Lower whisker bukan nilai minimum data. Upper whisker juga buka nilai maksimum data"
   ]
  },
  {
   "cell_type": "code",
   "execution_count": null,
   "metadata": {
    "ExecuteTime": {
     "end_time": "2021-06-27T06:57:39.531206Z",
     "start_time": "2021-06-27T06:57:39.451230Z"
    },
    "scrolled": true
   },
   "outputs": [],
   "source": [
    "# informasi mengenai quartile 1, 2, dan 3\n"
   ]
  },
  {
   "cell_type": "markdown",
   "metadata": {},
   "source": [
    "Gunakan parameter `vert=False` untuk melihat boxplot secara horizontal:"
   ]
  },
  {
   "cell_type": "code",
   "execution_count": null,
   "metadata": {},
   "outputs": [],
   "source": []
  },
  {
   "cell_type": "markdown",
   "metadata": {},
   "source": [
    "📌 Catatan: visualisasi boxplot di atas kurang tepat, karena dalam dunia saham kita tidak boleh langsung membandingkan nilai volumenya secara absolute, melainkan biasanya kita melihatnya secara relatif / persentasenya tergantung lembar saham yang dijual."
   ]
  },
  {
   "cell_type": "markdown",
   "metadata": {},
   "source": [
    "❓ **Kasus**: Tampilkan **persebaran** Volume GOOGL untuk masing-masing periode `quarter`nya:\n",
    "\n",
    "- Memindahkan index `Date` menjadi kolom\n",
    "- Mengekstrak periode kuarter dari `Date` menggunakan `.dt.to_period()`, simpan ke kolom `quarter`"
   ]
  },
  {
   "cell_type": "code",
   "execution_count": null,
   "metadata": {
    "ExecuteTime": {
     "end_time": "2021-06-27T06:57:39.737719Z",
     "start_time": "2021-06-27T06:57:39.700431Z"
    },
    "scrolled": true
   },
   "outputs": [],
   "source": [
    "# mempersiapkan data\n"
   ]
  },
  {
   "cell_type": "markdown",
   "metadata": {},
   "source": [
    "Alternatif `.plot(kind='box')`: Method `.boxplot()` akan mempermudah Anda ketika ingin membuat boxplot namun dikelompokkan berdasarkan kolom tertentu"
   ]
  },
  {
   "cell_type": "code",
   "execution_count": null,
   "metadata": {
    "ExecuteTime": {
     "end_time": "2021-06-27T06:57:40.196465Z",
     "start_time": "2021-06-27T06:57:39.739756Z"
    },
    "scrolled": false
   },
   "outputs": [],
   "source": [
    "# visualisasi\n"
   ]
  },
  {
   "cell_type": "markdown",
   "metadata": {},
   "source": [
    "📈 Insight:\n",
    "\n",
    "- Dari median: \n",
    "    - ..\n",
    "    - ..\n",
    "- Dari lebar kotak: \n",
    "    - ..\n",
    "    - ..\n",
    "- Dari outlier: \n",
    "    - ..\n",
    "    - ..\n",
    "    - .."
   ]
  },
  {
   "cell_type": "markdown",
   "metadata": {},
   "source": [
    "## (Additional) Other Python Libraries for Visualization\n",
    "\n",
    "Apabila Anda tertarik mengenai visualisasi di Python, silahkan eksplorasi lebih lanjut package-package berikut:\n",
    "\n",
    "- `matplotlib`: semua elemen pada visualisasi dapat dikustomisasi, namun membutuhkan code yang lebih panjang. [Dokumentasi Matplotlib](https://matplotlib.org/3.2.2/tutorials/index.html) \n",
    "- `seaborn`: dikembangkan dari `matplotlib`, lebih sedikit yang dapat dikustomisasi namun lebih mudah. [Dokumentasi Seaborn](https://seaborn.pydata.org/introduction.html)\n",
    "- `plotly`: plot interaktif serta kompatibilitas dengan bahasa lain yang tinggi. [Dokumentasi Plotly](https://plotly.com/python/)\n",
    "- `altair`: plot interaktif yang bersifat deklaratif, code relatif lebih mudah. [Dokumentasi Altair](https://altair-viz.github.io/index.html)\n",
    "\n",
    "Referensi perbandingan library: https://askalgo-py.netlify.app/faq/dwv#adakah-library-visualisasi-data-di-python-selain-matplotlib"
   ]
  },
  {
   "cell_type": "markdown",
   "metadata": {},
   "source": [
    "# Group By: Aggregation Table\n",
    "\n",
    "Teknik yang tak kalah penting adalah operasi **group by**. Mungkin untuk Anda yang sudah pernah menggunakan SQL atau tools lain seperti `tidyverse` pada bahasa R akan familiar dengan operasi group by ini.\n",
    "\n",
    "❗️ Misalkan kita punya dataframe `close_melted` yang ingin kita bandingkan nilai `Close` hariannya pada saham AAPL, TSLA, dan GOOGL:"
   ]
  },
  {
   "cell_type": "code",
   "execution_count": null,
   "metadata": {
    "ExecuteTime": {
     "end_time": "2021-06-27T06:57:40.224292Z",
     "start_time": "2021-06-27T06:57:40.200526Z"
    },
    "scrolled": false
   },
   "outputs": [],
   "source": []
  },
  {
   "cell_type": "markdown",
   "metadata": {},
   "source": [
    "❓ **Pertanyaan**: Di antara AAPL, TSLA, GOOGL, manakah saham yang memiliki **rata-rata** `Close` harian tertinggi?\n",
    "\n",
    "Pertama, coba buatlah tabel agregasi dengan `crosstab()` dan juga `pivot_table()`:"
   ]
  },
  {
   "cell_type": "code",
   "execution_count": null,
   "metadata": {
    "ExecuteTime": {
     "end_time": "2021-06-27T06:57:40.262123Z",
     "start_time": "2021-06-27T06:57:40.226423Z"
    },
    "scrolled": true
   },
   "outputs": [],
   "source": [
    "# versi crosstab\n"
   ]
  },
  {
   "cell_type": "code",
   "execution_count": null,
   "metadata": {
    "ExecuteTime": {
     "end_time": "2021-06-27T06:57:40.289623Z",
     "start_time": "2021-06-27T06:57:40.264234Z"
    },
    "scrolled": true
   },
   "outputs": [],
   "source": [
    "# versi pivot_table: \n"
   ]
  },
  {
   "cell_type": "markdown",
   "metadata": {},
   "source": [
    "**Ingat kembali:** \n",
    "\n",
    "Persamaan antara `crosstab` dan `pivot_table` yaitu keduanya dapat digunakan untuk menghasilkan tabel agregasi yang memiliki parameter `index`, `columns`, `values`, and `aggfunc`.\n",
    "\n",
    "Perbedaan antara `crosstab` dan `pivot_table` dapat dirangkum dalam tabel berikut:\n",
    "\n",
    "|                                                                                    | `pd.crosstab()` | `pd.pivot_table()` |\n",
    "|------------------------------------------------------------------------------------|-----------------|--------------------|\n",
    "|                                                                          **Input** | Array of values/Series |          DataFrame (parameter `data`)|\n",
    "|                                                              **Default `aggfunc`** |       `'count'` |           `'mean'` |\n",
    "|                                                          **Parameter `columns`** |       Mandatory |      Optional |\n",
    "|                                                          **Parameter `normalize`** |       Available |      Not Available |\n",
    "| [**Computation Time**](https://ramiro.org/notebook/pandas-crosstab-groupby-pivot/) | Relatively Slower |  Relatively Faster |"
   ]
  },
  {
   "cell_type": "markdown",
   "metadata": {},
   "source": [
    "Bandingkan dengan method `groupby()`:"
   ]
  },
  {
   "cell_type": "code",
   "execution_count": null,
   "metadata": {},
   "outputs": [],
   "source": []
  },
  {
   "cell_type": "code",
   "execution_count": null,
   "metadata": {
    "ExecuteTime": {
     "end_time": "2021-06-27T06:57:40.309039Z",
     "start_time": "2021-06-27T06:57:40.291626Z"
    }
   },
   "outputs": [],
   "source": [
    "# versi groupby\n"
   ]
  },
  {
   "cell_type": "code",
   "execution_count": null,
   "metadata": {},
   "outputs": [],
   "source": [
    "# mengurutkan tabel hasil groupby berdasarkan nilai Close\n"
   ]
  },
  {
   "cell_type": "markdown",
   "metadata": {},
   "source": [
    "Istilah **group by** merupakan gabungan dari proses:\n",
    "\n",
    "1. Split: mengelompokkan baris, co: dikelompokkan berdasarkan `Symbols`\n",
    "2. Apply: menerapkan fungsi untuk masing-masing kelompok, co: dihitung mean untuk masing-masing `Symbols`\n",
    "3. Combine: mengembalikan hasil dalam bentuk 1 tabel\n",
    "\n",
    "Ilustrasi proses **split-apply-combine** dapat dilihat pada [Google Sheet](https://docs.google.com/spreadsheets/d/1i58D8cXXGfKVs_2yBzXp4vD1Dku2p6HvDaCJBLB_-rg/edit#gid=0)"
   ]
  },
  {
   "cell_type": "markdown",
   "metadata": {},
   "source": [
    "## Visualizing Barchart for Comparison\n",
    "\n",
    "Sampai di sini kita tahu bahwa GOOGL memiliki rata-rata `Close` transaksi harian tertinggi dari visualisasi bar plot yang dihasilkan pada bagian sebelumnya. Untuk selanjutnya, mari kita menganalisa `Close` dari saham GOOGL. Kita bisa menggunakan method `day_name()` untuk mengekstrak nama hari dari `Date`:"
   ]
  },
  {
   "cell_type": "code",
   "execution_count": null,
   "metadata": {
    "ExecuteTime": {
     "end_time": "2021-06-27T06:57:40.333606Z",
     "start_time": "2021-06-27T06:57:40.311074Z"
    },
    "scrolled": true
   },
   "outputs": [],
   "source": [
    "googl = stock.xs('GOOGL', level='Symbols', axis=1).copy()\n",
    "googl['Close_Diff'] = googl['Close'].diff()\n",
    "googl['Weekday'] = googl.index.day_name()\n",
    "googl"
   ]
  },
  {
   "cell_type": "markdown",
   "metadata": {},
   "source": [
    "Perhatikan kolom `Close_Diff` yang dibuat di atas, nilai ini merupakan perbedaan antara nilai `Close` pada hari tertentu dengan hari berikutnya.\n",
    "\n",
    "❓ **Kasus:** Misalkan kita ingin membandingkan `Close_Diff` di setiap hari kerja. Untuk saham GOOGL, apakah secara rata-rata pada hari Kamis (Thursday) mencatat perbedaan yang lebih tinggi dibandingkan dengan hari Jumat (Friday)?"
   ]
  },
  {
   "cell_type": "code",
   "execution_count": null,
   "metadata": {
    "ExecuteTime": {
     "end_time": "2021-06-27T06:57:40.351131Z",
     "start_time": "2021-06-27T06:57:40.335606Z"
    }
   },
   "outputs": [],
   "source": [
    "# mempersiapkan data: gunakan groupby\n"
   ]
  },
  {
   "cell_type": "code",
   "execution_count": null,
   "metadata": {
    "ExecuteTime": {
     "end_time": "2021-06-27T06:57:40.515953Z",
     "start_time": "2021-06-27T06:57:40.354131Z"
    }
   },
   "outputs": [],
   "source": [
    "# visualisasi\n"
   ]
  },
  {
   "cell_type": "markdown",
   "metadata": {},
   "source": [
    "❓ **Diskusi:** Apakah plot di atas sudah cukup efektif? Kalau belum, apa yang perlu diperbaiki dari plot di atas?\n",
    "\n",
    "<!--\n",
    "googl_close_diff = googl.groupby('Weekday').mean()['Close_Diff']\n",
    "googl_close_diff.index\n",
    "\n",
    "wday = [\"Monday\", \"Tuesday\", \"Wednesday\", \"Thursday\", \"Friday\"]\n",
    "googl_close_diff.index = pd.CategoricalIndex(\n",
    "    data = googl_close_diff.index,\n",
    "    categories = wday,\n",
    "    ordered = True)\n",
    "googl_close_diff.index\n",
    "-->"
   ]
  },
  {
   "cell_type": "markdown",
   "metadata": {},
   "source": [
    "- \n",
    "- "
   ]
  },
  {
   "cell_type": "code",
   "execution_count": null,
   "metadata": {},
   "outputs": [],
   "source": [
    "# visualisasi perbaikan\n"
   ]
  },
  {
   "cell_type": "markdown",
   "metadata": {},
   "source": [
    "Apakah secara rata-rata pada hari Kamis (Thursday) mencatat perbedaan yang lebih tinggi dibandingkan dengan hari Jumat (Friday)? <br>\n",
    "\n",
    "📈 Insight: \n",
    "- ...."
   ]
  },
  {
   "cell_type": "markdown",
   "metadata": {},
   "source": [
    "## Using Grouped Barchart\n",
    "\n",
    "💭 Masih ingat dengan dataframe `closingprice`? Kita akan coba memvisualisasikan **grouped barchart** untuk membandingkan nilai `Close` untuk ketiga saham **setiap bulannya** pada kuartal pertama tahun 2018.\n",
    "\n",
    "- Pertama, kita memastikan `closingprice` tidak memiliki missing values dengan melakukan imputasi forward dan backward fill.\n",
    "- Selanjutnya, gunakan objek `closingprice` untuk menampilkan nilai **rata-rata** `Close` untuk setiap bulannya. Simpan tabel agregasi ke objek `average_closing`.\n",
    "\n",
    "📌 Note: untuk mengambil nama bulan tidak perlu `.dt` lagi, karena sudah berupa objek DatetimeIndex."
   ]
  },
  {
   "cell_type": "code",
   "execution_count": null,
   "metadata": {},
   "outputs": [],
   "source": [
    "closingprice.tail(10)"
   ]
  },
  {
   "cell_type": "code",
   "execution_count": null,
   "metadata": {
    "ExecuteTime": {
     "end_time": "2021-06-27T06:57:40.933751Z",
     "start_time": "2021-06-27T06:57:40.919695Z"
    },
    "scrolled": false
   },
   "outputs": [],
   "source": [
    "# mempersiapkan data\n"
   ]
  },
  {
   "cell_type": "markdown",
   "metadata": {},
   "source": [
    "Visualisasi:\n",
    "\n",
    "- Index menjadi sumbu horizontal\n",
    "- Column menjadi grouping untuk bar chartnya"
   ]
  },
  {
   "cell_type": "code",
   "execution_count": null,
   "metadata": {
    "ExecuteTime": {
     "end_time": "2021-06-27T06:57:41.126842Z",
     "start_time": "2021-06-27T06:57:40.934757Z"
    }
   },
   "outputs": [],
   "source": [
    "# visualisasi\n"
   ]
  },
  {
   "cell_type": "markdown",
   "metadata": {},
   "source": [
    "❓ **Diskusi:** Apakah plot di atas sudah cukup efektif? Kalau belum, apa yang perlu diperbaiki dari plot di atas?\n",
    "\n",
    "- ..."
   ]
  },
  {
   "cell_type": "code",
   "execution_count": null,
   "metadata": {},
   "outputs": [],
   "source": [
    "# improvement visualisasi\n"
   ]
  },
  {
   "cell_type": "markdown",
   "metadata": {},
   "source": [
    "📈 Insight: \n",
    "- \n",
    "- \n",
    "- "
   ]
  },
  {
   "cell_type": "markdown",
   "metadata": {},
   "source": [
    "## 💭 Knowledge Check: Group By + Reshaping\n",
    "\n",
    "Misal Anda dihadapkan dengan long DataFrame seperti pada `closingprice_melt` berikut:"
   ]
  },
  {
   "cell_type": "code",
   "execution_count": null,
   "metadata": {},
   "outputs": [],
   "source": [
    "closingprice_melt = closingprice.melt(id_vars='Month', value_name='Close')\n",
    "closingprice_melt"
   ]
  },
  {
   "cell_type": "markdown",
   "metadata": {},
   "source": [
    "❓ Kira-kira bagaimana cara kita mengubah bentuk `closingprice_melt` menjadi `average_closing`?\n",
    "\n",
    "**Hint:** Gunakan teknik `groupby` dan juga reshaping"
   ]
  },
  {
   "cell_type": "code",
   "execution_count": null,
   "metadata": {
    "ExecuteTime": {
     "end_time": "2021-06-27T06:57:41.624933Z",
     "start_time": "2021-06-27T06:57:41.604757Z"
    },
    "run_control": {
     "marked": false
    }
   },
   "outputs": [],
   "source": [
    "#(groupby)\n"
   ]
  },
  {
   "cell_type": "markdown",
   "metadata": {},
   "source": [
    "Ilustrasi group by pada kasus di atas dapat dilihat pada [Google Sheet](https://docs.google.com/spreadsheets/d/1i58D8cXXGfKVs_2yBzXp4vD1Dku2p6HvDaCJBLB_-rg/edit?usp=sharing)"
   ]
  },
  {
   "cell_type": "markdown",
   "metadata": {},
   "source": [
    "## Combining `agg` and `groupby`\n",
    "\n",
    "❗️ Perhatikan group by operation di bawah ini yang di-chaining dengan aggregate method `mean()`:"
   ]
  },
  {
   "cell_type": "code",
   "execution_count": null,
   "metadata": {
    "ExecuteTime": {
     "end_time": "2021-06-27T07:45:07.722050Z",
     "start_time": "2021-06-27T07:45:07.689748Z"
    },
    "run_control": {
     "marked": false
    },
    "scrolled": false
   },
   "outputs": [],
   "source": [
    "stock_long = stock.stack().reset_index()\n",
    "stock_long.head()"
   ]
  },
  {
   "cell_type": "code",
   "execution_count": null,
   "metadata": {
    "ExecuteTime": {
     "end_time": "2021-06-27T07:45:18.340409Z",
     "start_time": "2021-06-27T07:45:18.318425Z"
    }
   },
   "outputs": [],
   "source": [
    "# aggregasi biasa\n"
   ]
  },
  {
   "cell_type": "markdown",
   "metadata": {},
   "source": [
    "Misalkan kita ingin membuat tabel agregasi dengan `aggfunc` yang berbeda-beda untuk masing-masing `Symbols` berupa:\n",
    "- Maximum `stock` price (`max` dari `High`)\n",
    "- Minimum `stock` price (`min` dari `Low`)\n",
    "- Rata-rata closing price (`mean` dari `Close`)\n",
    "\n",
    "Untuk mendapat hasil tersebut, kita harus melakukan chaining `groupby` dengan method `agg`. Kita harus menyertakan mapping (**dictionary**) untuk setiap kolom dengan fungsi agregasinya seperti berikut ini:"
   ]
  },
  {
   "cell_type": "markdown",
   "metadata": {},
   "source": [
    "Syntax:\n",
    "\n",
    "```\n",
    ".agg({\n",
    "    'NAMA_KOLOM': 'FUNGSI_AGREGASI'\n",
    "})\n",
    "```"
   ]
  },
  {
   "cell_type": "code",
   "execution_count": null,
   "metadata": {
    "scrolled": true
   },
   "outputs": [],
   "source": [
    "# contoh penggunaan method agg untuk menerapkan fungsi std pada 1 kolom, yaitu Close\n"
   ]
  },
  {
   "cell_type": "markdown",
   "metadata": {},
   "source": [
    "❓ Visualisasikan tabel agregasi di atas untuk membandingkan nilai tersebut:"
   ]
  },
  {
   "cell_type": "code",
   "execution_count": null,
   "metadata": {
    "ExecuteTime": {
     "end_time": "2021-06-27T06:57:41.892221Z",
     "start_time": "2021-06-27T06:57:41.687517Z"
    }
   },
   "outputs": [],
   "source": [
    "# visualisasi\n"
   ]
  },
  {
   "cell_type": "markdown",
   "metadata": {},
   "source": [
    "📈 Insight:\n",
    "- "
   ]
  },
  {
   "cell_type": "markdown",
   "metadata": {},
   "source": [
    "## 💭 Knowledge Check: Vizualization\n",
    "\n",
    "Perhatikan dataframe `monthly_closing` berikut:"
   ]
  },
  {
   "cell_type": "code",
   "execution_count": null,
   "metadata": {
    "ExecuteTime": {
     "end_time": "2021-06-27T06:57:41.925703Z",
     "start_time": "2021-06-27T06:57:41.899075Z"
    },
    "scrolled": true
   },
   "outputs": [],
   "source": [
    "stock['YearMonth'] = stock.index.to_period('M')\n",
    "monthly_closing = stock.groupby('YearMonth').mean()['Close']\n",
    "monthly_closing.head()"
   ]
  },
  {
   "cell_type": "markdown",
   "metadata": {},
   "source": [
    "Tipe plot mana yang paling sesuai untuk data di atas, apabila kita ingin melihat pergerakan nilai `Close` dari waktu ke waktu?\n",
    "\n",
    "- [ ] Line plot `.plot()`\n",
    "- [ ] Scatter plot `.plot.scatter(x, y)`\n",
    "- [ ] Bar plot `.plot.bar()`\n",
    "- [ ] Box plot `.plot.box()`"
   ]
  },
  {
   "cell_type": "code",
   "execution_count": null,
   "metadata": {
    "ExecuteTime": {
     "end_time": "2021-06-27T06:57:43.850571Z",
     "start_time": "2021-06-27T06:57:41.927788Z"
    },
    "scrolled": false
   },
   "outputs": [],
   "source": [
    "# your code here\n"
   ]
  }
 ],
 "metadata": {
  "kernelspec": {
   "display_name": "theia_da",
   "language": "python",
   "name": "theia_da"
  },
  "language_info": {
   "codemirror_mode": {
    "name": "ipython",
    "version": 3
   },
   "file_extension": ".py",
   "mimetype": "text/x-python",
   "name": "python",
   "nbconvert_exporter": "python",
   "pygments_lexer": "ipython3",
   "version": "3.9.13"
  },
  "toc": {
   "base_numbering": 1,
   "nav_menu": {},
   "number_sections": true,
   "sideBar": true,
   "skip_h1_title": false,
   "title_cell": "Table of Contents",
   "title_sidebar": "Contents",
   "toc_cell": false,
   "toc_position": {
    "height": "calc(100% - 180px)",
    "left": "10px",
    "top": "150px",
    "width": "243.458px"
   },
   "toc_section_display": true,
   "toc_window_display": false
  },
  "varInspector": {
   "cols": {
    "lenName": 16,
    "lenType": 16,
    "lenVar": 40
   },
   "kernels_config": {
    "python": {
     "delete_cmd_postfix": "",
     "delete_cmd_prefix": "del ",
     "library": "var_list.py",
     "varRefreshCmd": "print(var_dic_list())"
    },
    "r": {
     "delete_cmd_postfix": ") ",
     "delete_cmd_prefix": "rm(",
     "library": "var_list.r",
     "varRefreshCmd": "cat(var_dic_list()) "
    }
   },
   "types_to_exclude": [
    "module",
    "function",
    "builtin_function_or_method",
    "instance",
    "_Feature"
   ],
   "window_display": false
  }
 },
 "nbformat": 4,
 "nbformat_minor": 4
}
