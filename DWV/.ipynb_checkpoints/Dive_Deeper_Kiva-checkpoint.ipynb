{
 "cells": [
  {
   "cell_type": "code",
   "execution_count": 1,
   "metadata": {
    "colab": {},
    "colab_type": "code",
    "id": "Zd-lrU1zZEn7"
   },
   "outputs": [],
   "source": [
    "import pandas as pd\n",
    "import matplotlib.pyplot as plt"
   ]
  },
  {
   "cell_type": "markdown",
   "metadata": {
    "colab_type": "text",
    "id": "7Pguo3DPZEn_"
   },
   "source": [
    "# Tentang Kiva\n",
    "\n",
    "<img src=\"assets/kiva.jpg\" width=\"500\"/>\n",
    "\n",
    "[Kiva.org](https://www.kiva.org/) adalah sebuah platform online non-profit untuk crowdfunding yang memungkinkan individu dapat meminjam dana untuk keperluan bisnis. Misinya adalah untuk meningkatkan kesejahteraan warga marginal (terutama low-income entrepreneurs and students) di beberapa negara. Crowdfunding (urun dana) adalah aktivitas pengumpulan dana modal dari beberapa individu untuk membiayai usaha bisnis baru.\n",
    "\n",
    "**Role play:** Anda dan tim adalah seorang data analyst di organisasi Kiva ini."
   ]
  },
  {
   "cell_type": "markdown",
   "metadata": {
    "colab_type": "text",
    "id": "uARWMlsIZEoA"
   },
   "source": [
    "# Data Preparation\n",
    "\n",
    "Pertama, load file `loan_kiva.csv` pada folder `data_input`:"
   ]
  },
  {
   "cell_type": "code",
   "execution_count": 2,
   "metadata": {
    "colab": {},
    "colab_type": "code",
    "id": "TDZuN7RlZEoB",
    "outputId": "ca479d7b-3a2c-4751-c646-d986ff7894f8",
    "scrolled": false
   },
   "outputs": [
    {
     "data": {
      "text/html": [
       "<div>\n",
       "<style scoped>\n",
       "    .dataframe tbody tr th:only-of-type {\n",
       "        vertical-align: middle;\n",
       "    }\n",
       "\n",
       "    .dataframe tbody tr th {\n",
       "        vertical-align: top;\n",
       "    }\n",
       "\n",
       "    .dataframe thead th {\n",
       "        text-align: right;\n",
       "    }\n",
       "</style>\n",
       "<table border=\"1\" class=\"dataframe\">\n",
       "  <thead>\n",
       "    <tr style=\"text-align: right;\">\n",
       "      <th></th>\n",
       "      <th>id</th>\n",
       "      <th>funded_amount</th>\n",
       "      <th>loan_amount</th>\n",
       "      <th>activity</th>\n",
       "      <th>sector</th>\n",
       "      <th>country</th>\n",
       "      <th>region</th>\n",
       "      <th>currency</th>\n",
       "      <th>partner_id</th>\n",
       "      <th>posted_time</th>\n",
       "      <th>funded_time</th>\n",
       "      <th>term_in_months</th>\n",
       "      <th>lender_count</th>\n",
       "      <th>repayment_interval</th>\n",
       "    </tr>\n",
       "  </thead>\n",
       "  <tbody>\n",
       "    <tr>\n",
       "      <th>0</th>\n",
       "      <td>653051</td>\n",
       "      <td>300.0</td>\n",
       "      <td>300.0</td>\n",
       "      <td>Fruits &amp; Vegetables</td>\n",
       "      <td>Food</td>\n",
       "      <td>Pakistan</td>\n",
       "      <td>Lahore</td>\n",
       "      <td>PKR</td>\n",
       "      <td>247</td>\n",
       "      <td>2014-01-01 06:12:39</td>\n",
       "      <td>2014-01-02 10:06:32</td>\n",
       "      <td>12</td>\n",
       "      <td>12</td>\n",
       "      <td>irregular</td>\n",
       "    </tr>\n",
       "    <tr>\n",
       "      <th>1</th>\n",
       "      <td>653053</td>\n",
       "      <td>575.0</td>\n",
       "      <td>575.0</td>\n",
       "      <td>Rickshaw</td>\n",
       "      <td>Transportation</td>\n",
       "      <td>Pakistan</td>\n",
       "      <td>Lahore</td>\n",
       "      <td>PKR</td>\n",
       "      <td>247</td>\n",
       "      <td>2014-01-01 06:51:08</td>\n",
       "      <td>2014-01-02 09:17:23</td>\n",
       "      <td>11</td>\n",
       "      <td>14</td>\n",
       "      <td>irregular</td>\n",
       "    </tr>\n",
       "    <tr>\n",
       "      <th>2</th>\n",
       "      <td>653068</td>\n",
       "      <td>150.0</td>\n",
       "      <td>150.0</td>\n",
       "      <td>Transportation</td>\n",
       "      <td>Transportation</td>\n",
       "      <td>India</td>\n",
       "      <td>Maynaguri</td>\n",
       "      <td>INR</td>\n",
       "      <td>334</td>\n",
       "      <td>2014-01-01 09:58:07</td>\n",
       "      <td>2014-01-01 16:01:36</td>\n",
       "      <td>43</td>\n",
       "      <td>6</td>\n",
       "      <td>bullet</td>\n",
       "    </tr>\n",
       "    <tr>\n",
       "      <th>3</th>\n",
       "      <td>653063</td>\n",
       "      <td>200.0</td>\n",
       "      <td>200.0</td>\n",
       "      <td>Embroidery</td>\n",
       "      <td>Arts</td>\n",
       "      <td>Pakistan</td>\n",
       "      <td>Lahore</td>\n",
       "      <td>PKR</td>\n",
       "      <td>247</td>\n",
       "      <td>2014-01-01 08:03:11</td>\n",
       "      <td>2014-01-01 13:00:00</td>\n",
       "      <td>11</td>\n",
       "      <td>8</td>\n",
       "      <td>irregular</td>\n",
       "    </tr>\n",
       "    <tr>\n",
       "      <th>4</th>\n",
       "      <td>653084</td>\n",
       "      <td>400.0</td>\n",
       "      <td>400.0</td>\n",
       "      <td>Milk Sales</td>\n",
       "      <td>Food</td>\n",
       "      <td>Pakistan</td>\n",
       "      <td>Abdul Hakeem</td>\n",
       "      <td>PKR</td>\n",
       "      <td>245</td>\n",
       "      <td>2014-01-01 11:53:19</td>\n",
       "      <td>2014-01-01 19:18:51</td>\n",
       "      <td>14</td>\n",
       "      <td>16</td>\n",
       "      <td>monthly</td>\n",
       "    </tr>\n",
       "  </tbody>\n",
       "</table>\n",
       "</div>"
      ],
      "text/plain": [
       "       id  funded_amount  loan_amount             activity          sector  \\\n",
       "0  653051          300.0        300.0  Fruits & Vegetables            Food   \n",
       "1  653053          575.0        575.0             Rickshaw  Transportation   \n",
       "2  653068          150.0        150.0       Transportation  Transportation   \n",
       "3  653063          200.0        200.0           Embroidery            Arts   \n",
       "4  653084          400.0        400.0           Milk Sales            Food   \n",
       "\n",
       "    country        region currency  partner_id          posted_time  \\\n",
       "0  Pakistan        Lahore      PKR         247  2014-01-01 06:12:39   \n",
       "1  Pakistan        Lahore      PKR         247  2014-01-01 06:51:08   \n",
       "2     India     Maynaguri      INR         334  2014-01-01 09:58:07   \n",
       "3  Pakistan        Lahore      PKR         247  2014-01-01 08:03:11   \n",
       "4  Pakistan  Abdul Hakeem      PKR         245  2014-01-01 11:53:19   \n",
       "\n",
       "           funded_time  term_in_months  lender_count repayment_interval  \n",
       "0  2014-01-02 10:06:32              12            12          irregular  \n",
       "1  2014-01-02 09:17:23              11            14          irregular  \n",
       "2  2014-01-01 16:01:36              43             6             bullet  \n",
       "3  2014-01-01 13:00:00              11             8          irregular  \n",
       "4  2014-01-01 19:18:51              14            16            monthly  "
      ]
     },
     "execution_count": 2,
     "metadata": {},
     "output_type": "execute_result"
    }
   ],
   "source": [
    "kiva = pd.read_csv('data_input/loan_kiva.csv')\n",
    "kiva.head()"
   ]
  },
  {
   "cell_type": "markdown",
   "metadata": {
    "colab_type": "text",
    "id": "3Tg5zOivZEoF"
   },
   "source": [
    "Berikut adalah deskripsi dari masing-masing kolom:\n",
    "* `id`: Unique ID untuk masing-masing loan (loan ID)\n",
    "* `funded_amount`: Jumlah yang dicairkan oleh Kiva ke agen (USD)\n",
    "* `loan_amount`: Jumlah yang disalurkan oleh agen ke peminjam (USD)\n",
    "* `activity`: Kategori lebih spesifik dari `sector`\n",
    "* `sector`: Kategori dari loan\n",
    "* `country`: Nama negara lengkap, tempat pinjaman dicairkan\n",
    "* `region`: Nama wilayah lengkap dari `country`\n",
    "* `currency`: Mata uang\n",
    "* `partner_id`: ID untuk organisasi partner\n",
    "* `posted_time`: Waktu pinjaman di-posting di Kiva oleh agen\n",
    "* `funded_time`: Waktu pinjaman telah sepenuhnya dibiayai oleh pemberi pinjaman\n",
    "* `term_in_months`: Durasi pencairan pinjaman (dalam satuan bulan)\n",
    "* `lender_count`: Banyaknya peminjam yang berkontribusi\n",
    "* `repayment_interval`: Cara pelunasan peminjaman"
   ]
  },
  {
   "cell_type": "markdown",
   "metadata": {},
   "source": [
    "### Cek tipe data"
   ]
  },
  {
   "cell_type": "markdown",
   "metadata": {},
   "source": [
    "Lakukan pengecekan tipe data dan ubah kolom-kolom yang belum sesuai tipe datanya."
   ]
  },
  {
   "cell_type": "code",
   "execution_count": 3,
   "metadata": {
    "colab": {},
    "colab_type": "code",
    "id": "SIiha3XAZEoG",
    "outputId": "a834074e-527c-48c5-b310-19e0bebd93de",
    "scrolled": false
   },
   "outputs": [],
   "source": [
    "# your code here\n",
    "# kiva.info()\n",
    "# kiva.describe(include='object')\n",
    "feat_object = ['id']\n",
    "feat_category = ['activity','sector','country','currency','repayment_interval']\n",
    "kiva[feat_object] = kiva[feat_object].astype('object')\n",
    "kiva[feat_category] = kiva[feat_category].astype('category')\n"
   ]
  },
  {
   "cell_type": "markdown",
   "metadata": {
    "colab_type": "text",
    "id": "glze8cHfZEoN"
   },
   "source": [
    "Cek kembali tipe data untuk memastikan sudah berubah:"
   ]
  },
  {
   "cell_type": "code",
   "execution_count": 4,
   "metadata": {
    "colab": {},
    "colab_type": "code",
    "id": "IIAU4PFNZEoO",
    "outputId": "17850179-ed1d-4487-e626-5b318d66b6d6",
    "scrolled": true
   },
   "outputs": [
    {
     "name": "stdout",
     "output_type": "stream",
     "text": [
      "<class 'pandas.core.frame.DataFrame'>\n",
      "RangeIndex: 323279 entries, 0 to 323278\n",
      "Data columns (total 14 columns):\n",
      " #   Column              Non-Null Count   Dtype   \n",
      "---  ------              --------------   -----   \n",
      " 0   id                  323279 non-null  object  \n",
      " 1   funded_amount       323279 non-null  float64 \n",
      " 2   loan_amount         323279 non-null  float64 \n",
      " 3   activity            323279 non-null  category\n",
      " 4   sector              323279 non-null  category\n",
      " 5   country             323279 non-null  category\n",
      " 6   region              297026 non-null  object  \n",
      " 7   currency            323279 non-null  category\n",
      " 8   partner_id          323279 non-null  int64   \n",
      " 9   posted_time         323279 non-null  object  \n",
      " 10  funded_time         323279 non-null  object  \n",
      " 11  term_in_months      323279 non-null  int64   \n",
      " 12  lender_count        323279 non-null  int64   \n",
      " 13  repayment_interval  323279 non-null  category\n",
      "dtypes: category(5), float64(2), int64(3), object(4)\n",
      "memory usage: 24.1+ MB\n"
     ]
    }
   ],
   "source": [
    "# your code here\n",
    "kiva.info()"
   ]
  },
  {
   "cell_type": "markdown",
   "metadata": {
    "colab_type": "text",
    "id": "CvaaxhDAZEoR"
   },
   "source": [
    "### Business Question\n",
    "\n",
    "Saat ini Bapak Ibu diminta untuk menganalisa data kiva ini karena perusahaan Bapak Ibu ingin masuk sebagai pendana pada kiva ini, Atasan Bapak Ibu ingin tau kesempatan apa yang bisa diberikan oke Kiva dan mengetahui resikonya untuk menjadi pendana seperti apa. Oleh karena itu sebagai pre-eliminary sebagai data analyis Bapak Ibu diminta untuk menjawab pertanyaan berikut : \n",
    "\n",
    "1. Pada data kiva ada negara apa saja? Siapa sih negara pengguna Kiva terbanyak? \n",
    "2. Atasan kita hanya tertarik untuk menganalisa data kiva di negara **indonesia** saja. Carilah **rata-rata `funded_amount`** untuk masing-masing **`sector` dan `activity`**, dibedakan berdasarkan tipe **`repayment_interval`** nya. Tampilkan juga informasi rata-rata `funded_amount` untuk per baris dan per kolomnya (tambahkan margins=True). Hint: Gunakan `crosstab()` ataupun `pivot_table()`. **Handle missing value** (`NaN`) pada data tersebut dengan tepat\n",
    "3. Di Indonesia `sector` dan `activity` mana yang memiliki **rata-rata `funded_amount` terbesar**?\n",
    "4. Di Indonesia`sector` dan `activity` mana yang memiliki **rata-rata `funded_amount` terkecil**?\n",
    "5. Visualisasikan top 10 sector dengan pengajuan loan terbanyak di Indonesia (secara frekuensi baris saja) Dan berikan insightnya.\n",
    "6. Visualisasikan distribusi rata-rata funded_amount untuk masing-masing repayment_interval hanya pada sector dengan pengajuan loan terbanyak di Indonesia (dari nomor sebelumnya) dan berikan insightnya. Hint: Gunakan slicing untuk mengambil `sector`"
   ]
  },
  {
   "cell_type": "code",
   "execution_count": 25,
   "metadata": {},
   "outputs": [
    {
     "data": {
      "text/plain": [
       "<AxesSubplot: ylabel='country'>"
      ]
     },
     "execution_count": 25,
     "metadata": {},
     "output_type": "execute_result"
    },
    {
     "data": {
      "image/png": "[encoded data removed]",
      "text/plain": [
       "<Figure size 432x288 with 1 Axes>"
      ]
     },
     "metadata": {
      "needs_background": "light"
     },
     "output_type": "display_data"
    }
   ],
   "source": [
    "kiva_q1 = kiva.groupby(by='country').count().sort_values(by='id',ascending=False).head(10)\n",
    "kiva_q1.sort_values(by='id',ascending=True).plot.barh(y='id')"
   ]
  },
  {
   "cell_type": "markdown",
   "metadata": {},
   "source": [
    "# Insight soal no. 1\n",
    "- Phillipines adalah negara terbanyak pengguna kiva. Bila ada program VIP, strategi marketing dapat difokuskan ke pangsa pasar Phillipines\n",
    "- Untuk promosi pengguna baru, dapat difokuskan ke negara dengan pengguna Kiva kurang dari 10000 - 15000 tergantung dari budget "
   ]
  },
  {
   "cell_type": "markdown",
   "metadata": {},
   "source": [
    "***"
   ]
  },
  {
   "cell_type": "code",
   "execution_count": 113,
   "metadata": {},
   "outputs": [
    {
     "data": {
      "text/html": [
       "<div>\n",
       "<style scoped>\n",
       "    .dataframe tbody tr th:only-of-type {\n",
       "        vertical-align: middle;\n",
       "    }\n",
       "\n",
       "    .dataframe tbody tr th {\n",
       "        vertical-align: top;\n",
       "    }\n",
       "\n",
       "    .dataframe thead th {\n",
       "        text-align: right;\n",
       "    }\n",
       "</style>\n",
       "<table border=\"1\" class=\"dataframe\">\n",
       "  <thead>\n",
       "    <tr style=\"text-align: right;\">\n",
       "      <th></th>\n",
       "      <th>repayment_interval</th>\n",
       "      <th>bullet</th>\n",
       "      <th>irregular</th>\n",
       "      <th>monthly</th>\n",
       "      <th>All</th>\n",
       "    </tr>\n",
       "    <tr>\n",
       "      <th>sector</th>\n",
       "      <th>activity</th>\n",
       "      <th></th>\n",
       "      <th></th>\n",
       "      <th></th>\n",
       "      <th></th>\n",
       "    </tr>\n",
       "  </thead>\n",
       "  <tbody>\n",
       "    <tr>\n",
       "      <th rowspan=\"5\" valign=\"top\">Agriculture</th>\n",
       "      <th>Agriculture</th>\n",
       "      <td>0.000000</td>\n",
       "      <td>668.750000</td>\n",
       "      <td>0.000000</td>\n",
       "      <td>668.750000</td>\n",
       "    </tr>\n",
       "    <tr>\n",
       "      <th>Animal Sales</th>\n",
       "      <td>0.000000</td>\n",
       "      <td>0.000000</td>\n",
       "      <td>400.000000</td>\n",
       "      <td>400.000000</td>\n",
       "    </tr>\n",
       "    <tr>\n",
       "      <th>Cattle</th>\n",
       "      <td>0.000000</td>\n",
       "      <td>0.000000</td>\n",
       "      <td>875.000000</td>\n",
       "      <td>875.000000</td>\n",
       "    </tr>\n",
       "    <tr>\n",
       "      <th>Farm Supplies</th>\n",
       "      <td>0.000000</td>\n",
       "      <td>700.000000</td>\n",
       "      <td>0.000000</td>\n",
       "      <td>700.000000</td>\n",
       "    </tr>\n",
       "    <tr>\n",
       "      <th>Farming</th>\n",
       "      <td>562.500000</td>\n",
       "      <td>978.703704</td>\n",
       "      <td>666.250000</td>\n",
       "      <td>869.375000</td>\n",
       "    </tr>\n",
       "    <tr>\n",
       "      <th>...</th>\n",
       "      <th>...</th>\n",
       "      <td>...</td>\n",
       "      <td>...</td>\n",
       "      <td>...</td>\n",
       "      <td>...</td>\n",
       "    </tr>\n",
       "    <tr>\n",
       "      <th>Services</th>\n",
       "      <th>Water Distribution</th>\n",
       "      <td>1825.000000</td>\n",
       "      <td>0.000000</td>\n",
       "      <td>0.000000</td>\n",
       "      <td>1825.000000</td>\n",
       "    </tr>\n",
       "    <tr>\n",
       "      <th rowspan=\"2\" valign=\"top\">Transportation</th>\n",
       "      <th>Motorcycle Transport</th>\n",
       "      <td>0.000000</td>\n",
       "      <td>675.000000</td>\n",
       "      <td>350.000000</td>\n",
       "      <td>396.428571</td>\n",
       "    </tr>\n",
       "    <tr>\n",
       "      <th>Transportation</th>\n",
       "      <td>0.000000</td>\n",
       "      <td>150.000000</td>\n",
       "      <td>629.166667</td>\n",
       "      <td>560.714286</td>\n",
       "    </tr>\n",
       "    <tr>\n",
       "      <th>Wholesale</th>\n",
       "      <th>Goods Distribution</th>\n",
       "      <td>0.000000</td>\n",
       "      <td>950.000000</td>\n",
       "      <td>0.000000</td>\n",
       "      <td>950.000000</td>\n",
       "    </tr>\n",
       "    <tr>\n",
       "      <th>All</th>\n",
       "      <th></th>\n",
       "      <td>830.894688</td>\n",
       "      <td>920.759866</td>\n",
       "      <td>675.341297</td>\n",
       "      <td>854.927650</td>\n",
       "    </tr>\n",
       "  </tbody>\n",
       "</table>\n",
       "<p>72 rows × 4 columns</p>\n",
       "</div>"
      ],
      "text/plain": [
       "repayment_interval                        bullet   irregular     monthly  \\\n",
       "sector         activity                                                    \n",
       "Agriculture    Agriculture              0.000000  668.750000    0.000000   \n",
       "               Animal Sales             0.000000    0.000000  400.000000   \n",
       "               Cattle                   0.000000    0.000000  875.000000   \n",
       "               Farm Supplies            0.000000  700.000000    0.000000   \n",
       "               Farming                562.500000  978.703704  666.250000   \n",
       "...                                          ...         ...         ...   \n",
       "Services       Water Distribution    1825.000000    0.000000    0.000000   \n",
       "Transportation Motorcycle Transport     0.000000  675.000000  350.000000   \n",
       "               Transportation           0.000000  150.000000  629.166667   \n",
       "Wholesale      Goods Distribution       0.000000  950.000000    0.000000   \n",
       "All                                   830.894688  920.759866  675.341297   \n",
       "\n",
       "repayment_interval                           All  \n",
       "sector         activity                           \n",
       "Agriculture    Agriculture            668.750000  \n",
       "               Animal Sales           400.000000  \n",
       "               Cattle                 875.000000  \n",
       "               Farm Supplies          700.000000  \n",
       "               Farming                869.375000  \n",
       "...                                          ...  \n",
       "Services       Water Distribution    1825.000000  \n",
       "Transportation Motorcycle Transport   396.428571  \n",
       "               Transportation         560.714286  \n",
       "Wholesale      Goods Distribution     950.000000  \n",
       "All                                   854.927650  \n",
       "\n",
       "[72 rows x 4 columns]"
      ]
     },
     "execution_count": 113,
     "metadata": {},
     "output_type": "execute_result"
    }
   ],
   "source": [
    "# your code here\n",
    "kiva_ina = kiva[kiva['country'] == 'Indonesia']\n",
    "# kiva_ina.isna().sum()\n",
    "index_kiva = [kiva_ina['sector'], kiva_ina['activity']]\n",
    "column_kiva = kiva_ina['repayment_interval']\n",
    "value_kiva = kiva_ina['funded_amount']\n",
    "kiva_q2 = pd.crosstab(index=index_kiva,columns=column_kiva,values=value_kiva,aggfunc='mean',margins=True).fillna(0)\n",
    "kiva_q2"
   ]
  },
  {
   "cell_type": "markdown",
   "metadata": {},
   "source": [
    "# Insight soal no. 2\n",
    "- Untuk mengurangi resiko gagal bayar, dapat dilakukan review ulang terlebih dahulu terhadap sistem pembayaran secara irregular dan bullet"
   ]
  },
  {
   "cell_type": "markdown",
   "metadata": {},
   "source": [
    "***"
   ]
  },
  {
   "cell_type": "code",
   "execution_count": 112,
   "metadata": {},
   "outputs": [
    {
     "data": {
      "text/plain": [
       "<AxesSubplot: ylabel='sector,activity'>"
      ]
     },
     "execution_count": 112,
     "metadata": {},
     "output_type": "execute_result"
    },
    {
     "data": {
      "image/png": "[encoded data removed]",
      "text/plain": [
       "<Figure size 432x288 with 1 Axes>"
      ]
     },
     "metadata": {
      "needs_background": "light"
     },
     "output_type": "display_data"
    }
   ],
   "source": [
    "# 3. rata-rata funded amount terbesar\n",
    "kiva_q3 = kiva_q2['All'].sort_values(ascending=False).head(10)\n",
    "kiva_q3.sort_values(ascending=True).plot.barh()"
   ]
  },
  {
   "cell_type": "code",
   "execution_count": 105,
   "metadata": {},
   "outputs": [
    {
     "data": {
      "text/plain": [
       "<AxesSubplot: ylabel='sector,activity'>"
      ]
     },
     "execution_count": 105,
     "metadata": {},
     "output_type": "execute_result"
    },
    {
     "data": {
      "image/png": "[encoded data removed]",
      "text/plain": [
       "<Figure size 432x288 with 1 Axes>"
      ]
     },
     "metadata": {
      "needs_background": "light"
     },
     "output_type": "display_data"
    }
   ],
   "source": [
    "# 4. rata-rata funded amount terkecil\n",
    "kiva_q4 = kiva_q2['All'].sort_values(ascending=False).tail(10)\n",
    "kiva_q4.plot.barh()"
   ]
  },
  {
   "cell_type": "markdown",
   "metadata": {},
   "source": [
    "# Insight soal no. 3 & 4\n",
    "- Pengguna kiva terbanyak memiliki bisnis di sektor Arts, aktivitas Textiles\n",
    "- Pengguna kiva terendah memiliki bisnis di sektor Services, aktivitas Laundry"
   ]
  },
  {
   "cell_type": "markdown",
   "metadata": {},
   "source": [
    "***"
   ]
  },
  {
   "cell_type": "code",
   "execution_count": 106,
   "metadata": {},
   "outputs": [
    {
     "data": {
      "text/plain": [
       "<AxesSubplot: ylabel='sector'>"
      ]
     },
     "execution_count": 106,
     "metadata": {},
     "output_type": "execute_result"
    },
    {
     "data": {
      "image/png": "[encoded data removed]",
      "text/plain": [
       "<Figure size 432x288 with 1 Axes>"
      ]
     },
     "metadata": {
      "needs_background": "light"
     },
     "output_type": "display_data"
    }
   ],
   "source": [
    "# 5. top 10 sector dengan pengajuan loan terbanyak di Indonesia\n",
    "kiva_q5 = kiva_ina.groupby(by='sector').count()['id'].sort_values(ascending=False).head(10)\n",
    "kiva_q5.sort_values(ascending=True).plot.barh()\n",
    "# kiva_ina[kiva_ina['sector'] == 'Retail'].groupby('activity').count().sort_values(by='id',ascending=False).head(10).plot.barh(y='id')"
   ]
  },
  {
   "cell_type": "markdown",
   "metadata": {},
   "source": [
    "# Insight soal no. 5\n",
    "- Peminjam terbanyak memiliki bisnis di sektor Retail. Untuk mengurangi jumlah tersebut, dapat difokuskan sistem pelunasan yang terkait di sektor Retail"
   ]
  },
  {
   "cell_type": "markdown",
   "metadata": {},
   "source": [
    "***"
   ]
  },
  {
   "cell_type": "code",
   "execution_count": 110,
   "metadata": {},
   "outputs": [
    {
     "data": {
      "text/plain": [
       "<AxesSubplot: title={'center': 'funded_amount'}, xlabel='repayment_interval'>"
      ]
     },
     "execution_count": 110,
     "metadata": {},
     "output_type": "execute_result"
    },
    {
     "data": {
      "image/png": "[encoded data removed]",
      "text/plain": [
       "<Figure size 432x288 with 1 Axes>"
      ]
     },
     "metadata": {
      "needs_background": "light"
     },
     "output_type": "display_data"
    }
   ],
   "source": [
    "# 6. sektor \n",
    "kiva_ina = kiva[kiva['country'] == 'Indonesia']\n",
    "kiva_retail = kiva_ina[kiva_ina['sector'] == 'Retail']\n",
    "kiva_retail_indo = kiva_retail[['funded_amount','repayment_interval']]\n",
    "kiva_retail_indo\\\n",
    ".boxplot(column='funded_amount',by='repayment_interval')"
   ]
  },
  {
   "cell_type": "markdown",
   "metadata": {},
   "source": [
    "# Insight soal no. 6\n",
    "- Rata-rata pembayaran terbanyak dilakukan secara bullet. Outliers positif pada bullet menyatakan profit yang bagus untuk kiva, namun juga memiliki resiko gagal bayar yang tinggi.\n",
    "- Untuk mengurangi resiko, peminjam dapat diarahkan ke pelunasan yang monthly"
   ]
  },
  {
   "cell_type": "markdown",
   "metadata": {},
   "source": [
    "Selamat!!! Sampai di tahap ini Anda dan tim sudah berhasil untuk melakukan analisis data Kiva. Namun, kami paham bahwa Anda dan Tim ingin mengeksplor lebih banyak lagi data Kiva sehingga menghasilkan insight menarik yang dapat digunakan untuk mendukung pengambilan keputusan di perusahaan Kiva. Oleh karena itu, ini waktu yang tepat untuk Anda dan tim menggali insight menarik lainnya dari data `kiva` dan sajikan dalam bentuk visualisasi!\n",
    "\n",
    "Pilihan visualisasi dapat berupa:\n",
    "- line plot\n",
    "- bar plot\n",
    "- histogram\n",
    "- box plot\n",
    "- ataupun yang lainnya"
   ]
  },
  {
   "cell_type": "code",
   "execution_count": null,
   "metadata": {},
   "outputs": [],
   "source": []
  }
 ],
 "metadata": {
  "colab": {
   "name": "Dive_Deeper_Kiva.ipynb",
   "provenance": []
  },
  "kernelspec": {
   "display_name": "theia_da",
   "language": "python",
   "name": "theia_da"
  },
  "language_info": {
   "codemirror_mode": {
    "name": "ipython",
    "version": 3
   },
   "file_extension": ".py",
   "mimetype": "text/x-python",
   "name": "python",
   "nbconvert_exporter": "python",
   "pygments_lexer": "ipython3",
   "version": "3.9.13"
  },
  "toc": {
   "base_numbering": 1,
   "nav_menu": {},
   "number_sections": true,
   "sideBar": true,
   "skip_h1_title": false,
   "title_cell": "Table of Contents",
   "title_sidebar": "Contents",
   "toc_cell": false,
   "toc_position": {},
   "toc_section_display": true,
   "toc_window_display": true
  },
  "varInspector": {
   "cols": {
    "lenName": 16,
    "lenType": 16,
    "lenVar": 40
   },
   "kernels_config": {
    "python": {
     "delete_cmd_postfix": "",
     "delete_cmd_prefix": "del ",
     "library": "var_list.py",
     "varRefreshCmd": "print(var_dic_list())"
    },
    "r": {
     "delete_cmd_postfix": ") ",
     "delete_cmd_prefix": "rm(",
     "library": "var_list.r",
     "varRefreshCmd": "cat(var_dic_list()) "
    }
   },
   "types_to_exclude": [
    "module",
    "function",
    "builtin_function_or_method",
    "instance",
    "_Feature"
   ],
   "window_display": false
  }
 },
 "nbformat": 4,
 "nbformat_minor": 1
}
