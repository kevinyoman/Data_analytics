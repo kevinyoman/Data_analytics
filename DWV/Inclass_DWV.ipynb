{
 "cells": [
  {
   "cell_type": "markdown",
   "metadata": {},
   "source": [
    "**Inclass material for Week 3: Data Wrangling and Visualization**\n",
    "\n",
    "This notebook was made based on main materials `3_Data_Wrangling_and_Visualization.ipynb`\n",
    "\n",
    "Version: Theia - September 2022"
   ]
  },
  {
   "cell_type": "markdown",
   "metadata": {},
   "source": [
    "# Data Wrangling and Visualization\n",
    "\n",
    "Berikut adalah method yang telah kita pelajari di dua course sebelumnya:\n",
    "\n",
    "**Data Inspection** (Course: Python for Data Analysts)\n",
    "- `.head()` and `.tail()`\n",
    "- `.describe()`\n",
    "- `.shape` and `.size`\n",
    "- `.axes`\n",
    "- `.dtypes`\n",
    "- Subsetting using `.loc`, `.iloc` and conditionals\n",
    "\n",
    "**Diagnostic and Exploratory** (Course: Exploratory Data Analysis)\n",
    "- Tables\n",
    "- Cross-Tables and Aggregates\n",
    "- Using `aggfunc` for aggregate functions\n",
    "- Pivot Tables\n",
    "- Working with DateTime\n",
    "- Working with Categorical Data\n",
    "- Duplicates and Missing Value Treatment\n",
    "\n",
    "---\n",
    "\n",
    "**Training Objectives for Course Data Wrangling and Visualization**\n",
    "\n",
    "- Working with MultiIndex DataFrames\n",
    "- Stacking and Unstacking\n",
    "- Reshaping your DataFrame with Melt\n",
    "- Using Group By Effectively\n",
    "- Visual Data Exploratory"
   ]
  },
  {
   "cell_type": "markdown",
   "metadata": {},
   "source": [
    "**Agenda Day 1**\n",
    "\n",
    "- Reproducible Environment\n",
    "    - Apa dan mengapa dilakukan reproducible environment\n",
    "    - Praktik untuk melakukan import dan export environment\n",
    "- MultiIndex Dataframe\n",
    "    - Mengetahui bentuk MultiIndex Dataframe\n",
    "    - Reshaping\n",
    "        - Cross-section `xs()`\n",
    "        - Stack Dataframe\n",
    "        - Unstack Dataframe"
   ]
  },
  {
   "cell_type": "markdown",
   "metadata": {},
   "source": [
    "# Reproducible Environment\n",
    "\n",
    "Bayangkan Anda sedang mengerjakan suatu proyek yang membutuhkan kolaborasi dengan tim. Proyek tersebut diinisiasi oleh Anda, code dan packages pada komputer Anda berjalan dengan baik. Kemudian Anda ingin membagikan proyek tersebut kepada tim Anda. Apakah tim Anda harus melakukan instalasi package satu per satu secara manual? Tentu tidak, di sini Anda membuat suatu **environment** yang dapat di-reproducible (digandakan) dengan membuat suatu file `requirements.txt`.\n",
    "\n",
    "Lihat pada folder `/assets`, Anda akan menemukan file `requirements.txt` yang isinya seperti ini:\n",
    "```\n",
    "numpy==1.21.4\n",
    "pandas==1.3.4\n",
    "matplotlib==3.5.0\n",
    "yfinance==0.1.67\n",
    "...\n",
    "```\n",
    "\n",
    "File ini berisi daftar **packages beserta versinya** yang ada di environment dalam menjalankan proyek tertentu. File ini membantu tim Anda untuk mengembangkan suatu aplikasi dalam satu versi yang sama, sehingga mencegah terjadinya perubahan fungsi-fungsi yang tidak terduga."
   ]
  },
  {
   "cell_type": "markdown",
   "metadata": {},
   "source": [
    "## Exporting Requirements\n",
    "\n",
    "Misal Anda ingin membagikan daftar packages suatu environment kepada tim Anda, maka lakukanlah langkah berikut:\n",
    "\n",
    "1. Aktifkan environment\n",
    "```\n",
    "conda activate <ENV_NAME>\n",
    "```\n",
    "\n",
    "2. Navigasikan path ke folder tempat di mana file `requirements.txt` ingin disimpan\n",
    "```\n",
    "cd <PATH_TO_REQUIREMENTS_FOLDER>\n",
    "```\n",
    "\n",
    "3. Export environment: membuat daftar packages beserta versinya.\n",
    "```\n",
    "pip list --format=freeze > requirements.txt\n",
    "```\n",
    "\n",
    "💡 **Note**: Anda dapat menyimpan file dengan nama lain, namun sebagai **konvensi** biasa digunakan penamaan `requirements.txt`"
   ]
  },
  {
   "cell_type": "markdown",
   "metadata": {},
   "source": [
    "## Importing Requirements\n",
    "\n",
    "Misal Anda yang meneruskan proyek dan telah menerima file `txt` dari tim Anda, maka lakukanlah langkah berikut:\n",
    "\n",
    "1. Aktifkan environment yang ingin digunakan\n",
    "    ```\n",
    "    conda activate <ENV_NAME>\n",
    "    ```\n",
    "\n",
    "    💡 Apabila belum ada, maka perlu membuat environment baru:\n",
    "    ```\n",
    "    conda create -n <ENV_NAME> python=<PYTHON_VERSION>\n",
    "    ```\n",
    "    \n",
    "    ⚠️ Jangan lupa instalasi kernel di dalam environment tersebut apabila ingin dapat diakses menggunakan jupyter notebook:\n",
    "    ```\n",
    "    pip install ipykernel\n",
    "    python -m ipykernel install --user --name=<ENV_NAME>\n",
    "    ```\n",
    "\n",
    "2. Navigasikan path ke folder di mana file `requirements.txt` berada\n",
    "    ```\n",
    "    cd <PATH_TO_REQUIREMENTS>\n",
    "    ```\n",
    "\n",
    "3. Instalasi packages dari file tersebut\n",
    "    ```\n",
    "    pip install -r requirements.txt\n",
    "    ```"
   ]
  },
  {
   "cell_type": "markdown",
   "metadata": {},
   "source": [
    "# Data Wrangling and Reshaping"
   ]
  },
  {
   "cell_type": "markdown",
   "metadata": {},
   "source": [
    "## Load Data\n",
    "\n",
    "### `yfinance`\n",
    "\n",
    "Kita akan menggunakan library `yfinance` untuk mengakses data saham yang tersedia pada [Yahoo! Finance](https://finance.yahoo.com/). Penarikan data menggunakan `yfinance` membutuhkan koneksi internet.\n",
    "\n",
    "Dokumentasi: https://pypi.org/project/yfinance/"
   ]
  },
  {
   "cell_type": "code",
   "execution_count": 4,
   "metadata": {
    "ExecuteTime": {
     "end_time": "2021-06-27T07:25:24.225168Z",
     "start_time": "2021-06-27T07:25:23.595116Z"
    }
   },
   "outputs": [],
   "source": [
    "import pandas as pd\n",
    "import yfinance as data\n",
    "pd.set_option('display.float_format', lambda x: '%.2f' % x)"
   ]
  },
  {
   "cell_type": "code",
   "execution_count": 6,
   "metadata": {
    "ExecuteTime": {
     "end_time": "2021-06-27T06:57:35.462552Z",
     "start_time": "2021-06-27T06:57:33.823491Z"
    },
    "scrolled": false
   },
   "outputs": [
    {
     "name": "stdout",
     "output_type": "stream",
     "text": [
      "[*********************100%***********************]  3 of 3 completed\n"
     ]
    },
    {
     "ename": "KeyError",
     "evalue": "'AAPL'",
     "output_type": "error",
     "traceback": [
      "\u001b[1;31m---------------------------------------------------------------------------\u001b[0m",
      "\u001b[1;31mKeyError\u001b[0m                                  Traceback (most recent call last)",
      "File \u001b[1;32m~\\anaconda3\\envs\\theia_da\\lib\\site-packages\\pandas\\core\\indexes\\base.py:3629\u001b[0m, in \u001b[0;36mIndex.get_loc\u001b[1;34m(self, key, method, tolerance)\u001b[0m\n\u001b[0;32m   3628\u001b[0m \u001b[38;5;28;01mtry\u001b[39;00m:\n\u001b[1;32m-> 3629\u001b[0m     \u001b[38;5;28;01mreturn\u001b[39;00m \u001b[38;5;28;43mself\u001b[39;49m\u001b[38;5;241;43m.\u001b[39;49m\u001b[43m_engine\u001b[49m\u001b[38;5;241;43m.\u001b[39;49m\u001b[43mget_loc\u001b[49m\u001b[43m(\u001b[49m\u001b[43mcasted_key\u001b[49m\u001b[43m)\u001b[49m\n\u001b[0;32m   3630\u001b[0m \u001b[38;5;28;01mexcept\u001b[39;00m \u001b[38;5;167;01mKeyError\u001b[39;00m \u001b[38;5;28;01mas\u001b[39;00m err:\n",
      "File \u001b[1;32m~\\anaconda3\\envs\\theia_da\\lib\\site-packages\\pandas\\_libs\\index.pyx:136\u001b[0m, in \u001b[0;36mpandas._libs.index.IndexEngine.get_loc\u001b[1;34m()\u001b[0m\n",
      "File \u001b[1;32m~\\anaconda3\\envs\\theia_da\\lib\\site-packages\\pandas\\_libs\\index.pyx:163\u001b[0m, in \u001b[0;36mpandas._libs.index.IndexEngine.get_loc\u001b[1;34m()\u001b[0m\n",
      "File \u001b[1;32mpandas\\_libs\\hashtable_class_helper.pxi:5198\u001b[0m, in \u001b[0;36mpandas._libs.hashtable.PyObjectHashTable.get_item\u001b[1;34m()\u001b[0m\n",
      "File \u001b[1;32mpandas\\_libs\\hashtable_class_helper.pxi:5206\u001b[0m, in \u001b[0;36mpandas._libs.hashtable.PyObjectHashTable.get_item\u001b[1;34m()\u001b[0m\n",
      "\u001b[1;31mKeyError\u001b[0m: 'AAPL'",
      "\nThe above exception was the direct cause of the following exception:\n",
      "\u001b[1;31mKeyError\u001b[0m                                  Traceback (most recent call last)",
      "Input \u001b[1;32mIn [6]\u001b[0m, in \u001b[0;36m<cell line: 7>\u001b[1;34m()\u001b[0m\n\u001b[0;32m      5\u001b[0m stock\u001b[38;5;241m.\u001b[39mcolumns\u001b[38;5;241m.\u001b[39mnames \u001b[38;5;241m=\u001b[39m [\u001b[38;5;124m'\u001b[39m\u001b[38;5;124mAttributes\u001b[39m\u001b[38;5;124m'\u001b[39m, \u001b[38;5;124m'\u001b[39m\u001b[38;5;124mSymbols\u001b[39m\u001b[38;5;124m'\u001b[39m]\n\u001b[0;32m      6\u001b[0m stock\u001b[38;5;241m.\u001b[39mhead()\n\u001b[1;32m----> 7\u001b[0m \u001b[43mstock\u001b[49m\u001b[43m[\u001b[49m\u001b[38;5;124;43m'\u001b[39;49m\u001b[38;5;124;43mAAPL\u001b[39;49m\u001b[38;5;124;43m'\u001b[39;49m\u001b[43m]\u001b[49m\n",
      "File \u001b[1;32m~\\anaconda3\\envs\\theia_da\\lib\\site-packages\\pandas\\core\\frame.py:3504\u001b[0m, in \u001b[0;36mDataFrame.__getitem__\u001b[1;34m(self, key)\u001b[0m\n\u001b[0;32m   3502\u001b[0m \u001b[38;5;28;01mif\u001b[39;00m is_single_key:\n\u001b[0;32m   3503\u001b[0m     \u001b[38;5;28;01mif\u001b[39;00m \u001b[38;5;28mself\u001b[39m\u001b[38;5;241m.\u001b[39mcolumns\u001b[38;5;241m.\u001b[39mnlevels \u001b[38;5;241m>\u001b[39m \u001b[38;5;241m1\u001b[39m:\n\u001b[1;32m-> 3504\u001b[0m         \u001b[38;5;28;01mreturn\u001b[39;00m \u001b[38;5;28;43mself\u001b[39;49m\u001b[38;5;241;43m.\u001b[39;49m\u001b[43m_getitem_multilevel\u001b[49m\u001b[43m(\u001b[49m\u001b[43mkey\u001b[49m\u001b[43m)\u001b[49m\n\u001b[0;32m   3505\u001b[0m     indexer \u001b[38;5;241m=\u001b[39m \u001b[38;5;28mself\u001b[39m\u001b[38;5;241m.\u001b[39mcolumns\u001b[38;5;241m.\u001b[39mget_loc(key)\n\u001b[0;32m   3506\u001b[0m     \u001b[38;5;28;01mif\u001b[39;00m is_integer(indexer):\n",
      "File \u001b[1;32m~\\anaconda3\\envs\\theia_da\\lib\\site-packages\\pandas\\core\\frame.py:3555\u001b[0m, in \u001b[0;36mDataFrame._getitem_multilevel\u001b[1;34m(self, key)\u001b[0m\n\u001b[0;32m   3553\u001b[0m \u001b[38;5;28;01mdef\u001b[39;00m \u001b[38;5;21m_getitem_multilevel\u001b[39m(\u001b[38;5;28mself\u001b[39m, key):\n\u001b[0;32m   3554\u001b[0m     \u001b[38;5;66;03m# self.columns is a MultiIndex\u001b[39;00m\n\u001b[1;32m-> 3555\u001b[0m     loc \u001b[38;5;241m=\u001b[39m \u001b[38;5;28;43mself\u001b[39;49m\u001b[38;5;241;43m.\u001b[39;49m\u001b[43mcolumns\u001b[49m\u001b[38;5;241;43m.\u001b[39;49m\u001b[43mget_loc\u001b[49m\u001b[43m(\u001b[49m\u001b[43mkey\u001b[49m\u001b[43m)\u001b[49m\n\u001b[0;32m   3556\u001b[0m     \u001b[38;5;28;01mif\u001b[39;00m \u001b[38;5;28misinstance\u001b[39m(loc, (\u001b[38;5;28mslice\u001b[39m, np\u001b[38;5;241m.\u001b[39mndarray)):\n\u001b[0;32m   3557\u001b[0m         new_columns \u001b[38;5;241m=\u001b[39m \u001b[38;5;28mself\u001b[39m\u001b[38;5;241m.\u001b[39mcolumns[loc]\n",
      "File \u001b[1;32m~\\anaconda3\\envs\\theia_da\\lib\\site-packages\\pandas\\core\\indexes\\multi.py:2869\u001b[0m, in \u001b[0;36mMultiIndex.get_loc\u001b[1;34m(self, key, method)\u001b[0m\n\u001b[0;32m   2866\u001b[0m     \u001b[38;5;28;01mreturn\u001b[39;00m mask\n\u001b[0;32m   2868\u001b[0m \u001b[38;5;28;01mif\u001b[39;00m \u001b[38;5;129;01mnot\u001b[39;00m \u001b[38;5;28misinstance\u001b[39m(key, \u001b[38;5;28mtuple\u001b[39m):\n\u001b[1;32m-> 2869\u001b[0m     loc \u001b[38;5;241m=\u001b[39m \u001b[38;5;28;43mself\u001b[39;49m\u001b[38;5;241;43m.\u001b[39;49m\u001b[43m_get_level_indexer\u001b[49m\u001b[43m(\u001b[49m\u001b[43mkey\u001b[49m\u001b[43m,\u001b[49m\u001b[43m \u001b[49m\u001b[43mlevel\u001b[49m\u001b[38;5;241;43m=\u001b[39;49m\u001b[38;5;241;43m0\u001b[39;49m\u001b[43m)\u001b[49m\n\u001b[0;32m   2870\u001b[0m     \u001b[38;5;28;01mreturn\u001b[39;00m _maybe_to_slice(loc)\n\u001b[0;32m   2872\u001b[0m keylen \u001b[38;5;241m=\u001b[39m \u001b[38;5;28mlen\u001b[39m(key)\n",
      "File \u001b[1;32m~\\anaconda3\\envs\\theia_da\\lib\\site-packages\\pandas\\core\\indexes\\multi.py:3222\u001b[0m, in \u001b[0;36mMultiIndex._get_level_indexer\u001b[1;34m(self, key, level, indexer)\u001b[0m\n\u001b[0;32m   3218\u001b[0m         \u001b[38;5;28;01mreturn\u001b[39;00m \u001b[38;5;28mslice\u001b[39m(i, j, step)\n\u001b[0;32m   3220\u001b[0m \u001b[38;5;28;01melse\u001b[39;00m:\n\u001b[1;32m-> 3222\u001b[0m     idx \u001b[38;5;241m=\u001b[39m \u001b[38;5;28;43mself\u001b[39;49m\u001b[38;5;241;43m.\u001b[39;49m\u001b[43m_get_loc_single_level_index\u001b[49m\u001b[43m(\u001b[49m\u001b[43mlevel_index\u001b[49m\u001b[43m,\u001b[49m\u001b[43m \u001b[49m\u001b[43mkey\u001b[49m\u001b[43m)\u001b[49m\n\u001b[0;32m   3224\u001b[0m     \u001b[38;5;28;01mif\u001b[39;00m level \u001b[38;5;241m>\u001b[39m \u001b[38;5;241m0\u001b[39m \u001b[38;5;129;01mor\u001b[39;00m \u001b[38;5;28mself\u001b[39m\u001b[38;5;241m.\u001b[39m_lexsort_depth \u001b[38;5;241m==\u001b[39m \u001b[38;5;241m0\u001b[39m:\n\u001b[0;32m   3225\u001b[0m         \u001b[38;5;66;03m# Desired level is not sorted\u001b[39;00m\n\u001b[0;32m   3226\u001b[0m         \u001b[38;5;28;01mif\u001b[39;00m \u001b[38;5;28misinstance\u001b[39m(idx, \u001b[38;5;28mslice\u001b[39m):\n\u001b[0;32m   3227\u001b[0m             \u001b[38;5;66;03m# test_get_loc_partial_timestamp_multiindex\u001b[39;00m\n",
      "File \u001b[1;32m~\\anaconda3\\envs\\theia_da\\lib\\site-packages\\pandas\\core\\indexes\\multi.py:2802\u001b[0m, in \u001b[0;36mMultiIndex._get_loc_single_level_index\u001b[1;34m(self, level_index, key)\u001b[0m\n\u001b[0;32m   2800\u001b[0m     \u001b[38;5;28;01mreturn\u001b[39;00m \u001b[38;5;241m-\u001b[39m\u001b[38;5;241m1\u001b[39m\n\u001b[0;32m   2801\u001b[0m \u001b[38;5;28;01melse\u001b[39;00m:\n\u001b[1;32m-> 2802\u001b[0m     \u001b[38;5;28;01mreturn\u001b[39;00m \u001b[43mlevel_index\u001b[49m\u001b[38;5;241;43m.\u001b[39;49m\u001b[43mget_loc\u001b[49m\u001b[43m(\u001b[49m\u001b[43mkey\u001b[49m\u001b[43m)\u001b[49m\n",
      "File \u001b[1;32m~\\anaconda3\\envs\\theia_da\\lib\\site-packages\\pandas\\core\\indexes\\base.py:3631\u001b[0m, in \u001b[0;36mIndex.get_loc\u001b[1;34m(self, key, method, tolerance)\u001b[0m\n\u001b[0;32m   3629\u001b[0m     \u001b[38;5;28;01mreturn\u001b[39;00m \u001b[38;5;28mself\u001b[39m\u001b[38;5;241m.\u001b[39m_engine\u001b[38;5;241m.\u001b[39mget_loc(casted_key)\n\u001b[0;32m   3630\u001b[0m \u001b[38;5;28;01mexcept\u001b[39;00m \u001b[38;5;167;01mKeyError\u001b[39;00m \u001b[38;5;28;01mas\u001b[39;00m err:\n\u001b[1;32m-> 3631\u001b[0m     \u001b[38;5;28;01mraise\u001b[39;00m \u001b[38;5;167;01mKeyError\u001b[39;00m(key) \u001b[38;5;28;01mfrom\u001b[39;00m \u001b[38;5;21;01merr\u001b[39;00m\n\u001b[0;32m   3632\u001b[0m \u001b[38;5;28;01mexcept\u001b[39;00m \u001b[38;5;167;01mTypeError\u001b[39;00m:\n\u001b[0;32m   3633\u001b[0m     \u001b[38;5;66;03m# If we have a listlike key, _check_indexing_error will raise\u001b[39;00m\n\u001b[0;32m   3634\u001b[0m     \u001b[38;5;66;03m#  InvalidIndexError. Otherwise we fall through and re-raise\u001b[39;00m\n\u001b[0;32m   3635\u001b[0m     \u001b[38;5;66;03m#  the TypeError.\u001b[39;00m\n\u001b[0;32m   3636\u001b[0m     \u001b[38;5;28mself\u001b[39m\u001b[38;5;241m.\u001b[39m_check_indexing_error(key)\n",
      "\u001b[1;31mKeyError\u001b[0m: 'AAPL'"
     ]
    }
   ],
   "source": [
    "symbol = ['AAPL', 'TSLA', 'GOOGL']\n",
    "start_date = '2018-01-01' # 1 Januari 2018\n",
    "end_date = '2022-09-18' # 18 September 2022\n",
    "stock = data.download(tickers = symbol, start = start_date, end = end_date)\n",
    "stock.columns.names = ['Attributes', 'Symbols']\n",
    "stock.head()"
   ]
  },
  {
   "cell_type": "markdown",
   "metadata": {},
   "source": [
    "Simbol:\n",
    "- `AAPL`: Apple Inc.\n",
    "- `TSLA`: Tesla\n",
    "- `GOOGL`: Alphabet Inc. (Google)\n",
    "\n",
    "Deskripsi data:\n",
    "- `Date`: tanggal dalam format `yyyy-mm-dd`\n",
    "- `High`: nilai saham **tertinggi** pada hari tersebut (satuan harga berdasarkan di mana perusahaan tsb berada)\n",
    "- `Low`: nilai saham **terendah** pada hari tersebut\n",
    "- `Open`: nilai saham saat **trading hours dibuka** pada hari tersebut\n",
    "- `Close`: nilai saham saat **trading hours ditutup** pada hari tersebut\n",
    "- `Adj Close`: nilai `Close` yang telah disesuaikan setelah stock split maupun pembagian dividen \n",
    "- `Volume`: jumlah lembar saham yang berpindah tangan pada hari tersebut (jumlah transaksi jual beli)\n",
    "\n",
    "[Trading hours](https://www.maybank-ke.com.sg/markets/markets-listing/trading-hours/) dapat berbeda-beda pada tiap tempat. Di Indonesia (IDX/BEI), trading hours dibuka pada Senin - Jumat jam 09:00 WIB - 03:00 WIB."
   ]
  },
  {
   "cell_type": "markdown",
   "metadata": {},
   "source": [
    "### File Pickle\n",
    "\n",
    "Pickling/Serializing: **menyimpan** suatu objek Python ke sebuah file binary (byte stream).\n",
    "- Gunakan method `.to_pickle()`\n",
    "- Contohnya objek DataFrame `stock` disimpan sebagai file `stock_2`\n",
    "- Kemudian silahkan cek file pickle pada folder di mana file `.ipynb` ini berada"
   ]
  },
  {
   "cell_type": "code",
   "execution_count": 7,
   "metadata": {
    "ExecuteTime": {
     "end_time": "2021-06-27T06:57:35.475820Z",
     "start_time": "2021-06-27T06:57:35.464552Z"
    }
   },
   "outputs": [],
   "source": [
    "# hasil penarikan data dari Yahoo! Finance pada cell sebelumnya\n",
    "# stock.to_pickle('data_cache/stock_2')"
   ]
  },
  {
   "cell_type": "code",
   "execution_count": 14,
   "metadata": {},
   "outputs": [
    {
     "ename": "TypeError",
     "evalue": "Cannot index by location index with a non-integer key",
     "output_type": "error",
     "traceback": [
      "\u001b[1;31m---------------------------------------------------------------------------\u001b[0m",
      "\u001b[1;31mTypeError\u001b[0m                                 Traceback (most recent call last)",
      "Input \u001b[1;32mIn [14]\u001b[0m, in \u001b[0;36m<cell line: 3>\u001b[1;34m()\u001b[0m\n\u001b[0;32m      1\u001b[0m \u001b[38;5;66;03m# #read pickle\u001b[39;00m\n\u001b[0;32m      2\u001b[0m tes \u001b[38;5;241m=\u001b[39m pd\u001b[38;5;241m.\u001b[39mread_pickle(\u001b[38;5;124m\"\u001b[39m\u001b[38;5;124mdata_cache/stock_2\u001b[39m\u001b[38;5;124m\"\u001b[39m)\u001b[38;5;241m.\u001b[39mhead()\n\u001b[1;32m----> 3\u001b[0m \u001b[43mtes\u001b[49m\u001b[38;5;241;43m.\u001b[39;49m\u001b[43miloc\u001b[49m\u001b[43m[\u001b[49m\u001b[38;5;124;43m'\u001b[39;49m\u001b[38;5;124;43mAdj Close\u001b[39;49m\u001b[38;5;124;43m'\u001b[39;49m\u001b[43m]\u001b[49m[\u001b[38;5;124m'\u001b[39m\u001b[38;5;124mAAPL\u001b[39m\u001b[38;5;124m'\u001b[39m]\n",
      "File \u001b[1;32m~\\anaconda3\\envs\\theia_da\\lib\\site-packages\\pandas\\core\\indexing.py:967\u001b[0m, in \u001b[0;36m_LocationIndexer.__getitem__\u001b[1;34m(self, key)\u001b[0m\n\u001b[0;32m    964\u001b[0m axis \u001b[38;5;241m=\u001b[39m \u001b[38;5;28mself\u001b[39m\u001b[38;5;241m.\u001b[39maxis \u001b[38;5;129;01mor\u001b[39;00m \u001b[38;5;241m0\u001b[39m\n\u001b[0;32m    966\u001b[0m maybe_callable \u001b[38;5;241m=\u001b[39m com\u001b[38;5;241m.\u001b[39mapply_if_callable(key, \u001b[38;5;28mself\u001b[39m\u001b[38;5;241m.\u001b[39mobj)\n\u001b[1;32m--> 967\u001b[0m \u001b[38;5;28;01mreturn\u001b[39;00m \u001b[38;5;28;43mself\u001b[39;49m\u001b[38;5;241;43m.\u001b[39;49m\u001b[43m_getitem_axis\u001b[49m\u001b[43m(\u001b[49m\u001b[43mmaybe_callable\u001b[49m\u001b[43m,\u001b[49m\u001b[43m \u001b[49m\u001b[43maxis\u001b[49m\u001b[38;5;241;43m=\u001b[39;49m\u001b[43maxis\u001b[49m\u001b[43m)\u001b[49m\n",
      "File \u001b[1;32m~\\anaconda3\\envs\\theia_da\\lib\\site-packages\\pandas\\core\\indexing.py:1520\u001b[0m, in \u001b[0;36m_iLocIndexer._getitem_axis\u001b[1;34m(self, key, axis)\u001b[0m\n\u001b[0;32m   1518\u001b[0m key \u001b[38;5;241m=\u001b[39m item_from_zerodim(key)\n\u001b[0;32m   1519\u001b[0m \u001b[38;5;28;01mif\u001b[39;00m \u001b[38;5;129;01mnot\u001b[39;00m is_integer(key):\n\u001b[1;32m-> 1520\u001b[0m     \u001b[38;5;28;01mraise\u001b[39;00m \u001b[38;5;167;01mTypeError\u001b[39;00m(\u001b[38;5;124m\"\u001b[39m\u001b[38;5;124mCannot index by location index with a non-integer key\u001b[39m\u001b[38;5;124m\"\u001b[39m)\n\u001b[0;32m   1522\u001b[0m \u001b[38;5;66;03m# validate the location\u001b[39;00m\n\u001b[0;32m   1523\u001b[0m \u001b[38;5;28mself\u001b[39m\u001b[38;5;241m.\u001b[39m_validate_integer(key, axis)\n",
      "\u001b[1;31mTypeError\u001b[0m: Cannot index by location index with a non-integer key"
     ]
    }
   ],
   "source": [
    "# #read pickle\n",
    "tes = pd.read_pickle(\"data_cache/stock_2\").head()\n"
   ]
  },
  {
   "cell_type": "markdown",
   "metadata": {},
   "source": [
    "Contoh menyimpan data stock menggunakan csv:"
   ]
  },
  {
   "cell_type": "code",
   "execution_count": null,
   "metadata": {},
   "outputs": [],
   "source": [
    "# stock.to_csv('data_cache/stock.csv')\n",
    "tes = stock.to_csv(\"data_cache/stock_2\").head()"
   ]
  },
  {
   "cell_type": "code",
   "execution_count": null,
   "metadata": {},
   "outputs": [],
   "source": [
    "# pd.read_csv('data_cache/stock.csv')"
   ]
  },
  {
   "cell_type": "markdown",
   "metadata": {},
   "source": [
    "Unpickling/De-serializing: **membaca** suatu objek Python dari sebuah file binary (byte stream). \n",
    "- Gunakan method `pd.read_pickle()`\n",
    "- Untuk selanjutnya, mari kita gunakan file pickle pada `data_cache/stock` yang untuk tanggal 1 Januari 2018 sampai 18 September 2022."
   ]
  },
  {
   "cell_type": "markdown",
   "metadata": {},
   "source": [
    "⚠️ Jangan pernah unpickling file yang berasal dari sumber yang tidak tepercaya, karena bisa saja file tersebut berisi script berupa virus yang dapat membahayakan sistem Anda."
   ]
  },
  {
   "cell_type": "markdown",
   "metadata": {},
   "source": [
    "💡 Dengan menggunakan file pickle kita **\"mengawetkan\"** struktur dari object Python, untuk DataFrame dapat terjaga tipe data dan indexnya."
   ]
  },
  {
   "cell_type": "code",
   "execution_count": 16,
   "metadata": {
    "ExecuteTime": {
     "end_time": "2021-06-27T06:57:35.534890Z",
     "start_time": "2021-06-27T06:57:35.506187Z"
    },
    "run_control": {
     "marked": false
    }
   },
   "outputs": [
    {
     "data": {
      "text/plain": [
       "id                     int64\n",
       "gender              category\n",
       "blood_type          category\n",
       "join_date     datetime64[ns]\n",
       "dtype: object"
      ]
     },
     "execution_count": 16,
     "metadata": {},
     "output_type": "execute_result"
    }
   ],
   "source": [
    "# membuat dummy data lalu konversi tipe data\n",
    "dummy = pd.DataFrame({\n",
    "    'id': [1, 2, 3, 4, 5, 6, 7],\n",
    "    'gender': ['Male', 'Female', 'Male', 'Female', 'Female', 'Female', 'Male'],\n",
    "    'blood_type': ['O', 'A', 'B', 'AB', 'B', 'B', 'O'],\n",
    "    'join_date': ['28 Jun 2021', '29 Jun 2021', '30 Jun 2021', '1 Jul 2021', '2 Jul 2021', '3 Jul 2021', '4 Jul 2021']\n",
    "})\n",
    "\n",
    "# ubah tipe data\n",
    "dummy[['gender', 'blood_type']] = dummy[['gender', 'blood_type']].astype('category')\n",
    "dummy['join_date'] = dummy['join_date'].astype('datetime64')\n",
    "dummy.dtypes"
   ]
  },
  {
   "cell_type": "code",
   "execution_count": 17,
   "metadata": {},
   "outputs": [],
   "source": [
    "# simpan object dummy ke dalam folder data_cache nama filenya \"dummy\"\n",
    "dummy.to_pickle('data_cache/dummy')"
   ]
  },
  {
   "cell_type": "code",
   "execution_count": 18,
   "metadata": {},
   "outputs": [
    {
     "data": {
      "text/plain": [
       "id                     int64\n",
       "gender              category\n",
       "blood_type          category\n",
       "join_date     datetime64[ns]\n",
       "dtype: object"
      ]
     },
     "execution_count": 18,
     "metadata": {},
     "output_type": "execute_result"
    }
   ],
   "source": [
    "# baca dari pickle dan cek tipe data\n",
    "pd.read_pickle('data_cache/dummy').dtypes"
   ]
  },
  {
   "cell_type": "markdown",
   "metadata": {},
   "source": [
    "Bandingkan dengan menyimpannya ke file text biasa, yaitu csv misalnya:"
   ]
  },
  {
   "cell_type": "code",
   "execution_count": 20,
   "metadata": {
    "ExecuteTime": {
     "end_time": "2021-06-27T06:57:35.584713Z",
     "start_time": "2021-06-27T06:57:35.566286Z"
    },
    "scrolled": true
   },
   "outputs": [
    {
     "data": {
      "text/plain": [
       "id             int64\n",
       "gender        object\n",
       "blood_type    object\n",
       "join_date     object\n",
       "dtype: object"
      ]
     },
     "execution_count": 20,
     "metadata": {},
     "output_type": "execute_result"
    }
   ],
   "source": [
    "# simpan ke file csv\n",
    "dummy.to_csv('data_cache/dummy.csv', index=False)\n",
    "\n",
    "# baca dari csv dan cek tipe data\n",
    "pd.read_csv('data_cache/dummy.csv').dtypes\n",
    "# python fiddle"
   ]
  },
  {
   "cell_type": "markdown",
   "metadata": {},
   "source": [
    "**Quick Summary pickle file**:\n",
    "\n",
    "Kelebihan:\n",
    "- ...\n",
    "- ...\n",
    "- ...\n",
    "\n",
    "Kekurangan:\n",
    "- ..."
   ]
  },
  {
   "cell_type": "markdown",
   "metadata": {},
   "source": [
    "## Slicing Multi-Index DataFrame\n",
    "\n",
    "Multi-Index Dataframe adalah bentuk dataframe yang memiliki level indexing lebih dari 1 baik pada baris, kolom, ataupun keduanya. Hal yang perlu diperhatikan dalam MultiIndex Dataframe adalah bentuk dataframe ini terkadang tidak bisa langsung kita gunakan untuk menganalisis data, sehingga akan ada beberapa perlakuan untuk kita mengiris atau mengubah bentuknya ke dataframe yang lebih sederhana. Berikut contoh bentuk multi-index dataframe:\n",
    "<img src=\"assets/multiindex dataframe.png\" width = 600>\n",
    "\n",
    "Perhatikan bahwa `stock` adalah Multi-Index DataFrame, dimana level dari column-nya terdiri dari: `Attributes` dan `Symbols`:"
   ]
  },
  {
   "cell_type": "code",
   "execution_count": null,
   "metadata": {
    "ExecuteTime": {
     "end_time": "2021-06-27T06:57:35.592826Z",
     "start_time": "2021-06-27T06:57:35.586919Z"
    },
    "scrolled": false
   },
   "outputs": [],
   "source": [
    "stock.head()"
   ]
  },
  {
   "cell_type": "markdown",
   "metadata": {},
   "source": [
    "Ketika kita subset menggunakan `[]`, maka kita hanya bisa mengakses kolom dengan level teratas, yaitu untuk `Attributes`. \n",
    "\n",
    "- ❓ Melakukan subset pada kolom `High` akan menghasilkan DataFrame single index dengan `Symbols` sebagai levelnya."
   ]
  },
  {
   "cell_type": "code",
   "execution_count": 21,
   "metadata": {
    "ExecuteTime": {
     "end_time": "2021-06-27T06:57:35.617692Z",
     "start_time": "2021-06-27T06:57:35.594826Z"
    },
    "scrolled": false
   },
   "outputs": [
    {
     "data": {
      "text/html": [
       "<div>\n",
       "<style scoped>\n",
       "    .dataframe tbody tr th:only-of-type {\n",
       "        vertical-align: middle;\n",
       "    }\n",
       "\n",
       "    .dataframe tbody tr th {\n",
       "        vertical-align: top;\n",
       "    }\n",
       "\n",
       "    .dataframe thead th {\n",
       "        text-align: right;\n",
       "    }\n",
       "</style>\n",
       "<table border=\"1\" class=\"dataframe\">\n",
       "  <thead>\n",
       "    <tr style=\"text-align: right;\">\n",
       "      <th>Symbols</th>\n",
       "      <th>AAPL</th>\n",
       "      <th>GOOGL</th>\n",
       "      <th>TSLA</th>\n",
       "    </tr>\n",
       "    <tr>\n",
       "      <th>Date</th>\n",
       "      <th></th>\n",
       "      <th></th>\n",
       "      <th></th>\n",
       "    </tr>\n",
       "  </thead>\n",
       "  <tbody>\n",
       "    <tr>\n",
       "      <th>2018-01-02</th>\n",
       "      <td>43.08</td>\n",
       "      <td>53.80</td>\n",
       "      <td>21.47</td>\n",
       "    </tr>\n",
       "    <tr>\n",
       "      <th>2018-01-03</th>\n",
       "      <td>43.64</td>\n",
       "      <td>54.81</td>\n",
       "      <td>21.68</td>\n",
       "    </tr>\n",
       "    <tr>\n",
       "      <th>2018-01-04</th>\n",
       "      <td>43.37</td>\n",
       "      <td>55.20</td>\n",
       "      <td>21.24</td>\n",
       "    </tr>\n",
       "    <tr>\n",
       "      <th>2018-01-05</th>\n",
       "      <td>43.84</td>\n",
       "      <td>55.68</td>\n",
       "      <td>21.15</td>\n",
       "    </tr>\n",
       "    <tr>\n",
       "      <th>2018-01-08</th>\n",
       "      <td>43.90</td>\n",
       "      <td>55.96</td>\n",
       "      <td>22.47</td>\n",
       "    </tr>\n",
       "    <tr>\n",
       "      <th>...</th>\n",
       "      <td>...</td>\n",
       "      <td>...</td>\n",
       "      <td>...</td>\n",
       "    </tr>\n",
       "    <tr>\n",
       "      <th>2022-09-12</th>\n",
       "      <td>164.26</td>\n",
       "      <td>111.62</td>\n",
       "      <td>305.49</td>\n",
       "    </tr>\n",
       "    <tr>\n",
       "      <th>2022-09-13</th>\n",
       "      <td>160.54</td>\n",
       "      <td>108.30</td>\n",
       "      <td>297.40</td>\n",
       "    </tr>\n",
       "    <tr>\n",
       "      <th>2022-09-14</th>\n",
       "      <td>157.10</td>\n",
       "      <td>105.28</td>\n",
       "      <td>306.00</td>\n",
       "    </tr>\n",
       "    <tr>\n",
       "      <th>2022-09-15</th>\n",
       "      <td>155.24</td>\n",
       "      <td>105.27</td>\n",
       "      <td>309.12</td>\n",
       "    </tr>\n",
       "    <tr>\n",
       "      <th>2022-09-16</th>\n",
       "      <td>151.35</td>\n",
       "      <td>103.13</td>\n",
       "      <td>303.71</td>\n",
       "    </tr>\n",
       "  </tbody>\n",
       "</table>\n",
       "<p>1186 rows × 3 columns</p>\n",
       "</div>"
      ],
      "text/plain": [
       "Symbols      AAPL  GOOGL   TSLA\n",
       "Date                           \n",
       "2018-01-02  43.08  53.80  21.47\n",
       "2018-01-03  43.64  54.81  21.68\n",
       "2018-01-04  43.37  55.20  21.24\n",
       "2018-01-05  43.84  55.68  21.15\n",
       "2018-01-08  43.90  55.96  22.47\n",
       "...           ...    ...    ...\n",
       "2022-09-12 164.26 111.62 305.49\n",
       "2022-09-13 160.54 108.30 297.40\n",
       "2022-09-14 157.10 105.28 306.00\n",
       "2022-09-15 155.24 105.27 309.12\n",
       "2022-09-16 151.35 103.13 303.71\n",
       "\n",
       "[1186 rows x 3 columns]"
      ]
     },
     "execution_count": 21,
     "metadata": {},
     "output_type": "execute_result"
    }
   ],
   "source": [
    "stock['High']"
   ]
  },
  {
   "cell_type": "markdown",
   "metadata": {},
   "source": [
    "❗️**Masalah:** Bagaimana caranya apabila kita ingin mengambil semua nilai `Attributes` untuk saham `GOOGL` saja?"
   ]
  },
  {
   "cell_type": "code",
   "execution_count": 25,
   "metadata": {
    "ExecuteTime": {
     "end_time": "2021-06-27T06:57:35.626388Z",
     "start_time": "2021-06-27T06:57:35.620332Z"
    }
   },
   "outputs": [],
   "source": [
    "# stock['GOOGL']"
   ]
  },
  {
   "cell_type": "markdown",
   "metadata": {},
   "source": [
    "**Solusi:** Kita harus menggunakan method `.xs()` (cross-section) untuk mengambil kolom (`axis=1`) pada level dalam\n",
    "\n",
    "- `key`: kolom yang kita ingin ambil\n",
    "- `level`: kolom tersebut ada di level apa?\n",
    "- `axis`: level terdapat pada index/baris (0 untuk baris, 1 untuk kolom)"
   ]
  },
  {
   "cell_type": "code",
   "execution_count": 33,
   "metadata": {
    "ExecuteTime": {
     "end_time": "2021-06-27T06:57:35.685933Z",
     "start_time": "2021-06-27T06:57:35.631933Z"
    }
   },
   "outputs": [
    {
     "data": {
      "text/html": [
       "<div>\n",
       "<style scoped>\n",
       "    .dataframe tbody tr th:only-of-type {\n",
       "        vertical-align: middle;\n",
       "    }\n",
       "\n",
       "    .dataframe tbody tr th {\n",
       "        vertical-align: top;\n",
       "    }\n",
       "\n",
       "    .dataframe thead th {\n",
       "        text-align: right;\n",
       "    }\n",
       "</style>\n",
       "<table border=\"1\" class=\"dataframe\">\n",
       "  <thead>\n",
       "    <tr style=\"text-align: right;\">\n",
       "      <th>Attributes</th>\n",
       "      <th>Adj Close</th>\n",
       "      <th>Close</th>\n",
       "      <th>High</th>\n",
       "      <th>Low</th>\n",
       "      <th>Open</th>\n",
       "      <th>Volume</th>\n",
       "    </tr>\n",
       "    <tr>\n",
       "      <th>Date</th>\n",
       "      <th></th>\n",
       "      <th></th>\n",
       "      <th></th>\n",
       "      <th></th>\n",
       "      <th></th>\n",
       "      <th></th>\n",
       "    </tr>\n",
       "  </thead>\n",
       "  <tbody>\n",
       "    <tr>\n",
       "      <th>2018-01-02</th>\n",
       "      <td>53.66</td>\n",
       "      <td>53.66</td>\n",
       "      <td>53.80</td>\n",
       "      <td>52.65</td>\n",
       "      <td>52.65</td>\n",
       "      <td>31766000</td>\n",
       "    </tr>\n",
       "    <tr>\n",
       "      <th>2018-01-03</th>\n",
       "      <td>54.58</td>\n",
       "      <td>54.58</td>\n",
       "      <td>54.81</td>\n",
       "      <td>53.67</td>\n",
       "      <td>53.70</td>\n",
       "      <td>31318000</td>\n",
       "    </tr>\n",
       "    <tr>\n",
       "      <th>2018-01-04</th>\n",
       "      <td>54.79</td>\n",
       "      <td>54.79</td>\n",
       "      <td>55.20</td>\n",
       "      <td>54.71</td>\n",
       "      <td>54.85</td>\n",
       "      <td>26052000</td>\n",
       "    </tr>\n",
       "    <tr>\n",
       "      <th>2018-01-05</th>\n",
       "      <td>55.51</td>\n",
       "      <td>55.51</td>\n",
       "      <td>55.68</td>\n",
       "      <td>55.09</td>\n",
       "      <td>55.17</td>\n",
       "      <td>30250000</td>\n",
       "    </tr>\n",
       "    <tr>\n",
       "      <th>2018-01-08</th>\n",
       "      <td>55.71</td>\n",
       "      <td>55.71</td>\n",
       "      <td>55.96</td>\n",
       "      <td>55.50</td>\n",
       "      <td>55.55</td>\n",
       "      <td>24644000</td>\n",
       "    </tr>\n",
       "    <tr>\n",
       "      <th>...</th>\n",
       "      <td>...</td>\n",
       "      <td>...</td>\n",
       "      <td>...</td>\n",
       "      <td>...</td>\n",
       "      <td>...</td>\n",
       "      <td>...</td>\n",
       "    </tr>\n",
       "    <tr>\n",
       "      <th>2022-09-12</th>\n",
       "      <td>110.86</td>\n",
       "      <td>110.86</td>\n",
       "      <td>111.62</td>\n",
       "      <td>109.93</td>\n",
       "      <td>110.99</td>\n",
       "      <td>22966800</td>\n",
       "    </tr>\n",
       "    <tr>\n",
       "      <th>2022-09-13</th>\n",
       "      <td>104.32</td>\n",
       "      <td>104.32</td>\n",
       "      <td>108.30</td>\n",
       "      <td>104.09</td>\n",
       "      <td>107.80</td>\n",
       "      <td>38172900</td>\n",
       "    </tr>\n",
       "    <tr>\n",
       "      <th>2022-09-14</th>\n",
       "      <td>105.00</td>\n",
       "      <td>105.00</td>\n",
       "      <td>105.28</td>\n",
       "      <td>103.66</td>\n",
       "      <td>104.57</td>\n",
       "      <td>26395100</td>\n",
       "    </tr>\n",
       "    <tr>\n",
       "      <th>2022-09-15</th>\n",
       "      <td>102.91</td>\n",
       "      <td>102.91</td>\n",
       "      <td>105.27</td>\n",
       "      <td>102.35</td>\n",
       "      <td>104.03</td>\n",
       "      <td>34188300</td>\n",
       "    </tr>\n",
       "    <tr>\n",
       "      <th>2022-09-16</th>\n",
       "      <td>102.80</td>\n",
       "      <td>102.80</td>\n",
       "      <td>103.13</td>\n",
       "      <td>100.94</td>\n",
       "      <td>102.07</td>\n",
       "      <td>42780300</td>\n",
       "    </tr>\n",
       "  </tbody>\n",
       "</table>\n",
       "<p>1186 rows × 6 columns</p>\n",
       "</div>"
      ],
      "text/plain": [
       "Attributes  Adj Close  Close   High    Low   Open    Volume\n",
       "Date                                                       \n",
       "2018-01-02      53.66  53.66  53.80  52.65  52.65  31766000\n",
       "2018-01-03      54.58  54.58  54.81  53.67  53.70  31318000\n",
       "2018-01-04      54.79  54.79  55.20  54.71  54.85  26052000\n",
       "2018-01-05      55.51  55.51  55.68  55.09  55.17  30250000\n",
       "2018-01-08      55.71  55.71  55.96  55.50  55.55  24644000\n",
       "...               ...    ...    ...    ...    ...       ...\n",
       "2022-09-12     110.86 110.86 111.62 109.93 110.99  22966800\n",
       "2022-09-13     104.32 104.32 108.30 104.09 107.80  38172900\n",
       "2022-09-14     105.00 105.00 105.28 103.66 104.57  26395100\n",
       "2022-09-15     102.91 102.91 105.27 102.35 104.03  34188300\n",
       "2022-09-16     102.80 102.80 103.13 100.94 102.07  42780300\n",
       "\n",
       "[1186 rows x 6 columns]"
      ]
     },
     "execution_count": 33,
     "metadata": {},
     "output_type": "execute_result"
    }
   ],
   "source": [
    "stock.xs(key='GOOGL',level=1,axis=1)"
   ]
  },
  {
   "cell_type": "markdown",
   "metadata": {},
   "source": [
    "**Challenge**: ambil histori data saham `AAPL`, `TSLA`, `GOOGL` pada tanggal 11 Januari 2021!"
   ]
  },
  {
   "cell_type": "code",
   "execution_count": 49,
   "metadata": {},
   "outputs": [
    {
     "data": {
      "text/plain": [
       "Attributes  Symbols\n",
       "Adj Close   AAPL            127.66\n",
       "            GOOGL            87.81\n",
       "            TSLA            270.40\n",
       "Close       AAPL            128.98\n",
       "            GOOGL            87.81\n",
       "            TSLA            270.40\n",
       "High        AAPL            130.17\n",
       "            GOOGL            89.22\n",
       "            TSLA            284.81\n",
       "Low         AAPL            128.50\n",
       "            GOOGL            87.61\n",
       "            TSLA            267.87\n",
       "Open        AAPL            129.19\n",
       "            GOOGL            88.85\n",
       "            TSLA            283.13\n",
       "Volume      AAPL      100384500.00\n",
       "            GOOGL      34796000.00\n",
       "            TSLA      177904800.00\n",
       "Name: 2021-01-11 00:00:00, dtype: float64"
      ]
     },
     "execution_count": 49,
     "metadata": {},
     "output_type": "execute_result"
    }
   ],
   "source": [
    "# your code here\n",
    "# stock.xs(key='GOOGL',level=1,axis=1)[stock.index == '2021-01-11']\n",
    "tes = stock.xs(key='2021-01-11')\n",
    "# stock.loc['2021-01-11',:]\n",
    "tes"
   ]
  },
  {
   "cell_type": "markdown",
   "metadata": {},
   "source": [
    "### ❓🔎 Concern on Time Series Data\n",
    "\n",
    "1. Buatlah sebuah objek dataframe bernama `closingprice` yang berisikan nilai `Close` untuk ketiga saham.\n",
    "2. Gunakan method yang telah Anda pelajari untuk mengecek banyaknya missing values pada setiap kolom dataframe `closingprice`."
   ]
  },
  {
   "cell_type": "code",
   "execution_count": 56,
   "metadata": {
    "ExecuteTime": {
     "end_time": "2021-06-27T06:57:35.698482Z",
     "start_time": "2021-06-27T06:57:35.688094Z"
    },
    "scrolled": false
   },
   "outputs": [
    {
     "data": {
      "text/plain": [
       "Symbols\n",
       "AAPL     0\n",
       "GOOGL    0\n",
       "TSLA     0\n",
       "dtype: int64"
      ]
     },
     "execution_count": 56,
     "metadata": {},
     "output_type": "execute_result"
    }
   ],
   "source": [
    "# your code here\n",
    "stock\n",
    "# closingprice = stock.xs(key='Close',level=0,axis=1\n",
    "closingprice = stock['Close']\n",
    "closingprice.isna().sum()"
   ]
  },
  {
   "cell_type": "markdown",
   "metadata": {},
   "source": [
    "**💭 Diskusi:** Apakah dapat dikatakan bahwa data `closingprice` tidak terdapat missing value? *hint: lihat urutan tanggal*\n"
   ]
  },
  {
   "cell_type": "markdown",
   "metadata": {},
   "source": [
    "Ketika kita bekerja dengan data runtun waktu (time series), kita harus memastikan data lengkap pada setiap periode waktu. Untuk kasus di atas kita harus melakukan **padding**, yaitu menyelipkan tanggal yang terlewati. \n",
    "\n",
    "❗️Kita dapat mengatur ulang index `Date` dengan method `reindex()` sehingga indexnya mengikuti rentang tanggal yang kita tentukan sendiri:"
   ]
  },
  {
   "cell_type": "code",
   "execution_count": 57,
   "metadata": {},
   "outputs": [
    {
     "data": {
      "text/html": [
       "<div>\n",
       "<style scoped>\n",
       "    .dataframe tbody tr th:only-of-type {\n",
       "        vertical-align: middle;\n",
       "    }\n",
       "\n",
       "    .dataframe tbody tr th {\n",
       "        vertical-align: top;\n",
       "    }\n",
       "\n",
       "    .dataframe thead th {\n",
       "        text-align: right;\n",
       "    }\n",
       "</style>\n",
       "<table border=\"1\" class=\"dataframe\">\n",
       "  <thead>\n",
       "    <tr style=\"text-align: right;\">\n",
       "      <th>Symbols</th>\n",
       "      <th>AAPL</th>\n",
       "      <th>GOOGL</th>\n",
       "      <th>TSLA</th>\n",
       "    </tr>\n",
       "    <tr>\n",
       "      <th>Date</th>\n",
       "      <th></th>\n",
       "      <th></th>\n",
       "      <th></th>\n",
       "    </tr>\n",
       "  </thead>\n",
       "  <tbody>\n",
       "    <tr>\n",
       "      <th>2018-01-02</th>\n",
       "      <td>43.06</td>\n",
       "      <td>53.66</td>\n",
       "      <td>21.37</td>\n",
       "    </tr>\n",
       "    <tr>\n",
       "      <th>2018-01-03</th>\n",
       "      <td>43.06</td>\n",
       "      <td>54.58</td>\n",
       "      <td>21.15</td>\n",
       "    </tr>\n",
       "    <tr>\n",
       "      <th>2018-01-04</th>\n",
       "      <td>43.26</td>\n",
       "      <td>54.79</td>\n",
       "      <td>20.97</td>\n",
       "    </tr>\n",
       "    <tr>\n",
       "      <th>2018-01-05</th>\n",
       "      <td>43.75</td>\n",
       "      <td>55.51</td>\n",
       "      <td>21.11</td>\n",
       "    </tr>\n",
       "    <tr>\n",
       "      <th>2018-01-08</th>\n",
       "      <td>43.59</td>\n",
       "      <td>55.71</td>\n",
       "      <td>22.43</td>\n",
       "    </tr>\n",
       "    <tr>\n",
       "      <th>...</th>\n",
       "      <td>...</td>\n",
       "      <td>...</td>\n",
       "      <td>...</td>\n",
       "    </tr>\n",
       "    <tr>\n",
       "      <th>2022-09-12</th>\n",
       "      <td>163.43</td>\n",
       "      <td>110.86</td>\n",
       "      <td>304.42</td>\n",
       "    </tr>\n",
       "    <tr>\n",
       "      <th>2022-09-13</th>\n",
       "      <td>153.84</td>\n",
       "      <td>104.32</td>\n",
       "      <td>292.13</td>\n",
       "    </tr>\n",
       "    <tr>\n",
       "      <th>2022-09-14</th>\n",
       "      <td>155.31</td>\n",
       "      <td>105.00</td>\n",
       "      <td>302.61</td>\n",
       "    </tr>\n",
       "    <tr>\n",
       "      <th>2022-09-15</th>\n",
       "      <td>152.37</td>\n",
       "      <td>102.91</td>\n",
       "      <td>303.75</td>\n",
       "    </tr>\n",
       "    <tr>\n",
       "      <th>2022-09-16</th>\n",
       "      <td>150.70</td>\n",
       "      <td>102.80</td>\n",
       "      <td>303.35</td>\n",
       "    </tr>\n",
       "  </tbody>\n",
       "</table>\n",
       "<p>1186 rows × 3 columns</p>\n",
       "</div>"
      ],
      "text/plain": [
       "Symbols      AAPL  GOOGL   TSLA\n",
       "Date                           \n",
       "2018-01-02  43.06  53.66  21.37\n",
       "2018-01-03  43.06  54.58  21.15\n",
       "2018-01-04  43.26  54.79  20.97\n",
       "2018-01-05  43.75  55.51  21.11\n",
       "2018-01-08  43.59  55.71  22.43\n",
       "...           ...    ...    ...\n",
       "2022-09-12 163.43 110.86 304.42\n",
       "2022-09-13 153.84 104.32 292.13\n",
       "2022-09-14 155.31 105.00 302.61\n",
       "2022-09-15 152.37 102.91 303.75\n",
       "2022-09-16 150.70 102.80 303.35\n",
       "\n",
       "[1186 rows x 3 columns]"
      ]
     },
     "execution_count": 57,
     "metadata": {},
     "output_type": "execute_result"
    }
   ],
   "source": [
    "# stock['Close'].fillna(method='ffill')"
   ]
  },
  {
   "cell_type": "code",
   "execution_count": null,
   "metadata": {
    "ExecuteTime": {
     "end_time": "2021-06-27T06:57:35.733206Z",
     "start_time": "2021-06-27T06:57:35.720068Z"
    },
    "scrolled": true
   },
   "outputs": [],
   "source": [
    "# data tanggal per harian dari 1 Januari sampai 31 Maret 2018\n",
    "\n",
    "\n"
   ]
  },
  {
   "cell_type": "markdown",
   "metadata": {},
   "source": [
    "Note: `nan`: missing value untuk numerik (not a number)"
   ]
  },
  {
   "cell_type": "markdown",
   "metadata": {},
   "source": [
    "Cek kembali missing value `NaN` yang terdapat pada `closingprice`:"
   ]
  },
  {
   "cell_type": "code",
   "execution_count": null,
   "metadata": {
    "ExecuteTime": {
     "end_time": "2021-06-27T06:57:35.754007Z",
     "start_time": "2021-06-27T06:57:35.736407Z"
    },
    "scrolled": true
   },
   "outputs": [],
   "source": [
    "# your code here\n"
   ]
  },
  {
   "cell_type": "code",
   "execution_count": null,
   "metadata": {},
   "outputs": [],
   "source": []
  },
  {
   "cell_type": "markdown",
   "metadata": {},
   "source": [
    "❓**Diskusi:** Bagaimana cara kita mengisi missing value tersebut?"
   ]
  },
  {
   "cell_type": "code",
   "execution_count": null,
   "metadata": {
    "ExecuteTime": {
     "end_time": "2021-06-27T06:57:35.773485Z",
     "start_time": "2021-06-27T06:57:35.755265Z"
    },
    "scrolled": true
   },
   "outputs": [],
   "source": [
    "# your code here\n"
   ]
  },
  {
   "cell_type": "markdown",
   "metadata": {},
   "source": [
    "## Reshaping\n",
    "\n",
    "Reshaping data adalah salah satu komponen penting dalam tahap data wrangling, karena memungkinkan seorang analis untuk mempersiapkan data menjadi bentuk yang sesuai untuk tahap analisa data berikutnya."
   ]
  },
  {
   "cell_type": "markdown",
   "metadata": {},
   "source": [
    "### `stack()` and `unstack()`\n",
    "\n",
    "Method yang berguna saat kita ingin mengubah bentuk Multi-Index DataFrame:\n",
    "\n",
    "- `stack()`: mengubah level pada kolom menjadi pada baris\n",
    "- `unstack()`: mengubah level pada baris menjadi pada kolom\n",
    "\n",
    "<img src=\"assets/reshaping_stack.png\" width=\"600\"/>\n",
    "\n",
    "Untuk saat ini, `stock` memiliki 2-level kolom (`Attributes` dan `Symbols`) dan 1-level baris (`Date`)."
   ]
  },
  {
   "cell_type": "code",
   "execution_count": null,
   "metadata": {},
   "outputs": [],
   "source": []
  },
  {
   "cell_type": "code",
   "execution_count": null,
   "metadata": {
    "ExecuteTime": {
     "end_time": "2021-06-27T06:57:35.802332Z",
     "start_time": "2021-06-27T06:57:35.775501Z"
    },
    "scrolled": true
   },
   "outputs": [],
   "source": [
    "# aplikasikan method stack\n"
   ]
  },
  {
   "cell_type": "markdown",
   "metadata": {},
   "source": [
    "📈 Setelah mengaplikasikan method `stack()`, `Symbols` pindah dari yang sebelumnya level pada kolom menjadi baris. Kenapa `Symbols`? Karena secara default parameter `level=-1`, sehingga kolom dengan level paling dalam yang pindah menjadi baris.\n",
    "\n",
    "❗️ Bagaimana cara kita memindahkan level `Attributes`nya menjadi baris?"
   ]
  },
  {
   "cell_type": "code",
   "execution_count": null,
   "metadata": {
    "ExecuteTime": {
     "end_time": "2021-06-27T06:57:35.843021Z",
     "start_time": "2021-06-27T06:57:35.805942Z"
    }
   },
   "outputs": [],
   "source": []
  },
  {
   "cell_type": "markdown",
   "metadata": {},
   "source": [
    "Sedangkan `unstack()` adalah kebalikan dari `stack()`:\n",
    "\n",
    "<img src=\"assets/reshaping_unstack.png\" width=\"600\"/>\n",
    "\n",
    "Cobalah aplikasikan method `unstack()` pada dataframe `stock`:"
   ]
  },
  {
   "cell_type": "code",
   "execution_count": null,
   "metadata": {
    "ExecuteTime": {
     "end_time": "2021-06-27T06:57:35.867274Z",
     "start_time": "2021-06-27T06:57:35.848470Z"
    }
   },
   "outputs": [],
   "source": []
  },
  {
   "cell_type": "markdown",
   "metadata": {},
   "source": [
    "❗️ Apa yang terjadi ketika method `stack()` dilanjutkan dengan method `unstack()` (asumsi menggunakan parameter `level` default)?"
   ]
  },
  {
   "cell_type": "code",
   "execution_count": null,
   "metadata": {
    "ExecuteTime": {
     "end_time": "2021-06-27T06:57:35.952509Z",
     "start_time": "2021-06-27T06:57:35.871440Z"
    }
   },
   "outputs": [],
   "source": [
    "# your code here\n"
   ]
  },
  {
   "cell_type": "markdown",
   "metadata": {},
   "source": [
    "### 💭 Dive Deeper\n",
    "\n",
    "1. How to swap the position (`level`) of Symbols and Attributes?\n",
    "\n",
    "___\n",
    "\n",
    "1. Bagaimana cara menukar posisi (`level`) dari Symbols dan Attributes?"
   ]
  },
  {
   "cell_type": "code",
   "execution_count": null,
   "metadata": {},
   "outputs": [],
   "source": [
    "# your code here\n"
   ]
  },
  {
   "cell_type": "markdown",
   "metadata": {},
   "source": [
    "2. Based on your knowledge, what company (`Symbols`) worth invest on? (You may look on its fluctuations, means, etc)\n",
    "\n",
    "___\n",
    "\n",
    "2. Berdasarkan pengetahuan Anda, perusahaan (`Symbols`) mana yang layak untuk diinvestasikan? (Anda dapat melihat fluktuasi, means, dll)"
   ]
  },
  {
   "cell_type": "code",
   "execution_count": null,
   "metadata": {},
   "outputs": [],
   "source": [
    "# your code here\n"
   ]
  },
  {
   "cell_type": "markdown",
   "metadata": {},
   "source": [
    "📈 Insight:\n",
    "\n",
    "- ...\n",
    "- ...\n",
    "- ..."
   ]
  },
  {
   "cell_type": "markdown",
   "metadata": {},
   "source": [
    "### ❓ Knowledge Check: Stack and Unstack\n",
    "\n",
    "Which of the following statement is correct?\n",
    "\n",
    "- [ ] `stack()` changes the DataFrame from wide to long\n",
    "- [ ] `unstack()` changes the DataFrame from long to wide\n",
    "- [ ] `unstack()` changes the DataFrame from wide to long"
   ]
  },
  {
   "cell_type": "markdown",
   "metadata": {},
   "source": [
    "---\n",
    "### 📝 Summary Day 1\n",
    "\n",
    "**Reproducible Env**\n",
    "- Exporting environtment: ...\n",
    "- Importing environtment: ...\n",
    "    \n",
    "**Data Loading**\n",
    "- Library `yfinance` digunakan untuk menarik data dari berbagai sumber terkait keuangan, misalnya data saham dari Yahoo! Finance.\n",
    "- File pickle: file binary yang digunakan untuk menyimpan object Python (contohnya DataFrame)\n",
    "    - Object python:\n",
    "        + ...\n",
    "        + ..\n",
    "        + ...\n",
    "    - `.to_pickle(path)`: method untuk [pickling/unpickling]\n",
    "    - `pd.read_pickle(path)`: method untuk [pickling/unpickling]\n",
    "\n",
    "**Slicing MultiIndex DataFrame**\n",
    "- Gunakan ... untuk mengambil kolom pada **level teratas**\n",
    "- Gunakan ... untuk mengambil kolom pada level lebih dalam, parameter: \n",
    "    - `key`: nama label yang ingin diambil\n",
    "    - `level`: nama level dimana label tersebut berada\n",
    "    - `axis`: level terdapat pada index/baris (0 untuk ..., 1 untuk ...)\n",
    "\n",
    "**Datetime Padding**\n",
    "- `pd.date_range(start, end)`: untuk membuat sebuah DatetimeIndex dari tanggal `start` sampai `end`\n",
    "- `.reindex()`: untuk mengatur kembali index sesuai dengan yang diinginkan\n",
    "\n",
    "**Reshaping: Stacking vs Unstacking**\n",
    "- `stack()`: mengubah ... pada ... menjadi pada ...\n",
    "- `unstack()`: mengubah ... pada ... menjadi pada ...\n",
    "---"
   ]
  },
  {
   "cell_type": "markdown",
   "metadata": {},
   "source": [
    "### Melt\n",
    "\n",
    "Mirip dengan `stack()`, kita bisa menggunakan `melt()` untuk mengubah dataframe dari wide to long.\n",
    "\n",
    "<img src=\"assets/reshaping_melt.png\" width=\"600\"/>\n",
    "\n",
    "❓ Dari data `stock` silahkan slicing untuk mendapatkan data saham `AAPL`, simpan pada objek `aapl`:"
   ]
  },
  {
   "cell_type": "code",
   "execution_count": null,
   "metadata": {},
   "outputs": [],
   "source": [
    "stock.head()"
   ]
  },
  {
   "cell_type": "code",
   "execution_count": null,
   "metadata": {
    "ExecuteTime": {
     "end_time": "2021-06-27T06:57:36.032499Z",
     "start_time": "2021-06-27T06:57:36.012840Z"
    },
    "scrolled": true
   },
   "outputs": [],
   "source": [
    "# your code here\n"
   ]
  },
  {
   "cell_type": "markdown",
   "metadata": {},
   "source": [
    "❓ Aplikasikan method `melt()` dan simpan pada objek `aapl_melted`"
   ]
  },
  {
   "cell_type": "code",
   "execution_count": null,
   "metadata": {
    "ExecuteTime": {
     "end_time": "2021-06-27T06:57:36.032499Z",
     "start_time": "2021-06-27T06:57:36.012840Z"
    },
    "scrolled": true
   },
   "outputs": [],
   "source": [
    "# your code here\n"
   ]
  },
  {
   "cell_type": "markdown",
   "metadata": {},
   "source": [
    "❓ Bandingkan ukuran `aapl` dan `aapl_melted`:\n",
    "\n",
    "- `aapl` (wide): \n",
    "- `aapl_melted` (long): "
   ]
  },
  {
   "cell_type": "code",
   "execution_count": null,
   "metadata": {
    "ExecuteTime": {
     "end_time": "2021-06-27T06:57:36.116442Z",
     "start_time": "2021-06-27T06:57:36.098964Z"
    }
   },
   "outputs": [],
   "source": []
  },
  {
   "cell_type": "code",
   "execution_count": null,
   "metadata": {},
   "outputs": [],
   "source": []
  },
  {
   "cell_type": "markdown",
   "metadata": {},
   "source": [
    "**💭 Knowledge Check: Melt vs Stack**\n",
    "\n",
    "Persamaan antara `melt()` dan `stack()`: \n",
    "\n",
    "Apa perbedaan antara `melt()` dan `stack()` ?\n",
    "- `stack()` \n",
    "    - umumnya digunakan pada data ...\n",
    "    - umumnya digunakan untuk ...\n",
    "- `melt()`\n",
    "    - umumnya digunakan pada data ...\n",
    "    - umumnya digunakan untuk ..."
   ]
  },
  {
   "cell_type": "markdown",
   "metadata": {},
   "source": [
    "#### Identifier and Value\n",
    "\n",
    "Dalam method `melt()`, terdapat dua parameter yang sering digunakan:\n",
    "- `id_vars`: kolom yang menjadi identifier variables (kolom yang dipertahankan)\n",
    "- `value_vars`: kolom yang menjadi value variables\n"
   ]
  },
  {
   "cell_type": "code",
   "execution_count": null,
   "metadata": {
    "ExecuteTime": {
     "end_time": "2021-06-27T06:57:36.171511Z",
     "start_time": "2021-06-27T06:57:36.151906Z"
    }
   },
   "outputs": [],
   "source": [
    "# coba langsung mengaplikasikan melt\n"
   ]
  },
  {
   "cell_type": "markdown",
   "metadata": {},
   "source": [
    "Kita ingin kolom `Date` menjadi `id_vars`, namun belum bisa diakses sebagai kolom karena masih berupa index. Untuk itu kita menggunakan `reset_index()` sebelum `melt()`"
   ]
  },
  {
   "cell_type": "code",
   "execution_count": null,
   "metadata": {
    "ExecuteTime": {
     "end_time": "2021-06-27T06:57:36.199066Z",
     "start_time": "2021-06-27T06:57:36.173514Z"
    }
   },
   "outputs": [],
   "source": [
    "# menggunakan reset_index\n"
   ]
  },
  {
   "cell_type": "markdown",
   "metadata": {},
   "source": [
    "❓ **Latihan:** Saya ingin melakukan melt terhadap data `aapl` hanya pada kolom `Close` dan `Open`, serta setiap observasinya dibedakan berdasarkan `Date`. Simpan pada objek `aapl_close_open`:"
   ]
  },
  {
   "cell_type": "markdown",
   "metadata": {},
   "source": [
    "Parameter:\n",
    "- `id_vars`: daftar kolom yang ingin kita pertahankan setelah hasil melt\n",
    "- `value_vars`: daftar kolom yang ingin kita peroleh di kolom `variable`"
   ]
  },
  {
   "cell_type": "code",
   "execution_count": null,
   "metadata": {
    "ExecuteTime": {
     "end_time": "2021-06-27T06:57:36.231155Z",
     "start_time": "2021-06-27T06:57:36.201063Z"
    },
    "scrolled": true
   },
   "outputs": [],
   "source": [
    "# your code here\n"
   ]
  },
  {
   "cell_type": "markdown",
   "metadata": {},
   "source": [
    "Tambahan parameter:\n",
    "\n",
    "- `var_name` untuk memberi nama terhadap kolom `variable`\n",
    "- `value_name` untuk memberi nama terhadap kolom `value`"
   ]
  },
  {
   "cell_type": "code",
   "execution_count": null,
   "metadata": {
    "ExecuteTime": {
     "end_time": "2021-06-27T06:57:36.267674Z",
     "start_time": "2021-06-27T06:57:36.233155Z"
    }
   },
   "outputs": [],
   "source": []
  },
  {
   "cell_type": "markdown",
   "metadata": {},
   "source": [
    "### (Optional) Pivot: Inverse of Melt\n",
    "\n",
    "Kebalikan dari method `melt()` adalah `pivot()`, yaitu mengubah dataframe dari long ke wide.\n",
    "\n",
    "<img src=\"assets/reshaping_pivot.png\" width=\"600\"/>\n",
    "\n",
    "Silahkan coba mengaplikasikan method `pivot()` pada objek `aapl_close_open`, sehingga index-nya berupa `Date` serta terdapat dua kolom `Close` dan `Open` (dari `Attributes`):"
   ]
  },
  {
   "cell_type": "code",
   "execution_count": null,
   "metadata": {},
   "outputs": [],
   "source": []
  },
  {
   "cell_type": "code",
   "execution_count": null,
   "metadata": {
    "ExecuteTime": {
     "end_time": "2021-06-27T06:57:36.295791Z",
     "start_time": "2021-06-27T06:57:36.269671Z"
    },
    "scrolled": true
   },
   "outputs": [],
   "source": []
  },
  {
   "cell_type": "markdown",
   "metadata": {},
   "source": [
    "📌 Catatan tambahan:\n",
    " \n",
    "- `pivot_table()` untuk membuat tabel agregasi (ada nilai yang dirangkum)\n",
    "- `pivot()` hanya untuk reshaping (tidak ada nilai yang dirangkum)"
   ]
  },
  {
   "cell_type": "markdown",
   "metadata": {},
   "source": [
    "📌 **Quick summary reshaping & subsetting method**:\n",
    "\n",
    "Method reshaping yang sudah dipelajari sampai tahap ini:\n",
    "\n",
    "- `stack` dan `unstack`: bekerja pada level (multiindex dataframe)\n",
    "- `melt` dan `pivot`: bekerja pada index maupun kolom (single index dataframe)\n",
    "- `reset_index`: level pada index dijadikan sebuah kolom\n",
    "\n",
    "Method subsetting/slicing multiindex dataframe:\n",
    "- `.xs`: cross-section"
   ]
  },
  {
   "cell_type": "markdown",
   "metadata": {},
   "source": [
    "# Visualization\n",
    "\n",
    "Tujuan Visualisasi:\n",
    "\n",
    "- Exploratory: proses untuk memfamiliarkan diri (berkenalan) dengan data melalui visualisasi, sehingga mendapatkan sebuah insight. Visualisasi yang ditampilkan biasanya sederhana. Analogi: mencari dan mendapatkan batu permata di antara ratusan batu biasa.\n",
    "- Explanatory: proses untuk menjelaskan atau menyajikan insight yang didapat dari hasil exploratory kepada user/audience. Visualisasi yang ditampilkan biasanya lebih menarik dan meng-highlight insight secara spesifik. Analogi: mempoles batu permata tersebut dan menawarkannya kepada pembeli.\n",
    "\n",
    "Pada course ini, dititikberatkan pada bagaimana cara kita menampilkan visualisasi data yang **informatif dan tepat**. Untuk memperindah tampilan visualisasi dapat di-eksplorasi secara mandiri melalui dokumentasi yang tersedia."
   ]
  },
  {
   "cell_type": "markdown",
   "metadata": {},
   "source": [
    "## Pandas and Matplotlib\n",
    "\n",
    "Sampai tahap ini mungkin Anda tidak sabar untuk melakukan visualisasi data di Python. Dengan cukup mudah, kita bisa membuat objek plot `matplotlib` dengan hanya menggunakan method `.plot()`. Kita dapat mengecek dependencies package `pandas` menggunakan `show_versions()`, dari situ kita bisa lihat bahwa `matplotlib` termasuk di dalamnya."
   ]
  },
  {
   "cell_type": "code",
   "execution_count": null,
   "metadata": {
    "ExecuteTime": {
     "end_time": "2021-06-27T06:57:36.617358Z",
     "start_time": "2021-06-27T06:57:36.297797Z"
    }
   },
   "outputs": [],
   "source": [
    "#pd.show_versions()"
   ]
  },
  {
   "cell_type": "markdown",
   "metadata": {},
   "source": [
    "❗️ Sekarang mari kita coba melakukan visualisasi untuk **100 observasi (baris) pertama `Volume` pada `stock`**\n",
    "\n",
    "- Index akan menjadi sumbu horizontal pada plot (`Date`)\n",
    "- Nilai akan menjadi sumbu vertikal pada plot\n",
    "- Masing-masing kolom akan menjadi 1 komponen pada plot, dalam hal ini 1 `Symbols` menjadi 1 garis"
   ]
  },
  {
   "cell_type": "code",
   "execution_count": null,
   "metadata": {
    "ExecuteTime": {
     "end_time": "2021-06-27T06:57:37.147615Z",
     "start_time": "2021-06-27T06:57:36.619358Z"
    }
   },
   "outputs": [],
   "source": [
    "# menyiapkan datanya terlebih dahulu\n",
    "stock['Volume'].head(100)"
   ]
  },
  {
   "cell_type": "code",
   "execution_count": null,
   "metadata": {},
   "outputs": [],
   "source": [
    "# visualisasi\n",
    "stock['Volume'].head(100).plot()"
   ]
  },
  {
   "cell_type": "markdown",
   "metadata": {},
   "source": [
    "📈 Insight:\n",
    "\n",
    "- ...\n",
    "- ...\n",
    "- ..."
   ]
  },
  {
   "cell_type": "markdown",
   "metadata": {},
   "source": [
    "🔻 Method `plot()` mempermudah kita dalam melakukan visualisasi langsung pada DataFrame, tanpa perlu mengerti cara penggunaan `matplotlib`. Kunjungi [dokumentasi matplotlib](https://matplotlib.org/tutorials/introductory/usage.html#sphx-glr-tutorials-introductory-usage-py) untuk detail mengenai `matplotlib`.\n",
    "\n",
    "🔻 Namun, keterbatasan dari penggunaan `plot()` adalah minim kustomisasi dari visualisasi yang ada. Hanya terbatas pada parameter yang ada di dalam method tersebut. Kunjungi [dokumentasi method plot](https://pandas.pydata.org/pandas-docs/stable/reference/api/pandas.DataFrame.plot.html)."
   ]
  },
  {
   "cell_type": "markdown",
   "metadata": {},
   "source": [
    "🔻 Salah satu kustomisasi yang dapat kita lakukan untuk memperindah visualisasi adalah melalui [matplotlib style sheet](https://matplotlib.org/tutorials/introductory/customizing.html). Kita dapat mengganti nilai 'default' pada method `plt.style.use()` dengan salah satu style yang tersedia, kemudian jalankan kembali code visualisasi untuk menerapkan style yang dipilih.\n",
    "\n",
    "💡 **Tips:** Meskipun kode kita tidak menggunakan `matplotlib` secara eksplisit namun bergantung pada implementasi `pandas`, alangkah lebih baik kita tetap melakukan import untuk berinteraksi dengan plot: `import matplotlib.pyplot as plt`."
   ]
  },
  {
   "cell_type": "code",
   "execution_count": null,
   "metadata": {
    "ExecuteTime": {
     "end_time": "2021-06-27T06:57:37.158125Z",
     "start_time": "2021-06-27T06:57:37.149393Z"
    },
    "scrolled": true
   },
   "outputs": [],
   "source": [
    "import matplotlib.pyplot as plt\n",
    "print(plt.style.available)\n",
    "plt.style.use('seaborn')"
   ]
  },
  {
   "cell_type": "code",
   "execution_count": null,
   "metadata": {},
   "outputs": [],
   "source": [
    "stock['Volume'].head(n=10).plot()"
   ]
  },
  {
   "cell_type": "markdown",
   "metadata": {},
   "source": [
    "❓ Sekarang kita coba visualisasi dari object `aapl` berikut:"
   ]
  },
  {
   "cell_type": "code",
   "execution_count": null,
   "metadata": {
    "ExecuteTime": {
     "end_time": "2021-06-27T07:35:43.134433Z",
     "start_time": "2021-06-27T07:35:43.101462Z"
    }
   },
   "outputs": [],
   "source": [
    "march = pd.date_range(start=\"2018-03-01\", end=\"2019-03-31\")\n",
    "aapl = stock.xs('AAPL', level='Symbols', axis=1)\n",
    "aapl = aapl.reindex(march)\n",
    "aapl"
   ]
  },
  {
   "cell_type": "code",
   "execution_count": null,
   "metadata": {
    "ExecuteTime": {
     "end_time": "2021-06-27T07:35:49.076784Z",
     "start_time": "2021-06-27T07:35:48.598118Z"
    },
    "scrolled": false
   },
   "outputs": [],
   "source": [
    "# visualisasi\n"
   ]
  },
  {
   "cell_type": "markdown",
   "metadata": {},
   "source": [
    "💭 **Diskusi:** Apakah visualisasi tersebut sudah cukup informatif dan tepat? Apabila belum, hal apa saja yang bisa di-improve dari visualisasi tersebut?\n",
    "\n",
    "- ...\n",
    "- ...\n",
    "- ...\n",
    "- ...\n"
   ]
  },
  {
   "cell_type": "markdown",
   "metadata": {},
   "source": [
    "---\n",
    "### 📝 Summary Day 2\n",
    "\n",
    "**Reshaping: Melt vs Pivot**\n",
    "\n",
    "- `melt()`: mengubah bentuk DataFrame dari ... menjadi ..., parameter:\n",
    "    - `id_vars`: kolom yang menjadi **identifier variables**\n",
    "    - `value_vars`: kolom yang menjadi **value variables**\n",
    "    - `var_name`: memberi **nama** terhadap kolom **variable**\n",
    "    - `value_name`: memberi **nama** terhadap kolom **value**\n",
    "- `pivot()`: mengubah bentuk DataFrame dari ... menjadi ..., parameter:\n",
    "    - `index`: kolom yang menjadi **nama baris** pada hasil reshaping\n",
    "    - `columns`: kolom yang menjadi **nama kolom** pada hasil reshaping\n",
    "    - `values`: kolom yang merupakan **nilai** pada hasil reshaping\n",
    "    - Perbedaannya dengan `pivot_table()` adalah pivot_table = agregasi sedangkan pivot = reshape\n",
    "\n",
    "**Visualization**\n",
    "\n",
    "Tujuan Visualisasi:\n",
    "- Exploratory: proses menghasilkan visualisasi secara cepat dan sederhana untuk menggali insight\n",
    "- Explanatory: proses untuk mempercantik visualisasi dan menyajikannya dalam bentuk dashboard/reporting\n",
    "\n",
    "**Types of Visualization**\n",
    "\n",
    "Pada `pandas`, kita dapat menggunakan method `.plot()` untuk melakukan visualisasi dengan bantuan package `matplotlib`\n",
    "- Default: ...\n",
    "---"
   ]
  },
  {
   "cell_type": "markdown",
   "metadata": {},
   "source": [
    "Opsional: anatomi plot pada matplotlib https://matplotlib.org/stable/gallery/showcase/anatomy.html"
   ]
  },
  {
   "cell_type": "markdown",
   "metadata": {},
   "source": [
    "## 📌 Types of Visualization\n",
    "\n",
    "Secara default, `plot()` menampilkan visualisasi **line chart**. Ada beberapa tipe visualisasi lain yang dapat kita buat menggunakan `.plot`:\n",
    "\n",
    "Visualisasi berikut hanya perlu menggunakan **satu** kolom:\n",
    "\n",
    "- Data kategorik:\n",
    "    - **`.plot.bar()` atau `.plot.barh()` untuk barplot (diagram batang)**\n",
    "    - **`.plot.box()` atau `.boxplot()` untuk boxplot (berhubungan dengan five number summary)**\n",
    "    - `.plot.pie()` untuk pie chart\n",
    "    \n",
    "\n",
    "- Data numerik:\n",
    "    - **`.plot.hist()` untuk histogram**\n",
    "    - `.plot.kde()` atau `.plot.density()` untuk density plot\n",
    "    - `.plot.area()` untuk area plot\n",
    "\n",
    "Visualisasi berikut perlu menggunakan **dua** kolom:\n",
    "\n",
    "- Numerik vs numerik:\n",
    "    - `.plot.scatter()` untuk scatter plot\n",
    "    - `.plot.hexbin()` untuk hexagonal bin plot\n",
    "\n",
    "💡 Panduan untuk menentukan tipe visualisasi yang tepat: https://www.data-to-viz.com/\n",
    "\n",
    "**Silahkan mengacu referensi lengkapnya di [official documentation](https://pandas.pydata.org/pandas-docs/stable/reference/api/pandas.DataFrame.plot.html) untuk method `plot` apabila ingin eksplor visualisasi yang ada di luar lingkup course ini**"
   ]
  },
  {
   "cell_type": "markdown",
   "metadata": {},
   "source": [
    "### 📊 Bar plot\n",
    "\n",
    "❓ Menggunakan data `stock`, tampilkan visualisasi untuk **membandingkan** fluktuasi (menggunakan coefficient of variance) nilai `Open` pada masing-masing `Symbols`."
   ]
  },
  {
   "cell_type": "code",
   "execution_count": null,
   "metadata": {},
   "outputs": [],
   "source": []
  },
  {
   "cell_type": "code",
   "execution_count": null,
   "metadata": {},
   "outputs": [],
   "source": [
    "#cov.plot.bar()\n"
   ]
  },
  {
   "cell_type": "markdown",
   "metadata": {},
   "source": [
    "📈 Insight:\n",
    "\n",
    "-  \n",
    "- \n",
    "- "
   ]
  },
  {
   "cell_type": "markdown",
   "metadata": {},
   "source": [
    "❓ Gunakan parameter `kind='barh'` untuk menampilkan bar chart secara horizontal (mendatar)"
   ]
  },
  {
   "cell_type": "code",
   "execution_count": null,
   "metadata": {
    "ExecuteTime": {
     "end_time": "2021-06-27T06:57:39.032562Z",
     "start_time": "2021-06-27T06:57:38.836315Z"
    }
   },
   "outputs": [],
   "source": [
    "# code here\n"
   ]
  },
  {
   "cell_type": "markdown",
   "metadata": {},
   "source": [
    "### Histogram\n",
    "\n",
    "Menggunakan data `stock`, tampilkan visualisasi histogram untuk mengetahui **persebaran** `Volume` pada saham `GOOGL`:"
   ]
  },
  {
   "cell_type": "code",
   "execution_count": null,
   "metadata": {},
   "outputs": [],
   "source": []
  },
  {
   "cell_type": "code",
   "execution_count": null,
   "metadata": {
    "ExecuteTime": {
     "end_time": "2021-06-27T06:57:39.247896Z",
     "start_time": "2021-06-27T06:57:39.036449Z"
    }
   },
   "outputs": [],
   "source": [
    "# menyiapkan data\n"
   ]
  },
  {
   "cell_type": "code",
   "execution_count": null,
   "metadata": {},
   "outputs": [],
   "source": [
    "# visualisasi\n"
   ]
  },
  {
   "cell_type": "markdown",
   "metadata": {},
   "source": [
    "📈 Insight: \n",
    "- ...\n",
    "- ...\n",
    "- ..."
   ]
  },
  {
   "cell_type": "markdown",
   "metadata": {},
   "source": [
    "### 💭 Knowledge Check: Bar plot vs Histogram\n",
    "\n",
    "Setelah membuat kedua plot di atas, apa perbedaan antara bar plot dengan histogram?\n",
    "\n",
    "- Barplot \n",
    "    - tujuan: \n",
    "    - tipe data: \n",
    "    - tampilan: \n",
    "- Histogram \n",
    "    - tujuan:\n",
    "    - tipe data: \n",
    "    - tampilan: "
   ]
  },
  {
   "cell_type": "markdown",
   "metadata": {},
   "source": [
    "### Box plot\n",
    "\n",
    "❓ Menggunakan data `stock`, tampilkan visualisasi box plot untuk membandingkan **persebaran** `Volume` untuk ketiga saham."
   ]
  },
  {
   "cell_type": "code",
   "execution_count": null,
   "metadata": {
    "ExecuteTime": {
     "end_time": "2021-06-27T06:57:39.448608Z",
     "start_time": "2021-06-27T06:57:39.251591Z"
    },
    "scrolled": false
   },
   "outputs": [],
   "source": []
  },
  {
   "cell_type": "markdown",
   "metadata": {},
   "source": [
    "Box plot menggambarkan **five number summary** sebagai berikut: \n",
    "\n",
    "<img src=\"assets/boxplot.png\" width=\"600\"/>\n",
    "\n",
    "- Q1: kuartil 1 (data ke 25%)\n",
    "- Median: kuartil 2 (data ke 50%)\n",
    "- Q3: kuartil 3 (data ke 75%)\n",
    "- Lower whisker: pagar bawah\n",
    "- Upper whisker: pagar atas\n",
    "- Data di luar pagar akan dianggap sebagai outlier atau data pencilan\n",
    "\n",
    "⚠️ Lower whisker bukan nilai minimum data. Upper whisker juga buka nilai maksimum data"
   ]
  },
  {
   "cell_type": "code",
   "execution_count": null,
   "metadata": {
    "ExecuteTime": {
     "end_time": "2021-06-27T06:57:39.531206Z",
     "start_time": "2021-06-27T06:57:39.451230Z"
    },
    "scrolled": true
   },
   "outputs": [],
   "source": [
    "# informasi mengenai quartile 1, 2, dan 3\n"
   ]
  },
  {
   "cell_type": "markdown",
   "metadata": {},
   "source": [
    "Gunakan parameter `vert=False` untuk melihat boxplot secara horizontal:"
   ]
  },
  {
   "cell_type": "code",
   "execution_count": null,
   "metadata": {},
   "outputs": [],
   "source": []
  },
  {
   "cell_type": "markdown",
   "metadata": {},
   "source": [
    "📌 Catatan: visualisasi boxplot di atas kurang tepat, karena dalam dunia saham kita tidak boleh langsung membandingkan nilai volumenya secara absolute, melainkan biasanya kita melihatnya secara relatif / persentasenya tergantung lembar saham yang dijual."
   ]
  },
  {
   "cell_type": "markdown",
   "metadata": {},
   "source": [
    "❓ **Kasus**: Tampilkan **persebaran** Volume GOOGL untuk masing-masing periode `quarter`nya:\n",
    "\n",
    "- Memindahkan index `Date` menjadi kolom\n",
    "- Mengekstrak periode kuarter dari `Date` menggunakan `.dt.to_period()`, simpan ke kolom `quarter`"
   ]
  },
  {
   "cell_type": "code",
   "execution_count": null,
   "metadata": {
    "ExecuteTime": {
     "end_time": "2021-06-27T06:57:39.737719Z",
     "start_time": "2021-06-27T06:57:39.700431Z"
    },
    "scrolled": true
   },
   "outputs": [],
   "source": [
    "# mempersiapkan data\n"
   ]
  },
  {
   "cell_type": "markdown",
   "metadata": {},
   "source": [
    "Alternatif `.plot(kind='box')`: Method `.boxplot()` akan mempermudah Anda ketika ingin membuat boxplot namun dikelompokkan berdasarkan kolom tertentu"
   ]
  },
  {
   "cell_type": "code",
   "execution_count": null,
   "metadata": {
    "ExecuteTime": {
     "end_time": "2021-06-27T06:57:40.196465Z",
     "start_time": "2021-06-27T06:57:39.739756Z"
    },
    "scrolled": false
   },
   "outputs": [],
   "source": [
    "# visualisasi\n"
   ]
  },
  {
   "cell_type": "markdown",
   "metadata": {},
   "source": [
    "📈 Insight:\n",
    "\n",
    "- Dari median: \n",
    "    - ..\n",
    "    - ..\n",
    "- Dari lebar kotak: \n",
    "    - ..\n",
    "    - ..\n",
    "- Dari outlier: \n",
    "    - ..\n",
    "    - ..\n",
    "    - .."
   ]
  },
  {
   "cell_type": "markdown",
   "metadata": {},
   "source": [
    "## (Additional) Other Python Libraries for Visualization\n",
    "\n",
    "Apabila Anda tertarik mengenai visualisasi di Python, silahkan eksplorasi lebih lanjut package-package berikut:\n",
    "\n",
    "- `matplotlib`: semua elemen pada visualisasi dapat dikustomisasi, namun membutuhkan code yang lebih panjang. [Dokumentasi Matplotlib](https://matplotlib.org/3.2.2/tutorials/index.html) \n",
    "- `seaborn`: dikembangkan dari `matplotlib`, lebih sedikit yang dapat dikustomisasi namun lebih mudah. [Dokumentasi Seaborn](https://seaborn.pydata.org/introduction.html)\n",
    "- `plotly`: plot interaktif serta kompatibilitas dengan bahasa lain yang tinggi. [Dokumentasi Plotly](https://plotly.com/python/)\n",
    "- `altair`: plot interaktif yang bersifat deklaratif, code relatif lebih mudah. [Dokumentasi Altair](https://altair-viz.github.io/index.html)\n",
    "\n",
    "Referensi perbandingan library: https://askalgo-py.netlify.app/faq/dwv#adakah-library-visualisasi-data-di-python-selain-matplotlib"
   ]
  },
  {
   "cell_type": "markdown",
   "metadata": {},
   "source": [
    "# Group By: Aggregation Table\n",
    "\n",
    "Teknik yang tak kalah penting adalah operasi **group by**. Mungkin untuk Anda yang sudah pernah menggunakan SQL atau tools lain seperti `tidyverse` pada bahasa R akan familiar dengan operasi group by ini.\n",
    "\n",
    "❗️ Misalkan kita punya dataframe `close_melted` yang ingin kita bandingkan nilai `Close` hariannya pada saham AAPL, TSLA, dan GOOGL:"
   ]
  },
  {
   "cell_type": "code",
   "execution_count": null,
   "metadata": {
    "ExecuteTime": {
     "end_time": "2021-06-27T06:57:40.224292Z",
     "start_time": "2021-06-27T06:57:40.200526Z"
    },
    "scrolled": false
   },
   "outputs": [],
   "source": []
  },
  {
   "cell_type": "markdown",
   "metadata": {},
   "source": [
    "❓ **Pertanyaan**: Di antara AAPL, TSLA, GOOGL, manakah saham yang memiliki **rata-rata** `Close` harian tertinggi?\n",
    "\n",
    "Pertama, coba buatlah tabel agregasi dengan `crosstab()` dan juga `pivot_table()`:"
   ]
  },
  {
   "cell_type": "code",
   "execution_count": null,
   "metadata": {
    "ExecuteTime": {
     "end_time": "2021-06-27T06:57:40.262123Z",
     "start_time": "2021-06-27T06:57:40.226423Z"
    },
    "scrolled": true
   },
   "outputs": [],
   "source": [
    "# versi crosstab\n"
   ]
  },
  {
   "cell_type": "code",
   "execution_count": null,
   "metadata": {
    "ExecuteTime": {
     "end_time": "2021-06-27T06:57:40.289623Z",
     "start_time": "2021-06-27T06:57:40.264234Z"
    },
    "scrolled": true
   },
   "outputs": [],
   "source": [
    "# versi pivot_table: \n"
   ]
  },
  {
   "cell_type": "markdown",
   "metadata": {},
   "source": [
    "**Ingat kembali:** \n",
    "\n",
    "Persamaan antara `crosstab` dan `pivot_table` yaitu keduanya dapat digunakan untuk menghasilkan tabel agregasi yang memiliki parameter `index`, `columns`, `values`, and `aggfunc`.\n",
    "\n",
    "Perbedaan antara `crosstab` dan `pivot_table` dapat dirangkum dalam tabel berikut:\n",
    "\n",
    "|                                                                                    | `pd.crosstab()` | `pd.pivot_table()` |\n",
    "|------------------------------------------------------------------------------------|-----------------|--------------------|\n",
    "|                                                                          **Input** | Array of values/Series |          DataFrame (parameter `data`)|\n",
    "|                                                              **Default `aggfunc`** |       `'count'` |           `'mean'` |\n",
    "|                                                          **Parameter `columns`** |       Mandatory |      Optional |\n",
    "|                                                          **Parameter `normalize`** |       Available |      Not Available |\n",
    "| [**Computation Time**](https://ramiro.org/notebook/pandas-crosstab-groupby-pivot/) | Relatively Slower |  Relatively Faster |"
   ]
  },
  {
   "cell_type": "markdown",
   "metadata": {},
   "source": [
    "Bandingkan dengan method `groupby()`:"
   ]
  },
  {
   "cell_type": "code",
   "execution_count": null,
   "metadata": {},
   "outputs": [],
   "source": []
  },
  {
   "cell_type": "code",
   "execution_count": null,
   "metadata": {
    "ExecuteTime": {
     "end_time": "2021-06-27T06:57:40.309039Z",
     "start_time": "2021-06-27T06:57:40.291626Z"
    }
   },
   "outputs": [],
   "source": [
    "# versi groupby\n"
   ]
  },
  {
   "cell_type": "code",
   "execution_count": null,
   "metadata": {},
   "outputs": [],
   "source": [
    "# mengurutkan tabel hasil groupby berdasarkan nilai Close\n"
   ]
  },
  {
   "cell_type": "markdown",
   "metadata": {},
   "source": [
    "Istilah **group by** merupakan gabungan dari proses:\n",
    "\n",
    "1. Split: mengelompokkan baris, co: dikelompokkan berdasarkan `Symbols`\n",
    "2. Apply: menerapkan fungsi untuk masing-masing kelompok, co: dihitung mean untuk masing-masing `Symbols`\n",
    "3. Combine: mengembalikan hasil dalam bentuk 1 tabel\n",
    "\n",
    "Ilustrasi proses **split-apply-combine** dapat dilihat pada [Google Sheet](https://docs.google.com/spreadsheets/d/1i58D8cXXGfKVs_2yBzXp4vD1Dku2p6HvDaCJBLB_-rg/edit#gid=0)"
   ]
  },
  {
   "cell_type": "markdown",
   "metadata": {},
   "source": [
    "## Visualizing Barchart for Comparison\n",
    "\n",
    "Sampai di sini kita tahu bahwa GOOGL memiliki rata-rata `Close` transaksi harian tertinggi dari visualisasi bar plot yang dihasilkan pada bagian sebelumnya. Untuk selanjutnya, mari kita menganalisa `Close` dari saham GOOGL. Kita bisa menggunakan method `day_name()` untuk mengekstrak nama hari dari `Date`:"
   ]
  },
  {
   "cell_type": "code",
   "execution_count": null,
   "metadata": {
    "ExecuteTime": {
     "end_time": "2021-06-27T06:57:40.333606Z",
     "start_time": "2021-06-27T06:57:40.311074Z"
    },
    "scrolled": true
   },
   "outputs": [],
   "source": [
    "googl = stock.xs('GOOGL', level='Symbols', axis=1).copy()\n",
    "googl['Close_Diff'] = googl['Close'].diff()\n",
    "googl['Weekday'] = googl.index.day_name()\n",
    "googl"
   ]
  },
  {
   "cell_type": "markdown",
   "metadata": {},
   "source": [
    "Perhatikan kolom `Close_Diff` yang dibuat di atas, nilai ini merupakan perbedaan antara nilai `Close` pada hari tertentu dengan hari berikutnya.\n",
    "\n",
    "❓ **Kasus:** Misalkan kita ingin membandingkan `Close_Diff` di setiap hari kerja. Untuk saham GOOGL, apakah secara rata-rata pada hari Kamis (Thursday) mencatat perbedaan yang lebih tinggi dibandingkan dengan hari Jumat (Friday)?"
   ]
  },
  {
   "cell_type": "code",
   "execution_count": null,
   "metadata": {
    "ExecuteTime": {
     "end_time": "2021-06-27T06:57:40.351131Z",
     "start_time": "2021-06-27T06:57:40.335606Z"
    }
   },
   "outputs": [],
   "source": [
    "# mempersiapkan data: gunakan groupby\n"
   ]
  },
  {
   "cell_type": "code",
   "execution_count": null,
   "metadata": {
    "ExecuteTime": {
     "end_time": "2021-06-27T06:57:40.515953Z",
     "start_time": "2021-06-27T06:57:40.354131Z"
    }
   },
   "outputs": [],
   "source": [
    "# visualisasi\n"
   ]
  },
  {
   "cell_type": "markdown",
   "metadata": {},
   "source": [
    "❓ **Diskusi:** Apakah plot di atas sudah cukup efektif? Kalau belum, apa yang perlu diperbaiki dari plot di atas?\n",
    "\n",
    "<!--\n",
    "googl_close_diff = googl.groupby('Weekday').mean()['Close_Diff']\n",
    "googl_close_diff.index\n",
    "\n",
    "wday = [\"Monday\", \"Tuesday\", \"Wednesday\", \"Thursday\", \"Friday\"]\n",
    "googl_close_diff.index = pd.CategoricalIndex(\n",
    "    data = googl_close_diff.index,\n",
    "    categories = wday,\n",
    "    ordered = True)\n",
    "googl_close_diff.index\n",
    "-->"
   ]
  },
  {
   "cell_type": "markdown",
   "metadata": {},
   "source": [
    "- \n",
    "- "
   ]
  },
  {
   "cell_type": "code",
   "execution_count": null,
   "metadata": {},
   "outputs": [],
   "source": [
    "# visualisasi perbaikan\n"
   ]
  },
  {
   "cell_type": "markdown",
   "metadata": {},
   "source": [
    "Apakah secara rata-rata pada hari Kamis (Thursday) mencatat perbedaan yang lebih tinggi dibandingkan dengan hari Jumat (Friday)? <br>\n",
    "\n",
    "📈 Insight: \n",
    "- ...."
   ]
  },
  {
   "cell_type": "markdown",
   "metadata": {},
   "source": [
    "## Using Grouped Barchart\n",
    "\n",
    "💭 Masih ingat dengan dataframe `closingprice`? Kita akan coba memvisualisasikan **grouped barchart** untuk membandingkan nilai `Close` untuk ketiga saham **setiap bulannya** pada kuartal pertama tahun 2018.\n",
    "\n",
    "- Pertama, kita memastikan `closingprice` tidak memiliki missing values dengan melakukan imputasi forward dan backward fill.\n",
    "- Selanjutnya, gunakan objek `closingprice` untuk menampilkan nilai **rata-rata** `Close` untuk setiap bulannya. Simpan tabel agregasi ke objek `average_closing`.\n",
    "\n",
    "📌 Note: untuk mengambil nama bulan tidak perlu `.dt` lagi, karena sudah berupa objek DatetimeIndex."
   ]
  },
  {
   "cell_type": "code",
   "execution_count": null,
   "metadata": {},
   "outputs": [],
   "source": [
    "closingprice.tail(10)"
   ]
  },
  {
   "cell_type": "code",
   "execution_count": null,
   "metadata": {
    "ExecuteTime": {
     "end_time": "2021-06-27T06:57:40.933751Z",
     "start_time": "2021-06-27T06:57:40.919695Z"
    },
    "scrolled": false
   },
   "outputs": [],
   "source": [
    "# mempersiapkan data\n"
   ]
  },
  {
   "cell_type": "markdown",
   "metadata": {},
   "source": [
    "Visualisasi:\n",
    "\n",
    "- Index menjadi sumbu horizontal\n",
    "- Column menjadi grouping untuk bar chartnya"
   ]
  },
  {
   "cell_type": "code",
   "execution_count": null,
   "metadata": {
    "ExecuteTime": {
     "end_time": "2021-06-27T06:57:41.126842Z",
     "start_time": "2021-06-27T06:57:40.934757Z"
    }
   },
   "outputs": [],
   "source": [
    "# visualisasi\n"
   ]
  },
  {
   "cell_type": "markdown",
   "metadata": {},
   "source": [
    "❓ **Diskusi:** Apakah plot di atas sudah cukup efektif? Kalau belum, apa yang perlu diperbaiki dari plot di atas?\n",
    "\n",
    "- ..."
   ]
  },
  {
   "cell_type": "code",
   "execution_count": null,
   "metadata": {},
   "outputs": [],
   "source": [
    "# improvement visualisasi\n"
   ]
  },
  {
   "cell_type": "markdown",
   "metadata": {},
   "source": [
    "📈 Insight: \n",
    "- \n",
    "- \n",
    "- "
   ]
  },
  {
   "cell_type": "markdown",
   "metadata": {},
   "source": [
    "## 💭 Knowledge Check: Group By + Reshaping\n",
    "\n",
    "Misal Anda dihadapkan dengan long DataFrame seperti pada `closingprice_melt` berikut:"
   ]
  },
  {
   "cell_type": "code",
   "execution_count": null,
   "metadata": {},
   "outputs": [],
   "source": [
    "closingprice_melt = closingprice.melt(id_vars='Month', value_name='Close')\n",
    "closingprice_melt"
   ]
  },
  {
   "cell_type": "markdown",
   "metadata": {},
   "source": [
    "❓ Kira-kira bagaimana cara kita mengubah bentuk `closingprice_melt` menjadi `average_closing`?\n",
    "\n",
    "**Hint:** Gunakan teknik `groupby` dan juga reshaping"
   ]
  },
  {
   "cell_type": "code",
   "execution_count": null,
   "metadata": {
    "ExecuteTime": {
     "end_time": "2021-06-27T06:57:41.624933Z",
     "start_time": "2021-06-27T06:57:41.604757Z"
    },
    "run_control": {
     "marked": false
    }
   },
   "outputs": [],
   "source": [
    "#(groupby)\n"
   ]
  },
  {
   "cell_type": "markdown",
   "metadata": {},
   "source": [
    "Ilustrasi group by pada kasus di atas dapat dilihat pada [Google Sheet](https://docs.google.com/spreadsheets/d/1i58D8cXXGfKVs_2yBzXp4vD1Dku2p6HvDaCJBLB_-rg/edit?usp=sharing)"
   ]
  },
  {
   "cell_type": "markdown",
   "metadata": {},
   "source": [
    "## Combining `agg` and `groupby`\n",
    "\n",
    "❗️ Perhatikan group by operation di bawah ini yang di-chaining dengan aggregate method `mean()`:"
   ]
  },
  {
   "cell_type": "code",
   "execution_count": null,
   "metadata": {
    "ExecuteTime": {
     "end_time": "2021-06-27T07:45:07.722050Z",
     "start_time": "2021-06-27T07:45:07.689748Z"
    },
    "run_control": {
     "marked": false
    },
    "scrolled": false
   },
   "outputs": [],
   "source": [
    "stock_long = stock.stack().reset_index()\n",
    "stock_long.head()"
   ]
  },
  {
   "cell_type": "code",
   "execution_count": null,
   "metadata": {
    "ExecuteTime": {
     "end_time": "2021-06-27T07:45:18.340409Z",
     "start_time": "2021-06-27T07:45:18.318425Z"
    }
   },
   "outputs": [],
   "source": [
    "# aggregasi biasa\n"
   ]
  },
  {
   "cell_type": "markdown",
   "metadata": {},
   "source": [
    "Misalkan kita ingin membuat tabel agregasi dengan `aggfunc` yang berbeda-beda untuk masing-masing `Symbols` berupa:\n",
    "- Maximum `stock` price (`max` dari `High`)\n",
    "- Minimum `stock` price (`min` dari `Low`)\n",
    "- Rata-rata closing price (`mean` dari `Close`)\n",
    "\n",
    "Untuk mendapat hasil tersebut, kita harus melakukan chaining `groupby` dengan method `agg`. Kita harus menyertakan mapping (**dictionary**) untuk setiap kolom dengan fungsi agregasinya seperti berikut ini:"
   ]
  },
  {
   "cell_type": "markdown",
   "metadata": {},
   "source": [
    "Syntax:\n",
    "\n",
    "```\n",
    ".agg({\n",
    "    'NAMA_KOLOM': 'FUNGSI_AGREGASI'\n",
    "})\n",
    "```"
   ]
  },
  {
   "cell_type": "code",
   "execution_count": null,
   "metadata": {
    "scrolled": true
   },
   "outputs": [],
   "source": [
    "# contoh penggunaan method agg untuk menerapkan fungsi std pada 1 kolom, yaitu Close\n"
   ]
  },
  {
   "cell_type": "markdown",
   "metadata": {},
   "source": [
    "❓ Visualisasikan tabel agregasi di atas untuk membandingkan nilai tersebut:"
   ]
  },
  {
   "cell_type": "code",
   "execution_count": null,
   "metadata": {
    "ExecuteTime": {
     "end_time": "2021-06-27T06:57:41.892221Z",
     "start_time": "2021-06-27T06:57:41.687517Z"
    }
   },
   "outputs": [],
   "source": [
    "# visualisasi\n"
   ]
  },
  {
   "cell_type": "markdown",
   "metadata": {},
   "source": [
    "📈 Insight:\n",
    "- "
   ]
  },
  {
   "cell_type": "markdown",
   "metadata": {},
   "source": [
    "## 💭 Knowledge Check: Vizualization\n",
    "\n",
    "Perhatikan dataframe `monthly_closing` berikut:"
   ]
  },
  {
   "cell_type": "code",
   "execution_count": null,
   "metadata": {
    "ExecuteTime": {
     "end_time": "2021-06-27T06:57:41.925703Z",
     "start_time": "2021-06-27T06:57:41.899075Z"
    },
    "scrolled": true
   },
   "outputs": [],
   "source": [
    "stock['YearMonth'] = stock.index.to_period('M')\n",
    "monthly_closing = stock.groupby('YearMonth').mean()['Close']\n",
    "monthly_closing.head()"
   ]
  },
  {
   "cell_type": "markdown",
   "metadata": {},
   "source": [
    "Tipe plot mana yang paling sesuai untuk data di atas, apabila kita ingin melihat pergerakan nilai `Close` dari waktu ke waktu?\n",
    "\n",
    "- [ ] Line plot `.plot()`\n",
    "- [ ] Scatter plot `.plot.scatter(x, y)`\n",
    "- [ ] Bar plot `.plot.bar()`\n",
    "- [ ] Box plot `.plot.box()`"
   ]
  },
  {
   "cell_type": "code",
   "execution_count": null,
   "metadata": {
    "ExecuteTime": {
     "end_time": "2021-06-27T06:57:43.850571Z",
     "start_time": "2021-06-27T06:57:41.927788Z"
    },
    "scrolled": false
   },
   "outputs": [],
   "source": [
    "# your code here\n"
   ]
  }
 ],
 "metadata": {
  "kernelspec": {
   "display_name": "theia_da",
   "language": "python",
   "name": "theia_da"
  },
  "language_info": {
   "codemirror_mode": {
    "name": "ipython",
    "version": 3
   },
   "file_extension": ".py",
   "mimetype": "text/x-python",
   "name": "python",
   "nbconvert_exporter": "python",
   "pygments_lexer": "ipython3",
   "version": "3.9.13"
  },
  "toc": {
   "base_numbering": 1,
   "nav_menu": {},
   "number_sections": true,
   "sideBar": true,
   "skip_h1_title": false,
   "title_cell": "Table of Contents",
   "title_sidebar": "Contents",
   "toc_cell": false,
   "toc_position": {
    "height": "calc(100% - 180px)",
    "left": "10px",
    "top": "150px",
    "width": "243.458px"
   },
   "toc_section_display": true,
   "toc_window_display": false
  },
  "varInspector": {
   "cols": {
    "lenName": 16,
    "lenType": 16,
    "lenVar": 40
   },
   "kernels_config": {
    "python": {
     "delete_cmd_postfix": "",
     "delete_cmd_prefix": "del ",
     "library": "var_list.py",
     "varRefreshCmd": "print(var_dic_list())"
    },
    "r": {
     "delete_cmd_postfix": ") ",
     "delete_cmd_prefix": "rm(",
     "library": "var_list.r",
     "varRefreshCmd": "cat(var_dic_list()) "
    }
   },
   "types_to_exclude": [
    "module",
    "function",
    "builtin_function_or_method",
    "instance",
    "_Feature"
   ],
   "window_display": false
  }
 },
 "nbformat": 4,
 "nbformat_minor": 4
}
